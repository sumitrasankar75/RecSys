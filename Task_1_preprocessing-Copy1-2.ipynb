{
 "cells": [
  {
   "cell_type": "code",
   "execution_count": 1,
   "metadata": {},
   "outputs": [],
   "source": [
    "#\n",
    "# The MIT License (MIT)\n",
    "\n",
    "# Copyright (c) 2021, NVIDIA CORPORATION\n",
    "\n",
    "# Permission is hereby granted, free of charge, to any person obtaining a copy of\n",
    "# this software and associated documentation files (the \"Software\"), to deal in\n",
    "# the Software without restriction, including without limitation the rights to\n",
    "# use, copy, modify, merge, publish, distribute, sublicense, and/or sell copies of\n",
    "# the Software, and to permit persons to whom the Software is furnished to do so,\n",
    "# subject to the following conditions:\n",
    "\n",
    "# The above copyright notice and this permission notice shall be included in all\n",
    "# copies or substantial portions of the Software.\n",
    "\n",
    "# THE SOFTWARE IS PROVIDED \"AS IS\", WITHOUT WARRANTY OF ANY KIND, EXPRESS OR\n",
    "# IMPLIED, INCLUDING BUT NOT LIMITED TO THE WARRANTIES OF MERCHANTABILITY, FITNESS\n",
    "# FOR A PARTICULAR PURPOSE AND NONINFRINGEMENT. IN NO EVENT SHALL THE AUTHORS OR\n",
    "# COPYRIGHT HOLDERS BE LIABLE FOR ANY CLAIM, DAMAGES OR OTHER LIABILITY, WHETHER\n",
    "# IN AN ACTION OF CONTRACT, TORT OR OTHERWISE, ARISING FROM, OUT OF OR IN\n",
    "# CONNECTION WITH THE SOFTWARE OR THE USE OR OTHER DEALINGS IN THE SOFTWARE.\n",
    "#"
   ]
  },
  {
   "cell_type": "code",
   "execution_count": 2,
   "metadata": {},
   "outputs": [
    {
     "name": "stderr",
     "output_type": "stream",
     "text": [
      "/opt/conda/lib/python3.8/site-packages/tqdm/std.py:725: FutureWarning: The Panel class is removed from pandas. Accessing it from the top-level namespace will also be removed in the next version\n",
      "  from pandas import Panel\n"
     ]
    }
   ],
   "source": [
    "import os\n",
    "import pandas as pd\n",
    "import numpy as np\n",
    "from tqdm import tqdm\n",
    "tqdm.pandas()\n",
    "import cudf\n",
    "import cupy\n",
    "import nvtabular as nvt\n",
    "import json"
   ]
  },
  {
   "cell_type": "code",
   "execution_count": 3,
   "metadata": {},
   "outputs": [
    {
     "data": {
      "text/plain": [
       "'0.6.0'"
      ]
     },
     "execution_count": 3,
     "metadata": {},
     "output_type": "execute_result"
    }
   ],
   "source": [
    "nvt.__version__"
   ]
  },
  {
   "cell_type": "code",
   "execution_count": 4,
   "metadata": {},
   "outputs": [
    {
     "name": "stdout",
     "output_type": "stream",
     "text": [
      "/recsys/data/browsing_train.csv\n"
     ]
    }
   ],
   "source": [
    "#DATA_FOLDER = \"/workspace/\"\n",
    "#DATA_FOLDER = \"/home/sumitra/recsys_folder/competitions/SIGIR_eCommerce_Challenge_2021/data/\"\n",
    "\n",
    "DATA_FOLDER = \"/recsys/data/\"\n",
    "FILENAME_PATTERN_BROWSING = 'browsing_train.csv'\n",
    "FILENAME_PATTERN_SEARCH = 'search_train.csv'\n",
    "DATA_PATH_BROWSING = os.path.join(DATA_FOLDER, FILENAME_PATTERN_BROWSING)\n",
    "DATA_PATH_SEARCH = os.path.join(DATA_FOLDER, FILENAME_PATTERN_SEARCH)\n",
    "#OUTPUT_DIR = \"/workspace/coveo_task1_v4\"\n",
    "#OUTPUT_DIR = \"/home/sumitra/recsys_folder/competitions/SIGIR_eCommerce_Challenge_2021\"\n",
    "OUTPUT_DIR = \"/recsys/coveo_task1_v42\"\n",
    "!ls $DATA_PATH_BROWSING"
   ]
  },
  {
   "cell_type": "code",
   "execution_count": 5,
   "metadata": {},
   "outputs": [],
   "source": [
    "MINIMUM_SESSION_LENGTH = 2"
   ]
  },
  {
   "cell_type": "markdown",
   "metadata": {},
   "source": [
    "**5 steps: each section is independant and create different parquet files:**\n",
    "\n",
    "   - Pandas processing: <a href ='#pandas_proc'> Section 1 </a> \n",
    "       - <a href='#search_table'>Section 1.1</a>:  Process search table and create session_search table that groups query vectors and impressions seen/clicked within the same sessions. \n",
    "       - <a href='#event_table'>Section 1.2 </a>: Create event table by merging browsing, test and search data \n",
    "       \n",
    "   \n",
    "   - Create preprocessed interactions table:  <a href='#row_workflow'> Section 2 </a>\n",
    "           - Filling missing values \n",
    "           - Convert timestamps \n",
    "           - Categorify and Normalize variables\n",
    "   \n",
    "   - Create preprocess session table:  <a href='#session_workflow'> Section 3 </a>\n",
    "   \n",
    "   - Merge session_browsing and session_search tables "
   ]
  },
  {
   "cell_type": "markdown",
   "metadata": {},
   "source": [
    "# <a id='pandas_proc'>Processing DATA with pandas </a>"
   ]
  },
  {
   "cell_type": "markdown",
   "metadata": {},
   "source": [
    "## <a id='event_table'> Preprocessing of search tables: merging Train and Test data </a>"
   ]
  },
  {
   "cell_type": "code",
   "execution_count": null,
   "metadata": {},
   "outputs": [],
   "source": [
    "#search = pd.read_csv(DATA_PATH_SEARCH, sep=',')\n",
    "#search.head()"
   ]
  },
  {
   "cell_type": "code",
   "execution_count": null,
   "metadata": {},
   "outputs": [],
   "source": [
    "# load search data\n",
    "search = pd.read_csv(DATA_PATH_SEARCH, sep=',')\n",
    "#search = pd.read_csv('search_train.csv', sep=',')\n",
    "# Add column event_type \n",
    "search['event_type'] = 'search'\n",
    "# Add column 'is_search'\n",
    "search['is_search'] = 1\n",
    "#search['is_test'] = 0\n",
    "# drop 123 rows where: (clicked_skus_hash != NaN) and (product_skus_hash == NaN)\n",
    "condition = (search['product_skus_hash'].isnull()) & (~search['clicked_skus_hash'].isnull())\n",
    "search = search.loc[~condition]\n",
    "# convert strings to list object \n",
    "import ast\n",
    "def convert_str_to_list(x): \n",
    "    if pd.isnull(x): \n",
    "        return x\n",
    "    return ast.literal_eval(x)\n",
    "for col in ['product_skus_hash', 'clicked_skus_hash', 'query_vector']: \n",
    "    search[col] = search[col].progress_apply(convert_str_to_list)\n",
    "\n",
    "# Add search events from test data\n",
    "# load test data \n",
    "#with open('/workspace/rec_test_phase_1.json') as json_file:\n",
    "    # read the test cases from the provided file\n",
    "    #test_queries = json.load(json_file)\n",
    "#test_df = pd.json_normalize(test_queries, 'query')\n",
    "#test_df['is_test'] = 1\n",
    "#test_search = test_df[['session_id_hash', 'query_vector', 'clicked_skus_hash',\n",
    "       #'product_skus_hash', 'server_timestamp_epoch_ms', 'event_type',\n",
    "       #'is_search', 'is_test']]\n",
    "#test_search = test_search[test_search.is_search==True]\n",
    "\n",
    "# concat test and train search data\n",
    "#search = pd.concat([search, test_search])\n",
    "#search.reset_index(inplace=True)"
   ]
  },
  {
   "cell_type": "code",
   "execution_count": null,
   "metadata": {},
   "outputs": [],
   "source": [
    "#del test_search\n",
    "search.head()"
   ]
  },
  {
   "cell_type": "markdown",
   "metadata": {},
   "source": [
    "- **Compute the number of search queries per session** "
   ]
  },
  {
   "cell_type": "code",
   "execution_count": null,
   "metadata": {},
   "outputs": [],
   "source": [
    "tmp = search.groupby('session_id_hash').size().reset_index()\n",
    "tmp.head()\n",
    "#tmp.columns = ['session_id_hash', 'nb_queries']\n",
    "#search = search.merge(tmp, on='session_id_hash', how='left')"
   ]
  },
  {
   "cell_type": "code",
   "execution_count": null,
   "metadata": {},
   "outputs": [],
   "source": [
    "tmp.columns = ['session_id_hash', 'nb_queries']\n",
    "search = search.merge(tmp, on='session_id_hash', how='left')"
   ]
  },
  {
   "cell_type": "code",
   "execution_count": null,
   "metadata": {},
   "outputs": [],
   "source": [
    "#tmp.head()"
   ]
  },
  {
   "cell_type": "code",
   "execution_count": null,
   "metadata": {},
   "outputs": [],
   "source": [
    "search.head()"
   ]
  },
  {
   "cell_type": "markdown",
   "metadata": {},
   "source": [
    "* **Include unseen clicked product to impression list** : \n",
    "\n",
    "    2% of the search events have a clicked item that does not appear in the impression list. \n",
    "        ==> We add the missing elements to the impression list. "
   ]
  },
  {
   "cell_type": "code",
   "execution_count": null,
   "metadata": {},
   "outputs": [],
   "source": [
    "def add_clicked(x): \n",
    "    if isinstance(x.clicked_skus_hash, list) and isinstance(x.product_skus_hash, list):\n",
    "        return list(set(x.product_skus_hash).union(set(x.clicked_skus_hash)))\n",
    "    return x.product_skus_hash\n",
    "search['updated_product_skus_hash'] = search.progress_apply(add_clicked, axis=1)"
   ]
  },
  {
   "cell_type": "code",
   "execution_count": null,
   "metadata": {},
   "outputs": [],
   "source": [
    "search.head()"
   ]
  },
  {
   "cell_type": "markdown",
   "metadata": {},
   "source": [
    "* **Compute the number of visualized products and clicked items per search** "
   ]
  },
  {
   "cell_type": "code",
   "execution_count": null,
   "metadata": {},
   "outputs": [],
   "source": [
    "search['impression_size'] = search.product_skus_hash.str.len().fillna(0)\n",
    "search['clicks_size'] = search.clicked_skus_hash.str.len().fillna(0)"
   ]
  },
  {
   "cell_type": "code",
   "execution_count": null,
   "metadata": {},
   "outputs": [],
   "source": [
    "search.head(2)"
   ]
  },
  {
   "cell_type": "markdown",
   "metadata": {},
   "source": [
    "- **Aggregate search information per session** "
   ]
  },
  {
   "cell_type": "markdown",
   "metadata": {},
   "source": [
    "The resulting variables are: \n",
    "\n",
    "    - \"flat_query_vector\": List of search query vector (reshaped to 1-dim so that it works with NVT Data loader)\n",
    "    - \"flat_product_skus_hash\": List of product skus returned by the search query\n",
    "    - \"clicked-flag\": To indicate if the product was clicked or not in the search results\n",
    "    - \"nb_queries\" : number of search queries within the same session \n",
    "    - \"impression_size\": number of returned product skus for each search query\n",
    "    - \"clicks_size\": number of clicked items for each search query\n",
    "\n"
   ]
  },
  {
   "cell_type": "code",
   "execution_count": null,
   "metadata": {},
   "outputs": [],
   "source": [
    "def all_products(x): \n",
    "    t =[]\n",
    "    for products in x.dropna(): \n",
    "        t += products\n",
    "    if len(t)==0:\n",
    "        return ['missing']\n",
    "    return t\n",
    "\n",
    "session_search = search.sort_values(['session_id_hash', 'server_timestamp_epoch_ms']).groupby('session_id_hash').agg({'query_vector': lambda x: list(np.concatenate(x.values)),\n",
    "                                                                                                                    'updated_product_skus_hash': all_products,\n",
    "                                                                                                                    'clicked_skus_hash': all_products,\n",
    "                                                                                                                    'impression_size': list,\n",
    "                                                                                                                    'clicks_size': list,\n",
    "                                                                                                                    'nb_queries': 'last'\n",
    "                                                                                                                  })\n",
    "session_search.columns = ['flat_query_vector', 'flat_product_skus_hash', 'flat_clicked_skus_hash', 'impressions_size', 'clicks_size', 'nb_queries']\n",
    "session_search['clicked-flag'] = session_search.progress_apply(lambda x: [int(e in x['flat_clicked_skus_hash']) for e in x['flat_product_skus_hash']], axis=1)\n",
    "session_search = session_search.reset_index()"
   ]
  },
  {
   "cell_type": "code",
   "execution_count": null,
   "metadata": {},
   "outputs": [],
   "source": [
    "session_search.head(3)"
   ]
  },
  {
   "cell_type": "markdown",
   "metadata": {},
   "source": [
    "- **Save search tables** "
   ]
  },
  {
   "cell_type": "code",
   "execution_count": null,
   "metadata": {},
   "outputs": [],
   "source": [
    "session_search.to_parquet(os.path.join(OUTPUT_DIR, \"session_search.parquet\"))\n",
    "search.to_parquet(os.path.join(OUTPUT_DIR, \"search.parquet\"))\n",
    "\n",
    "#session_search.to_parquet(\"session_search.parquet\")\n",
    "#search.to_parquet(\"search.parquet\")\n"
   ]
  },
  {
   "cell_type": "code",
   "execution_count": null,
   "metadata": {},
   "outputs": [],
   "source": [
    "#session_search.to_parquet(path= '/home/sumitra/recsys_folder/competitions/SIGIR_eCommerce_Challenge_2021')\n",
    "#search.to_parquet(path= '/home/sumitra/recsys_folder/competitions/SIGIR_eCommerce_Challenge_2021')"
   ]
  },
  {
   "cell_type": "markdown",
   "metadata": {},
   "source": [
    "## <a id='event_table'> Create event table: merging browsing, test and search data </a>"
   ]
  },
  {
   "cell_type": "code",
   "execution_count": null,
   "metadata": {},
   "outputs": [],
   "source": [
    "session_search = pd.read_parquet(os.path.join(OUTPUT_DIR, \"session_search.parquet\"))\n",
    "search = pd.read_parquet(os.path.join(OUTPUT_DIR, \"search.parquet\"))\n",
    "\n",
    "#session_search = pd.read_parquet(\"session_search.parquet\")\n",
    "#search = pd.read_parquet(\"search.parquet\")\n"
   ]
  },
  {
   "cell_type": "code",
   "execution_count": null,
   "metadata": {},
   "outputs": [],
   "source": [
    "browsing = pd.read_csv(DATA_PATH_BROWSING, sep=',')\n",
    "\n",
    "#browsing = pd.read_csv('browsing_train.csv', sep=',')\n",
    "\n",
    "# Add columns 'is_search' ans 'is_test'\n",
    "browsing['is_search'] = 0 \n",
    "#browsing['is_test'] = 0 "
   ]
  },
  {
   "cell_type": "markdown",
   "metadata": {},
   "source": [
    "- **Create event table**: mergin browsing_train and test data"
   ]
  },
  {
   "cell_type": "code",
   "execution_count": null,
   "metadata": {},
   "outputs": [],
   "source": [
    "#with open('/workspace/rec_test_phase_1.json') as json_file:\n",
    "    # read the test cases from the provided file\n",
    "    #test_queries = json.load(json_file)\n",
    "#test_df = pd.json_normalize(test_queries, 'query')\n",
    "#test_df['is_test'] = 1"
   ]
  },
  {
   "cell_type": "code",
   "execution_count": null,
   "metadata": {},
   "outputs": [],
   "source": [
    "# concat browsing and search data to create event table \n",
    "#event_df = pd.concat([browsing, test_df])\n",
    "#event_df.reset_index(drop=True, inplace=True)"
   ]
  },
  {
   "cell_type": "code",
   "execution_count": null,
   "metadata": {},
   "outputs": [],
   "source": [
    "#event_df.head(3)"
   ]
  },
  {
   "cell_type": "code",
   "execution_count": null,
   "metadata": {},
   "outputs": [],
   "source": [
    "#event_df.tail(3)"
   ]
  },
  {
   "cell_type": "code",
   "execution_count": null,
   "metadata": {},
   "outputs": [],
   "source": [
    "#del browsing"
   ]
  },
  {
   "cell_type": "code",
   "execution_count": null,
   "metadata": {},
   "outputs": [],
   "source": [
    "event_df = browsing"
   ]
  },
  {
   "cell_type": "code",
   "execution_count": null,
   "metadata": {},
   "outputs": [],
   "source": [
    "event_df.head()"
   ]
  },
  {
   "cell_type": "markdown",
   "metadata": {},
   "source": [
    "- **Process duplicated events:** which are defined as interactions that occur in the same session and at the same time "
   ]
  },
  {
   "cell_type": "code",
   "execution_count": null,
   "metadata": {},
   "outputs": [],
   "source": [
    "# drop duplicated rows (total of 1800) \n",
    "event_df.drop_duplicates(['session_id_hash' ,'server_timestamp_epoch_ms', 'event_type', 'product_action', 'product_sku_hash', 'hashed_url'],inplace=True, keep='last')\n",
    "# Remove indices of 'pageview' interactions from duplicated events defined above \n",
    "tmp = event_df[(event_df.event_type == 'pageview') & (event_df.duplicated(['session_id_hash' , 'server_timestamp_epoch_ms']))]\n",
    "event_df.drop(tmp.index, inplace=True)"
   ]
  },
  {
   "cell_type": "code",
   "execution_count": null,
   "metadata": {},
   "outputs": [],
   "source": [
    "event_df.shape"
   ]
  },
  {
   "cell_type": "markdown",
   "metadata": {},
   "source": [
    "* **Add search events**: "
   ]
  },
  {
   "cell_type": "code",
   "execution_count": null,
   "metadata": {},
   "outputs": [],
   "source": [
    "# select search events with clicks\n",
    "use_cols = ['session_id_hash', 'clicked_skus_hash',\n",
    "            'server_timestamp_epoch_ms', 'event_type',\n",
    "            'is_search']\n",
    "search_clicks = search[search.clicks_size>0][use_cols]\n",
    "\n",
    "# specify event type and product action\n",
    "search_clicks['event_type'] = 'search'\n",
    "search_clicks['product_action'] = 'click'\n",
    "\n",
    "#unstack list of clicked items to multiple rows\n",
    "lst_col = 'clicked_skus_hash'\n",
    "search_clicks = pd.DataFrame({\n",
    "    col:np.repeat(search_clicks[col].values, search_clicks[lst_col].str.len()) for col in search_clicks.columns.difference([lst_col])}).assign(\n",
    "    **{lst_col:np.concatenate(search_clicks[lst_col].values)})[search_clicks.columns.tolist()]\n",
    "\n",
    "search_clicks.columns = ['session_id_hash', 'product_sku_hash', 'server_timestamp_epoch_ms',\n",
    "                         'event_type', 'is_search', 'product_action']"
   ]
  },
  {
   "cell_type": "code",
   "execution_count": null,
   "metadata": {},
   "outputs": [],
   "source": [
    "search_clicks.head(3)"
   ]
  },
  {
   "cell_type": "code",
   "execution_count": null,
   "metadata": {},
   "outputs": [],
   "source": [
    "event_df = pd.concat([event_df, search_clicks])\n",
    "event_df.event_type.value_counts()"
   ]
  },
  {
   "cell_type": "markdown",
   "metadata": {},
   "source": [
    "* **Add product information**"
   ]
  },
  {
   "cell_type": "code",
   "execution_count": null,
   "metadata": {},
   "outputs": [],
   "source": [
    "product_info = pd.read_csv('/recsys/data/sku_to_content.csv')\n",
    "#product_info = pd.read_csv('sku_to_content.csv')\n",
    "product_info.tail()"
   ]
  },
  {
   "cell_type": "markdown",
   "metadata": {},
   "source": [
    "- Extract product main category "
   ]
  },
  {
   "cell_type": "code",
   "execution_count": null,
   "metadata": {},
   "outputs": [],
   "source": [
    "def product_main_category(x):\n",
    "    if pd.isna(x):\n",
    "        return x\n",
    "    return x.split('/')[0]\n",
    "product_info['main_category'] = product_info['category_hash'].progress_apply(product_main_category)"
   ]
  },
  {
   "cell_type": "markdown",
   "metadata": {},
   "source": [
    "- Compute average price of main and hierarchy category"
   ]
  },
  {
   "cell_type": "code",
   "execution_count": null,
   "metadata": {},
   "outputs": [],
   "source": [
    "main_price = product_info.groupby('main_category')['price_bucket'].mean().reset_index()\n",
    "main_price.columns = ['main_category', 'mean_price_main']\n",
    "\n",
    "hierarchy_price = product_info.groupby('category_hash')['price_bucket'].mean().reset_index()\n",
    "hierarchy_price.columns = ['category_hash', 'mean_price_hierarchy']"
   ]
  },
  {
   "cell_type": "markdown",
   "metadata": {},
   "source": [
    "- Merge with product table "
   ]
  },
  {
   "cell_type": "code",
   "execution_count": null,
   "metadata": {},
   "outputs": [],
   "source": [
    "product_info = product_info.merge(main_price, on=['main_category'], how='left')\n",
    "product_info = product_info.merge(hierarchy_price, on=['category_hash'], how='left')"
   ]
  },
  {
   "cell_type": "code",
   "execution_count": null,
   "metadata": {},
   "outputs": [],
   "source": [
    "product_info.head(3)"
   ]
  },
  {
   "cell_type": "markdown",
   "metadata": {},
   "source": [
    "* Merge product table and event_df "
   ]
  },
  {
   "cell_type": "code",
   "execution_count": null,
   "metadata": {},
   "outputs": [],
   "source": [
    "event_df = event_df.merge(product_info[['product_sku_hash', 'main_category', 'category_hash',\n",
    "                                        'price_bucket', 'mean_price_hierarchy', 'mean_price_main' ]], on='product_sku_hash', how='left')"
   ]
  },
  {
   "cell_type": "code",
   "execution_count": null,
   "metadata": {},
   "outputs": [],
   "source": [
    "event_df.head(2)"
   ]
  },
  {
   "cell_type": "markdown",
   "metadata": {},
   "source": [
    "* **Remove duplicated interactions with the same product**: encode original information as binary flags"
   ]
  },
  {
   "cell_type": "code",
   "execution_count": null,
   "metadata": {},
   "outputs": [],
   "source": [
    "product_interactions = event_df.groupby(['session_id_hash', 'product_sku_hash']).agg({\n",
    "    'product_sku_hash': len,\n",
    "    'product_action': [lambda x: 'add' in list(x), \n",
    "                       lambda x: 'detail' in list(x),\n",
    "                       lambda x: 'purchase' in list(x),\n",
    "                       lambda x: 'remove' in list(x),\n",
    "                       lambda x: 'click' in list(x),\n",
    "                      ]\n",
    "}).droplevel(0, axis=1)"
   ]
  },
  {
   "cell_type": "code",
   "execution_count": null,
   "metadata": {},
   "outputs": [],
   "source": [
    "product_interactions = product_interactions.reset_index()"
   ]
  },
  {
   "cell_type": "code",
   "execution_count": null,
   "metadata": {},
   "outputs": [],
   "source": [
    "product_interactions.columns = ['session_id_hash', 'product_sku_hash', 'nb_interactions',\n",
    "                                'has_been_added_to_cart', 'has_been_detailed', \n",
    "                                'has_been_purchased', 'has_been_removed_from_cart', 'has_been_clicked' ]"
   ]
  },
  {
   "cell_type": "code",
   "execution_count": null,
   "metadata": {},
   "outputs": [],
   "source": [
    "product_interactions.head(2)"
   ]
  },
  {
   "cell_type": "markdown",
   "metadata": {},
   "source": [
    "-  **Remove repeated interactions of event-product to align with private test set** "
   ]
  },
  {
   "cell_type": "code",
   "execution_count": null,
   "metadata": {},
   "outputs": [],
   "source": [
    "event_df = event_df.sort_values(['session_id_hash', 'server_timestamp_epoch_ms'])"
   ]
  },
  {
   "cell_type": "code",
   "execution_count": null,
   "metadata": {},
   "outputs": [],
   "source": [
    "event_df = event_df.drop_duplicates(['session_id_hash','event_type','product_sku_hash','hashed_url'], keep='first')"
   ]
  },
  {
   "cell_type": "code",
   "execution_count": null,
   "metadata": {},
   "outputs": [],
   "source": [
    "event_df.shape"
   ]
  },
  {
   "cell_type": "markdown",
   "metadata": {},
   "source": [
    "*  **Merge product interactions info and event df** "
   ]
  },
  {
   "cell_type": "code",
   "execution_count": null,
   "metadata": {},
   "outputs": [],
   "source": [
    "event_df = event_df.merge(product_interactions, on=['session_id_hash', 'product_sku_hash'], how='left')"
   ]
  },
  {
   "cell_type": "code",
   "execution_count": null,
   "metadata": {},
   "outputs": [],
   "source": [
    "event_df.shape"
   ]
  },
  {
   "cell_type": "code",
   "execution_count": null,
   "metadata": {},
   "outputs": [],
   "source": [
    "event_df.head(2)"
   ]
  },
  {
   "cell_type": "code",
   "execution_count": null,
   "metadata": {},
   "outputs": [],
   "source": [
    "del product_interactions"
   ]
  },
  {
   "cell_type": "markdown",
   "metadata": {},
   "source": [
    "*  **Add column product_url_hash**: SKUs are filled with hashed_url for pageview events"
   ]
  },
  {
   "cell_type": "code",
   "execution_count": null,
   "metadata": {},
   "outputs": [],
   "source": [
    "event_df['product_url_hash'] = event_df['product_sku_hash'].fillna(event_df['hashed_url'])"
   ]
  },
  {
   "cell_type": "code",
   "execution_count": null,
   "metadata": {},
   "outputs": [],
   "source": [
    "event_df.head()"
   ]
  },
  {
   "cell_type": "code",
   "execution_count": null,
   "metadata": {},
   "outputs": [],
   "source": [
    "event_df.shape"
   ]
  },
  {
   "cell_type": "markdown",
   "metadata": {},
   "source": [
    "### Save into parquet files "
   ]
  },
  {
   "cell_type": "code",
   "execution_count": null,
   "metadata": {},
   "outputs": [],
   "source": [
    "event_df.event_type.value_counts()"
   ]
  },
  {
   "cell_type": "code",
   "execution_count": null,
   "metadata": {},
   "outputs": [],
   "source": [
    "# save to parquet file with 40 partitions \n",
    "event_df['parquet_split'] =  np.random.randint(0,40,size=event_df.shape[0])\n",
    "\n",
    "event_df.to_parquet(os.path.join(OUTPUT_DIR, \"event_train_v4\"), partition_cols=['parquet_split'])\n",
    "\n",
    "#event_df.to_parquet(\"event_train_v4\", partition_cols=['parquet_split'])\n",
    "\n",
    "#event_df.to_parquet(os.path.join(OUTPUT_DIR, \"event_train_v4\"))\n"
   ]
  },
  {
   "cell_type": "code",
   "execution_count": null,
   "metadata": {},
   "outputs": [],
   "source": [
    "#event_df.to_csv(index=False)\n",
    "#event_df.to_csv('event_df_csv.csv', sep=',', index=False)"
   ]
  },
  {
   "cell_type": "code",
   "execution_count": null,
   "metadata": {},
   "outputs": [],
   "source": [
    "#event_cudf = cudf.read_csv('event_df_csv.csv')\n",
    "#event_cudf.head()"
   ]
  },
  {
   "cell_type": "code",
   "execution_count": null,
   "metadata": {},
   "outputs": [],
   "source": [
    "#event_df.to_parquet(\"event_train_v4\")\n",
    "#event_cudf = cudf.DataFrame.from_pandas(event_df)"
   ]
  },
  {
   "cell_type": "code",
   "execution_count": null,
   "metadata": {},
   "outputs": [],
   "source": [
    "#event_df"
   ]
  },
  {
   "cell_type": "code",
   "execution_count": null,
   "metadata": {},
   "outputs": [],
   "source": [
    "#!nvidia-smi"
   ]
  },
  {
   "cell_type": "code",
   "execution_count": null,
   "metadata": {},
   "outputs": [],
   "source": [
    "import gc\n",
    "del event_df\n",
    "gc.collect()"
   ]
  },
  {
   "cell_type": "markdown",
   "metadata": {},
   "source": [
    "# <a id='row_workflow'> Define the preprocessed row interactions table </a>"
   ]
  },
  {
   "cell_type": "code",
   "execution_count": null,
   "metadata": {},
   "outputs": [],
   "source": [
    "import glob\n",
    "files = glob.glob(OUTPUT_DIR + '/event_train_v4/parquet_split*/*.parquet')\n",
    "\n",
    "#files = glob.glob('event_train_v4/parquet_split*/*.parquet')\n"
   ]
  },
  {
   "cell_type": "markdown",
   "metadata": {},
   "source": [
    "- **1st workflow: fill missing values, encode categorical variables and normalize numericals**"
   ]
  },
  {
   "cell_type": "code",
   "execution_count": null,
   "metadata": {},
   "outputs": [],
   "source": [
    "#  load data \n",
    "#df_event = nvt.Dataset(\"event_train_v4\", part_size=\"1GB\") "
   ]
  },
  {
   "cell_type": "code",
   "execution_count": null,
   "metadata": {},
   "outputs": [],
   "source": [
    "#  load data \n",
    "#df_event = nvt.Dataset(event_cudf) "
   ]
  },
  {
   "cell_type": "code",
   "execution_count": null,
   "metadata": {},
   "outputs": [],
   "source": [
    "# convert timestamp to datetime object\n",
    "#to_datetime = [\"server_timestamp_epoch_ms\"] >> nvt.ops.LambdaOp(lambda col: cudf.to_datetime(col, unit='ms')) >> nvt.ops.Rename( f = lambda x: 'timestamp')"
   ]
  },
  {
   "cell_type": "code",
   "execution_count": null,
   "metadata": {},
   "outputs": [],
   "source": [
    "#categorical features\n",
    "# fill missing product_actions\n",
    "#missing_action = ['product_action'] >> nvt.ops.FillMissing(fill_val='view')  >> nvt.ops.Rename(postfix = '_filled')\n",
    "#categ_feats = ['session_id_hash',  'event_type', 'price_bucket', 'main_category', 'category_hash']\n",
    "#cat_feats = missing_action + categ_feats >> nvt.ops.Categorify()\n",
    "\n"
   ]
  },
  {
   "cell_type": "code",
   "execution_count": null,
   "metadata": {},
   "outputs": [],
   "source": [
    "# fill missing product ids before categorify to keep id '0' for padding \n",
    "#missing_ids = ['product_sku_hash','hashed_url', 'product_url_hash' ] >> nvt.ops.FillMissing(fill_val='missing')\n",
    "#cat_product_ids = missing_ids >> nvt.ops.Categorify()\n",
    "\n"
   ]
  },
  {
   "cell_type": "code",
   "execution_count": null,
   "metadata": {},
   "outputs": [],
   "source": [
    "# numerical features \n",
    "#cont_feats = ['mean_price_hierarchy', 'mean_price_main', 'nb_interactions'] >> nvt.ops.FillMedian()\n",
    "#continuous_feats = cont_feats >> nvt.ops.Normalize()"
   ]
  },
  {
   "cell_type": "code",
   "execution_count": null,
   "metadata": {},
   "outputs": [],
   "source": [
    "#bool features \n",
    "#bool_feats = ['has_been_added_to_cart', 'has_been_detailed', 'has_been_purchased', \n",
    "              #'has_been_removed_from_cart', 'has_been_clicked', 'is_search', 'is_test']\n",
    "#boolean_feats = bool_feats >> nvt.ops.FillMissing(fill_val=0)"
   ]
  },
  {
   "cell_type": "code",
   "execution_count": null,
   "metadata": {},
   "outputs": [],
   "source": [
    "#  load data \n",
    "df_event = nvt.Dataset(files, part_size=\"1GB\") \n",
    "\n",
    "# convert timestamp to datetime object\n",
    "to_datetime = [\"server_timestamp_epoch_ms\"] >> nvt.ops.LambdaOp(lambda col: cudf.to_datetime(col, unit='ms')) >> nvt.ops.Rename( f = lambda x: 'timestamp')\n",
    "\n",
    "#categorical features\n",
    "# fill missing product_actions\n",
    "missing_action = ['product_action'] >> nvt.ops.FillMissing(fill_val='view')  >> nvt.ops.Rename(postfix = '_filled')\n",
    "categ_feats = ['session_id_hash',  'event_type', 'price_bucket', 'main_category', 'category_hash']\n",
    "cat_feats = missing_action + categ_feats >> nvt.ops.Categorify()\n",
    "\n",
    "# fill missing product ids before categorify to keep id '0' for padding \n",
    "missing_ids = ['product_sku_hash','hashed_url', 'product_url_hash' ] >> nvt.ops.FillMissing(fill_val='missing')\n",
    "cat_product_ids = missing_ids >> nvt.ops.Categorify()\n",
    "\n",
    "# numerical features \n",
    "cont_feats = ['mean_price_hierarchy', 'mean_price_main', 'nb_interactions'] >> nvt.ops.FillMedian()\n",
    "continuous_feats = cont_feats >> nvt.ops.Normalize()\n",
    "\n",
    "#bool features \n",
    "bool_feats = ['has_been_added_to_cart', 'has_been_detailed', 'has_been_purchased', \n",
    "              'has_been_removed_from_cart', 'has_been_clicked', 'is_search']\n",
    "boolean_feats = bool_feats >> nvt.ops.FillMissing(fill_val=0)"
   ]
  },
  {
   "cell_type": "code",
   "execution_count": null,
   "metadata": {},
   "outputs": [],
   "source": [
    "workflow = nvt.Workflow(to_datetime + cat_feats + cat_product_ids + continuous_feats + boolean_feats)\n",
    "workflow.fit(df_event)\n",
    "new_gdf = workflow.transform(df_event).to_ddf().compute()\n",
    "len(new_gdf)"
   ]
  },
  {
   "cell_type": "code",
   "execution_count": null,
   "metadata": {},
   "outputs": [],
   "source": [
    "new_gdf.columns"
   ]
  },
  {
   "cell_type": "code",
   "execution_count": null,
   "metadata": {},
   "outputs": [],
   "source": [
    "# save the workflow : \n",
    "workflow.save(os.path.join(OUTPUT_DIR, \"categorify_workflow\"))"
   ]
  },
  {
   "cell_type": "markdown",
   "metadata": {},
   "source": [
    "- **Item recency:** include the item first time seen feature using product_url_hash column "
   ]
  },
  {
   "cell_type": "code",
   "execution_count": null,
   "metadata": {},
   "outputs": [],
   "source": [
    "items_first_ts_df = new_gdf.groupby('product_url_hash').agg({'timestamp': 'min'}).reset_index().rename(columns={'timestamp': 'itemid_ts_first'})\n",
    "interactions_merged_df = new_gdf.merge(items_first_ts_df, on=['product_url_hash'], how='left')"
   ]
  },
  {
   "cell_type": "code",
   "execution_count": null,
   "metadata": {},
   "outputs": [],
   "source": [
    "interactions_merged_df.shape"
   ]
  },
  {
   "cell_type": "code",
   "execution_count": null,
   "metadata": {},
   "outputs": [],
   "source": [
    "interactions_merged_df.shape"
   ]
  },
  {
   "cell_type": "markdown",
   "metadata": {},
   "source": [
    "- **Save encoded interaction table to parquet file** "
   ]
  },
  {
   "cell_type": "code",
   "execution_count": null,
   "metadata": {},
   "outputs": [],
   "source": [
    "use_cols = ['session_id_hash', 'timestamp',  'event_type', 'product_action_filled',\n",
    "            \n",
    "            'product_sku_hash','hashed_url', 'product_url_hash',\n",
    "            \n",
    "            'main_category', 'category_hash', 'price_bucket', 'mean_price_hierarchy', 'mean_price_main', 'itemid_ts_first', \n",
    "            \n",
    "            'nb_interactions', 'has_been_added_to_cart', 'has_been_detailed', 'has_been_purchased', 'has_been_removed_from_cart', 'has_been_clicked',\n",
    "            \n",
    "            'is_search']\n",
    "\n",
    "interactions_merged_df[use_cols].head(5)"
   ]
  },
  {
   "cell_type": "code",
   "execution_count": null,
   "metadata": {},
   "outputs": [],
   "source": [
    "interactions_merged_df[use_cols].to_parquet(os.path.join(OUTPUT_DIR, 'row_interactions_preproc_v4.parquet'))"
   ]
  },
  {
   "cell_type": "markdown",
   "metadata": {},
   "source": [
    "# <a id='session_workflow'>Preprocessing of session table - V4 </a>: "
   ]
  },
  {
   "cell_type": "code",
   "execution_count": 6,
   "metadata": {},
   "outputs": [],
   "source": [
    "interactions_merged_df = cudf.read_parquet(os.path.join(OUTPUT_DIR, 'row_interactions_preproc_v4.parquet'))"
   ]
  },
  {
   "cell_type": "code",
   "execution_count": 7,
   "metadata": {},
   "outputs": [
    {
     "data": {
      "text/html": [
       "<div>\n",
       "<style scoped>\n",
       "    .dataframe tbody tr th:only-of-type {\n",
       "        vertical-align: middle;\n",
       "    }\n",
       "\n",
       "    .dataframe tbody tr th {\n",
       "        vertical-align: top;\n",
       "    }\n",
       "\n",
       "    .dataframe thead th {\n",
       "        text-align: right;\n",
       "    }\n",
       "</style>\n",
       "<table border=\"1\" class=\"dataframe\">\n",
       "  <thead>\n",
       "    <tr style=\"text-align: right;\">\n",
       "      <th></th>\n",
       "      <th>session_id_hash</th>\n",
       "      <th>timestamp</th>\n",
       "      <th>event_type</th>\n",
       "      <th>product_action_filled</th>\n",
       "      <th>product_sku_hash</th>\n",
       "      <th>hashed_url</th>\n",
       "      <th>product_url_hash</th>\n",
       "      <th>main_category</th>\n",
       "      <th>category_hash</th>\n",
       "      <th>price_bucket</th>\n",
       "      <th>mean_price_hierarchy</th>\n",
       "      <th>mean_price_main</th>\n",
       "      <th>itemid_ts_first</th>\n",
       "      <th>nb_interactions</th>\n",
       "      <th>has_been_added_to_cart</th>\n",
       "      <th>has_been_detailed</th>\n",
       "      <th>has_been_purchased</th>\n",
       "      <th>has_been_removed_from_cart</th>\n",
       "      <th>has_been_clicked</th>\n",
       "      <th>is_search</th>\n",
       "    </tr>\n",
       "  </thead>\n",
       "  <tbody>\n",
       "    <tr>\n",
       "      <th>0</th>\n",
       "      <td>40544</td>\n",
       "      <td>2019-01-17 23:56:39.839</td>\n",
       "      <td>2</td>\n",
       "      <td>2</td>\n",
       "      <td>937</td>\n",
       "      <td>1336</td>\n",
       "      <td>1978</td>\n",
       "      <td>1</td>\n",
       "      <td>4</td>\n",
       "      <td>1</td>\n",
       "      <td>0.245127</td>\n",
       "      <td>0.045160</td>\n",
       "      <td>2019-01-15 07:13:42.732</td>\n",
       "      <td>-0.170005</td>\n",
       "      <td>False</td>\n",
       "      <td>True</td>\n",
       "      <td>False</td>\n",
       "      <td>False</td>\n",
       "      <td>False</td>\n",
       "      <td>0</td>\n",
       "    </tr>\n",
       "    <tr>\n",
       "      <th>1</th>\n",
       "      <td>122961</td>\n",
       "      <td>2019-04-14 20:08:54.849</td>\n",
       "      <td>1</td>\n",
       "      <td>1</td>\n",
       "      <td>1</td>\n",
       "      <td>18</td>\n",
       "      <td>16</td>\n",
       "      <td>0</td>\n",
       "      <td>0</td>\n",
       "      <td>0</td>\n",
       "      <td>0.048303</td>\n",
       "      <td>0.045160</td>\n",
       "      <td>2019-01-15 05:29:47.682</td>\n",
       "      <td>-0.170005</td>\n",
       "      <td>False</td>\n",
       "      <td>False</td>\n",
       "      <td>False</td>\n",
       "      <td>False</td>\n",
       "      <td>False</td>\n",
       "      <td>0</td>\n",
       "    </tr>\n",
       "    <tr>\n",
       "      <th>2</th>\n",
       "      <td>214563</td>\n",
       "      <td>2019-02-23 14:52:33.576</td>\n",
       "      <td>1</td>\n",
       "      <td>1</td>\n",
       "      <td>1</td>\n",
       "      <td>1</td>\n",
       "      <td>1</td>\n",
       "      <td>0</td>\n",
       "      <td>0</td>\n",
       "      <td>0</td>\n",
       "      <td>0.048303</td>\n",
       "      <td>0.045160</td>\n",
       "      <td>2019-01-15 05:03:02.542</td>\n",
       "      <td>-0.170005</td>\n",
       "      <td>False</td>\n",
       "      <td>False</td>\n",
       "      <td>False</td>\n",
       "      <td>False</td>\n",
       "      <td>False</td>\n",
       "      <td>0</td>\n",
       "    </tr>\n",
       "    <tr>\n",
       "      <th>3</th>\n",
       "      <td>90886</td>\n",
       "      <td>2019-02-28 19:34:20.658</td>\n",
       "      <td>2</td>\n",
       "      <td>2</td>\n",
       "      <td>1731</td>\n",
       "      <td>2487</td>\n",
       "      <td>3593</td>\n",
       "      <td>3</td>\n",
       "      <td>1</td>\n",
       "      <td>5</td>\n",
       "      <td>-0.633211</td>\n",
       "      <td>2.114748</td>\n",
       "      <td>2019-01-15 15:18:29.627</td>\n",
       "      <td>-0.170005</td>\n",
       "      <td>False</td>\n",
       "      <td>True</td>\n",
       "      <td>False</td>\n",
       "      <td>False</td>\n",
       "      <td>False</td>\n",
       "      <td>0</td>\n",
       "    </tr>\n",
       "    <tr>\n",
       "      <th>4</th>\n",
       "      <td>1781551</td>\n",
       "      <td>2019-02-06 09:50:18.828</td>\n",
       "      <td>1</td>\n",
       "      <td>1</td>\n",
       "      <td>1</td>\n",
       "      <td>38</td>\n",
       "      <td>32</td>\n",
       "      <td>0</td>\n",
       "      <td>0</td>\n",
       "      <td>0</td>\n",
       "      <td>0.048303</td>\n",
       "      <td>0.045160</td>\n",
       "      <td>2019-01-15 05:08:54.698</td>\n",
       "      <td>-0.170005</td>\n",
       "      <td>False</td>\n",
       "      <td>False</td>\n",
       "      <td>False</td>\n",
       "      <td>False</td>\n",
       "      <td>False</td>\n",
       "      <td>0</td>\n",
       "    </tr>\n",
       "  </tbody>\n",
       "</table>\n",
       "</div>"
      ],
      "text/plain": [
       "   session_id_hash               timestamp  event_type  product_action_filled  \\\n",
       "0            40544 2019-01-17 23:56:39.839           2                      2   \n",
       "1           122961 2019-04-14 20:08:54.849           1                      1   \n",
       "2           214563 2019-02-23 14:52:33.576           1                      1   \n",
       "3            90886 2019-02-28 19:34:20.658           2                      2   \n",
       "4          1781551 2019-02-06 09:50:18.828           1                      1   \n",
       "\n",
       "   product_sku_hash  hashed_url  product_url_hash  main_category  \\\n",
       "0               937        1336              1978              1   \n",
       "1                 1          18                16              0   \n",
       "2                 1           1                 1              0   \n",
       "3              1731        2487              3593              3   \n",
       "4                 1          38                32              0   \n",
       "\n",
       "   category_hash  price_bucket  mean_price_hierarchy  mean_price_main  \\\n",
       "0              4             1              0.245127         0.045160   \n",
       "1              0             0              0.048303         0.045160   \n",
       "2              0             0              0.048303         0.045160   \n",
       "3              1             5             -0.633211         2.114748   \n",
       "4              0             0              0.048303         0.045160   \n",
       "\n",
       "          itemid_ts_first  nb_interactions  has_been_added_to_cart  \\\n",
       "0 2019-01-15 07:13:42.732        -0.170005                   False   \n",
       "1 2019-01-15 05:29:47.682        -0.170005                   False   \n",
       "2 2019-01-15 05:03:02.542        -0.170005                   False   \n",
       "3 2019-01-15 15:18:29.627        -0.170005                   False   \n",
       "4 2019-01-15 05:08:54.698        -0.170005                   False   \n",
       "\n",
       "   has_been_detailed  has_been_purchased  has_been_removed_from_cart  \\\n",
       "0               True               False                       False   \n",
       "1              False               False                       False   \n",
       "2              False               False                       False   \n",
       "3               True               False                       False   \n",
       "4              False               False                       False   \n",
       "\n",
       "   has_been_clicked  is_search  \n",
       "0             False          0  \n",
       "1             False          0  \n",
       "2             False          0  \n",
       "3             False          0  \n",
       "4             False          0  "
      ]
     },
     "execution_count": 7,
     "metadata": {},
     "output_type": "execute_result"
    }
   ],
   "source": [
    "interactions_merged_df.head()"
   ]
  },
  {
   "cell_type": "code",
   "execution_count": 8,
   "metadata": {},
   "outputs": [],
   "source": [
    "#OUTPUT_FOLDER = \"/workspace/coveo_dataset/\"\n",
    "#OUTPUT_FOLDER = \"/recsys/coveo_dataset/\"\n",
    "#!mkdir -p $OUTPUT_FOLDER\n"
   ]
  },
  {
   "cell_type": "code",
   "execution_count": 9,
   "metadata": {},
   "outputs": [],
   "source": [
    "#!ls $OUTPUT_FOLDER"
   ]
  },
  {
   "cell_type": "code",
   "execution_count": 10,
   "metadata": {},
   "outputs": [],
   "source": [
    "#cont features\n",
    "cont_feats = ['mean_price_hierarchy', 'mean_price_main', 'nb_interactions'] >> nvt.ops.FillMedian()\n",
    "#bool features \n",
    "bool_feats = ['has_been_added_to_cart', 'has_been_detailed', 'has_been_purchased', \n",
    "              'has_been_removed_from_cart', 'has_been_clicked', 'is_search']\n",
    "interactions_merged_df[bool_feats] = interactions_merged_df[bool_feats].astype('int32')"
   ]
  },
  {
   "cell_type": "markdown",
   "metadata": {},
   "source": [
    "- **Define temporal features**"
   ]
  },
  {
   "cell_type": "code",
   "execution_count": 11,
   "metadata": {},
   "outputs": [],
   "source": [
    "# create time features\n",
    "sessionTime = ['timestamp']\n",
    "\n",
    "sessionTime_hour = (\n",
    "    sessionTime >> \n",
    "    #nvt.ops.LambdaOp(lambda col: cudf.to_datetime(col, unit='ms').dt.hour) >> \n",
    "    nvt.ops.LambdaOp(lambda col: col.dt.hour) >> \n",
    "    nvt.ops.Rename(postfix = '_hour')\n",
    ")\n",
    "sessionTime_weekday = (\n",
    "    sessionTime >> \n",
    "    #nvt.ops.LambdaOp(lambda col: cudf.to_datetime(col, unit='ms').dt.weekday) >> \n",
    "    nvt.ops.LambdaOp(lambda col: col.dt.weekday) >> \n",
    "    nvt.ops.Rename(postfix = '_wd')\n",
    ")\n",
    "sessionTime_day = (\n",
    "    sessionTime >> \n",
    "    nvt.ops.LambdaOp(lambda col: col.dt.day) >> \n",
    "    nvt.ops.Rename(postfix=\"_day\")\n",
    ")\n",
    "\n",
    "sessionTime_timestamp = (\n",
    "    sessionTime >> \n",
    "    nvt.ops.LambdaOp(lambda col: (col.astype(int) / 1e6).astype(int)) >> \n",
    "    nvt.ops.Rename(f = lambda col: \"ts\")\n",
    ")"
   ]
  },
  {
   "cell_type": "code",
   "execution_count": 12,
   "metadata": {},
   "outputs": [],
   "source": [
    "def get_cycled_feature_value_sin(col, max_value):\n",
    "    value_scaled = (col + 0.000001) / max_value\n",
    "    value_sin = np.sin(2*np.pi*value_scaled)\n",
    "    return value_sin\n",
    "\n",
    "def get_cycled_feature_value_cos(col, max_value):\n",
    "    value_scaled = (col + 0.000001) / max_value\n",
    "    value_cos = np.cos(2*np.pi*value_scaled)\n",
    "    return value_cos"
   ]
  },
  {
   "cell_type": "code",
   "execution_count": 13,
   "metadata": {},
   "outputs": [],
   "source": [
    "hour_sin = sessionTime_hour >> (lambda col: get_cycled_feature_value_sin(col, 24)) >> nvt.ops.Rename(postfix = '_sin')\n",
    "hour_cos = sessionTime_hour >> (lambda col: get_cycled_feature_value_cos(col, 24)) >> nvt.ops.Rename(postfix = '_cos')\n",
    "weekday_sin = sessionTime_weekday >> (lambda col: get_cycled_feature_value_sin(col+1, 7)) >> nvt.ops.Rename(postfix = '_sin')\n",
    "weekday_cos= sessionTime_weekday >> (lambda col: get_cycled_feature_value_cos(col+1, 7)) >> nvt.ops.Rename(postfix = '_cos')"
   ]
  },
  {
   "cell_type": "code",
   "execution_count": 14,
   "metadata": {},
   "outputs": [],
   "source": [
    "cycled_features = hour_sin + hour_cos + weekday_sin + weekday_cos"
   ]
  },
  {
   "cell_type": "code",
   "execution_count": 15,
   "metadata": {},
   "outputs": [
    {
     "data": {
      "text/plain": [
       "['timestamp_hour_sin',\n",
       " 'timestamp_hour_cos',\n",
       " 'timestamp_wd_sin',\n",
       " 'timestamp_wd_cos']"
      ]
     },
     "execution_count": 15,
     "metadata": {},
     "output_type": "execute_result"
    }
   ],
   "source": [
    "cycled_features.columns"
   ]
  },
  {
   "cell_type": "code",
   "execution_count": 16,
   "metadata": {},
   "outputs": [],
   "source": [
    "# calculate item recency \n",
    "# create custom op\n",
    "from nvtabular.ops import Operator\n",
    "\n",
    "class ItemRecency(Operator):\n",
    "    def transform(self, columns, gdf):\n",
    "        for column in columns:\n",
    "            col = gdf[column]\n",
    "            #col.loc[col == \"\"] = None\n",
    "            item_first_timestamp = gdf['itemid_ts_first']\n",
    "            delta_days = (col - item_first_timestamp).dt.days\n",
    "            gdf[column + \"_age_days\"] = delta_days * (delta_days >=0)\n",
    "        return gdf\n",
    "            \n",
    "    def output_column_names(self, columns):\n",
    "        return [column + \"_age_days\" for column in columns]\n",
    "            \n",
    "    def dependencies(self):\n",
    "        return [\"itemid_ts_first\"]"
   ]
  },
  {
   "cell_type": "code",
   "execution_count": 17,
   "metadata": {},
   "outputs": [],
   "source": [
    "recency_features = [\"timestamp\"] >> ItemRecency() \n",
    "recency_features_norm = recency_features >> nvt.ops.LogOp() >> nvt.ops.Normalize() >> nvt.ops.Rename(postfix = '_norm')"
   ]
  },
  {
   "cell_type": "code",
   "execution_count": 18,
   "metadata": {},
   "outputs": [],
   "source": [
    "recency_features.columns, recency_features_norm.columns\n",
    "time_features = (\n",
    "    sessionTime_timestamp +\n",
    "    sessionTime + \n",
    "    sessionTime_hour +\n",
    "    sessionTime_day + \n",
    "    sessionTime_weekday +\n",
    "    recency_features +\n",
    "    recency_features_norm + \n",
    "    cycled_features)"
   ]
  },
  {
   "cell_type": "code",
   "execution_count": 19,
   "metadata": {},
   "outputs": [
    {
     "data": {
      "text/plain": [
       "['ts',\n",
       " 'timestamp',\n",
       " 'timestamp_hour',\n",
       " 'timestamp_day',\n",
       " 'timestamp_wd',\n",
       " 'timestamp_age_days',\n",
       " 'timestamp_age_days_norm',\n",
       " 'timestamp_hour_sin',\n",
       " 'timestamp_hour_cos',\n",
       " 'timestamp_wd_sin',\n",
       " 'timestamp_wd_cos']"
      ]
     },
     "execution_count": 19,
     "metadata": {},
     "output_type": "execute_result"
    }
   ],
   "source": [
    "time_features.columns"
   ]
  },
  {
   "cell_type": "markdown",
   "metadata": {},
   "source": [
    "- **Grouping interactions into sessions**"
   ]
  },
  {
   "cell_type": "code",
   "execution_count": 20,
   "metadata": {},
   "outputs": [],
   "source": [
    "# Define Groupby Workflow: search columns are not used\n",
    "# N.B: Add the op ListSlice when upgrading nvt 0.5.1 to 0.6 \n",
    "filter_nan_products = (interactions_merged_df.columns >> nvt.ops.Filter(f=lambda df: df['product_sku_hash'] != 0))\n",
    "\n",
    "\n",
    "groupby_only_product = filter_nan_products - ['timestamp']  + time_features  >> nvt.ops.Groupby(\n",
    "    groupby_cols=[\"session_id_hash\"], \n",
    "    sort_cols=[\"ts\"],\n",
    "    aggs={\n",
    "       \"product_sku_hash\": [\"list\", \"count\"], \n",
    "    }\n",
    ")\n",
    "    \n",
    "groupby_product_url = ['session_id_hash', 'product_url_hash']  + time_features >> nvt.ops.Groupby(\n",
    "    groupby_cols=[\"session_id_hash\"], \n",
    "    sort_cols=[\"ts\"],\n",
    "    aggs={\n",
    "       \"product_url_hash\": [\"list\", \"count\"]\n",
    "    }\n",
    ")\n",
    "groupby_other_features =  bool_feats + cont_feats + ['product_sku_hash', 'product_action_filled' ,'session_id_hash', 'event_type',\n",
    "                                                                             'price_bucket', 'main_category', 'category_hash'] + time_features >> \\\n",
    "    nvt.ops.Groupby(\n",
    "    groupby_cols=[\"session_id_hash\"], \n",
    "    sort_cols=[\"ts\"],\n",
    "    aggs={\n",
    "        \"product_action_filled\": [\"list\"],     \n",
    "        \"event_type\": [\"list\"],    \n",
    "        \"price_bucket\": [\"list\"],\n",
    "        \"category_hash\": [\"list\"],\n",
    "        'has_been_added_to_cart': [\"list\"],\n",
    "        'has_been_detailed': [\"list\"],\n",
    "        'has_been_purchased': [\"list\"],\n",
    "        'has_been_removed_from_cart': [\"list\"],\n",
    "        'has_been_clicked': [\"list\"],\n",
    "        'mean_price_hierarchy':[\"list\"],\n",
    "        'mean_price_main':[\"list\"],\n",
    "        'nb_interactions':[\"list\"],\n",
    "        'main_category': [\"list\"],\n",
    "        'category_hash': [\"list\"],\n",
    "        \"ts\": [\"list\", \"first\", \"last\"],\n",
    "        #\"is_test\": [\"last\"],\n",
    "        \"is_search\": [\"last\"],\n",
    "        \"timestamp\": [\"first\"],\n",
    "        'timestamp_day': [\"list\"],\n",
    "        'timestamp_hour': [\"list\"],\n",
    "        'timestamp_month': [\"list\"],\n",
    "        'timestamp_wd': [\"list\"],\n",
    "        'timestamp_age_days': [\"list\"],\n",
    "        'timestamp_age_days_norm': [\"list\"],\n",
    "        'timestamp_hour_sin': [\"list\"],\n",
    "        'timestamp_hour_sin_norm': [\"list\"],\n",
    "        'timestamp_hour_cos': [\"list\"],\n",
    "        'timestamp_hour_cos_norm': [\"list\"],\n",
    "        'timestamp_wd_sin': [\"list\"],\n",
    "        'timestamp_wd_sin_norm': [\"list\"],\n",
    "        'timestamp_wd_cos': [\"list\"],\n",
    "        'timestamp_wd_cos_norm': [\"list\"],   \n",
    "        },\n",
    "    name_sep=\"-\")"
   ]
  },
  {
   "cell_type": "code",
   "execution_count": 21,
   "metadata": {},
   "outputs": [
    {
     "name": "stdout",
     "output_type": "stream",
     "text": [
      "<ColumnGroup Groupby output>\n"
     ]
    }
   ],
   "source": [
    "print(groupby_other_features)"
   ]
  },
  {
   "cell_type": "code",
   "execution_count": 22,
   "metadata": {},
   "outputs": [
    {
     "data": {
      "text/plain": [
       "['has_been_detailed-list',\n",
       " 'timestamp_day-list',\n",
       " 'product_action_filled-list',\n",
       " 'ts-last',\n",
       " 'event_type-list',\n",
       " 'timestamp_age_days-list',\n",
       " 'has_been_clicked-list',\n",
       " 'has_been_purchased-list',\n",
       " 'timestamp_hour_sin-list',\n",
       " 'has_been_added_to_cart-list',\n",
       " 'timestamp_age_days_norm-list',\n",
       " 'timestamp_wd_cos-list',\n",
       " 'category_hash-list',\n",
       " 'ts-first',\n",
       " 'timestamp-first',\n",
       " 'timestamp_hour-list',\n",
       " 'timestamp_wd_sin-list',\n",
       " 'session_id_hash',\n",
       " 'is_search-last',\n",
       " 'mean_price_main-list',\n",
       " 'main_category-list',\n",
       " 'price_bucket-list',\n",
       " 'timestamp_hour_cos-list',\n",
       " 'nb_interactions-list',\n",
       " 'timestamp_wd-list',\n",
       " 'has_been_removed_from_cart-list',\n",
       " 'mean_price_hierarchy-list',\n",
       " 'ts-list']"
      ]
     },
     "execution_count": 22,
     "metadata": {},
     "output_type": "execute_result"
    }
   ],
   "source": [
    "groupby_other_features.columns"
   ]
  },
  {
   "cell_type": "code",
   "execution_count": 23,
   "metadata": {},
   "outputs": [
    {
     "data": {
      "text/plain": [
       "['product_sku_hash_count', 'session_id_hash', 'product_sku_hash_list']"
      ]
     },
     "execution_count": 23,
     "metadata": {},
     "output_type": "execute_result"
    }
   ],
   "source": [
    "groupby_only_product.columns"
   ]
  },
  {
   "cell_type": "code",
   "execution_count": 24,
   "metadata": {},
   "outputs": [
    {
     "data": {
      "text/plain": [
       "['product_url_hash_count', 'session_id_hash', 'product_url_hash_list']"
      ]
     },
     "execution_count": 24,
     "metadata": {},
     "output_type": "execute_result"
    }
   ],
   "source": [
    "groupby_product_url.columns"
   ]
  },
  {
   "cell_type": "code",
   "execution_count": 25,
   "metadata": {},
   "outputs": [],
   "source": [
    "#groupby_other_features_list = groupby_other_features['product_action_filled-list',\n",
    "        #'event_type-list',\n",
    "        #'price_bucket-list',\n",
    "        #'category_hash-list',\n",
    "        #'has_been_added_to_cart-list',\n",
    "        #'has_been_detailed-list',\n",
    "        #'has_been_purchased-list',\n",
    "        #'has_been_removed_from_cart-list',\n",
    "        #'has_been_clicked-list',\n",
    "        #'mean_price_hierarchy-list',\n",
    "        #'mean_price_main-list',\n",
    "        #'nb_interactions-list',\n",
    "        #'main_category-list',\n",
    "        #'category_hash-list',\n",
    "        #'ts-list',\n",
    "        #'timestamp_day-list',\n",
    "        #'timestamp_hour-list',\n",
    "        #'timestamp_month-list',\n",
    "        #'timestamp_wd-list',\n",
    "        #'timestamp_age_days-list',\n",
    "        #'timestamp_age_days_norm-list',\n",
    "        #'timestamp_hour_sin-list',\n",
    "        #'timestamp_hour_sin_norm-list',\n",
    "        #'timestamp_hour_cos-list',\n",
    "        #'timestamp_hour_cos_norm-list',\n",
    "        #'timestamp_wd_sin-list',\n",
    "        #'timestamp_wd_sin_norm-list',\n",
    "        #'timestamp_wd_cos-list',\n",
    "        #'timestamp_wd_cos_norm-list']"
   ]
  },
  {
   "cell_type": "code",
   "execution_count": 26,
   "metadata": {},
   "outputs": [],
   "source": [
    "groupby_other_features_list = groupby_other_features['timestamp_hour-list',\n",
    " 'price_bucket-list',\n",
    " 'main_category-list',\n",
    " 'timestamp_day-list',\n",
    " 'has_been_detailed-list',\n",
    " 'timestamp_hour_sin-list',\n",
    " 'timestamp_wd_cos-list',\n",
    " 'product_action_filled-list',\n",
    " 'timestamp_age_days_norm-list',\n",
    " 'timestamp_hour_cos-list',\n",
    " 'has_been_removed_from_cart-list',\n",
    " 'mean_price_main-list',\n",
    " 'timestamp_age_days-list',\n",
    " 'has_been_clicked-list',\n",
    " 'nb_interactions-list',\n",
    " 'mean_price_hierarchy-list',\n",
    " 'timestamp_wd_sin-list',\n",
    " 'timestamp_wd-list',\n",
    " 'event_type-list',\n",
    " 'category_hash-list',\n",
    " 'ts-list',\n",
    " 'has_been_purchased-list',\n",
    " 'has_been_added_to_cart-list']"
   ]
  },
  {
   "cell_type": "code",
   "execution_count": 27,
   "metadata": {},
   "outputs": [],
   "source": [
    "groupby_only_product_list = groupby_only_product['product_sku_hash_list']"
   ]
  },
  {
   "cell_type": "code",
   "execution_count": 28,
   "metadata": {},
   "outputs": [],
   "source": [
    "groupby_product_url_list = groupby_product_url['product_url_hash_list']"
   ]
  },
  {
   "cell_type": "code",
   "execution_count": 29,
   "metadata": {},
   "outputs": [],
   "source": [
    "SESSIONS_MAX_LENGTH = 20"
   ]
  },
  {
   "cell_type": "code",
   "execution_count": 30,
   "metadata": {},
   "outputs": [],
   "source": [
    "groupby_other_features_list_trim = groupby_other_features_list >> nvt.ops.ListSlice(0,SESSIONS_MAX_LENGTH) >> nvt.ops.Rename(postfix = '_seq') \n",
    "groupby_only_product_list_trim = groupby_only_product_list >> nvt.ops.ListSlice(0,SESSIONS_MAX_LENGTH) >> nvt.ops.Rename(postfix = '_seq')\n",
    "groupby_product_url_list_trim = groupby_product_url_list >> nvt.ops.ListSlice(0,SESSIONS_MAX_LENGTH) >> nvt.ops.Rename(postfix = '_seq')\n"
   ]
  },
  {
   "cell_type": "code",
   "execution_count": 31,
   "metadata": {},
   "outputs": [
    {
     "data": {
      "text/plain": [
       "<ColumnGroup Rename output>"
      ]
     },
     "execution_count": 31,
     "metadata": {},
     "output_type": "execute_result"
    }
   ],
   "source": [
    "groupby_other_features_list_trim"
   ]
  },
  {
   "cell_type": "markdown",
   "metadata": {},
   "source": [
    "### Three workflows "
   ]
  },
  {
   "cell_type": "markdown",
   "metadata": {},
   "source": [
    "- workflow 1 : group other features that user interactions "
   ]
  },
  {
   "cell_type": "code",
   "execution_count": 32,
   "metadata": {},
   "outputs": [],
   "source": [
    "remaining_columns = [x for x in groupby_other_features.columns if x!= 'timestamp-first']\n",
    "day_index = ((groupby_other_features - remaining_columns)  >> \n",
    "    nvt.ops.LambdaOp(lambda col: (col.max() - col).dt.days + 1) >> \n",
    "    nvt.ops.Rename(f = lambda col: \"day_index\")\n",
    ")              "
   ]
  },
  {
   "cell_type": "code",
   "execution_count": 33,
   "metadata": {},
   "outputs": [],
   "source": [
    "selected_features = groupby_other_features['ts-first', 'ts-last', 'is_search-last', 'session_id_hash', 'timestamp-first'] + groupby_other_features_list_trim + day_index"
   ]
  },
  {
   "cell_type": "code",
   "execution_count": 34,
   "metadata": {},
   "outputs": [
    {
     "name": "stderr",
     "output_type": "stream",
     "text": [
      "/root/.local/lib/python3.8/site-packages/numba-0.54.0rc2-py3.8-linux-x86_64.egg/numba/cuda/compiler.py:865: NumbaPerformanceWarning: \u001b[1mGrid size (1) < 2 * SM count (144) will likely result in GPU under utilization due to low occupancy.\u001b[0m\n",
      "  warn(NumbaPerformanceWarning(msg))\n",
      "/root/.local/lib/python3.8/site-packages/numba-0.54.0rc2-py3.8-linux-x86_64.egg/numba/cuda/compiler.py:865: NumbaPerformanceWarning: \u001b[1mGrid size (1) < 2 * SM count (144) will likely result in GPU under utilization due to low occupancy.\u001b[0m\n",
      "  warn(NumbaPerformanceWarning(msg))\n",
      "/root/.local/lib/python3.8/site-packages/numba-0.54.0rc2-py3.8-linux-x86_64.egg/numba/cuda/compiler.py:865: NumbaPerformanceWarning: \u001b[1mGrid size (1) < 2 * SM count (144) will likely result in GPU under utilization due to low occupancy.\u001b[0m\n",
      "  warn(NumbaPerformanceWarning(msg))\n"
     ]
    },
    {
     "data": {
      "text/plain": [
       "4934725"
      ]
     },
     "execution_count": 34,
     "metadata": {},
     "output_type": "execute_result"
    }
   ],
   "source": [
    "workflow = nvt.Workflow(selected_features)\n",
    "dataset = nvt.Dataset(interactions_merged_df, cpu=False)\n",
    "workflow.fit(dataset)\n",
    "new_gdf_other = workflow.transform(dataset).to_ddf().compute()\n",
    "#new_gdf_other = dataset\n",
    "len(new_gdf_other)"
   ]
  },
  {
   "cell_type": "code",
   "execution_count": 35,
   "metadata": {},
   "outputs": [],
   "source": [
    "#workflow = nvt.Workflow(selected_features)"
   ]
  },
  {
   "cell_type": "code",
   "execution_count": 36,
   "metadata": {},
   "outputs": [],
   "source": [
    "#dataset = nvt.Dataset(interactions_merged_df, cpu=False)"
   ]
  },
  {
   "cell_type": "code",
   "execution_count": 37,
   "metadata": {},
   "outputs": [],
   "source": [
    "#workflow.fit(dataset)"
   ]
  },
  {
   "cell_type": "code",
   "execution_count": 38,
   "metadata": {},
   "outputs": [],
   "source": [
    "#workflow = nvt.Workflow(groupby_other_features + day_index)\n",
    "#dataset = nvt.Dataset(interactions_merged_df, cpu=False)\n",
    "#workflow.fit(dataset)\n",
    "#new_gdf_other = workflow.transform(dataset).to_ddf().compute()\n",
    "#new_gdf_other = dataset\n",
    "#len(new_gdf_other)"
   ]
  },
  {
   "cell_type": "code",
   "execution_count": 39,
   "metadata": {},
   "outputs": [],
   "source": [
    "#workflow = nvt.Workflow(selected_features)\n",
    "#dataset = nvt.Dataset(interactions_merged_df, cpu=False)\n",
    "#workflow.fit(dataset)"
   ]
  },
  {
   "cell_type": "code",
   "execution_count": 40,
   "metadata": {},
   "outputs": [],
   "source": [
    "#workflow = nvt.Workflow(groupby_other_features + day_index)\n",
    "#dataset = nvt.Dataset(interactions_merged_df, cpu=False)\n",
    "#workflow.fit(dataset)"
   ]
  },
  {
   "cell_type": "code",
   "execution_count": 41,
   "metadata": {},
   "outputs": [
    {
     "name": "stdout",
     "output_type": "stream",
     "text": [
      "Mon Dec  6 14:04:32 2021       \n",
      "+-----------------------------------------------------------------------------+\n",
      "| NVIDIA-SMI 470.82.01    Driver Version: 470.82.01    CUDA Version: 11.4     |\n",
      "|-------------------------------+----------------------+----------------------+\n",
      "| GPU  Name        Persistence-M| Bus-Id        Disp.A | Volatile Uncorr. ECC |\n",
      "| Fan  Temp  Perf  Pwr:Usage/Cap|         Memory-Usage | GPU-Util  Compute M. |\n",
      "|                               |                      |               MIG M. |\n",
      "|===============================+======================+======================|\n",
      "|   0  Quadro RTX 6000     On   | 00000000:AF:00.0 Off |                  Off |\n",
      "| 33%   47C    P8    20W / 260W |   6334MiB / 24220MiB |      0%      Default |\n",
      "|                               |                      |                  N/A |\n",
      "+-------------------------------+----------------------+----------------------+\n",
      "                                                                               \n",
      "+-----------------------------------------------------------------------------+\n",
      "| Processes:                                                                  |\n",
      "|  GPU   GI   CI        PID   Type   Process name                  GPU Memory |\n",
      "|        ID   ID                                                   Usage      |\n",
      "|=============================================================================|\n",
      "+-----------------------------------------------------------------------------+\n"
     ]
    }
   ],
   "source": [
    "!nvidia-smi"
   ]
  },
  {
   "cell_type": "code",
   "execution_count": 42,
   "metadata": {},
   "outputs": [
    {
     "data": {
      "text/html": [
       "<div>\n",
       "<style scoped>\n",
       "    .dataframe tbody tr th:only-of-type {\n",
       "        vertical-align: middle;\n",
       "    }\n",
       "\n",
       "    .dataframe tbody tr th {\n",
       "        vertical-align: top;\n",
       "    }\n",
       "\n",
       "    .dataframe thead th {\n",
       "        text-align: right;\n",
       "    }\n",
       "</style>\n",
       "<table border=\"1\" class=\"dataframe\">\n",
       "  <thead>\n",
       "    <tr style=\"text-align: right;\">\n",
       "      <th></th>\n",
       "      <th>ts-first</th>\n",
       "      <th>ts-last</th>\n",
       "      <th>is_search-last</th>\n",
       "      <th>session_id_hash</th>\n",
       "      <th>timestamp-first</th>\n",
       "      <th>timestamp_hour-list_seq</th>\n",
       "      <th>price_bucket-list_seq</th>\n",
       "      <th>main_category-list_seq</th>\n",
       "      <th>timestamp_day-list_seq</th>\n",
       "      <th>has_been_detailed-list_seq</th>\n",
       "      <th>...</th>\n",
       "      <th>nb_interactions-list_seq</th>\n",
       "      <th>mean_price_hierarchy-list_seq</th>\n",
       "      <th>timestamp_wd_sin-list_seq</th>\n",
       "      <th>timestamp_wd-list_seq</th>\n",
       "      <th>event_type-list_seq</th>\n",
       "      <th>category_hash-list_seq</th>\n",
       "      <th>ts-list_seq</th>\n",
       "      <th>has_been_purchased-list_seq</th>\n",
       "      <th>has_been_added_to_cart-list_seq</th>\n",
       "      <th>day_index</th>\n",
       "    </tr>\n",
       "  </thead>\n",
       "  <tbody>\n",
       "    <tr>\n",
       "      <th>0</th>\n",
       "      <td>1549828</td>\n",
       "      <td>1549829</td>\n",
       "      <td>0</td>\n",
       "      <td>1</td>\n",
       "      <td>2019-02-10 20:01:39.324</td>\n",
       "      <td>[20, 20, 20, 20, 20, 20, 20, 20, 20, 20, 20, 2...</td>\n",
       "      <td>[0, 0, 0, 0, 0, 0, 0, 0, 0, 0, 0, 0, 0, 0, 0, ...</td>\n",
       "      <td>[0, 0, 0, 0, 0, 0, 0, 0, 0, 0, 0, 0, 0, 0, 0, ...</td>\n",
       "      <td>[10, 10, 10, 10, 10, 10, 10, 10, 10, 10, 10, 1...</td>\n",
       "      <td>[0, 0, 0, 0, 0, 0, 0, 0, 0, 0, 0, 0, 0, 0, 0, ...</td>\n",
       "      <td>...</td>\n",
       "      <td>[-0.17000507, -0.17000507, -0.17000507, -0.170...</td>\n",
       "      <td>[0.0483035, 0.0483035, 0.0483035, 0.0483035, 0...</td>\n",
       "      <td>[1.1285199e-06, 1.1285199e-06, 1.1285199e-06, ...</td>\n",
       "      <td>[6, 6, 6, 6, 6, 6, 6, 6, 6, 6, 6, 6, 6, 6, 6, ...</td>\n",
       "      <td>[1, 1, 1, 1, 1, 1, 1, 1, 1, 1, 1, 1, 1, 1, 1, ...</td>\n",
       "      <td>[0, 0, 0, 0, 0, 0, 0, 0, 0, 0, 0, 0, 0, 0, 0, ...</td>\n",
       "      <td>[1549828, 1549828, 1549828, 1549828, 1549828, ...</td>\n",
       "      <td>[0, 0, 0, 0, 0, 0, 0, 0, 0, 0, 0, 0, 0, 0, 0, ...</td>\n",
       "      <td>[0, 0, 0, 0, 0, 0, 0, 0, 0, 0, 0, 0, 0, 0, 0, ...</td>\n",
       "      <td>64</td>\n",
       "    </tr>\n",
       "    <tr>\n",
       "      <th>1</th>\n",
       "      <td>1547824</td>\n",
       "      <td>1547827</td>\n",
       "      <td>0</td>\n",
       "      <td>2</td>\n",
       "      <td>2019-01-18 15:14:11.071</td>\n",
       "      <td>[15, 15, 15, 15, 15, 15, 15, 15, 15, 15, 15, 1...</td>\n",
       "      <td>[0, 6, 0, 0, 0, 0, 0, 0, 0, 1, 0, 0, 0, 0, 0, ...</td>\n",
       "      <td>[0, 1, 0, 0, 0, 0, 0, 0, 0, 1, 0, 0, 0, 0, 0, ...</td>\n",
       "      <td>[18, 18, 18, 18, 18, 18, 18, 18, 18, 18, 18, 1...</td>\n",
       "      <td>[0, 1, 0, 0, 0, 0, 0, 0, 0, 1, 0, 0, 0, 0, 0, ...</td>\n",
       "      <td>...</td>\n",
       "      <td>[-0.17000507, -0.17000507, -0.17000507, -0.170...</td>\n",
       "      <td>[0.0483035, 1.7211839, 0.0483035, 0.0483035, 0...</td>\n",
       "      <td>[-0.9749281, -0.9749281, -0.9749281, -0.974928...</td>\n",
       "      <td>[4, 4, 4, 4, 4, 4, 4, 4, 4, 4, 4, 4, 4, 4, 4, ...</td>\n",
       "      <td>[1, 2, 1, 1, 1, 1, 1, 1, 1, 2, 1, 1, 1, 1, 1, ...</td>\n",
       "      <td>[0, 28, 0, 0, 0, 0, 0, 0, 0, 13, 0, 0, 0, 0, 0...</td>\n",
       "      <td>[1547824, 1547824, 1547824, 1547824, 1547824, ...</td>\n",
       "      <td>[0, 0, 0, 0, 0, 0, 0, 0, 0, 0, 0, 0, 0, 0, 0, ...</td>\n",
       "      <td>[0, 0, 0, 0, 0, 0, 0, 0, 0, 0, 0, 0, 0, 0, 0, ...</td>\n",
       "      <td>87</td>\n",
       "    </tr>\n",
       "  </tbody>\n",
       "</table>\n",
       "<p>2 rows × 29 columns</p>\n",
       "</div>"
      ],
      "text/plain": [
       "   ts-first  ts-last  is_search-last  session_id_hash         timestamp-first  \\\n",
       "0   1549828  1549829               0                1 2019-02-10 20:01:39.324   \n",
       "1   1547824  1547827               0                2 2019-01-18 15:14:11.071   \n",
       "\n",
       "                             timestamp_hour-list_seq  \\\n",
       "0  [20, 20, 20, 20, 20, 20, 20, 20, 20, 20, 20, 2...   \n",
       "1  [15, 15, 15, 15, 15, 15, 15, 15, 15, 15, 15, 1...   \n",
       "\n",
       "                               price_bucket-list_seq  \\\n",
       "0  [0, 0, 0, 0, 0, 0, 0, 0, 0, 0, 0, 0, 0, 0, 0, ...   \n",
       "1  [0, 6, 0, 0, 0, 0, 0, 0, 0, 1, 0, 0, 0, 0, 0, ...   \n",
       "\n",
       "                              main_category-list_seq  \\\n",
       "0  [0, 0, 0, 0, 0, 0, 0, 0, 0, 0, 0, 0, 0, 0, 0, ...   \n",
       "1  [0, 1, 0, 0, 0, 0, 0, 0, 0, 1, 0, 0, 0, 0, 0, ...   \n",
       "\n",
       "                              timestamp_day-list_seq  \\\n",
       "0  [10, 10, 10, 10, 10, 10, 10, 10, 10, 10, 10, 1...   \n",
       "1  [18, 18, 18, 18, 18, 18, 18, 18, 18, 18, 18, 1...   \n",
       "\n",
       "                          has_been_detailed-list_seq  ...  \\\n",
       "0  [0, 0, 0, 0, 0, 0, 0, 0, 0, 0, 0, 0, 0, 0, 0, ...  ...   \n",
       "1  [0, 1, 0, 0, 0, 0, 0, 0, 0, 1, 0, 0, 0, 0, 0, ...  ...   \n",
       "\n",
       "                            nb_interactions-list_seq  \\\n",
       "0  [-0.17000507, -0.17000507, -0.17000507, -0.170...   \n",
       "1  [-0.17000507, -0.17000507, -0.17000507, -0.170...   \n",
       "\n",
       "                       mean_price_hierarchy-list_seq  \\\n",
       "0  [0.0483035, 0.0483035, 0.0483035, 0.0483035, 0...   \n",
       "1  [0.0483035, 1.7211839, 0.0483035, 0.0483035, 0...   \n",
       "\n",
       "                           timestamp_wd_sin-list_seq  \\\n",
       "0  [1.1285199e-06, 1.1285199e-06, 1.1285199e-06, ...   \n",
       "1  [-0.9749281, -0.9749281, -0.9749281, -0.974928...   \n",
       "\n",
       "                               timestamp_wd-list_seq  \\\n",
       "0  [6, 6, 6, 6, 6, 6, 6, 6, 6, 6, 6, 6, 6, 6, 6, ...   \n",
       "1  [4, 4, 4, 4, 4, 4, 4, 4, 4, 4, 4, 4, 4, 4, 4, ...   \n",
       "\n",
       "                                 event_type-list_seq  \\\n",
       "0  [1, 1, 1, 1, 1, 1, 1, 1, 1, 1, 1, 1, 1, 1, 1, ...   \n",
       "1  [1, 2, 1, 1, 1, 1, 1, 1, 1, 2, 1, 1, 1, 1, 1, ...   \n",
       "\n",
       "                              category_hash-list_seq  \\\n",
       "0  [0, 0, 0, 0, 0, 0, 0, 0, 0, 0, 0, 0, 0, 0, 0, ...   \n",
       "1  [0, 28, 0, 0, 0, 0, 0, 0, 0, 13, 0, 0, 0, 0, 0...   \n",
       "\n",
       "                                         ts-list_seq  \\\n",
       "0  [1549828, 1549828, 1549828, 1549828, 1549828, ...   \n",
       "1  [1547824, 1547824, 1547824, 1547824, 1547824, ...   \n",
       "\n",
       "                         has_been_purchased-list_seq  \\\n",
       "0  [0, 0, 0, 0, 0, 0, 0, 0, 0, 0, 0, 0, 0, 0, 0, ...   \n",
       "1  [0, 0, 0, 0, 0, 0, 0, 0, 0, 0, 0, 0, 0, 0, 0, ...   \n",
       "\n",
       "                     has_been_added_to_cart-list_seq day_index  \n",
       "0  [0, 0, 0, 0, 0, 0, 0, 0, 0, 0, 0, 0, 0, 0, 0, ...        64  \n",
       "1  [0, 0, 0, 0, 0, 0, 0, 0, 0, 0, 0, 0, 0, 0, 0, ...        87  \n",
       "\n",
       "[2 rows x 29 columns]"
      ]
     },
     "execution_count": 42,
     "metadata": {},
     "output_type": "execute_result"
    }
   ],
   "source": [
    "new_gdf_other.head(2)"
   ]
  },
  {
   "cell_type": "code",
   "execution_count": 43,
   "metadata": {},
   "outputs": [],
   "source": [
    "# save the workflow : \n",
    "workflow.save(os.path.join(OUTPUT_DIR, \"workflow1\"))"
   ]
  },
  {
   "cell_type": "markdown",
   "metadata": {},
   "source": [
    "- workflow 2 : create the sequence of product interactions and pageviews"
   ]
  },
  {
   "cell_type": "code",
   "execution_count": 44,
   "metadata": {},
   "outputs": [
    {
     "name": "stderr",
     "output_type": "stream",
     "text": [
      "/root/.local/lib/python3.8/site-packages/numba-0.54.0rc2-py3.8-linux-x86_64.egg/numba/cuda/compiler.py:865: NumbaPerformanceWarning: \u001b[1mGrid size (1) < 2 * SM count (144) will likely result in GPU under utilization due to low occupancy.\u001b[0m\n",
      "  warn(NumbaPerformanceWarning(msg))\n"
     ]
    },
    {
     "data": {
      "text/plain": [
       "4934725"
      ]
     },
     "execution_count": 44,
     "metadata": {},
     "output_type": "execute_result"
    }
   ],
   "source": [
    "workflow = nvt.Workflow(groupby_product_url['product_url_hash_count', 'session_id_hash'] + groupby_product_url_list_trim)\n",
    "dataset = nvt.Dataset(interactions_merged_df, cpu=False)\n",
    "workflow.fit(dataset)\n",
    "new_gdf_sku_url = workflow.transform(dataset).to_ddf().compute()\n",
    "len(new_gdf_sku_url)"
   ]
  },
  {
   "cell_type": "code",
   "execution_count": 45,
   "metadata": {},
   "outputs": [
    {
     "data": {
      "text/html": [
       "<div>\n",
       "<style scoped>\n",
       "    .dataframe tbody tr th:only-of-type {\n",
       "        vertical-align: middle;\n",
       "    }\n",
       "\n",
       "    .dataframe tbody tr th {\n",
       "        vertical-align: top;\n",
       "    }\n",
       "\n",
       "    .dataframe thead th {\n",
       "        text-align: right;\n",
       "    }\n",
       "</style>\n",
       "<table border=\"1\" class=\"dataframe\">\n",
       "  <thead>\n",
       "    <tr style=\"text-align: right;\">\n",
       "      <th></th>\n",
       "      <th>product_url_hash_count</th>\n",
       "      <th>session_id_hash</th>\n",
       "      <th>product_url_hash_list_seq</th>\n",
       "    </tr>\n",
       "  </thead>\n",
       "  <tbody>\n",
       "    <tr>\n",
       "      <th>0</th>\n",
       "      <td>199</td>\n",
       "      <td>1</td>\n",
       "      <td>[117900, 251004, 267913, 457334, 192812, 28885...</td>\n",
       "    </tr>\n",
       "    <tr>\n",
       "      <th>1</th>\n",
       "      <td>194</td>\n",
       "      <td>2</td>\n",
       "      <td>[1238, 6082, 107904, 1031, 1698, 62086, 14822,...</td>\n",
       "    </tr>\n",
       "    <tr>\n",
       "      <th>2</th>\n",
       "      <td>194</td>\n",
       "      <td>3</td>\n",
       "      <td>[1961, 13130, 9931, 10762, 4366, 593, 149, 53,...</td>\n",
       "    </tr>\n",
       "    <tr>\n",
       "      <th>3</th>\n",
       "      <td>193</td>\n",
       "      <td>4</td>\n",
       "      <td>[148601, 58745, 13629, 4558, 179, 14633, 14634...</td>\n",
       "    </tr>\n",
       "    <tr>\n",
       "      <th>4</th>\n",
       "      <td>191</td>\n",
       "      <td>5</td>\n",
       "      <td>[23363, 5212, 1048, 7611, 136350, 53591, 10485...</td>\n",
       "    </tr>\n",
       "  </tbody>\n",
       "</table>\n",
       "</div>"
      ],
      "text/plain": [
       "   product_url_hash_count  session_id_hash  \\\n",
       "0                     199                1   \n",
       "1                     194                2   \n",
       "2                     194                3   \n",
       "3                     193                4   \n",
       "4                     191                5   \n",
       "\n",
       "                           product_url_hash_list_seq  \n",
       "0  [117900, 251004, 267913, 457334, 192812, 28885...  \n",
       "1  [1238, 6082, 107904, 1031, 1698, 62086, 14822,...  \n",
       "2  [1961, 13130, 9931, 10762, 4366, 593, 149, 53,...  \n",
       "3  [148601, 58745, 13629, 4558, 179, 14633, 14634...  \n",
       "4  [23363, 5212, 1048, 7611, 136350, 53591, 10485...  "
      ]
     },
     "execution_count": 45,
     "metadata": {},
     "output_type": "execute_result"
    }
   ],
   "source": [
    "new_gdf_sku_url.head()"
   ]
  },
  {
   "cell_type": "code",
   "execution_count": 46,
   "metadata": {},
   "outputs": [],
   "source": [
    "# save the workflow : \n",
    "workflow.save(os.path.join(OUTPUT_DIR, \"workflow2\"))"
   ]
  },
  {
   "cell_type": "markdown",
   "metadata": {},
   "source": [
    "- workflow 3 : create sequence with only product interactions"
   ]
  },
  {
   "cell_type": "code",
   "execution_count": 47,
   "metadata": {},
   "outputs": [
    {
     "name": "stderr",
     "output_type": "stream",
     "text": [
      "/root/.local/lib/python3.8/site-packages/numba-0.54.0rc2-py3.8-linux-x86_64.egg/numba/cuda/compiler.py:865: NumbaPerformanceWarning: \u001b[1mGrid size (1) < 2 * SM count (144) will likely result in GPU under utilization due to low occupancy.\u001b[0m\n",
      "  warn(NumbaPerformanceWarning(msg))\n"
     ]
    },
    {
     "data": {
      "text/plain": [
       "4934725"
      ]
     },
     "execution_count": 47,
     "metadata": {},
     "output_type": "execute_result"
    }
   ],
   "source": [
    "workflow = nvt.Workflow(groupby_only_product['product_sku_hash_count', 'session_id_hash'] + groupby_only_product_list_trim)\n",
    "dataset = nvt.Dataset(interactions_merged_df, cpu=False)\n",
    "workflow.fit(dataset)\n",
    "new_gdf_prod_only = workflow.transform(dataset).to_ddf().compute()\n",
    "len(new_gdf_prod_only)"
   ]
  },
  {
   "cell_type": "code",
   "execution_count": 48,
   "metadata": {},
   "outputs": [
    {
     "data": {
      "text/html": [
       "<div>\n",
       "<style scoped>\n",
       "    .dataframe tbody tr th:only-of-type {\n",
       "        vertical-align: middle;\n",
       "    }\n",
       "\n",
       "    .dataframe tbody tr th {\n",
       "        vertical-align: top;\n",
       "    }\n",
       "\n",
       "    .dataframe thead th {\n",
       "        text-align: right;\n",
       "    }\n",
       "</style>\n",
       "<table border=\"1\" class=\"dataframe\">\n",
       "  <thead>\n",
       "    <tr style=\"text-align: right;\">\n",
       "      <th></th>\n",
       "      <th>product_sku_hash_count</th>\n",
       "      <th>session_id_hash</th>\n",
       "      <th>product_sku_hash_list_seq</th>\n",
       "    </tr>\n",
       "  </thead>\n",
       "  <tbody>\n",
       "    <tr>\n",
       "      <th>0</th>\n",
       "      <td>199</td>\n",
       "      <td>1</td>\n",
       "      <td>[1, 1, 1, 1, 1, 1, 1, 1, 1, 1, 1, 1, 1, 1, 1, ...</td>\n",
       "    </tr>\n",
       "    <tr>\n",
       "      <th>1</th>\n",
       "      <td>194</td>\n",
       "      <td>2</td>\n",
       "      <td>[1, 2996, 1, 1, 1, 1, 1, 1, 1, 4148, 1, 1, 1, ...</td>\n",
       "    </tr>\n",
       "    <tr>\n",
       "      <th>2</th>\n",
       "      <td>194</td>\n",
       "      <td>3</td>\n",
       "      <td>[1, 1, 1, 1, 2153, 1, 1, 1, 1, 1, 1, 1, 1, 1, ...</td>\n",
       "    </tr>\n",
       "    <tr>\n",
       "      <th>3</th>\n",
       "      <td>193</td>\n",
       "      <td>4</td>\n",
       "      <td>[1, 1, 1, 1, 1, 1, 1, 1, 1, 1, 1, 1, 1, 1, 1, ...</td>\n",
       "    </tr>\n",
       "    <tr>\n",
       "      <th>4</th>\n",
       "      <td>191</td>\n",
       "      <td>5</td>\n",
       "      <td>[1, 1, 1, 1, 1, 1, 1, 1, 1, 1, 1, 1, 1, 1, 1, ...</td>\n",
       "    </tr>\n",
       "  </tbody>\n",
       "</table>\n",
       "</div>"
      ],
      "text/plain": [
       "   product_sku_hash_count  session_id_hash  \\\n",
       "0                     199                1   \n",
       "1                     194                2   \n",
       "2                     194                3   \n",
       "3                     193                4   \n",
       "4                     191                5   \n",
       "\n",
       "                           product_sku_hash_list_seq  \n",
       "0  [1, 1, 1, 1, 1, 1, 1, 1, 1, 1, 1, 1, 1, 1, 1, ...  \n",
       "1  [1, 2996, 1, 1, 1, 1, 1, 1, 1, 4148, 1, 1, 1, ...  \n",
       "2  [1, 1, 1, 1, 2153, 1, 1, 1, 1, 1, 1, 1, 1, 1, ...  \n",
       "3  [1, 1, 1, 1, 1, 1, 1, 1, 1, 1, 1, 1, 1, 1, 1, ...  \n",
       "4  [1, 1, 1, 1, 1, 1, 1, 1, 1, 1, 1, 1, 1, 1, 1, ...  "
      ]
     },
     "execution_count": 48,
     "metadata": {},
     "output_type": "execute_result"
    }
   ],
   "source": [
    "new_gdf_prod_only.head()"
   ]
  },
  {
   "cell_type": "code",
   "execution_count": 49,
   "metadata": {},
   "outputs": [],
   "source": [
    "# save the workflow : \n",
    "workflow.save(os.path.join(OUTPUT_DIR, \"workflow3\"))"
   ]
  },
  {
   "cell_type": "markdown",
   "metadata": {},
   "source": [
    "### Merge the three resulting frames "
   ]
  },
  {
   "cell_type": "code",
   "execution_count": 50,
   "metadata": {},
   "outputs": [],
   "source": [
    "sessions_gdf = new_gdf_sku_url.merge(new_gdf_other, on='session_id_hash',  how='inner')"
   ]
  },
  {
   "cell_type": "code",
   "execution_count": 51,
   "metadata": {},
   "outputs": [],
   "source": [
    "sessions_gdf = sessions_gdf.merge(new_gdf_prod_only,  on='session_id_hash',  how='left' )"
   ]
  },
  {
   "cell_type": "code",
   "execution_count": 52,
   "metadata": {},
   "outputs": [
    {
     "data": {
      "text/plain": [
       "Index(['product_url_hash_count', 'session_id_hash',\n",
       "       'product_url_hash_list_seq', 'ts-first', 'ts-last', 'is_search-last',\n",
       "       'timestamp-first', 'timestamp_hour-list_seq', 'price_bucket-list_seq',\n",
       "       'main_category-list_seq', 'timestamp_day-list_seq',\n",
       "       'has_been_detailed-list_seq', 'timestamp_hour_sin-list_seq',\n",
       "       'timestamp_wd_cos-list_seq', 'product_action_filled-list_seq',\n",
       "       'timestamp_age_days_norm-list_seq', 'timestamp_hour_cos-list_seq',\n",
       "       'has_been_removed_from_cart-list_seq', 'mean_price_main-list_seq',\n",
       "       'timestamp_age_days-list_seq', 'has_been_clicked-list_seq',\n",
       "       'nb_interactions-list_seq', 'mean_price_hierarchy-list_seq',\n",
       "       'timestamp_wd_sin-list_seq', 'timestamp_wd-list_seq',\n",
       "       'event_type-list_seq', 'category_hash-list_seq', 'ts-list_seq',\n",
       "       'has_been_purchased-list_seq', 'has_been_added_to_cart-list_seq',\n",
       "       'day_index', 'product_sku_hash_count', 'product_sku_hash_list_seq'],\n",
       "      dtype='object')"
      ]
     },
     "execution_count": 52,
     "metadata": {},
     "output_type": "execute_result"
    }
   ],
   "source": [
    "sessions_gdf.columns"
   ]
  },
  {
   "cell_type": "code",
   "execution_count": 53,
   "metadata": {},
   "outputs": [
    {
     "data": {
      "text/html": [
       "<div>\n",
       "<style scoped>\n",
       "    .dataframe tbody tr th:only-of-type {\n",
       "        vertical-align: middle;\n",
       "    }\n",
       "\n",
       "    .dataframe tbody tr th {\n",
       "        vertical-align: top;\n",
       "    }\n",
       "\n",
       "    .dataframe thead th {\n",
       "        text-align: right;\n",
       "    }\n",
       "</style>\n",
       "<table border=\"1\" class=\"dataframe\">\n",
       "  <thead>\n",
       "    <tr style=\"text-align: right;\">\n",
       "      <th></th>\n",
       "      <th>session_id_hash</th>\n",
       "      <th>day_index</th>\n",
       "      <th>product_sku_hash_count</th>\n",
       "      <th>product_sku_hash_list_seq</th>\n",
       "      <th>product_url_hash_count</th>\n",
       "      <th>product_url_hash_list_seq</th>\n",
       "      <th>has_been_removed_from_cart-list_seq</th>\n",
       "      <th>has_been_added_to_cart-list_seq</th>\n",
       "      <th>has_been_purchased-list_seq</th>\n",
       "      <th>has_been_detailed-list_seq</th>\n",
       "      <th>...</th>\n",
       "      <th>mean_price_main-list_seq</th>\n",
       "      <th>ts-first</th>\n",
       "      <th>ts-last</th>\n",
       "      <th>ts-list_seq</th>\n",
       "      <th>timestamp_hour_cos-list_seq</th>\n",
       "      <th>timestamp_hour_sin-list_seq</th>\n",
       "      <th>timestamp_wd_sin-list_seq</th>\n",
       "      <th>timestamp_wd_cos-list_seq</th>\n",
       "      <th>timestamp_age_days-list_seq</th>\n",
       "      <th>timestamp_age_days_norm-list_seq</th>\n",
       "    </tr>\n",
       "  </thead>\n",
       "  <tbody>\n",
       "    <tr>\n",
       "      <th>0</th>\n",
       "      <td>1697</td>\n",
       "      <td>63</td>\n",
       "      <td>83</td>\n",
       "      <td>[1, 1, 2257, 1307, 3506, 589, 1, 1, 1934, 348,...</td>\n",
       "      <td>83</td>\n",
       "      <td>[12238, 5616, 4571, 2751, 7099, 1298, 1086, 38...</td>\n",
       "      <td>[0, 0, 0, 0, 0, 0, 0, 0, 0, 0, 0, 0, 1, 0, 0, ...</td>\n",
       "      <td>[0, 0, 0, 1, 0, 1, 0, 0, 1, 0, 1, 0, 0, 1, 1, ...</td>\n",
       "      <td>[0, 0, 0, 0, 0, 0, 0, 0, 0, 0, 0, 0, 0, 0, 0, ...</td>\n",
       "      <td>[0, 0, 1, 1, 1, 1, 0, 0, 1, 1, 1, 0, 0, 1, 1, ...</td>\n",
       "      <td>...</td>\n",
       "      <td>[0.04515953, 0.04515953, -2.4533634, -2.453363...</td>\n",
       "      <td>1549893</td>\n",
       "      <td>1549895</td>\n",
       "      <td>[1549893, 1549893, 1549893, 1549893, 1549893, ...</td>\n",
       "      <td>[-0.8660252, -0.96592575, -0.96592575, -0.8660...</td>\n",
       "      <td>[-0.50000036, -0.2588193, -0.2588193, -0.50000...</td>\n",
       "      <td>[0.7818321, 0.7818321, 0.7818321, 0.7818321, 0...</td>\n",
       "      <td>[0.6234891, 0.6234891, 0.6234891, 0.6234891, 0...</td>\n",
       "      <td>[27, 26, 26, 12, 27, 27, 27, 27, 26, 27, 27, 2...</td>\n",
       "      <td>[0.21455763, 0.1829394, 0.1829394, -0.45249838...</td>\n",
       "    </tr>\n",
       "    <tr>\n",
       "      <th>1</th>\n",
       "      <td>1698</td>\n",
       "      <td>86</td>\n",
       "      <td>83</td>\n",
       "      <td>[17927, 5913, 1, 17927, 13412, 9803, 13412, 1,...</td>\n",
       "      <td>83</td>\n",
       "      <td>[40865, 12114, 19703, 40865, 29120, 20705, 291...</td>\n",
       "      <td>[0, 0, 0, 0, 0, 0, 0, 0, 0, 0, 0, 0, 0, 0, 0, ...</td>\n",
       "      <td>[1, 0, 0, 1, 1, 0, 1, 0, 1, 1, 0, 0, 0, 0, 0, ...</td>\n",
       "      <td>[0, 0, 0, 0, 0, 0, 0, 0, 0, 0, 0, 0, 0, 0, 0, ...</td>\n",
       "      <td>[1, 1, 0, 1, 1, 1, 1, 0, 1, 1, 0, 0, 0, 0, 0, ...</td>\n",
       "      <td>...</td>\n",
       "      <td>[0.04515953, 0.04515953, 0.04515953, 0.0451595...</td>\n",
       "      <td>1547917</td>\n",
       "      <td>1547921</td>\n",
       "      <td>[1547917, 1547917, 1547917, 1547917, 1547917, ...</td>\n",
       "      <td>[-0.25881854, -0.25881854, -0.25881854, -0.258...</td>\n",
       "      <td>[-0.965926, -0.965926, -0.965926, -0.965926, -...</td>\n",
       "      <td>[-0.781831, -0.781831, -0.781831, -0.781831, -...</td>\n",
       "      <td>[0.6234904, 0.6234904, 0.6234904, 0.6234904, 0...</td>\n",
       "      <td>[1, 3, 3, 1, 2, 3, 2, 3, 4, 4, 3, 4, 4, 4, 2, ...</td>\n",
       "      <td>[-2.0798535, -1.4772274, -1.4772274, -2.079853...</td>\n",
       "    </tr>\n",
       "    <tr>\n",
       "      <th>2</th>\n",
       "      <td>1699</td>\n",
       "      <td>72</td>\n",
       "      <td>83</td>\n",
       "      <td>[1, 5520, 1, 6939, 1, 1, 1, 1548, 4420, 1, 942...</td>\n",
       "      <td>83</td>\n",
       "      <td>[23, 11282, 537, 14259, 1, 4558, 14349, 3222, ...</td>\n",
       "      <td>[0, 0, 0, 0, 0, 0, 0, 0, 0, 0, 0, 0, 0, 0, 0, ...</td>\n",
       "      <td>[0, 1, 0, 0, 0, 0, 0, 1, 0, 0, 0, 0, 0, 0, 0, ...</td>\n",
       "      <td>[0, 0, 0, 0, 0, 0, 0, 0, 0, 0, 0, 0, 0, 0, 0, ...</td>\n",
       "      <td>[0, 1, 0, 1, 0, 0, 0, 1, 0, 0, 1, 0, 0, 0, 0, ...</td>\n",
       "      <td>...</td>\n",
       "      <td>[0.04515953, 2.1147482, 0.04515953, 0.04515953...</td>\n",
       "      <td>1549158</td>\n",
       "      <td>1549160</td>\n",
       "      <td>[1549158, 1549158, 1549158, 1549158, 1549158, ...</td>\n",
       "      <td>[0.96592575, 0.96592575, 0.96592575, 0.9659257...</td>\n",
       "      <td>[0.25881928, 0.25881928, 0.25881928, 0.2588192...</td>\n",
       "      <td>[1.1285199e-06, 1.1285199e-06, 1.1285199e-06, ...</td>\n",
       "      <td>[1.0, 1.0, 1.0, 1.0, 1.0, 1.0, 1.0, 1.0, 1.0, ...</td>\n",
       "      <td>[18, 18, 18, 18, 18, 18, 18, 18, 18, 18, 17, 1...</td>\n",
       "      <td>[-0.12256797, -0.12256797, -0.12256797, -0.122...</td>\n",
       "    </tr>\n",
       "    <tr>\n",
       "      <th>3</th>\n",
       "      <td>1700</td>\n",
       "      <td>86</td>\n",
       "      <td>83</td>\n",
       "      <td>[1, 10584, 7447, 1, 1, 7788, 1, 1, 7000, 8098,...</td>\n",
       "      <td>83</td>\n",
       "      <td>[3, 22468, 15377, 453058, 1, 16149, 450590, 14...</td>\n",
       "      <td>[0, 0, 0, 0, 0, 0, 0, 0, 0, 0, 0, 0, 0, 0, 0, ...</td>\n",
       "      <td>[0, 0, 0, 0, 0, 0, 0, 0, 1, 0, 1, 0, 0, 0, 1, ...</td>\n",
       "      <td>[0, 0, 0, 0, 0, 0, 0, 0, 0, 0, 0, 0, 0, 0, 0, ...</td>\n",
       "      <td>[0, 1, 1, 0, 0, 1, 0, 0, 1, 1, 1, 0, 0, 0, 1, ...</td>\n",
       "      <td>...</td>\n",
       "      <td>[0.04515953, -2.4533634, -2.4533634, 0.0451595...</td>\n",
       "      <td>1547931</td>\n",
       "      <td>1547936</td>\n",
       "      <td>[1547931, 1547932, 1547932, 1547932, 1547932, ...</td>\n",
       "      <td>[0.707107, 0.707107, 0.707107, 0.707107, 0.707...</td>\n",
       "      <td>[-0.70710653, -0.70710653, -0.70710653, -0.707...</td>\n",
       "      <td>[-0.781831, -0.781831, -0.781831, -0.781831, -...</td>\n",
       "      <td>[0.6234904, 0.6234904, 0.6234904, 0.6234904, 0...</td>\n",
       "      <td>[4, 2, 4, 0, 4, 3, 0, 4, 4, 4, 4, 0, 0, 0, 3, ...</td>\n",
       "      <td>[-1.2832252, -1.7273399, -1.2832252, -2.682479...</td>\n",
       "    </tr>\n",
       "    <tr>\n",
       "      <th>4</th>\n",
       "      <td>1701</td>\n",
       "      <td>10</td>\n",
       "      <td>83</td>\n",
       "      <td>[1, 436, 1, 1, 1, 107, 1, 1, 1, 1, 1, 359, 433...</td>\n",
       "      <td>83</td>\n",
       "      <td>[10, 1021, 139143, 87499, 66322, 356, 112548, ...</td>\n",
       "      <td>[0, 0, 0, 0, 0, 0, 0, 0, 0, 0, 0, 0, 0, 0, 0, ...</td>\n",
       "      <td>[0, 0, 0, 0, 0, 0, 0, 0, 0, 0, 0, 0, 0, 0, 0, ...</td>\n",
       "      <td>[0, 0, 0, 0, 0, 0, 0, 0, 0, 0, 0, 0, 0, 0, 0, ...</td>\n",
       "      <td>[0, 1, 0, 0, 0, 1, 0, 0, 0, 0, 0, 1, 1, 0, 0, ...</td>\n",
       "      <td>...</td>\n",
       "      <td>[0.04515953, 0.04515953, 0.04515953, 0.0451595...</td>\n",
       "      <td>1554484</td>\n",
       "      <td>1554487</td>\n",
       "      <td>[1554484, 1554484, 1554484, 1554484, 1554484, ...</td>\n",
       "      <td>[-0.25881854, -0.25881854, -0.25881854, -0.258...</td>\n",
       "      <td>[-0.965926, -0.965926, -0.965926, -0.965926, -...</td>\n",
       "      <td>[-0.9749281, -0.9749281, -0.9749281, -0.974928...</td>\n",
       "      <td>[-0.22252008, -0.22252008, -0.22252008, -0.222...</td>\n",
       "      <td>[80, 79, 17, 17, 17, 80, 10, 17, 80, 0, 80, 80...</td>\n",
       "      <td>[1.138079, 1.1272788, -0.16957423, -0.16957423...</td>\n",
       "    </tr>\n",
       "  </tbody>\n",
       "</table>\n",
       "<p>5 rows × 28 columns</p>\n",
       "</div>"
      ],
      "text/plain": [
       "   session_id_hash  day_index  product_sku_hash_count  \\\n",
       "0             1697         63                      83   \n",
       "1             1698         86                      83   \n",
       "2             1699         72                      83   \n",
       "3             1700         86                      83   \n",
       "4             1701         10                      83   \n",
       "\n",
       "                           product_sku_hash_list_seq  product_url_hash_count  \\\n",
       "0  [1, 1, 2257, 1307, 3506, 589, 1, 1, 1934, 348,...                      83   \n",
       "1  [17927, 5913, 1, 17927, 13412, 9803, 13412, 1,...                      83   \n",
       "2  [1, 5520, 1, 6939, 1, 1, 1, 1548, 4420, 1, 942...                      83   \n",
       "3  [1, 10584, 7447, 1, 1, 7788, 1, 1, 7000, 8098,...                      83   \n",
       "4  [1, 436, 1, 1, 1, 107, 1, 1, 1, 1, 1, 359, 433...                      83   \n",
       "\n",
       "                           product_url_hash_list_seq  \\\n",
       "0  [12238, 5616, 4571, 2751, 7099, 1298, 1086, 38...   \n",
       "1  [40865, 12114, 19703, 40865, 29120, 20705, 291...   \n",
       "2  [23, 11282, 537, 14259, 1, 4558, 14349, 3222, ...   \n",
       "3  [3, 22468, 15377, 453058, 1, 16149, 450590, 14...   \n",
       "4  [10, 1021, 139143, 87499, 66322, 356, 112548, ...   \n",
       "\n",
       "                 has_been_removed_from_cart-list_seq  \\\n",
       "0  [0, 0, 0, 0, 0, 0, 0, 0, 0, 0, 0, 0, 1, 0, 0, ...   \n",
       "1  [0, 0, 0, 0, 0, 0, 0, 0, 0, 0, 0, 0, 0, 0, 0, ...   \n",
       "2  [0, 0, 0, 0, 0, 0, 0, 0, 0, 0, 0, 0, 0, 0, 0, ...   \n",
       "3  [0, 0, 0, 0, 0, 0, 0, 0, 0, 0, 0, 0, 0, 0, 0, ...   \n",
       "4  [0, 0, 0, 0, 0, 0, 0, 0, 0, 0, 0, 0, 0, 0, 0, ...   \n",
       "\n",
       "                     has_been_added_to_cart-list_seq  \\\n",
       "0  [0, 0, 0, 1, 0, 1, 0, 0, 1, 0, 1, 0, 0, 1, 1, ...   \n",
       "1  [1, 0, 0, 1, 1, 0, 1, 0, 1, 1, 0, 0, 0, 0, 0, ...   \n",
       "2  [0, 1, 0, 0, 0, 0, 0, 1, 0, 0, 0, 0, 0, 0, 0, ...   \n",
       "3  [0, 0, 0, 0, 0, 0, 0, 0, 1, 0, 1, 0, 0, 0, 1, ...   \n",
       "4  [0, 0, 0, 0, 0, 0, 0, 0, 0, 0, 0, 0, 0, 0, 0, ...   \n",
       "\n",
       "                         has_been_purchased-list_seq  \\\n",
       "0  [0, 0, 0, 0, 0, 0, 0, 0, 0, 0, 0, 0, 0, 0, 0, ...   \n",
       "1  [0, 0, 0, 0, 0, 0, 0, 0, 0, 0, 0, 0, 0, 0, 0, ...   \n",
       "2  [0, 0, 0, 0, 0, 0, 0, 0, 0, 0, 0, 0, 0, 0, 0, ...   \n",
       "3  [0, 0, 0, 0, 0, 0, 0, 0, 0, 0, 0, 0, 0, 0, 0, ...   \n",
       "4  [0, 0, 0, 0, 0, 0, 0, 0, 0, 0, 0, 0, 0, 0, 0, ...   \n",
       "\n",
       "                          has_been_detailed-list_seq  ...  \\\n",
       "0  [0, 0, 1, 1, 1, 1, 0, 0, 1, 1, 1, 0, 0, 1, 1, ...  ...   \n",
       "1  [1, 1, 0, 1, 1, 1, 1, 0, 1, 1, 0, 0, 0, 0, 0, ...  ...   \n",
       "2  [0, 1, 0, 1, 0, 0, 0, 1, 0, 0, 1, 0, 0, 0, 0, ...  ...   \n",
       "3  [0, 1, 1, 0, 0, 1, 0, 0, 1, 1, 1, 0, 0, 0, 1, ...  ...   \n",
       "4  [0, 1, 0, 0, 0, 1, 0, 0, 0, 0, 0, 1, 1, 0, 0, ...  ...   \n",
       "\n",
       "                            mean_price_main-list_seq ts-first  ts-last  \\\n",
       "0  [0.04515953, 0.04515953, -2.4533634, -2.453363...  1549893  1549895   \n",
       "1  [0.04515953, 0.04515953, 0.04515953, 0.0451595...  1547917  1547921   \n",
       "2  [0.04515953, 2.1147482, 0.04515953, 0.04515953...  1549158  1549160   \n",
       "3  [0.04515953, -2.4533634, -2.4533634, 0.0451595...  1547931  1547936   \n",
       "4  [0.04515953, 0.04515953, 0.04515953, 0.0451595...  1554484  1554487   \n",
       "\n",
       "                                         ts-list_seq  \\\n",
       "0  [1549893, 1549893, 1549893, 1549893, 1549893, ...   \n",
       "1  [1547917, 1547917, 1547917, 1547917, 1547917, ...   \n",
       "2  [1549158, 1549158, 1549158, 1549158, 1549158, ...   \n",
       "3  [1547931, 1547932, 1547932, 1547932, 1547932, ...   \n",
       "4  [1554484, 1554484, 1554484, 1554484, 1554484, ...   \n",
       "\n",
       "                         timestamp_hour_cos-list_seq  \\\n",
       "0  [-0.8660252, -0.96592575, -0.96592575, -0.8660...   \n",
       "1  [-0.25881854, -0.25881854, -0.25881854, -0.258...   \n",
       "2  [0.96592575, 0.96592575, 0.96592575, 0.9659257...   \n",
       "3  [0.707107, 0.707107, 0.707107, 0.707107, 0.707...   \n",
       "4  [-0.25881854, -0.25881854, -0.25881854, -0.258...   \n",
       "\n",
       "                         timestamp_hour_sin-list_seq  \\\n",
       "0  [-0.50000036, -0.2588193, -0.2588193, -0.50000...   \n",
       "1  [-0.965926, -0.965926, -0.965926, -0.965926, -...   \n",
       "2  [0.25881928, 0.25881928, 0.25881928, 0.2588192...   \n",
       "3  [-0.70710653, -0.70710653, -0.70710653, -0.707...   \n",
       "4  [-0.965926, -0.965926, -0.965926, -0.965926, -...   \n",
       "\n",
       "                           timestamp_wd_sin-list_seq  \\\n",
       "0  [0.7818321, 0.7818321, 0.7818321, 0.7818321, 0...   \n",
       "1  [-0.781831, -0.781831, -0.781831, -0.781831, -...   \n",
       "2  [1.1285199e-06, 1.1285199e-06, 1.1285199e-06, ...   \n",
       "3  [-0.781831, -0.781831, -0.781831, -0.781831, -...   \n",
       "4  [-0.9749281, -0.9749281, -0.9749281, -0.974928...   \n",
       "\n",
       "                           timestamp_wd_cos-list_seq  \\\n",
       "0  [0.6234891, 0.6234891, 0.6234891, 0.6234891, 0...   \n",
       "1  [0.6234904, 0.6234904, 0.6234904, 0.6234904, 0...   \n",
       "2  [1.0, 1.0, 1.0, 1.0, 1.0, 1.0, 1.0, 1.0, 1.0, ...   \n",
       "3  [0.6234904, 0.6234904, 0.6234904, 0.6234904, 0...   \n",
       "4  [-0.22252008, -0.22252008, -0.22252008, -0.222...   \n",
       "\n",
       "                         timestamp_age_days-list_seq  \\\n",
       "0  [27, 26, 26, 12, 27, 27, 27, 27, 26, 27, 27, 2...   \n",
       "1  [1, 3, 3, 1, 2, 3, 2, 3, 4, 4, 3, 4, 4, 4, 2, ...   \n",
       "2  [18, 18, 18, 18, 18, 18, 18, 18, 18, 18, 17, 1...   \n",
       "3  [4, 2, 4, 0, 4, 3, 0, 4, 4, 4, 4, 0, 0, 0, 3, ...   \n",
       "4  [80, 79, 17, 17, 17, 80, 10, 17, 80, 0, 80, 80...   \n",
       "\n",
       "                    timestamp_age_days_norm-list_seq  \n",
       "0  [0.21455763, 0.1829394, 0.1829394, -0.45249838...  \n",
       "1  [-2.0798535, -1.4772274, -1.4772274, -2.079853...  \n",
       "2  [-0.12256797, -0.12256797, -0.12256797, -0.122...  \n",
       "3  [-1.2832252, -1.7273399, -1.2832252, -2.682479...  \n",
       "4  [1.138079, 1.1272788, -0.16957423, -0.16957423...  \n",
       "\n",
       "[5 rows x 28 columns]"
      ]
     },
     "execution_count": 53,
     "metadata": {},
     "output_type": "execute_result"
    }
   ],
   "source": [
    "SELECTED_COLS =[ 'session_id_hash', 'day_index', 'product_sku_hash_count', 'product_sku_hash_list_seq',\n",
    "                 'product_url_hash_count', 'product_url_hash_list_seq',\n",
    "                 'has_been_removed_from_cart-list_seq', 'has_been_added_to_cart-list_seq',\n",
    "                 'has_been_purchased-list_seq', 'has_been_detailed-list_seq', 'has_been_clicked-list_seq',\n",
    "                 'event_type-list_seq', 'product_action_filled-list_seq',   'nb_interactions-list_seq',\n",
    "                 'category_hash-list_seq', 'main_category-list_seq',\n",
    "                 'price_bucket-list_seq', 'mean_price_hierarchy-list_seq',  'mean_price_main-list_seq',\n",
    "                 'ts-first', 'ts-last',  'ts-list_seq', 'day_index',\n",
    "                 'timestamp_hour_cos-list_seq', 'timestamp_hour_sin-list_seq', 'timestamp_wd_sin-list_seq', 'timestamp_wd_cos-list_seq',\n",
    "                 'timestamp_age_days-list_seq', 'timestamp_age_days_norm-list_seq']\n",
    "sessions_gdf = sessions_gdf[SELECTED_COLS]\n",
    "sessions_gdf.head()"
   ]
  },
  {
   "cell_type": "code",
   "execution_count": 54,
   "metadata": {},
   "outputs": [],
   "source": [
    "#SELECTED_COLS =[ 'session_id_hash', 'day_index', 'product_sku_hash_count', 'product_sku_hash_list',\n",
    "                 #'product_url_hash_count', 'product_url_hash_list',\n",
    "                 #'has_been_removed_from_cart-list', 'has_been_added_to_cart-list',\n",
    "                 #'has_been_purchased-list', 'has_been_detailed-list', 'has_been_clicked-list',\n",
    "                 #'event_type-list', 'product_action_filled-list',  'nb_interactions-list',\n",
    "                 #'category_hash-list', 'main_category-list',\n",
    "                 #'price_bucket-list', 'mean_price_hierarchy-list', 'mean_price_main-list',\n",
    "                 #'ts-first', 'ts-last',  'ts-list', 'day_index',\n",
    "                 #'timestamp_hour_cos-list', 'timestamp_hour_sin-list', 'timestamp_wd_sin-list', 'timestamp_wd_cos-list',\n",
    "                 #'timestamp_age_days-list', 'timestamp_age_days_norm-list']\n",
    "#sessions_gdf = sessions_gdf[SELECTED_COLS]\n",
    "#sessions_gdf.head()"
   ]
  },
  {
   "cell_type": "markdown",
   "metadata": {},
   "source": [
    "- check day data "
   ]
  },
  {
   "cell_type": "code",
   "execution_count": 55,
   "metadata": {},
   "outputs": [
    {
     "data": {
      "text/plain": [
       "(1, 90)"
      ]
     },
     "execution_count": 55,
     "metadata": {},
     "output_type": "execute_result"
    }
   ],
   "source": [
    "sessions_gdf['day_index'].min(), sessions_gdf['day_index'].max()"
   ]
  },
  {
   "cell_type": "code",
   "execution_count": 56,
   "metadata": {},
   "outputs": [
    {
     "data": {
      "text/plain": [
       "day_index\n",
       "1      43959\n",
       "2      44370\n",
       "3      43009\n",
       "4      48863\n",
       "5      43091\n",
       "       ...  \n",
       "86    104141\n",
       "87     93046\n",
       "88    103324\n",
       "89     84445\n",
       "90     56356\n",
       "Length: 90, dtype: int32"
      ]
     },
     "execution_count": 56,
     "metadata": {},
     "output_type": "execute_result"
    }
   ],
   "source": [
    "sessions_gdf.groupby('day_index').size().sort_index()"
   ]
  },
  {
   "cell_type": "markdown",
   "metadata": {},
   "source": [
    "### Remove sessions with one interaction in product_sku_url from train data "
   ]
  },
  {
   "cell_type": "code",
   "execution_count": 57,
   "metadata": {},
   "outputs": [
    {
     "data": {
      "text/plain": [
       "3291455"
      ]
     },
     "execution_count": 57,
     "metadata": {},
     "output_type": "execute_result"
    }
   ],
   "source": [
    "filtered_sessions = sessions_gdf.columns >> \\\n",
    "                     nvt.ops.Filter(f=lambda df: ((df[\"product_url_hash_count\"] >= MINIMUM_SESSION_LENGTH))) \n",
    "workflow = nvt.Workflow(filtered_sessions)\n",
    "dataset = nvt.Dataset(sessions_gdf, cpu=False)\n",
    "workflow.fit(dataset)\n",
    "sessions_gdf = workflow.transform(dataset).to_ddf().compute()\n",
    "len(sessions_gdf)"
   ]
  },
  {
   "cell_type": "code",
   "execution_count": 58,
   "metadata": {},
   "outputs": [],
   "source": [
    "# save the workflow : \n",
    "workflow.save(os.path.join(OUTPUT_DIR, \"workflow_etl\"))"
   ]
  },
  {
   "cell_type": "code",
   "execution_count": 59,
   "metadata": {},
   "outputs": [],
   "source": [
    "#save sessions_gdf\n",
    "#sessions_gdf.to_parquet(os.path.join(OUTPUT_DIR, \"sessions_gdf.parquet\"))\n"
   ]
  },
  {
   "cell_type": "code",
   "execution_count": 60,
   "metadata": {},
   "outputs": [],
   "source": [
    "#OUTPUT_FOLDER = \"/workspace/coveo_dataset/\"\n",
    "#OUTPUT_FOLDER = \"/recsys/sessions_by_day/\"\n",
    "#!mkdir -p $OUTPUT_FOLDER"
   ]
  },
  {
   "cell_type": "code",
   "execution_count": 61,
   "metadata": {},
   "outputs": [],
   "source": [
    "#PARTITION_COL = 'day_index'"
   ]
  },
  {
   "cell_type": "code",
   "execution_count": 62,
   "metadata": {},
   "outputs": [],
   "source": [
    "#from transformers4rec.data.preprocessing import save_time_based_splits"
   ]
  },
  {
   "cell_type": "code",
   "execution_count": 63,
   "metadata": {},
   "outputs": [],
   "source": [
    "#from nvtabular import ColumnSelector"
   ]
  },
  {
   "cell_type": "code",
   "execution_count": 64,
   "metadata": {},
   "outputs": [],
   "source": [
    "#save_time_based_splits(data=nvt.Dataset(sessions_gdf),\n",
    "                       #output_dir= OUTPUT_FOLDER,\n",
    "                       #partition_col=PARTITION_COL,\n",
    "                       #timestamp_col='session_id_hash',\n",
    "                      #)"
   ]
  },
  {
   "cell_type": "markdown",
   "metadata": {},
   "source": [
    "### Create cross-validation folds "
   ]
  },
  {
   "cell_type": "markdown",
   "metadata": {},
   "source": [
    "- Define random 5 folds column "
   ]
  },
  {
   "cell_type": "code",
   "execution_count": 65,
   "metadata": {},
   "outputs": [],
   "source": [
    "#from sklearn.model_selection import GroupKFold\n",
    "#sessions_gdf['fold'] = np.random.randint(1,6, sessions_gdf.shape[0]) "
   ]
  },
  {
   "cell_type": "code",
   "execution_count": 66,
   "metadata": {},
   "outputs": [],
   "source": [
    "#sessions_gdf.fold.value_counts()"
   ]
  },
  {
   "cell_type": "markdown",
   "metadata": {},
   "source": [
    "- Reserve the 3 last weeks for validation "
   ]
  },
  {
   "cell_type": "code",
   "execution_count": 67,
   "metadata": {},
   "outputs": [],
   "source": [
    "#sessions_gdf['is_valid'] = 0 \n",
    "#sessions_gdf.loc[((sessions_gdf['is_test-last']==0) & (sessions_gdf['day_index']<=50)), 'is_valid'] = 1"
   ]
  },
  {
   "cell_type": "code",
   "execution_count": 68,
   "metadata": {},
   "outputs": [],
   "source": [
    "#sessions_gdf.is_valid.value_counts()"
   ]
  },
  {
   "cell_type": "code",
   "execution_count": 69,
   "metadata": {},
   "outputs": [],
   "source": [
    "#sessions_gdf['is_test-last'].value_counts()"
   ]
  },
  {
   "cell_type": "code",
   "execution_count": 70,
   "metadata": {},
   "outputs": [],
   "source": [
    "#sessions_gdf.head(3)"
   ]
  },
  {
   "cell_type": "markdown",
   "metadata": {},
   "source": [
    "### Un-hash session id "
   ]
  },
  {
   "cell_type": "code",
   "execution_count": 71,
   "metadata": {},
   "outputs": [],
   "source": [
    "#!OUTPUT_DIR"
   ]
  },
  {
   "cell_type": "code",
   "execution_count": 72,
   "metadata": {},
   "outputs": [
    {
     "data": {
      "text/html": [
       "<div>\n",
       "<style scoped>\n",
       "    .dataframe tbody tr th:only-of-type {\n",
       "        vertical-align: middle;\n",
       "    }\n",
       "\n",
       "    .dataframe tbody tr th {\n",
       "        vertical-align: top;\n",
       "    }\n",
       "\n",
       "    .dataframe thead th {\n",
       "        text-align: right;\n",
       "    }\n",
       "</style>\n",
       "<table border=\"1\" class=\"dataframe\">\n",
       "  <thead>\n",
       "    <tr style=\"text-align: right;\">\n",
       "      <th></th>\n",
       "      <th>index</th>\n",
       "      <th>session_id_hash</th>\n",
       "      <th>session_id_hash_count</th>\n",
       "    </tr>\n",
       "  </thead>\n",
       "  <tbody>\n",
       "    <tr>\n",
       "      <th>0</th>\n",
       "      <td>0</td>\n",
       "      <td>&lt;NA&gt;</td>\n",
       "      <td>199</td>\n",
       "    </tr>\n",
       "    <tr>\n",
       "      <th>1</th>\n",
       "      <td>1</td>\n",
       "      <td>9161e328d6e73f38c7685628a376a5e881f359bf572f21...</td>\n",
       "      <td>194</td>\n",
       "    </tr>\n",
       "    <tr>\n",
       "      <th>2</th>\n",
       "      <td>2</td>\n",
       "      <td>5976de395f32af07016a5ec071b58eb1cb11a68ba3dba1...</td>\n",
       "      <td>194</td>\n",
       "    </tr>\n",
       "    <tr>\n",
       "      <th>3</th>\n",
       "      <td>3</td>\n",
       "      <td>de6ab39acc588afc3e81e9d118b070914510c12eb89cd4...</td>\n",
       "      <td>193</td>\n",
       "    </tr>\n",
       "    <tr>\n",
       "      <th>4</th>\n",
       "      <td>4</td>\n",
       "      <td>282e0834212dfb37ce70aa3ff1be2f9a0cef9abb62e7b2...</td>\n",
       "      <td>191</td>\n",
       "    </tr>\n",
       "    <tr>\n",
       "      <th>...</th>\n",
       "      <td>...</td>\n",
       "      <td>...</td>\n",
       "      <td>...</td>\n",
       "    </tr>\n",
       "    <tr>\n",
       "      <th>4934721</th>\n",
       "      <td>4934721</td>\n",
       "      <td>ffffd1c3b292923b8537ba92d8b14fcfab70d3ff0b5e9b...</td>\n",
       "      <td>1</td>\n",
       "    </tr>\n",
       "    <tr>\n",
       "      <th>4934722</th>\n",
       "      <td>4934722</td>\n",
       "      <td>ffffe890d31f09004d88e6857086e585625e0fdae97266...</td>\n",
       "      <td>1</td>\n",
       "    </tr>\n",
       "    <tr>\n",
       "      <th>4934723</th>\n",
       "      <td>4934723</td>\n",
       "      <td>ffffeb414c630bfb0607557bc8162611d9c356aba999dc...</td>\n",
       "      <td>1</td>\n",
       "    </tr>\n",
       "    <tr>\n",
       "      <th>4934724</th>\n",
       "      <td>4934724</td>\n",
       "      <td>ffffed918e1086333206d96f1fae684de5774866848bb3...</td>\n",
       "      <td>1</td>\n",
       "    </tr>\n",
       "    <tr>\n",
       "      <th>4934725</th>\n",
       "      <td>4934725</td>\n",
       "      <td>fffff429d16c1f43796e2c7ccad8a34f8a37b59927b5b4...</td>\n",
       "      <td>&lt;NA&gt;</td>\n",
       "    </tr>\n",
       "  </tbody>\n",
       "</table>\n",
       "<p>4934726 rows × 3 columns</p>\n",
       "</div>"
      ],
      "text/plain": [
       "           index                                    session_id_hash  \\\n",
       "0              0                                               <NA>   \n",
       "1              1  9161e328d6e73f38c7685628a376a5e881f359bf572f21...   \n",
       "2              2  5976de395f32af07016a5ec071b58eb1cb11a68ba3dba1...   \n",
       "3              3  de6ab39acc588afc3e81e9d118b070914510c12eb89cd4...   \n",
       "4              4  282e0834212dfb37ce70aa3ff1be2f9a0cef9abb62e7b2...   \n",
       "...          ...                                                ...   \n",
       "4934721  4934721  ffffd1c3b292923b8537ba92d8b14fcfab70d3ff0b5e9b...   \n",
       "4934722  4934722  ffffe890d31f09004d88e6857086e585625e0fdae97266...   \n",
       "4934723  4934723  ffffeb414c630bfb0607557bc8162611d9c356aba999dc...   \n",
       "4934724  4934724  ffffed918e1086333206d96f1fae684de5774866848bb3...   \n",
       "4934725  4934725  fffff429d16c1f43796e2c7ccad8a34f8a37b59927b5b4...   \n",
       "\n",
       "        session_id_hash_count  \n",
       "0                         199  \n",
       "1                         194  \n",
       "2                         194  \n",
       "3                         193  \n",
       "4                         191  \n",
       "...                       ...  \n",
       "4934721                     1  \n",
       "4934722                     1  \n",
       "4934723                     1  \n",
       "4934724                     1  \n",
       "4934725                  <NA>  \n",
       "\n",
       "[4934726 rows x 3 columns]"
      ]
     },
     "execution_count": 72,
     "metadata": {},
     "output_type": "execute_result"
    }
   ],
   "source": [
    "#session_map = cudf.read_parquet('./categories/unique.session_id_hash.parquet').reset_index()\n",
    "session_map = cudf.read_parquet('/recsys/coveo_task1_v42/categorify_workflow/categories/unique.session_id_hash.parquet').reset_index()\n",
    "session_map"
   ]
  },
  {
   "cell_type": "code",
   "execution_count": 73,
   "metadata": {},
   "outputs": [],
   "source": [
    "session_map = session_map.drop(['session_id_hash_count'], axis=1)"
   ]
  },
  {
   "cell_type": "code",
   "execution_count": 74,
   "metadata": {},
   "outputs": [
    {
     "data": {
      "text/html": [
       "<div>\n",
       "<style scoped>\n",
       "    .dataframe tbody tr th:only-of-type {\n",
       "        vertical-align: middle;\n",
       "    }\n",
       "\n",
       "    .dataframe tbody tr th {\n",
       "        vertical-align: top;\n",
       "    }\n",
       "\n",
       "    .dataframe thead th {\n",
       "        text-align: right;\n",
       "    }\n",
       "</style>\n",
       "<table border=\"1\" class=\"dataframe\">\n",
       "  <thead>\n",
       "    <tr style=\"text-align: right;\">\n",
       "      <th></th>\n",
       "      <th>index</th>\n",
       "      <th>session_id_hash</th>\n",
       "    </tr>\n",
       "  </thead>\n",
       "  <tbody>\n",
       "    <tr>\n",
       "      <th>0</th>\n",
       "      <td>0</td>\n",
       "      <td>&lt;NA&gt;</td>\n",
       "    </tr>\n",
       "    <tr>\n",
       "      <th>1</th>\n",
       "      <td>1</td>\n",
       "      <td>9161e328d6e73f38c7685628a376a5e881f359bf572f21...</td>\n",
       "    </tr>\n",
       "    <tr>\n",
       "      <th>2</th>\n",
       "      <td>2</td>\n",
       "      <td>5976de395f32af07016a5ec071b58eb1cb11a68ba3dba1...</td>\n",
       "    </tr>\n",
       "    <tr>\n",
       "      <th>3</th>\n",
       "      <td>3</td>\n",
       "      <td>de6ab39acc588afc3e81e9d118b070914510c12eb89cd4...</td>\n",
       "    </tr>\n",
       "    <tr>\n",
       "      <th>4</th>\n",
       "      <td>4</td>\n",
       "      <td>282e0834212dfb37ce70aa3ff1be2f9a0cef9abb62e7b2...</td>\n",
       "    </tr>\n",
       "    <tr>\n",
       "      <th>...</th>\n",
       "      <td>...</td>\n",
       "      <td>...</td>\n",
       "    </tr>\n",
       "    <tr>\n",
       "      <th>4934721</th>\n",
       "      <td>4934721</td>\n",
       "      <td>ffffd1c3b292923b8537ba92d8b14fcfab70d3ff0b5e9b...</td>\n",
       "    </tr>\n",
       "    <tr>\n",
       "      <th>4934722</th>\n",
       "      <td>4934722</td>\n",
       "      <td>ffffe890d31f09004d88e6857086e585625e0fdae97266...</td>\n",
       "    </tr>\n",
       "    <tr>\n",
       "      <th>4934723</th>\n",
       "      <td>4934723</td>\n",
       "      <td>ffffeb414c630bfb0607557bc8162611d9c356aba999dc...</td>\n",
       "    </tr>\n",
       "    <tr>\n",
       "      <th>4934724</th>\n",
       "      <td>4934724</td>\n",
       "      <td>ffffed918e1086333206d96f1fae684de5774866848bb3...</td>\n",
       "    </tr>\n",
       "    <tr>\n",
       "      <th>4934725</th>\n",
       "      <td>4934725</td>\n",
       "      <td>fffff429d16c1f43796e2c7ccad8a34f8a37b59927b5b4...</td>\n",
       "    </tr>\n",
       "  </tbody>\n",
       "</table>\n",
       "<p>4934726 rows × 2 columns</p>\n",
       "</div>"
      ],
      "text/plain": [
       "           index                                    session_id_hash\n",
       "0              0                                               <NA>\n",
       "1              1  9161e328d6e73f38c7685628a376a5e881f359bf572f21...\n",
       "2              2  5976de395f32af07016a5ec071b58eb1cb11a68ba3dba1...\n",
       "3              3  de6ab39acc588afc3e81e9d118b070914510c12eb89cd4...\n",
       "4              4  282e0834212dfb37ce70aa3ff1be2f9a0cef9abb62e7b2...\n",
       "...          ...                                                ...\n",
       "4934721  4934721  ffffd1c3b292923b8537ba92d8b14fcfab70d3ff0b5e9b...\n",
       "4934722  4934722  ffffe890d31f09004d88e6857086e585625e0fdae97266...\n",
       "4934723  4934723  ffffeb414c630bfb0607557bc8162611d9c356aba999dc...\n",
       "4934724  4934724  ffffed918e1086333206d96f1fae684de5774866848bb3...\n",
       "4934725  4934725  fffff429d16c1f43796e2c7ccad8a34f8a37b59927b5b4...\n",
       "\n",
       "[4934726 rows x 2 columns]"
      ]
     },
     "execution_count": 74,
     "metadata": {},
     "output_type": "execute_result"
    }
   ],
   "source": [
    "session_map"
   ]
  },
  {
   "cell_type": "code",
   "execution_count": 75,
   "metadata": {},
   "outputs": [],
   "source": [
    "#session_map = cudf.read_parquet('./categories/unique.session_id_hash.parquet').reset_index()\n",
    "#session_map = cudf.read_parquet('/recsys/coveo_task1_v4/categorify_workflow/categories/unique.session_id_hash.parquet').reset_index()\n",
    "#session_map"
   ]
  },
  {
   "cell_type": "code",
   "execution_count": null,
   "metadata": {},
   "outputs": [],
   "source": []
  },
  {
   "cell_type": "markdown",
   "metadata": {},
   "source": [
    "## Merge browsing session and search sessions "
   ]
  },
  {
   "cell_type": "code",
   "execution_count": 76,
   "metadata": {},
   "outputs": [],
   "source": [
    "session_map.columns = ['session_id_hash', 'original_session_id_hash']\n",
    "sessions_gdf = sessions_gdf.merge(session_map, on=['session_id_hash'], how='left')"
   ]
  },
  {
   "cell_type": "code",
   "execution_count": 77,
   "metadata": {},
   "outputs": [
    {
     "data": {
      "text/html": [
       "<div>\n",
       "<style scoped>\n",
       "    .dataframe tbody tr th:only-of-type {\n",
       "        vertical-align: middle;\n",
       "    }\n",
       "\n",
       "    .dataframe tbody tr th {\n",
       "        vertical-align: top;\n",
       "    }\n",
       "\n",
       "    .dataframe thead th {\n",
       "        text-align: right;\n",
       "    }\n",
       "</style>\n",
       "<table border=\"1\" class=\"dataframe\">\n",
       "  <thead>\n",
       "    <tr style=\"text-align: right;\">\n",
       "      <th></th>\n",
       "      <th>session_id_hash</th>\n",
       "      <th>day_index</th>\n",
       "      <th>product_sku_hash_count</th>\n",
       "      <th>product_sku_hash_list_seq</th>\n",
       "      <th>product_url_hash_count</th>\n",
       "      <th>product_url_hash_list_seq</th>\n",
       "      <th>has_been_removed_from_cart-list_seq</th>\n",
       "      <th>has_been_added_to_cart-list_seq</th>\n",
       "      <th>has_been_purchased-list_seq</th>\n",
       "      <th>has_been_detailed-list_seq</th>\n",
       "      <th>...</th>\n",
       "      <th>ts-first</th>\n",
       "      <th>ts-last</th>\n",
       "      <th>ts-list_seq</th>\n",
       "      <th>timestamp_hour_cos-list_seq</th>\n",
       "      <th>timestamp_hour_sin-list_seq</th>\n",
       "      <th>timestamp_wd_sin-list_seq</th>\n",
       "      <th>timestamp_wd_cos-list_seq</th>\n",
       "      <th>timestamp_age_days-list_seq</th>\n",
       "      <th>timestamp_age_days_norm-list_seq</th>\n",
       "      <th>original_session_id_hash</th>\n",
       "    </tr>\n",
       "  </thead>\n",
       "  <tbody>\n",
       "    <tr>\n",
       "      <th>0</th>\n",
       "      <td>27425</td>\n",
       "      <td>72</td>\n",
       "      <td>38</td>\n",
       "      <td>[7820, 1, 1777, 3327, 1, 1, 2672, 1, 1, 3592, ...</td>\n",
       "      <td>38</td>\n",
       "      <td>[16222, 380, 3691, 6737, 10047, 11236, 5442, 4...</td>\n",
       "      <td>[0, 0, 0, 0, 0, 0, 0, 0, 0, 0, 0, 0, 0, 0, 0, ...</td>\n",
       "      <td>[0, 0, 0, 0, 0, 0, 0, 0, 0, 0, 0, 0, 0, 0, 0, ...</td>\n",
       "      <td>[0, 0, 0, 0, 0, 0, 0, 0, 0, 0, 0, 0, 0, 0, 0, ...</td>\n",
       "      <td>[1, 0, 1, 1, 0, 0, 1, 0, 0, 1, 0, 0, 0, 0, 0, ...</td>\n",
       "      <td>...</td>\n",
       "      <td>1549157</td>\n",
       "      <td>1549159</td>\n",
       "      <td>[1549157, 1549157, 1549157, 1549157, 1549157, ...</td>\n",
       "      <td>[0.96592575, 0.96592575, 0.96592575, 0.9659257...</td>\n",
       "      <td>[0.25881928, 0.25881928, 0.25881928, 0.2588192...</td>\n",
       "      <td>[1.1285199e-06, 1.1285199e-06, 1.1285199e-06, ...</td>\n",
       "      <td>[1.0, 1.0, 1.0, 1.0, 1.0, 1.0, 1.0, 1.0, 1.0, ...</td>\n",
       "      <td>[17, 18, 18, 18, 18, 18, 18, 18, 18, 18, 18, 1...</td>\n",
       "      <td>[-0.16957423, -0.12256797, -0.12256797, -0.122...</td>\n",
       "      <td>2094bca39a1c76f54af040202954fdd6a9b4fb49d44c87...</td>\n",
       "    </tr>\n",
       "    <tr>\n",
       "      <th>1</th>\n",
       "      <td>27426</td>\n",
       "      <td>64</td>\n",
       "      <td>38</td>\n",
       "      <td>[1, 1674, 1, 123, 1, 1, 1, 340, 881, 1, 85, 18...</td>\n",
       "      <td>38</td>\n",
       "      <td>[32, 3486, 879, 395, 7045, 3425, 8174, 843, 18...</td>\n",
       "      <td>[0, 0, 0, 0, 0, 0, 0, 0, 0, 0, 0, 0, 0, 0, 0, ...</td>\n",
       "      <td>[0, 0, 0, 0, 0, 0, 0, 0, 0, 0, 0, 0, 0, 1, 0, ...</td>\n",
       "      <td>[0, 0, 0, 0, 0, 0, 0, 0, 0, 0, 0, 0, 0, 0, 0, ...</td>\n",
       "      <td>[0, 1, 0, 1, 0, 0, 0, 1, 1, 0, 1, 1, 1, 1, 0, ...</td>\n",
       "      <td>...</td>\n",
       "      <td>1549838</td>\n",
       "      <td>1549839</td>\n",
       "      <td>[1549838, 1549838, 1549838, 1549838, 1549838, ...</td>\n",
       "      <td>[0.8660258, 0.8660258, 0.8660258, 0.8660258, 0...</td>\n",
       "      <td>[-0.49999934, -0.49999934, -0.49999934, -0.499...</td>\n",
       "      <td>[1.1285199e-06, 1.1285199e-06, 1.1285199e-06, ...</td>\n",
       "      <td>[1.0, 1.0, 1.0, 1.0, 1.0, 1.0, 1.0, 1.0, 1.0, ...</td>\n",
       "      <td>[26, 15, 1, 1, 10, 10, 8, 26, 25, 10, 19, 26, ...</td>\n",
       "      <td>[0.1829394, -0.2719755, -2.0798535, -2.0798535...</td>\n",
       "      <td>2095ede31d5bea6078b98b38f399653b42b5053c16c953...</td>\n",
       "    </tr>\n",
       "    <tr>\n",
       "      <th>2</th>\n",
       "      <td>27427</td>\n",
       "      <td>82</td>\n",
       "      <td>38</td>\n",
       "      <td>[1, 3473, 1, 1, 1, 1, 606, 11, 1, 1, 1, 178, 1...</td>\n",
       "      <td>38</td>\n",
       "      <td>[1, 7024, 1085, 26, 1881, 10543, 1326, 95, 117...</td>\n",
       "      <td>[0, 0, 0, 0, 0, 0, 0, 0, 0, 0, 0, 0, 0, 0, 0, ...</td>\n",
       "      <td>[0, 0, 0, 0, 0, 0, 0, 1, 0, 0, 0, 0, 0, 0, 0, ...</td>\n",
       "      <td>[0, 0, 0, 0, 0, 0, 0, 0, 0, 0, 0, 0, 0, 0, 0, ...</td>\n",
       "      <td>[0, 1, 0, 0, 0, 0, 1, 1, 0, 0, 0, 1, 0, 0, 0, ...</td>\n",
       "      <td>...</td>\n",
       "      <td>1548265</td>\n",
       "      <td>1548267</td>\n",
       "      <td>[1548265, 1548266, 1548266, 1548266, 1548266, ...</td>\n",
       "      <td>[-0.25881854, -0.25881854, -0.25881854, -0.258...</td>\n",
       "      <td>[-0.965926, -0.965926, -0.965926, -0.965926, -...</td>\n",
       "      <td>[0.43388295, 0.43388295, 0.43388295, 0.4338829...</td>\n",
       "      <td>[-0.90096927, -0.90096927, -0.90096927, -0.900...</td>\n",
       "      <td>[8, 8, 8, 8, 8, 8, 8, 8, 8, 6, 0, 8, 8, 8, 8, ...</td>\n",
       "      <td>[-0.7722002, -0.7722002, -0.7722002, -0.772200...</td>\n",
       "      <td>20bf3fb9ed342eac74781a9a65afb2da0c11adf135e4de...</td>\n",
       "    </tr>\n",
       "  </tbody>\n",
       "</table>\n",
       "<p>3 rows × 29 columns</p>\n",
       "</div>"
      ],
      "text/plain": [
       "   session_id_hash  day_index  product_sku_hash_count  \\\n",
       "0            27425         72                      38   \n",
       "1            27426         64                      38   \n",
       "2            27427         82                      38   \n",
       "\n",
       "                           product_sku_hash_list_seq  product_url_hash_count  \\\n",
       "0  [7820, 1, 1777, 3327, 1, 1, 2672, 1, 1, 3592, ...                      38   \n",
       "1  [1, 1674, 1, 123, 1, 1, 1, 340, 881, 1, 85, 18...                      38   \n",
       "2  [1, 3473, 1, 1, 1, 1, 606, 11, 1, 1, 1, 178, 1...                      38   \n",
       "\n",
       "                           product_url_hash_list_seq  \\\n",
       "0  [16222, 380, 3691, 6737, 10047, 11236, 5442, 4...   \n",
       "1  [32, 3486, 879, 395, 7045, 3425, 8174, 843, 18...   \n",
       "2  [1, 7024, 1085, 26, 1881, 10543, 1326, 95, 117...   \n",
       "\n",
       "                 has_been_removed_from_cart-list_seq  \\\n",
       "0  [0, 0, 0, 0, 0, 0, 0, 0, 0, 0, 0, 0, 0, 0, 0, ...   \n",
       "1  [0, 0, 0, 0, 0, 0, 0, 0, 0, 0, 0, 0, 0, 0, 0, ...   \n",
       "2  [0, 0, 0, 0, 0, 0, 0, 0, 0, 0, 0, 0, 0, 0, 0, ...   \n",
       "\n",
       "                     has_been_added_to_cart-list_seq  \\\n",
       "0  [0, 0, 0, 0, 0, 0, 0, 0, 0, 0, 0, 0, 0, 0, 0, ...   \n",
       "1  [0, 0, 0, 0, 0, 0, 0, 0, 0, 0, 0, 0, 0, 1, 0, ...   \n",
       "2  [0, 0, 0, 0, 0, 0, 0, 1, 0, 0, 0, 0, 0, 0, 0, ...   \n",
       "\n",
       "                         has_been_purchased-list_seq  \\\n",
       "0  [0, 0, 0, 0, 0, 0, 0, 0, 0, 0, 0, 0, 0, 0, 0, ...   \n",
       "1  [0, 0, 0, 0, 0, 0, 0, 0, 0, 0, 0, 0, 0, 0, 0, ...   \n",
       "2  [0, 0, 0, 0, 0, 0, 0, 0, 0, 0, 0, 0, 0, 0, 0, ...   \n",
       "\n",
       "                          has_been_detailed-list_seq  ... ts-first  ts-last  \\\n",
       "0  [1, 0, 1, 1, 0, 0, 1, 0, 0, 1, 0, 0, 0, 0, 0, ...  ...  1549157  1549159   \n",
       "1  [0, 1, 0, 1, 0, 0, 0, 1, 1, 0, 1, 1, 1, 1, 0, ...  ...  1549838  1549839   \n",
       "2  [0, 1, 0, 0, 0, 0, 1, 1, 0, 0, 0, 1, 0, 0, 0, ...  ...  1548265  1548267   \n",
       "\n",
       "                                         ts-list_seq  \\\n",
       "0  [1549157, 1549157, 1549157, 1549157, 1549157, ...   \n",
       "1  [1549838, 1549838, 1549838, 1549838, 1549838, ...   \n",
       "2  [1548265, 1548266, 1548266, 1548266, 1548266, ...   \n",
       "\n",
       "                         timestamp_hour_cos-list_seq  \\\n",
       "0  [0.96592575, 0.96592575, 0.96592575, 0.9659257...   \n",
       "1  [0.8660258, 0.8660258, 0.8660258, 0.8660258, 0...   \n",
       "2  [-0.25881854, -0.25881854, -0.25881854, -0.258...   \n",
       "\n",
       "                         timestamp_hour_sin-list_seq  \\\n",
       "0  [0.25881928, 0.25881928, 0.25881928, 0.2588192...   \n",
       "1  [-0.49999934, -0.49999934, -0.49999934, -0.499...   \n",
       "2  [-0.965926, -0.965926, -0.965926, -0.965926, -...   \n",
       "\n",
       "                           timestamp_wd_sin-list_seq  \\\n",
       "0  [1.1285199e-06, 1.1285199e-06, 1.1285199e-06, ...   \n",
       "1  [1.1285199e-06, 1.1285199e-06, 1.1285199e-06, ...   \n",
       "2  [0.43388295, 0.43388295, 0.43388295, 0.4338829...   \n",
       "\n",
       "                           timestamp_wd_cos-list_seq  \\\n",
       "0  [1.0, 1.0, 1.0, 1.0, 1.0, 1.0, 1.0, 1.0, 1.0, ...   \n",
       "1  [1.0, 1.0, 1.0, 1.0, 1.0, 1.0, 1.0, 1.0, 1.0, ...   \n",
       "2  [-0.90096927, -0.90096927, -0.90096927, -0.900...   \n",
       "\n",
       "                         timestamp_age_days-list_seq  \\\n",
       "0  [17, 18, 18, 18, 18, 18, 18, 18, 18, 18, 18, 1...   \n",
       "1  [26, 15, 1, 1, 10, 10, 8, 26, 25, 10, 19, 26, ...   \n",
       "2  [8, 8, 8, 8, 8, 8, 8, 8, 8, 6, 0, 8, 8, 8, 8, ...   \n",
       "\n",
       "                    timestamp_age_days_norm-list_seq  \\\n",
       "0  [-0.16957423, -0.12256797, -0.12256797, -0.122...   \n",
       "1  [0.1829394, -0.2719755, -2.0798535, -2.0798535...   \n",
       "2  [-0.7722002, -0.7722002, -0.7722002, -0.772200...   \n",
       "\n",
       "                            original_session_id_hash  \n",
       "0  2094bca39a1c76f54af040202954fdd6a9b4fb49d44c87...  \n",
       "1  2095ede31d5bea6078b98b38f399653b42b5053c16c953...  \n",
       "2  20bf3fb9ed342eac74781a9a65afb2da0c11adf135e4de...  \n",
       "\n",
       "[3 rows x 29 columns]"
      ]
     },
     "execution_count": 77,
     "metadata": {},
     "output_type": "execute_result"
    }
   ],
   "source": [
    "sessions_gdf.head(3)"
   ]
  },
  {
   "cell_type": "markdown",
   "metadata": {},
   "source": [
    "### Truncate train and test sessions to last 30 elements"
   ]
  },
  {
   "cell_type": "code",
   "execution_count": 78,
   "metadata": {},
   "outputs": [],
   "source": [
    "#[x for x in sessions_gdf.columns if '_list' in x or '-list' in x ]"
   ]
  },
  {
   "cell_type": "code",
   "execution_count": 79,
   "metadata": {},
   "outputs": [],
   "source": [
    "#features_list = [x for x in sessions_gdf.columns if '_list' in x or '-list' in x ]\n",
    "#features_list"
   ]
  },
  {
   "cell_type": "code",
   "execution_count": 80,
   "metadata": {},
   "outputs": [],
   "source": [
    "#other_cols = list(set(sessions_gdf.columns).difference(set(features_list)))\n",
    "#other_cols"
   ]
  },
  {
   "cell_type": "code",
   "execution_count": 81,
   "metadata": {},
   "outputs": [],
   "source": [
    "#features_list = [x for x in sessions_gdf.columns if '_list' in x or '-list' in x ]\n",
    "#features_trim =  features_list >> nvt.ops.ListSlice(-30)\n",
    "#other_cols = list(set(sessions_gdf.columns).difference(set(features_list)))\n",
    "#workflow = nvt.Workflow(other_cols + features_trim)\n",
    "#dataset = nvt.Dataset(sessions_gdf[sessions_gdf.is_valid == 0], cpu=False)\n",
    "#workflow.fit(dataset)\n",
    "#trimed_cols = workflow.transform(dataset).to_ddf().compute()\n",
    "#len(trimed_cols)"
   ]
  },
  {
   "cell_type": "code",
   "execution_count": 82,
   "metadata": {},
   "outputs": [],
   "source": [
    "#trimed_cols.head(2)"
   ]
  },
  {
   "cell_type": "markdown",
   "metadata": {},
   "source": [
    "### Merge back with validation session"
   ]
  },
  {
   "cell_type": "code",
   "execution_count": 83,
   "metadata": {},
   "outputs": [],
   "source": [
    "#final_session_gdf = cudf.concat([sessions_gdf[sessions_gdf.is_valid !=0], trimed_cols])"
   ]
  },
  {
   "cell_type": "code",
   "execution_count": 84,
   "metadata": {},
   "outputs": [],
   "source": [
    "#final_session_gdf.head(3)"
   ]
  },
  {
   "cell_type": "code",
   "execution_count": 85,
   "metadata": {},
   "outputs": [],
   "source": [
    "#final_session_gdf.shape"
   ]
  },
  {
   "cell_type": "code",
   "execution_count": 86,
   "metadata": {},
   "outputs": [],
   "source": [
    "final_session_gdf = sessions_gdf"
   ]
  },
  {
   "cell_type": "code",
   "execution_count": 87,
   "metadata": {},
   "outputs": [
    {
     "data": {
      "text/plain": [
       "(3291455, 29)"
      ]
     },
     "execution_count": 87,
     "metadata": {},
     "output_type": "execute_result"
    }
   ],
   "source": [
    "final_session_gdf.shape"
   ]
  },
  {
   "cell_type": "code",
   "execution_count": 88,
   "metadata": {},
   "outputs": [
    {
     "data": {
      "text/html": [
       "<div>\n",
       "<style scoped>\n",
       "    .dataframe tbody tr th:only-of-type {\n",
       "        vertical-align: middle;\n",
       "    }\n",
       "\n",
       "    .dataframe tbody tr th {\n",
       "        vertical-align: top;\n",
       "    }\n",
       "\n",
       "    .dataframe thead th {\n",
       "        text-align: right;\n",
       "    }\n",
       "</style>\n",
       "<table border=\"1\" class=\"dataframe\">\n",
       "  <thead>\n",
       "    <tr style=\"text-align: right;\">\n",
       "      <th></th>\n",
       "      <th>session_id_hash</th>\n",
       "      <th>day_index</th>\n",
       "      <th>product_sku_hash_count</th>\n",
       "      <th>product_sku_hash_list_seq</th>\n",
       "      <th>product_url_hash_count</th>\n",
       "      <th>product_url_hash_list_seq</th>\n",
       "      <th>has_been_removed_from_cart-list_seq</th>\n",
       "      <th>has_been_added_to_cart-list_seq</th>\n",
       "      <th>has_been_purchased-list_seq</th>\n",
       "      <th>has_been_detailed-list_seq</th>\n",
       "      <th>...</th>\n",
       "      <th>ts-first</th>\n",
       "      <th>ts-last</th>\n",
       "      <th>ts-list_seq</th>\n",
       "      <th>timestamp_hour_cos-list_seq</th>\n",
       "      <th>timestamp_hour_sin-list_seq</th>\n",
       "      <th>timestamp_wd_sin-list_seq</th>\n",
       "      <th>timestamp_wd_cos-list_seq</th>\n",
       "      <th>timestamp_age_days-list_seq</th>\n",
       "      <th>timestamp_age_days_norm-list_seq</th>\n",
       "      <th>original_session_id_hash</th>\n",
       "    </tr>\n",
       "  </thead>\n",
       "  <tbody>\n",
       "    <tr>\n",
       "      <th>0</th>\n",
       "      <td>27425</td>\n",
       "      <td>72</td>\n",
       "      <td>38</td>\n",
       "      <td>[7820, 1, 1777, 3327, 1, 1, 2672, 1, 1, 3592, ...</td>\n",
       "      <td>38</td>\n",
       "      <td>[16222, 380, 3691, 6737, 10047, 11236, 5442, 4...</td>\n",
       "      <td>[0, 0, 0, 0, 0, 0, 0, 0, 0, 0, 0, 0, 0, 0, 0, ...</td>\n",
       "      <td>[0, 0, 0, 0, 0, 0, 0, 0, 0, 0, 0, 0, 0, 0, 0, ...</td>\n",
       "      <td>[0, 0, 0, 0, 0, 0, 0, 0, 0, 0, 0, 0, 0, 0, 0, ...</td>\n",
       "      <td>[1, 0, 1, 1, 0, 0, 1, 0, 0, 1, 0, 0, 0, 0, 0, ...</td>\n",
       "      <td>...</td>\n",
       "      <td>1549157</td>\n",
       "      <td>1549159</td>\n",
       "      <td>[1549157, 1549157, 1549157, 1549157, 1549157, ...</td>\n",
       "      <td>[0.96592575, 0.96592575, 0.96592575, 0.9659257...</td>\n",
       "      <td>[0.25881928, 0.25881928, 0.25881928, 0.2588192...</td>\n",
       "      <td>[1.1285199e-06, 1.1285199e-06, 1.1285199e-06, ...</td>\n",
       "      <td>[1.0, 1.0, 1.0, 1.0, 1.0, 1.0, 1.0, 1.0, 1.0, ...</td>\n",
       "      <td>[17, 18, 18, 18, 18, 18, 18, 18, 18, 18, 18, 1...</td>\n",
       "      <td>[-0.16957423, -0.12256797, -0.12256797, -0.122...</td>\n",
       "      <td>2094bca39a1c76f54af040202954fdd6a9b4fb49d44c87...</td>\n",
       "    </tr>\n",
       "    <tr>\n",
       "      <th>1</th>\n",
       "      <td>27426</td>\n",
       "      <td>64</td>\n",
       "      <td>38</td>\n",
       "      <td>[1, 1674, 1, 123, 1, 1, 1, 340, 881, 1, 85, 18...</td>\n",
       "      <td>38</td>\n",
       "      <td>[32, 3486, 879, 395, 7045, 3425, 8174, 843, 18...</td>\n",
       "      <td>[0, 0, 0, 0, 0, 0, 0, 0, 0, 0, 0, 0, 0, 0, 0, ...</td>\n",
       "      <td>[0, 0, 0, 0, 0, 0, 0, 0, 0, 0, 0, 0, 0, 1, 0, ...</td>\n",
       "      <td>[0, 0, 0, 0, 0, 0, 0, 0, 0, 0, 0, 0, 0, 0, 0, ...</td>\n",
       "      <td>[0, 1, 0, 1, 0, 0, 0, 1, 1, 0, 1, 1, 1, 1, 0, ...</td>\n",
       "      <td>...</td>\n",
       "      <td>1549838</td>\n",
       "      <td>1549839</td>\n",
       "      <td>[1549838, 1549838, 1549838, 1549838, 1549838, ...</td>\n",
       "      <td>[0.8660258, 0.8660258, 0.8660258, 0.8660258, 0...</td>\n",
       "      <td>[-0.49999934, -0.49999934, -0.49999934, -0.499...</td>\n",
       "      <td>[1.1285199e-06, 1.1285199e-06, 1.1285199e-06, ...</td>\n",
       "      <td>[1.0, 1.0, 1.0, 1.0, 1.0, 1.0, 1.0, 1.0, 1.0, ...</td>\n",
       "      <td>[26, 15, 1, 1, 10, 10, 8, 26, 25, 10, 19, 26, ...</td>\n",
       "      <td>[0.1829394, -0.2719755, -2.0798535, -2.0798535...</td>\n",
       "      <td>2095ede31d5bea6078b98b38f399653b42b5053c16c953...</td>\n",
       "    </tr>\n",
       "    <tr>\n",
       "      <th>2</th>\n",
       "      <td>27427</td>\n",
       "      <td>82</td>\n",
       "      <td>38</td>\n",
       "      <td>[1, 3473, 1, 1, 1, 1, 606, 11, 1, 1, 1, 178, 1...</td>\n",
       "      <td>38</td>\n",
       "      <td>[1, 7024, 1085, 26, 1881, 10543, 1326, 95, 117...</td>\n",
       "      <td>[0, 0, 0, 0, 0, 0, 0, 0, 0, 0, 0, 0, 0, 0, 0, ...</td>\n",
       "      <td>[0, 0, 0, 0, 0, 0, 0, 1, 0, 0, 0, 0, 0, 0, 0, ...</td>\n",
       "      <td>[0, 0, 0, 0, 0, 0, 0, 0, 0, 0, 0, 0, 0, 0, 0, ...</td>\n",
       "      <td>[0, 1, 0, 0, 0, 0, 1, 1, 0, 0, 0, 1, 0, 0, 0, ...</td>\n",
       "      <td>...</td>\n",
       "      <td>1548265</td>\n",
       "      <td>1548267</td>\n",
       "      <td>[1548265, 1548266, 1548266, 1548266, 1548266, ...</td>\n",
       "      <td>[-0.25881854, -0.25881854, -0.25881854, -0.258...</td>\n",
       "      <td>[-0.965926, -0.965926, -0.965926, -0.965926, -...</td>\n",
       "      <td>[0.43388295, 0.43388295, 0.43388295, 0.4338829...</td>\n",
       "      <td>[-0.90096927, -0.90096927, -0.90096927, -0.900...</td>\n",
       "      <td>[8, 8, 8, 8, 8, 8, 8, 8, 8, 6, 0, 8, 8, 8, 8, ...</td>\n",
       "      <td>[-0.7722002, -0.7722002, -0.7722002, -0.772200...</td>\n",
       "      <td>20bf3fb9ed342eac74781a9a65afb2da0c11adf135e4de...</td>\n",
       "    </tr>\n",
       "    <tr>\n",
       "      <th>3</th>\n",
       "      <td>27428</td>\n",
       "      <td>86</td>\n",
       "      <td>38</td>\n",
       "      <td>[1, 6994, 22678, 6994, 1, 1, 1, 1, 1, 1, 1, 1,...</td>\n",
       "      <td>38</td>\n",
       "      <td>[17, 14381, 57807, 14381, 7, 23, 1, 98, 10766,...</td>\n",
       "      <td>[0, 0, 0, 0, 0, 0, 0, 0, 0, 0, 0, 0, 0, 0, 0, ...</td>\n",
       "      <td>[0, 1, 0, 1, 0, 0, 0, 0, 0, 0, 0, 0, 0, 1, 0, ...</td>\n",
       "      <td>[0, 1, 0, 1, 0, 0, 0, 0, 0, 0, 0, 0, 0, 0, 0, ...</td>\n",
       "      <td>[0, 1, 1, 1, 0, 0, 0, 0, 0, 0, 0, 0, 0, 1, 0, ...</td>\n",
       "      <td>...</td>\n",
       "      <td>1547917</td>\n",
       "      <td>1547919</td>\n",
       "      <td>[1547917, 1547917, 1547917, 1547917, 1547917, ...</td>\n",
       "      <td>[-0.25881854, -0.25881854, -0.25881854, -0.258...</td>\n",
       "      <td>[-0.965926, -0.965926, -0.965926, -0.965926, -...</td>\n",
       "      <td>[-0.781831, -0.781831, -0.781831, -0.781831, -...</td>\n",
       "      <td>[0.6234904, 0.6234904, 0.6234904, 0.6234904, 0...</td>\n",
       "      <td>[4, 3, 1, 3, 4, 4, 4, 4, 3, 4, 3, 3, 3, 3, 3, ...</td>\n",
       "      <td>[-1.2832252, -1.4772274, -2.0798535, -1.477227...</td>\n",
       "      <td>20eb743371ef33ca3a5fbb2c5c82b524b7bd96eff52f74...</td>\n",
       "    </tr>\n",
       "    <tr>\n",
       "      <th>4</th>\n",
       "      <td>27429</td>\n",
       "      <td>51</td>\n",
       "      <td>38</td>\n",
       "      <td>[1, 1, 1, 1, 1, 1, 958, 7475, 4177, 11717, 225...</td>\n",
       "      <td>38</td>\n",
       "      <td>[59, 14, 3, 553, 28006, 2481, 2022, 15440, 846...</td>\n",
       "      <td>[0, 0, 0, 0, 0, 0, 0, 0, 0, 0, 0, 0, 0, 0, 0, ...</td>\n",
       "      <td>[0, 0, 0, 0, 0, 0, 0, 0, 0, 0, 1, 0, 1, 0, 0, ...</td>\n",
       "      <td>[0, 0, 0, 0, 0, 0, 0, 0, 0, 0, 0, 0, 0, 0, 0, ...</td>\n",
       "      <td>[0, 0, 0, 0, 0, 0, 1, 1, 1, 1, 1, 0, 1, 0, 0, ...</td>\n",
       "      <td>...</td>\n",
       "      <td>1550966</td>\n",
       "      <td>1550969</td>\n",
       "      <td>[1550966, 1550966, 1550966, 1550966, 1550966, ...</td>\n",
       "      <td>[1.0, 1.0, 1.0, 1.0, 1.0, 1.0, 1.0, 1.0, 1.0, ...</td>\n",
       "      <td>[2.6179939e-07, 2.6179939e-07, 2.6179939e-07, ...</td>\n",
       "      <td>[1.1285199e-06, 1.1285199e-06, 1.1285199e-06, ...</td>\n",
       "      <td>[1.0, 1.0, 1.0, 1.0, 1.0, 1.0, 1.0, 1.0, 1.0, ...</td>\n",
       "      <td>[39, 39, 39, 39, 39, 39, 39, 39, 38, 39, 39, 3...</td>\n",
       "      <td>[0.5246528, 0.5246528, 0.5246528, 0.5246528, 0...</td>\n",
       "      <td>216a57d50eeacb6a798605524ee9159c3bda40a331df0c...</td>\n",
       "    </tr>\n",
       "  </tbody>\n",
       "</table>\n",
       "<p>5 rows × 29 columns</p>\n",
       "</div>"
      ],
      "text/plain": [
       "   session_id_hash  day_index  product_sku_hash_count  \\\n",
       "0            27425         72                      38   \n",
       "1            27426         64                      38   \n",
       "2            27427         82                      38   \n",
       "3            27428         86                      38   \n",
       "4            27429         51                      38   \n",
       "\n",
       "                           product_sku_hash_list_seq  product_url_hash_count  \\\n",
       "0  [7820, 1, 1777, 3327, 1, 1, 2672, 1, 1, 3592, ...                      38   \n",
       "1  [1, 1674, 1, 123, 1, 1, 1, 340, 881, 1, 85, 18...                      38   \n",
       "2  [1, 3473, 1, 1, 1, 1, 606, 11, 1, 1, 1, 178, 1...                      38   \n",
       "3  [1, 6994, 22678, 6994, 1, 1, 1, 1, 1, 1, 1, 1,...                      38   \n",
       "4  [1, 1, 1, 1, 1, 1, 958, 7475, 4177, 11717, 225...                      38   \n",
       "\n",
       "                           product_url_hash_list_seq  \\\n",
       "0  [16222, 380, 3691, 6737, 10047, 11236, 5442, 4...   \n",
       "1  [32, 3486, 879, 395, 7045, 3425, 8174, 843, 18...   \n",
       "2  [1, 7024, 1085, 26, 1881, 10543, 1326, 95, 117...   \n",
       "3  [17, 14381, 57807, 14381, 7, 23, 1, 98, 10766,...   \n",
       "4  [59, 14, 3, 553, 28006, 2481, 2022, 15440, 846...   \n",
       "\n",
       "                 has_been_removed_from_cart-list_seq  \\\n",
       "0  [0, 0, 0, 0, 0, 0, 0, 0, 0, 0, 0, 0, 0, 0, 0, ...   \n",
       "1  [0, 0, 0, 0, 0, 0, 0, 0, 0, 0, 0, 0, 0, 0, 0, ...   \n",
       "2  [0, 0, 0, 0, 0, 0, 0, 0, 0, 0, 0, 0, 0, 0, 0, ...   \n",
       "3  [0, 0, 0, 0, 0, 0, 0, 0, 0, 0, 0, 0, 0, 0, 0, ...   \n",
       "4  [0, 0, 0, 0, 0, 0, 0, 0, 0, 0, 0, 0, 0, 0, 0, ...   \n",
       "\n",
       "                     has_been_added_to_cart-list_seq  \\\n",
       "0  [0, 0, 0, 0, 0, 0, 0, 0, 0, 0, 0, 0, 0, 0, 0, ...   \n",
       "1  [0, 0, 0, 0, 0, 0, 0, 0, 0, 0, 0, 0, 0, 1, 0, ...   \n",
       "2  [0, 0, 0, 0, 0, 0, 0, 1, 0, 0, 0, 0, 0, 0, 0, ...   \n",
       "3  [0, 1, 0, 1, 0, 0, 0, 0, 0, 0, 0, 0, 0, 1, 0, ...   \n",
       "4  [0, 0, 0, 0, 0, 0, 0, 0, 0, 0, 1, 0, 1, 0, 0, ...   \n",
       "\n",
       "                         has_been_purchased-list_seq  \\\n",
       "0  [0, 0, 0, 0, 0, 0, 0, 0, 0, 0, 0, 0, 0, 0, 0, ...   \n",
       "1  [0, 0, 0, 0, 0, 0, 0, 0, 0, 0, 0, 0, 0, 0, 0, ...   \n",
       "2  [0, 0, 0, 0, 0, 0, 0, 0, 0, 0, 0, 0, 0, 0, 0, ...   \n",
       "3  [0, 1, 0, 1, 0, 0, 0, 0, 0, 0, 0, 0, 0, 0, 0, ...   \n",
       "4  [0, 0, 0, 0, 0, 0, 0, 0, 0, 0, 0, 0, 0, 0, 0, ...   \n",
       "\n",
       "                          has_been_detailed-list_seq  ... ts-first  ts-last  \\\n",
       "0  [1, 0, 1, 1, 0, 0, 1, 0, 0, 1, 0, 0, 0, 0, 0, ...  ...  1549157  1549159   \n",
       "1  [0, 1, 0, 1, 0, 0, 0, 1, 1, 0, 1, 1, 1, 1, 0, ...  ...  1549838  1549839   \n",
       "2  [0, 1, 0, 0, 0, 0, 1, 1, 0, 0, 0, 1, 0, 0, 0, ...  ...  1548265  1548267   \n",
       "3  [0, 1, 1, 1, 0, 0, 0, 0, 0, 0, 0, 0, 0, 1, 0, ...  ...  1547917  1547919   \n",
       "4  [0, 0, 0, 0, 0, 0, 1, 1, 1, 1, 1, 0, 1, 0, 0, ...  ...  1550966  1550969   \n",
       "\n",
       "                                         ts-list_seq  \\\n",
       "0  [1549157, 1549157, 1549157, 1549157, 1549157, ...   \n",
       "1  [1549838, 1549838, 1549838, 1549838, 1549838, ...   \n",
       "2  [1548265, 1548266, 1548266, 1548266, 1548266, ...   \n",
       "3  [1547917, 1547917, 1547917, 1547917, 1547917, ...   \n",
       "4  [1550966, 1550966, 1550966, 1550966, 1550966, ...   \n",
       "\n",
       "                         timestamp_hour_cos-list_seq  \\\n",
       "0  [0.96592575, 0.96592575, 0.96592575, 0.9659257...   \n",
       "1  [0.8660258, 0.8660258, 0.8660258, 0.8660258, 0...   \n",
       "2  [-0.25881854, -0.25881854, -0.25881854, -0.258...   \n",
       "3  [-0.25881854, -0.25881854, -0.25881854, -0.258...   \n",
       "4  [1.0, 1.0, 1.0, 1.0, 1.0, 1.0, 1.0, 1.0, 1.0, ...   \n",
       "\n",
       "                         timestamp_hour_sin-list_seq  \\\n",
       "0  [0.25881928, 0.25881928, 0.25881928, 0.2588192...   \n",
       "1  [-0.49999934, -0.49999934, -0.49999934, -0.499...   \n",
       "2  [-0.965926, -0.965926, -0.965926, -0.965926, -...   \n",
       "3  [-0.965926, -0.965926, -0.965926, -0.965926, -...   \n",
       "4  [2.6179939e-07, 2.6179939e-07, 2.6179939e-07, ...   \n",
       "\n",
       "                           timestamp_wd_sin-list_seq  \\\n",
       "0  [1.1285199e-06, 1.1285199e-06, 1.1285199e-06, ...   \n",
       "1  [1.1285199e-06, 1.1285199e-06, 1.1285199e-06, ...   \n",
       "2  [0.43388295, 0.43388295, 0.43388295, 0.4338829...   \n",
       "3  [-0.781831, -0.781831, -0.781831, -0.781831, -...   \n",
       "4  [1.1285199e-06, 1.1285199e-06, 1.1285199e-06, ...   \n",
       "\n",
       "                           timestamp_wd_cos-list_seq  \\\n",
       "0  [1.0, 1.0, 1.0, 1.0, 1.0, 1.0, 1.0, 1.0, 1.0, ...   \n",
       "1  [1.0, 1.0, 1.0, 1.0, 1.0, 1.0, 1.0, 1.0, 1.0, ...   \n",
       "2  [-0.90096927, -0.90096927, -0.90096927, -0.900...   \n",
       "3  [0.6234904, 0.6234904, 0.6234904, 0.6234904, 0...   \n",
       "4  [1.0, 1.0, 1.0, 1.0, 1.0, 1.0, 1.0, 1.0, 1.0, ...   \n",
       "\n",
       "                         timestamp_age_days-list_seq  \\\n",
       "0  [17, 18, 18, 18, 18, 18, 18, 18, 18, 18, 18, 1...   \n",
       "1  [26, 15, 1, 1, 10, 10, 8, 26, 25, 10, 19, 26, ...   \n",
       "2  [8, 8, 8, 8, 8, 8, 8, 8, 8, 6, 0, 8, 8, 8, 8, ...   \n",
       "3  [4, 3, 1, 3, 4, 4, 4, 4, 3, 4, 3, 3, 3, 3, 3, ...   \n",
       "4  [39, 39, 39, 39, 39, 39, 39, 39, 38, 39, 39, 3...   \n",
       "\n",
       "                    timestamp_age_days_norm-list_seq  \\\n",
       "0  [-0.16957423, -0.12256797, -0.12256797, -0.122...   \n",
       "1  [0.1829394, -0.2719755, -2.0798535, -2.0798535...   \n",
       "2  [-0.7722002, -0.7722002, -0.7722002, -0.772200...   \n",
       "3  [-1.2832252, -1.4772274, -2.0798535, -1.477227...   \n",
       "4  [0.5246528, 0.5246528, 0.5246528, 0.5246528, 0...   \n",
       "\n",
       "                            original_session_id_hash  \n",
       "0  2094bca39a1c76f54af040202954fdd6a9b4fb49d44c87...  \n",
       "1  2095ede31d5bea6078b98b38f399653b42b5053c16c953...  \n",
       "2  20bf3fb9ed342eac74781a9a65afb2da0c11adf135e4de...  \n",
       "3  20eb743371ef33ca3a5fbb2c5c82b524b7bd96eff52f74...  \n",
       "4  216a57d50eeacb6a798605524ee9159c3bda40a331df0c...  \n",
       "\n",
       "[5 rows x 29 columns]"
      ]
     },
     "execution_count": 88,
     "metadata": {},
     "output_type": "execute_result"
    }
   ],
   "source": [
    "final_session_gdf.head()"
   ]
  },
  {
   "cell_type": "code",
   "execution_count": 89,
   "metadata": {},
   "outputs": [],
   "source": [
    "#save sessions_gdf\n",
    "final_session_gdf.to_parquet(os.path.join(OUTPUT_DIR, \"final_session_gdf.parquet\"))"
   ]
  },
  {
   "cell_type": "markdown",
   "metadata": {},
   "source": [
    "### Add search context "
   ]
  },
  {
   "cell_type": "code",
   "execution_count": 90,
   "metadata": {},
   "outputs": [],
   "source": [
    "search_table = cudf.read_parquet(OUTPUT_DIR+\"/session_search.parquet\")\n"
   ]
  },
  {
   "cell_type": "code",
   "execution_count": 91,
   "metadata": {},
   "outputs": [],
   "source": [
    "search_table.columns  = ['original_session_id_hash', 'flat_query_vector', 'flat_product_skus_hash',\n",
    "       'flat_clicked_skus_hash', 'impressions_size', 'clicks_size','nb_queries',\n",
    "       'clicked-flag']"
   ]
  },
  {
   "cell_type": "code",
   "execution_count": 92,
   "metadata": {},
   "outputs": [],
   "source": [
    "merged_session_table = final_session_gdf.merge(search_table, on=['original_session_id_hash'], how='left')"
   ]
  },
  {
   "cell_type": "code",
   "execution_count": 93,
   "metadata": {},
   "outputs": [],
   "source": [
    "del final_session_gdf, search_table"
   ]
  },
  {
   "cell_type": "markdown",
   "metadata": {},
   "source": [
    "# Process missing values "
   ]
  },
  {
   "cell_type": "code",
   "execution_count": 94,
   "metadata": {},
   "outputs": [],
   "source": [
    "merged_session_table = merged_session_table.to_pandas()"
   ]
  },
  {
   "cell_type": "code",
   "execution_count": 95,
   "metadata": {},
   "outputs": [
    {
     "data": {
      "text/html": [
       "<div>\n",
       "<style scoped>\n",
       "    .dataframe tbody tr th:only-of-type {\n",
       "        vertical-align: middle;\n",
       "    }\n",
       "\n",
       "    .dataframe tbody tr th {\n",
       "        vertical-align: top;\n",
       "    }\n",
       "\n",
       "    .dataframe thead th {\n",
       "        text-align: right;\n",
       "    }\n",
       "</style>\n",
       "<table border=\"1\" class=\"dataframe\">\n",
       "  <thead>\n",
       "    <tr style=\"text-align: right;\">\n",
       "      <th></th>\n",
       "      <th>session_id_hash</th>\n",
       "      <th>day_index</th>\n",
       "      <th>product_sku_hash_count</th>\n",
       "      <th>product_sku_hash_list_seq</th>\n",
       "      <th>product_url_hash_count</th>\n",
       "      <th>product_url_hash_list_seq</th>\n",
       "      <th>has_been_removed_from_cart-list_seq</th>\n",
       "      <th>has_been_added_to_cart-list_seq</th>\n",
       "      <th>has_been_purchased-list_seq</th>\n",
       "      <th>has_been_detailed-list_seq</th>\n",
       "      <th>...</th>\n",
       "      <th>timestamp_age_days-list_seq</th>\n",
       "      <th>timestamp_age_days_norm-list_seq</th>\n",
       "      <th>original_session_id_hash</th>\n",
       "      <th>flat_query_vector</th>\n",
       "      <th>flat_product_skus_hash</th>\n",
       "      <th>flat_clicked_skus_hash</th>\n",
       "      <th>impressions_size</th>\n",
       "      <th>clicks_size</th>\n",
       "      <th>nb_queries</th>\n",
       "      <th>clicked-flag</th>\n",
       "    </tr>\n",
       "  </thead>\n",
       "  <tbody>\n",
       "    <tr>\n",
       "      <th>0</th>\n",
       "      <td>64548</td>\n",
       "      <td>42</td>\n",
       "      <td>28</td>\n",
       "      <td>[2278, 1, 1, 1, 352, 1, 1, 2911, 1, 3184, 1, 1...</td>\n",
       "      <td>28</td>\n",
       "      <td>[4621, 2010, 10385, 68, 864, 1, 9252, 5913, 36...</td>\n",
       "      <td>[0, 0, 0, 0, 0, 0, 0, 0, 0, 0, 0, 0, 0, 0, 0, ...</td>\n",
       "      <td>[0, 0, 0, 0, 0, 0, 0, 0, 0, 0, 0, 0, 0, 0, 0, ...</td>\n",
       "      <td>[0, 0, 0, 0, 0, 0, 0, 0, 0, 0, 0, 0, 0, 0, 0, ...</td>\n",
       "      <td>[1, 0, 0, 0, 1, 0, 0, 1, 0, 1, 0, 0, 1, 0, 1, ...</td>\n",
       "      <td>...</td>\n",
       "      <td>[40, 40, 46, 47, 47, 47, 47, 47, 47, 47, 40, 4...</td>\n",
       "      <td>[0.5461206, 0.5461206, 0.66486025, 0.6831641, ...</td>\n",
       "      <td>7322346ca76333a3f57beb488486e3a7103b9b8ae5b81f...</td>\n",
       "      <td>[0.00867827795445919, -0.3432416021823883, 0.1...</td>\n",
       "      <td>[bfced2942872e370277a90303b87623d3f1ae629be8cf...</td>\n",
       "      <td>[c660da5063e4ea50ba2cbf1d266c9dccddddb5d85f4c2...</td>\n",
       "      <td>[0.0, 25.0, 12.0]</td>\n",
       "      <td>[0.0, 0.0, 1.0]</td>\n",
       "      <td>3.0</td>\n",
       "      <td>[0, 0, 0, 0, 0, 0, 0, 0, 0, 0, 0, 0, 0, 0, 0, ...</td>\n",
       "    </tr>\n",
       "    <tr>\n",
       "      <th>1</th>\n",
       "      <td>64552</td>\n",
       "      <td>32</td>\n",
       "      <td>28</td>\n",
       "      <td>[2439, 1, 1, 144, 1, 1393, 1, 1, 1, 5544, 1, 1...</td>\n",
       "      <td>28</td>\n",
       "      <td>[4982, 1, 12, 446, 1071, 2921, 14, 5386, 2, 11...</td>\n",
       "      <td>[0, 0, 0, 0, 0, 0, 0, 0, 0, 0, 0, 0, 0, 0, 0, ...</td>\n",
       "      <td>[0, 0, 0, 0, 0, 0, 0, 0, 0, 0, 0, 0, 0, 0, 0, ...</td>\n",
       "      <td>[0, 0, 0, 0, 0, 0, 0, 0, 0, 0, 0, 0, 0, 0, 0, ...</td>\n",
       "      <td>[1, 0, 0, 1, 0, 1, 0, 0, 0, 0, 0, 0, 0, 0, 1, ...</td>\n",
       "      <td>...</td>\n",
       "      <td>[31, 58, 58, 33, 12, 33, 58, 8, 58, 37, 24, 57...</td>\n",
       "      <td>[0.3306505, 0.86255425, 0.86255425, 0.38335788...</td>\n",
       "      <td>7350b2ee3456c1ce3b438fa1c0a14f79d229a3644988ec...</td>\n",
       "      <td>[-0.002791411941871047, 0.05408860743045807, -...</td>\n",
       "      <td>[7d310ca5f5c940b78058f8c47a765db2c558258c923c7...</td>\n",
       "      <td>[31540ffce1e058f4acf13d7994c9988abbf61dc91039f...</td>\n",
       "      <td>[25.0, 2.0, 5.0]</td>\n",
       "      <td>[0.0, 1.0, 1.0]</td>\n",
       "      <td>3.0</td>\n",
       "      <td>[0, 0, 0, 0, 0, 0, 0, 0, 0, 0, 0, 0, 0, 0, 0, ...</td>\n",
       "    </tr>\n",
       "    <tr>\n",
       "      <th>2</th>\n",
       "      <td>64560</td>\n",
       "      <td>59</td>\n",
       "      <td>28</td>\n",
       "      <td>[1, 1496, 1, 380, 1, 1, 1, 158, 1, 158, 1, 1, ...</td>\n",
       "      <td>28</td>\n",
       "      <td>[11164, 3120, 5, 912, 13, 982, 357, 494, 1, 49...</td>\n",
       "      <td>[0, 0, 0, 0, 0, 0, 0, 0, 0, 0, 0, 0, 0, 0, 0, ...</td>\n",
       "      <td>[0, 0, 0, 0, 0, 0, 0, 1, 0, 1, 0, 0, 0, 0, 0, ...</td>\n",
       "      <td>[0, 0, 0, 0, 0, 0, 0, 1, 0, 1, 0, 0, 0, 0, 0, ...</td>\n",
       "      <td>[0, 1, 0, 1, 0, 0, 0, 1, 0, 1, 0, 0, 0, 0, 0, ...</td>\n",
       "      <td>...</td>\n",
       "      <td>[29, 30, 31, 30, 9, 31, 31, 31, 31, 31, 31, 31...</td>\n",
       "      <td>[0.2745404, 0.30304796, 0.3306505, 0.30304796,...</td>\n",
       "      <td>73971f9c28a976320ba32f08cf4557b8b58e2b9fa1de6f...</td>\n",
       "      <td>[0.1476699411869049, -0.35439008474349976, 0.0...</td>\n",
       "      <td>[8a6176eac1d792fa81d02bc0d76970f967f7b3040fcce...</td>\n",
       "      <td>[667479857189eee1338e962ca01e66f1e0de83f9a6ea9...</td>\n",
       "      <td>[25.0, 10.0]</td>\n",
       "      <td>[0.0, 2.0]</td>\n",
       "      <td>2.0</td>\n",
       "      <td>[0, 0, 0, 0, 0, 0, 0, 0, 0, 0, 0, 0, 0, 0, 0, ...</td>\n",
       "    </tr>\n",
       "    <tr>\n",
       "      <th>3</th>\n",
       "      <td>64563</td>\n",
       "      <td>56</td>\n",
       "      <td>28</td>\n",
       "      <td>[1, 1, 21286, 1, 1, 1, 1, 1, 1, 13378, 15451, ...</td>\n",
       "      <td>28</td>\n",
       "      <td>[2, 64, 52225, 312, 549, 77116, 1178, 1, 16939...</td>\n",
       "      <td>[0, 0, 0, 0, 0, 0, 0, 0, 0, 0, 0, 0, 0, 0, 0, ...</td>\n",
       "      <td>[0, 0, 0, 0, 0, 0, 0, 0, 0, 0, 0, 0, 0, 0, 0, ...</td>\n",
       "      <td>[0, 0, 0, 0, 0, 0, 0, 0, 0, 0, 0, 0, 0, 0, 0, ...</td>\n",
       "      <td>[0, 0, 1, 0, 0, 0, 0, 0, 0, 1, 1, 0, 1, 0, 1, ...</td>\n",
       "      <td>...</td>\n",
       "      <td>[34, 34, 34, 34, 34, 33, 34, 34, 34, 33, 32, 1...</td>\n",
       "      <td>[0.4085599, 0.4085599, 0.4085599, 0.4085599, 0...</td>\n",
       "      <td>73bb059b6e3048f9775cfd147bf49c1655f057e356d7be...</td>\n",
       "      <td>[0.08299337327480316, -0.2532674968242645, 0.0...</td>\n",
       "      <td>[7b28d98f05355a7e3a930e64648375e4603a144e20ea2...</td>\n",
       "      <td>[missing]</td>\n",
       "      <td>[25.0, 5.0, 0.0, 0.0]</td>\n",
       "      <td>[0.0, 0.0, 0.0, 0.0]</td>\n",
       "      <td>4.0</td>\n",
       "      <td>[0, 0, 0, 0, 0, 0, 0, 0, 0, 0, 0, 0, 0, 0, 0, ...</td>\n",
       "    </tr>\n",
       "    <tr>\n",
       "      <th>4</th>\n",
       "      <td>64568</td>\n",
       "      <td>87</td>\n",
       "      <td>28</td>\n",
       "      <td>[1, 1, 1, 1, 1, 1, 1, 1, 1, 1, 1, 9138, 1933, ...</td>\n",
       "      <td>28</td>\n",
       "      <td>[2165, 2, 84, 14027, 5778, 8660, 26650, 137, 3...</td>\n",
       "      <td>[0, 0, 0, 0, 0, 0, 0, 0, 0, 0, 0, 0, 0, 0, 0, ...</td>\n",
       "      <td>[0, 0, 0, 0, 0, 0, 0, 0, 0, 0, 0, 0, 0, 0, 0, ...</td>\n",
       "      <td>[0, 0, 0, 0, 0, 0, 0, 0, 0, 0, 0, 0, 0, 0, 0, ...</td>\n",
       "      <td>[0, 0, 0, 0, 0, 0, 0, 0, 0, 0, 0, 1, 1, 0, 0, ...</td>\n",
       "      <td>...</td>\n",
       "      <td>[2, 3, 2, 2, 2, 2, 2, 3, 2, 3, 1, 2, 2, 2, 2, ...</td>\n",
       "      <td>[-1.7273399, -1.4772274, -1.7273399, -1.727339...</td>\n",
       "      <td>73eb8785b21d6395b74723845cbf6f5b31a5d3fce99bac...</td>\n",
       "      <td>[-0.04980561137199402, -0.1424727439880371, -0...</td>\n",
       "      <td>[cb683bec5780e7cef18967a884c195f3805673abd6e64...</td>\n",
       "      <td>[missing]</td>\n",
       "      <td>[13.0]</td>\n",
       "      <td>[0.0]</td>\n",
       "      <td>1.0</td>\n",
       "      <td>[0, 0, 0, 0, 0, 0, 0, 0, 0, 0, 0, 0, 0]</td>\n",
       "    </tr>\n",
       "  </tbody>\n",
       "</table>\n",
       "<p>5 rows × 36 columns</p>\n",
       "</div>"
      ],
      "text/plain": [
       "   session_id_hash  day_index  product_sku_hash_count  \\\n",
       "0            64548         42                      28   \n",
       "1            64552         32                      28   \n",
       "2            64560         59                      28   \n",
       "3            64563         56                      28   \n",
       "4            64568         87                      28   \n",
       "\n",
       "                           product_sku_hash_list_seq  product_url_hash_count  \\\n",
       "0  [2278, 1, 1, 1, 352, 1, 1, 2911, 1, 3184, 1, 1...                      28   \n",
       "1  [2439, 1, 1, 144, 1, 1393, 1, 1, 1, 5544, 1, 1...                      28   \n",
       "2  [1, 1496, 1, 380, 1, 1, 1, 158, 1, 158, 1, 1, ...                      28   \n",
       "3  [1, 1, 21286, 1, 1, 1, 1, 1, 1, 13378, 15451, ...                      28   \n",
       "4  [1, 1, 1, 1, 1, 1, 1, 1, 1, 1, 1, 9138, 1933, ...                      28   \n",
       "\n",
       "                           product_url_hash_list_seq  \\\n",
       "0  [4621, 2010, 10385, 68, 864, 1, 9252, 5913, 36...   \n",
       "1  [4982, 1, 12, 446, 1071, 2921, 14, 5386, 2, 11...   \n",
       "2  [11164, 3120, 5, 912, 13, 982, 357, 494, 1, 49...   \n",
       "3  [2, 64, 52225, 312, 549, 77116, 1178, 1, 16939...   \n",
       "4  [2165, 2, 84, 14027, 5778, 8660, 26650, 137, 3...   \n",
       "\n",
       "                 has_been_removed_from_cart-list_seq  \\\n",
       "0  [0, 0, 0, 0, 0, 0, 0, 0, 0, 0, 0, 0, 0, 0, 0, ...   \n",
       "1  [0, 0, 0, 0, 0, 0, 0, 0, 0, 0, 0, 0, 0, 0, 0, ...   \n",
       "2  [0, 0, 0, 0, 0, 0, 0, 0, 0, 0, 0, 0, 0, 0, 0, ...   \n",
       "3  [0, 0, 0, 0, 0, 0, 0, 0, 0, 0, 0, 0, 0, 0, 0, ...   \n",
       "4  [0, 0, 0, 0, 0, 0, 0, 0, 0, 0, 0, 0, 0, 0, 0, ...   \n",
       "\n",
       "                     has_been_added_to_cart-list_seq  \\\n",
       "0  [0, 0, 0, 0, 0, 0, 0, 0, 0, 0, 0, 0, 0, 0, 0, ...   \n",
       "1  [0, 0, 0, 0, 0, 0, 0, 0, 0, 0, 0, 0, 0, 0, 0, ...   \n",
       "2  [0, 0, 0, 0, 0, 0, 0, 1, 0, 1, 0, 0, 0, 0, 0, ...   \n",
       "3  [0, 0, 0, 0, 0, 0, 0, 0, 0, 0, 0, 0, 0, 0, 0, ...   \n",
       "4  [0, 0, 0, 0, 0, 0, 0, 0, 0, 0, 0, 0, 0, 0, 0, ...   \n",
       "\n",
       "                         has_been_purchased-list_seq  \\\n",
       "0  [0, 0, 0, 0, 0, 0, 0, 0, 0, 0, 0, 0, 0, 0, 0, ...   \n",
       "1  [0, 0, 0, 0, 0, 0, 0, 0, 0, 0, 0, 0, 0, 0, 0, ...   \n",
       "2  [0, 0, 0, 0, 0, 0, 0, 1, 0, 1, 0, 0, 0, 0, 0, ...   \n",
       "3  [0, 0, 0, 0, 0, 0, 0, 0, 0, 0, 0, 0, 0, 0, 0, ...   \n",
       "4  [0, 0, 0, 0, 0, 0, 0, 0, 0, 0, 0, 0, 0, 0, 0, ...   \n",
       "\n",
       "                          has_been_detailed-list_seq  ...  \\\n",
       "0  [1, 0, 0, 0, 1, 0, 0, 1, 0, 1, 0, 0, 1, 0, 1, ...  ...   \n",
       "1  [1, 0, 0, 1, 0, 1, 0, 0, 0, 0, 0, 0, 0, 0, 1, ...  ...   \n",
       "2  [0, 1, 0, 1, 0, 0, 0, 1, 0, 1, 0, 0, 0, 0, 0, ...  ...   \n",
       "3  [0, 0, 1, 0, 0, 0, 0, 0, 0, 1, 1, 0, 1, 0, 1, ...  ...   \n",
       "4  [0, 0, 0, 0, 0, 0, 0, 0, 0, 0, 0, 1, 1, 0, 0, ...  ...   \n",
       "\n",
       "                         timestamp_age_days-list_seq  \\\n",
       "0  [40, 40, 46, 47, 47, 47, 47, 47, 47, 47, 40, 4...   \n",
       "1  [31, 58, 58, 33, 12, 33, 58, 8, 58, 37, 24, 57...   \n",
       "2  [29, 30, 31, 30, 9, 31, 31, 31, 31, 31, 31, 31...   \n",
       "3  [34, 34, 34, 34, 34, 33, 34, 34, 34, 33, 32, 1...   \n",
       "4  [2, 3, 2, 2, 2, 2, 2, 3, 2, 3, 1, 2, 2, 2, 2, ...   \n",
       "\n",
       "                    timestamp_age_days_norm-list_seq  \\\n",
       "0  [0.5461206, 0.5461206, 0.66486025, 0.6831641, ...   \n",
       "1  [0.3306505, 0.86255425, 0.86255425, 0.38335788...   \n",
       "2  [0.2745404, 0.30304796, 0.3306505, 0.30304796,...   \n",
       "3  [0.4085599, 0.4085599, 0.4085599, 0.4085599, 0...   \n",
       "4  [-1.7273399, -1.4772274, -1.7273399, -1.727339...   \n",
       "\n",
       "                            original_session_id_hash  \\\n",
       "0  7322346ca76333a3f57beb488486e3a7103b9b8ae5b81f...   \n",
       "1  7350b2ee3456c1ce3b438fa1c0a14f79d229a3644988ec...   \n",
       "2  73971f9c28a976320ba32f08cf4557b8b58e2b9fa1de6f...   \n",
       "3  73bb059b6e3048f9775cfd147bf49c1655f057e356d7be...   \n",
       "4  73eb8785b21d6395b74723845cbf6f5b31a5d3fce99bac...   \n",
       "\n",
       "                                   flat_query_vector  \\\n",
       "0  [0.00867827795445919, -0.3432416021823883, 0.1...   \n",
       "1  [-0.002791411941871047, 0.05408860743045807, -...   \n",
       "2  [0.1476699411869049, -0.35439008474349976, 0.0...   \n",
       "3  [0.08299337327480316, -0.2532674968242645, 0.0...   \n",
       "4  [-0.04980561137199402, -0.1424727439880371, -0...   \n",
       "\n",
       "                              flat_product_skus_hash  \\\n",
       "0  [bfced2942872e370277a90303b87623d3f1ae629be8cf...   \n",
       "1  [7d310ca5f5c940b78058f8c47a765db2c558258c923c7...   \n",
       "2  [8a6176eac1d792fa81d02bc0d76970f967f7b3040fcce...   \n",
       "3  [7b28d98f05355a7e3a930e64648375e4603a144e20ea2...   \n",
       "4  [cb683bec5780e7cef18967a884c195f3805673abd6e64...   \n",
       "\n",
       "                              flat_clicked_skus_hash       impressions_size  \\\n",
       "0  [c660da5063e4ea50ba2cbf1d266c9dccddddb5d85f4c2...      [0.0, 25.0, 12.0]   \n",
       "1  [31540ffce1e058f4acf13d7994c9988abbf61dc91039f...       [25.0, 2.0, 5.0]   \n",
       "2  [667479857189eee1338e962ca01e66f1e0de83f9a6ea9...           [25.0, 10.0]   \n",
       "3                                          [missing]  [25.0, 5.0, 0.0, 0.0]   \n",
       "4                                          [missing]                 [13.0]   \n",
       "\n",
       "            clicks_size nb_queries  \\\n",
       "0       [0.0, 0.0, 1.0]        3.0   \n",
       "1       [0.0, 1.0, 1.0]        3.0   \n",
       "2            [0.0, 2.0]        2.0   \n",
       "3  [0.0, 0.0, 0.0, 0.0]        4.0   \n",
       "4                 [0.0]        1.0   \n",
       "\n",
       "                                        clicked-flag  \n",
       "0  [0, 0, 0, 0, 0, 0, 0, 0, 0, 0, 0, 0, 0, 0, 0, ...  \n",
       "1  [0, 0, 0, 0, 0, 0, 0, 0, 0, 0, 0, 0, 0, 0, 0, ...  \n",
       "2  [0, 0, 0, 0, 0, 0, 0, 0, 0, 0, 0, 0, 0, 0, 0, ...  \n",
       "3  [0, 0, 0, 0, 0, 0, 0, 0, 0, 0, 0, 0, 0, 0, 0, ...  \n",
       "4            [0, 0, 0, 0, 0, 0, 0, 0, 0, 0, 0, 0, 0]  \n",
       "\n",
       "[5 rows x 36 columns]"
      ]
     },
     "execution_count": 95,
     "metadata": {},
     "output_type": "execute_result"
    }
   ],
   "source": [
    "merged_session_table.head()"
   ]
  },
  {
   "cell_type": "code",
   "execution_count": 96,
   "metadata": {},
   "outputs": [],
   "source": [
    "merged_session_table.loc[merged_session_table.flat_product_skus_hash.isna(), \n",
    "                         'flat_product_skus_hash'] = pd.Series([['missing']] * merged_session_table.flat_product_skus_hash.isna().sum()).values"
   ]
  },
  {
   "cell_type": "code",
   "execution_count": 97,
   "metadata": {},
   "outputs": [],
   "source": [
    "merged_session_table.loc[merged_session_table.flat_clicked_skus_hash.isnull(),\n",
    "                         'flat_clicked_skus_hash'] = pd.Series([['missing']] * merged_session_table.flat_clicked_skus_hash.isnull().sum()).values"
   ]
  },
  {
   "cell_type": "code",
   "execution_count": 98,
   "metadata": {},
   "outputs": [],
   "source": [
    "merged_session_table.loc[merged_session_table.flat_query_vector.isnull(),\n",
    "                         'flat_query_vector'] = pd.Series([np.zeros(50)] * merged_session_table.flat_query_vector.isnull().sum()).values"
   ]
  },
  {
   "cell_type": "code",
   "execution_count": 99,
   "metadata": {},
   "outputs": [],
   "source": [
    "merged_session_table.loc[merged_session_table.impressions_size.isnull(),\n",
    "                         'impressions_size'] = pd.Series([[0]] * merged_session_table.impressions_size.isnull().sum()).values"
   ]
  },
  {
   "cell_type": "code",
   "execution_count": 100,
   "metadata": {},
   "outputs": [],
   "source": [
    "merged_session_table.nb_queries.fillna(0, inplace=True)"
   ]
  },
  {
   "cell_type": "code",
   "execution_count": 101,
   "metadata": {},
   "outputs": [
    {
     "data": {
      "text/html": [
       "<div>\n",
       "<style scoped>\n",
       "    .dataframe tbody tr th:only-of-type {\n",
       "        vertical-align: middle;\n",
       "    }\n",
       "\n",
       "    .dataframe tbody tr th {\n",
       "        vertical-align: top;\n",
       "    }\n",
       "\n",
       "    .dataframe thead th {\n",
       "        text-align: right;\n",
       "    }\n",
       "</style>\n",
       "<table border=\"1\" class=\"dataframe\">\n",
       "  <thead>\n",
       "    <tr style=\"text-align: right;\">\n",
       "      <th></th>\n",
       "      <th>session_id_hash</th>\n",
       "      <th>day_index</th>\n",
       "      <th>product_sku_hash_count</th>\n",
       "      <th>product_sku_hash_list_seq</th>\n",
       "      <th>product_url_hash_count</th>\n",
       "      <th>product_url_hash_list_seq</th>\n",
       "      <th>has_been_removed_from_cart-list_seq</th>\n",
       "      <th>has_been_added_to_cart-list_seq</th>\n",
       "      <th>has_been_purchased-list_seq</th>\n",
       "      <th>has_been_detailed-list_seq</th>\n",
       "      <th>...</th>\n",
       "      <th>timestamp_age_days-list_seq</th>\n",
       "      <th>timestamp_age_days_norm-list_seq</th>\n",
       "      <th>original_session_id_hash</th>\n",
       "      <th>flat_query_vector</th>\n",
       "      <th>flat_product_skus_hash</th>\n",
       "      <th>flat_clicked_skus_hash</th>\n",
       "      <th>impressions_size</th>\n",
       "      <th>clicks_size</th>\n",
       "      <th>nb_queries</th>\n",
       "      <th>clicked-flag</th>\n",
       "    </tr>\n",
       "  </thead>\n",
       "  <tbody>\n",
       "    <tr>\n",
       "      <th>0</th>\n",
       "      <td>64548</td>\n",
       "      <td>42</td>\n",
       "      <td>28</td>\n",
       "      <td>[2278, 1, 1, 1, 352, 1, 1, 2911, 1, 3184, 1, 1...</td>\n",
       "      <td>28</td>\n",
       "      <td>[4621, 2010, 10385, 68, 864, 1, 9252, 5913, 36...</td>\n",
       "      <td>[0, 0, 0, 0, 0, 0, 0, 0, 0, 0, 0, 0, 0, 0, 0, ...</td>\n",
       "      <td>[0, 0, 0, 0, 0, 0, 0, 0, 0, 0, 0, 0, 0, 0, 0, ...</td>\n",
       "      <td>[0, 0, 0, 0, 0, 0, 0, 0, 0, 0, 0, 0, 0, 0, 0, ...</td>\n",
       "      <td>[1, 0, 0, 0, 1, 0, 0, 1, 0, 1, 0, 0, 1, 0, 1, ...</td>\n",
       "      <td>...</td>\n",
       "      <td>[40, 40, 46, 47, 47, 47, 47, 47, 47, 47, 40, 4...</td>\n",
       "      <td>[0.5461206, 0.5461206, 0.66486025, 0.6831641, ...</td>\n",
       "      <td>7322346ca76333a3f57beb488486e3a7103b9b8ae5b81f...</td>\n",
       "      <td>[0.00867827795445919, -0.3432416021823883, 0.1...</td>\n",
       "      <td>[bfced2942872e370277a90303b87623d3f1ae629be8cf...</td>\n",
       "      <td>[c660da5063e4ea50ba2cbf1d266c9dccddddb5d85f4c2...</td>\n",
       "      <td>[0.0, 25.0, 12.0]</td>\n",
       "      <td>[0.0, 0.0, 1.0]</td>\n",
       "      <td>3.0</td>\n",
       "      <td>[0, 0, 0, 0, 0, 0, 0, 0, 0, 0, 0, 0, 0, 0, 0, ...</td>\n",
       "    </tr>\n",
       "    <tr>\n",
       "      <th>1</th>\n",
       "      <td>64552</td>\n",
       "      <td>32</td>\n",
       "      <td>28</td>\n",
       "      <td>[2439, 1, 1, 144, 1, 1393, 1, 1, 1, 5544, 1, 1...</td>\n",
       "      <td>28</td>\n",
       "      <td>[4982, 1, 12, 446, 1071, 2921, 14, 5386, 2, 11...</td>\n",
       "      <td>[0, 0, 0, 0, 0, 0, 0, 0, 0, 0, 0, 0, 0, 0, 0, ...</td>\n",
       "      <td>[0, 0, 0, 0, 0, 0, 0, 0, 0, 0, 0, 0, 0, 0, 0, ...</td>\n",
       "      <td>[0, 0, 0, 0, 0, 0, 0, 0, 0, 0, 0, 0, 0, 0, 0, ...</td>\n",
       "      <td>[1, 0, 0, 1, 0, 1, 0, 0, 0, 0, 0, 0, 0, 0, 1, ...</td>\n",
       "      <td>...</td>\n",
       "      <td>[31, 58, 58, 33, 12, 33, 58, 8, 58, 37, 24, 57...</td>\n",
       "      <td>[0.3306505, 0.86255425, 0.86255425, 0.38335788...</td>\n",
       "      <td>7350b2ee3456c1ce3b438fa1c0a14f79d229a3644988ec...</td>\n",
       "      <td>[-0.002791411941871047, 0.05408860743045807, -...</td>\n",
       "      <td>[7d310ca5f5c940b78058f8c47a765db2c558258c923c7...</td>\n",
       "      <td>[31540ffce1e058f4acf13d7994c9988abbf61dc91039f...</td>\n",
       "      <td>[25.0, 2.0, 5.0]</td>\n",
       "      <td>[0.0, 1.0, 1.0]</td>\n",
       "      <td>3.0</td>\n",
       "      <td>[0, 0, 0, 0, 0, 0, 0, 0, 0, 0, 0, 0, 0, 0, 0, ...</td>\n",
       "    </tr>\n",
       "    <tr>\n",
       "      <th>2</th>\n",
       "      <td>64560</td>\n",
       "      <td>59</td>\n",
       "      <td>28</td>\n",
       "      <td>[1, 1496, 1, 380, 1, 1, 1, 158, 1, 158, 1, 1, ...</td>\n",
       "      <td>28</td>\n",
       "      <td>[11164, 3120, 5, 912, 13, 982, 357, 494, 1, 49...</td>\n",
       "      <td>[0, 0, 0, 0, 0, 0, 0, 0, 0, 0, 0, 0, 0, 0, 0, ...</td>\n",
       "      <td>[0, 0, 0, 0, 0, 0, 0, 1, 0, 1, 0, 0, 0, 0, 0, ...</td>\n",
       "      <td>[0, 0, 0, 0, 0, 0, 0, 1, 0, 1, 0, 0, 0, 0, 0, ...</td>\n",
       "      <td>[0, 1, 0, 1, 0, 0, 0, 1, 0, 1, 0, 0, 0, 0, 0, ...</td>\n",
       "      <td>...</td>\n",
       "      <td>[29, 30, 31, 30, 9, 31, 31, 31, 31, 31, 31, 31...</td>\n",
       "      <td>[0.2745404, 0.30304796, 0.3306505, 0.30304796,...</td>\n",
       "      <td>73971f9c28a976320ba32f08cf4557b8b58e2b9fa1de6f...</td>\n",
       "      <td>[0.1476699411869049, -0.35439008474349976, 0.0...</td>\n",
       "      <td>[8a6176eac1d792fa81d02bc0d76970f967f7b3040fcce...</td>\n",
       "      <td>[667479857189eee1338e962ca01e66f1e0de83f9a6ea9...</td>\n",
       "      <td>[25.0, 10.0]</td>\n",
       "      <td>[0.0, 2.0]</td>\n",
       "      <td>2.0</td>\n",
       "      <td>[0, 0, 0, 0, 0, 0, 0, 0, 0, 0, 0, 0, 0, 0, 0, ...</td>\n",
       "    </tr>\n",
       "    <tr>\n",
       "      <th>3</th>\n",
       "      <td>64563</td>\n",
       "      <td>56</td>\n",
       "      <td>28</td>\n",
       "      <td>[1, 1, 21286, 1, 1, 1, 1, 1, 1, 13378, 15451, ...</td>\n",
       "      <td>28</td>\n",
       "      <td>[2, 64, 52225, 312, 549, 77116, 1178, 1, 16939...</td>\n",
       "      <td>[0, 0, 0, 0, 0, 0, 0, 0, 0, 0, 0, 0, 0, 0, 0, ...</td>\n",
       "      <td>[0, 0, 0, 0, 0, 0, 0, 0, 0, 0, 0, 0, 0, 0, 0, ...</td>\n",
       "      <td>[0, 0, 0, 0, 0, 0, 0, 0, 0, 0, 0, 0, 0, 0, 0, ...</td>\n",
       "      <td>[0, 0, 1, 0, 0, 0, 0, 0, 0, 1, 1, 0, 1, 0, 1, ...</td>\n",
       "      <td>...</td>\n",
       "      <td>[34, 34, 34, 34, 34, 33, 34, 34, 34, 33, 32, 1...</td>\n",
       "      <td>[0.4085599, 0.4085599, 0.4085599, 0.4085599, 0...</td>\n",
       "      <td>73bb059b6e3048f9775cfd147bf49c1655f057e356d7be...</td>\n",
       "      <td>[0.08299337327480316, -0.2532674968242645, 0.0...</td>\n",
       "      <td>[7b28d98f05355a7e3a930e64648375e4603a144e20ea2...</td>\n",
       "      <td>[missing]</td>\n",
       "      <td>[25.0, 5.0, 0.0, 0.0]</td>\n",
       "      <td>[0.0, 0.0, 0.0, 0.0]</td>\n",
       "      <td>4.0</td>\n",
       "      <td>[0, 0, 0, 0, 0, 0, 0, 0, 0, 0, 0, 0, 0, 0, 0, ...</td>\n",
       "    </tr>\n",
       "    <tr>\n",
       "      <th>4</th>\n",
       "      <td>64568</td>\n",
       "      <td>87</td>\n",
       "      <td>28</td>\n",
       "      <td>[1, 1, 1, 1, 1, 1, 1, 1, 1, 1, 1, 9138, 1933, ...</td>\n",
       "      <td>28</td>\n",
       "      <td>[2165, 2, 84, 14027, 5778, 8660, 26650, 137, 3...</td>\n",
       "      <td>[0, 0, 0, 0, 0, 0, 0, 0, 0, 0, 0, 0, 0, 0, 0, ...</td>\n",
       "      <td>[0, 0, 0, 0, 0, 0, 0, 0, 0, 0, 0, 0, 0, 0, 0, ...</td>\n",
       "      <td>[0, 0, 0, 0, 0, 0, 0, 0, 0, 0, 0, 0, 0, 0, 0, ...</td>\n",
       "      <td>[0, 0, 0, 0, 0, 0, 0, 0, 0, 0, 0, 1, 1, 0, 0, ...</td>\n",
       "      <td>...</td>\n",
       "      <td>[2, 3, 2, 2, 2, 2, 2, 3, 2, 3, 1, 2, 2, 2, 2, ...</td>\n",
       "      <td>[-1.7273399, -1.4772274, -1.7273399, -1.727339...</td>\n",
       "      <td>73eb8785b21d6395b74723845cbf6f5b31a5d3fce99bac...</td>\n",
       "      <td>[-0.04980561137199402, -0.1424727439880371, -0...</td>\n",
       "      <td>[cb683bec5780e7cef18967a884c195f3805673abd6e64...</td>\n",
       "      <td>[missing]</td>\n",
       "      <td>[13.0]</td>\n",
       "      <td>[0.0]</td>\n",
       "      <td>1.0</td>\n",
       "      <td>[0, 0, 0, 0, 0, 0, 0, 0, 0, 0, 0, 0, 0]</td>\n",
       "    </tr>\n",
       "  </tbody>\n",
       "</table>\n",
       "<p>5 rows × 36 columns</p>\n",
       "</div>"
      ],
      "text/plain": [
       "   session_id_hash  day_index  product_sku_hash_count  \\\n",
       "0            64548         42                      28   \n",
       "1            64552         32                      28   \n",
       "2            64560         59                      28   \n",
       "3            64563         56                      28   \n",
       "4            64568         87                      28   \n",
       "\n",
       "                           product_sku_hash_list_seq  product_url_hash_count  \\\n",
       "0  [2278, 1, 1, 1, 352, 1, 1, 2911, 1, 3184, 1, 1...                      28   \n",
       "1  [2439, 1, 1, 144, 1, 1393, 1, 1, 1, 5544, 1, 1...                      28   \n",
       "2  [1, 1496, 1, 380, 1, 1, 1, 158, 1, 158, 1, 1, ...                      28   \n",
       "3  [1, 1, 21286, 1, 1, 1, 1, 1, 1, 13378, 15451, ...                      28   \n",
       "4  [1, 1, 1, 1, 1, 1, 1, 1, 1, 1, 1, 9138, 1933, ...                      28   \n",
       "\n",
       "                           product_url_hash_list_seq  \\\n",
       "0  [4621, 2010, 10385, 68, 864, 1, 9252, 5913, 36...   \n",
       "1  [4982, 1, 12, 446, 1071, 2921, 14, 5386, 2, 11...   \n",
       "2  [11164, 3120, 5, 912, 13, 982, 357, 494, 1, 49...   \n",
       "3  [2, 64, 52225, 312, 549, 77116, 1178, 1, 16939...   \n",
       "4  [2165, 2, 84, 14027, 5778, 8660, 26650, 137, 3...   \n",
       "\n",
       "                 has_been_removed_from_cart-list_seq  \\\n",
       "0  [0, 0, 0, 0, 0, 0, 0, 0, 0, 0, 0, 0, 0, 0, 0, ...   \n",
       "1  [0, 0, 0, 0, 0, 0, 0, 0, 0, 0, 0, 0, 0, 0, 0, ...   \n",
       "2  [0, 0, 0, 0, 0, 0, 0, 0, 0, 0, 0, 0, 0, 0, 0, ...   \n",
       "3  [0, 0, 0, 0, 0, 0, 0, 0, 0, 0, 0, 0, 0, 0, 0, ...   \n",
       "4  [0, 0, 0, 0, 0, 0, 0, 0, 0, 0, 0, 0, 0, 0, 0, ...   \n",
       "\n",
       "                     has_been_added_to_cart-list_seq  \\\n",
       "0  [0, 0, 0, 0, 0, 0, 0, 0, 0, 0, 0, 0, 0, 0, 0, ...   \n",
       "1  [0, 0, 0, 0, 0, 0, 0, 0, 0, 0, 0, 0, 0, 0, 0, ...   \n",
       "2  [0, 0, 0, 0, 0, 0, 0, 1, 0, 1, 0, 0, 0, 0, 0, ...   \n",
       "3  [0, 0, 0, 0, 0, 0, 0, 0, 0, 0, 0, 0, 0, 0, 0, ...   \n",
       "4  [0, 0, 0, 0, 0, 0, 0, 0, 0, 0, 0, 0, 0, 0, 0, ...   \n",
       "\n",
       "                         has_been_purchased-list_seq  \\\n",
       "0  [0, 0, 0, 0, 0, 0, 0, 0, 0, 0, 0, 0, 0, 0, 0, ...   \n",
       "1  [0, 0, 0, 0, 0, 0, 0, 0, 0, 0, 0, 0, 0, 0, 0, ...   \n",
       "2  [0, 0, 0, 0, 0, 0, 0, 1, 0, 1, 0, 0, 0, 0, 0, ...   \n",
       "3  [0, 0, 0, 0, 0, 0, 0, 0, 0, 0, 0, 0, 0, 0, 0, ...   \n",
       "4  [0, 0, 0, 0, 0, 0, 0, 0, 0, 0, 0, 0, 0, 0, 0, ...   \n",
       "\n",
       "                          has_been_detailed-list_seq  ...  \\\n",
       "0  [1, 0, 0, 0, 1, 0, 0, 1, 0, 1, 0, 0, 1, 0, 1, ...  ...   \n",
       "1  [1, 0, 0, 1, 0, 1, 0, 0, 0, 0, 0, 0, 0, 0, 1, ...  ...   \n",
       "2  [0, 1, 0, 1, 0, 0, 0, 1, 0, 1, 0, 0, 0, 0, 0, ...  ...   \n",
       "3  [0, 0, 1, 0, 0, 0, 0, 0, 0, 1, 1, 0, 1, 0, 1, ...  ...   \n",
       "4  [0, 0, 0, 0, 0, 0, 0, 0, 0, 0, 0, 1, 1, 0, 0, ...  ...   \n",
       "\n",
       "                         timestamp_age_days-list_seq  \\\n",
       "0  [40, 40, 46, 47, 47, 47, 47, 47, 47, 47, 40, 4...   \n",
       "1  [31, 58, 58, 33, 12, 33, 58, 8, 58, 37, 24, 57...   \n",
       "2  [29, 30, 31, 30, 9, 31, 31, 31, 31, 31, 31, 31...   \n",
       "3  [34, 34, 34, 34, 34, 33, 34, 34, 34, 33, 32, 1...   \n",
       "4  [2, 3, 2, 2, 2, 2, 2, 3, 2, 3, 1, 2, 2, 2, 2, ...   \n",
       "\n",
       "                    timestamp_age_days_norm-list_seq  \\\n",
       "0  [0.5461206, 0.5461206, 0.66486025, 0.6831641, ...   \n",
       "1  [0.3306505, 0.86255425, 0.86255425, 0.38335788...   \n",
       "2  [0.2745404, 0.30304796, 0.3306505, 0.30304796,...   \n",
       "3  [0.4085599, 0.4085599, 0.4085599, 0.4085599, 0...   \n",
       "4  [-1.7273399, -1.4772274, -1.7273399, -1.727339...   \n",
       "\n",
       "                            original_session_id_hash  \\\n",
       "0  7322346ca76333a3f57beb488486e3a7103b9b8ae5b81f...   \n",
       "1  7350b2ee3456c1ce3b438fa1c0a14f79d229a3644988ec...   \n",
       "2  73971f9c28a976320ba32f08cf4557b8b58e2b9fa1de6f...   \n",
       "3  73bb059b6e3048f9775cfd147bf49c1655f057e356d7be...   \n",
       "4  73eb8785b21d6395b74723845cbf6f5b31a5d3fce99bac...   \n",
       "\n",
       "                                   flat_query_vector  \\\n",
       "0  [0.00867827795445919, -0.3432416021823883, 0.1...   \n",
       "1  [-0.002791411941871047, 0.05408860743045807, -...   \n",
       "2  [0.1476699411869049, -0.35439008474349976, 0.0...   \n",
       "3  [0.08299337327480316, -0.2532674968242645, 0.0...   \n",
       "4  [-0.04980561137199402, -0.1424727439880371, -0...   \n",
       "\n",
       "                              flat_product_skus_hash  \\\n",
       "0  [bfced2942872e370277a90303b87623d3f1ae629be8cf...   \n",
       "1  [7d310ca5f5c940b78058f8c47a765db2c558258c923c7...   \n",
       "2  [8a6176eac1d792fa81d02bc0d76970f967f7b3040fcce...   \n",
       "3  [7b28d98f05355a7e3a930e64648375e4603a144e20ea2...   \n",
       "4  [cb683bec5780e7cef18967a884c195f3805673abd6e64...   \n",
       "\n",
       "                              flat_clicked_skus_hash       impressions_size  \\\n",
       "0  [c660da5063e4ea50ba2cbf1d266c9dccddddb5d85f4c2...      [0.0, 25.0, 12.0]   \n",
       "1  [31540ffce1e058f4acf13d7994c9988abbf61dc91039f...       [25.0, 2.0, 5.0]   \n",
       "2  [667479857189eee1338e962ca01e66f1e0de83f9a6ea9...           [25.0, 10.0]   \n",
       "3                                          [missing]  [25.0, 5.0, 0.0, 0.0]   \n",
       "4                                          [missing]                 [13.0]   \n",
       "\n",
       "            clicks_size nb_queries  \\\n",
       "0       [0.0, 0.0, 1.0]        3.0   \n",
       "1       [0.0, 1.0, 1.0]        3.0   \n",
       "2            [0.0, 2.0]        2.0   \n",
       "3  [0.0, 0.0, 0.0, 0.0]        4.0   \n",
       "4                 [0.0]        1.0   \n",
       "\n",
       "                                        clicked-flag  \n",
       "0  [0, 0, 0, 0, 0, 0, 0, 0, 0, 0, 0, 0, 0, 0, 0, ...  \n",
       "1  [0, 0, 0, 0, 0, 0, 0, 0, 0, 0, 0, 0, 0, 0, 0, ...  \n",
       "2  [0, 0, 0, 0, 0, 0, 0, 0, 0, 0, 0, 0, 0, 0, 0, ...  \n",
       "3  [0, 0, 0, 0, 0, 0, 0, 0, 0, 0, 0, 0, 0, 0, 0, ...  \n",
       "4            [0, 0, 0, 0, 0, 0, 0, 0, 0, 0, 0, 0, 0]  \n",
       "\n",
       "[5 rows x 36 columns]"
      ]
     },
     "execution_count": 101,
     "metadata": {},
     "output_type": "execute_result"
    }
   ],
   "source": [
    "merged_session_table.head(5)"
   ]
  },
  {
   "cell_type": "markdown",
   "metadata": {},
   "source": [
    "### Encode flat_product_skus_hash and flat_clicked_skus_hash using product_url_hash mapping"
   ]
  },
  {
   "cell_type": "markdown",
   "metadata": {},
   "source": [
    "- load mapping "
   ]
  },
  {
   "cell_type": "code",
   "execution_count": 102,
   "metadata": {},
   "outputs": [],
   "source": [
    "mapping = pd.read_parquet(OUTPUT_DIR+\"/categorify_workflow/categories/unique.product_url_hash.parquet\")"
   ]
  },
  {
   "cell_type": "code",
   "execution_count": 103,
   "metadata": {},
   "outputs": [],
   "source": [
    "mapping_dict = dict(zip(mapping.product_url_hash,mapping.index))"
   ]
  },
  {
   "cell_type": "markdown",
   "metadata": {},
   "source": [
    "- Update mapping with unseen browsing products ids present in `flat_product_skus_hash` and `flat_clicked_skus_hash`"
   ]
  },
  {
   "cell_type": "code",
   "execution_count": 104,
   "metadata": {},
   "outputs": [
    {
     "name": "stdout",
     "output_type": "stream",
     "text": [
      "Number of products present in search and not in browsing is: 949\n"
     ]
    }
   ],
   "source": [
    "prods = [e for impression in merged_session_table.flat_product_skus_hash.values for e in impression]\n",
    "clicked_prod = [e for impression in merged_session_table.flat_clicked_skus_hash.values for e in impression]\n",
    "all_prods = set(prods + clicked_prod)\n",
    "new_prods = all_prods.difference(set(mapping.product_url_hash))\n",
    "print('Number of products present in search and not in browsing is: %s' %len(new_prods))"
   ]
  },
  {
   "cell_type": "code",
   "execution_count": 105,
   "metadata": {},
   "outputs": [],
   "source": [
    "cardinality = len(mapping_dict)\n",
    "new_ids = list(range(cardinality, cardinality+len(new_prods)))\n",
    "new_dict = dict(zip(new_prods, new_ids))\n",
    "mapping_dict.update(new_dict)"
   ]
  },
  {
   "cell_type": "markdown",
   "metadata": {},
   "source": [
    "- Encode list columns :  `flat_product_skus_hash` and `flat_clicked_skus_hash`"
   ]
  },
  {
   "cell_type": "code",
   "execution_count": 106,
   "metadata": {},
   "outputs": [],
   "source": [
    "def encode_list(x): \n",
    "    return [mapping_dict[e] for e in x]"
   ]
  },
  {
   "cell_type": "code",
   "execution_count": 107,
   "metadata": {},
   "outputs": [
    {
     "name": "stderr",
     "output_type": "stream",
     "text": [
      "100%|████████████████████████████████████████████████████████████████████████████████████████████████████| 3291455/3291455 [00:11<00:00, 290746.18it/s]\n",
      "100%|████████████████████████████████████████████████████████████████████████████████████████████████████| 3291455/3291455 [00:06<00:00, 485967.61it/s]\n"
     ]
    }
   ],
   "source": [
    "merged_session_table.flat_product_skus_hash = merged_session_table.flat_product_skus_hash.progress_apply(encode_list)\n",
    "merged_session_table.flat_clicked_skus_hash = merged_session_table.flat_clicked_skus_hash.progress_apply(encode_list)"
   ]
  },
  {
   "cell_type": "code",
   "execution_count": 108,
   "metadata": {},
   "outputs": [
    {
     "data": {
      "text/html": [
       "<div>\n",
       "<style scoped>\n",
       "    .dataframe tbody tr th:only-of-type {\n",
       "        vertical-align: middle;\n",
       "    }\n",
       "\n",
       "    .dataframe tbody tr th {\n",
       "        vertical-align: top;\n",
       "    }\n",
       "\n",
       "    .dataframe thead th {\n",
       "        text-align: right;\n",
       "    }\n",
       "</style>\n",
       "<table border=\"1\" class=\"dataframe\">\n",
       "  <thead>\n",
       "    <tr style=\"text-align: right;\">\n",
       "      <th></th>\n",
       "      <th>session_id_hash</th>\n",
       "      <th>day_index</th>\n",
       "      <th>product_sku_hash_count</th>\n",
       "      <th>product_sku_hash_list_seq</th>\n",
       "      <th>product_url_hash_count</th>\n",
       "      <th>product_url_hash_list_seq</th>\n",
       "      <th>has_been_removed_from_cart-list_seq</th>\n",
       "      <th>has_been_added_to_cart-list_seq</th>\n",
       "      <th>has_been_purchased-list_seq</th>\n",
       "      <th>has_been_detailed-list_seq</th>\n",
       "      <th>...</th>\n",
       "      <th>timestamp_age_days-list_seq</th>\n",
       "      <th>timestamp_age_days_norm-list_seq</th>\n",
       "      <th>original_session_id_hash</th>\n",
       "      <th>flat_query_vector</th>\n",
       "      <th>flat_product_skus_hash</th>\n",
       "      <th>flat_clicked_skus_hash</th>\n",
       "      <th>impressions_size</th>\n",
       "      <th>clicks_size</th>\n",
       "      <th>nb_queries</th>\n",
       "      <th>clicked-flag</th>\n",
       "    </tr>\n",
       "  </thead>\n",
       "  <tbody>\n",
       "    <tr>\n",
       "      <th>0</th>\n",
       "      <td>64548</td>\n",
       "      <td>42</td>\n",
       "      <td>28</td>\n",
       "      <td>[2278, 1, 1, 1, 352, 1, 1, 2911, 1, 3184, 1, 1...</td>\n",
       "      <td>28</td>\n",
       "      <td>[4621, 2010, 10385, 68, 864, 1, 9252, 5913, 36...</td>\n",
       "      <td>[0, 0, 0, 0, 0, 0, 0, 0, 0, 0, 0, 0, 0, 0, 0, ...</td>\n",
       "      <td>[0, 0, 0, 0, 0, 0, 0, 0, 0, 0, 0, 0, 0, 0, 0, ...</td>\n",
       "      <td>[0, 0, 0, 0, 0, 0, 0, 0, 0, 0, 0, 0, 0, 0, 0, ...</td>\n",
       "      <td>[1, 0, 0, 0, 1, 0, 0, 1, 0, 1, 0, 0, 1, 0, 1, ...</td>\n",
       "      <td>...</td>\n",
       "      <td>[40, 40, 46, 47, 47, 47, 47, 47, 47, 47, 40, 4...</td>\n",
       "      <td>[0.5461206, 0.5461206, 0.66486025, 0.6831641, ...</td>\n",
       "      <td>7322346ca76333a3f57beb488486e3a7103b9b8ae5b81f...</td>\n",
       "      <td>[0.00867827795445919, -0.3432416021823883, 0.1...</td>\n",
       "      <td>[6056, 3598, 10943, 7062, 7926, 9107, 4452, 12...</td>\n",
       "      <td>[6983]</td>\n",
       "      <td>[0.0, 25.0, 12.0]</td>\n",
       "      <td>[0.0, 0.0, 1.0]</td>\n",
       "      <td>3.0</td>\n",
       "      <td>[0, 0, 0, 0, 0, 0, 0, 0, 0, 0, 0, 0, 0, 0, 0, ...</td>\n",
       "    </tr>\n",
       "    <tr>\n",
       "      <th>1</th>\n",
       "      <td>64552</td>\n",
       "      <td>32</td>\n",
       "      <td>28</td>\n",
       "      <td>[2439, 1, 1, 144, 1, 1393, 1, 1, 1, 5544, 1, 1...</td>\n",
       "      <td>28</td>\n",
       "      <td>[4982, 1, 12, 446, 1071, 2921, 14, 5386, 2, 11...</td>\n",
       "      <td>[0, 0, 0, 0, 0, 0, 0, 0, 0, 0, 0, 0, 0, 0, 0, ...</td>\n",
       "      <td>[0, 0, 0, 0, 0, 0, 0, 0, 0, 0, 0, 0, 0, 0, 0, ...</td>\n",
       "      <td>[0, 0, 0, 0, 0, 0, 0, 0, 0, 0, 0, 0, 0, 0, 0, ...</td>\n",
       "      <td>[1, 0, 0, 1, 0, 1, 0, 0, 0, 0, 0, 0, 0, 0, 1, ...</td>\n",
       "      <td>...</td>\n",
       "      <td>[31, 58, 58, 33, 12, 33, 58, 8, 58, 37, 24, 57...</td>\n",
       "      <td>[0.3306505, 0.86255425, 0.86255425, 0.38335788...</td>\n",
       "      <td>7350b2ee3456c1ce3b438fa1c0a14f79d229a3644988ec...</td>\n",
       "      <td>[-0.002791411941871047, 0.05408860743045807, -...</td>\n",
       "      <td>[126942, 37103, 43807, 64264, 53843, 61638, 77...</td>\n",
       "      <td>[11340, 15677]</td>\n",
       "      <td>[25.0, 2.0, 5.0]</td>\n",
       "      <td>[0.0, 1.0, 1.0]</td>\n",
       "      <td>3.0</td>\n",
       "      <td>[0, 0, 0, 0, 0, 0, 0, 0, 0, 0, 0, 0, 0, 0, 0, ...</td>\n",
       "    </tr>\n",
       "    <tr>\n",
       "      <th>2</th>\n",
       "      <td>64560</td>\n",
       "      <td>59</td>\n",
       "      <td>28</td>\n",
       "      <td>[1, 1496, 1, 380, 1, 1, 1, 158, 1, 158, 1, 1, ...</td>\n",
       "      <td>28</td>\n",
       "      <td>[11164, 3120, 5, 912, 13, 982, 357, 494, 1, 49...</td>\n",
       "      <td>[0, 0, 0, 0, 0, 0, 0, 0, 0, 0, 0, 0, 0, 0, 0, ...</td>\n",
       "      <td>[0, 0, 0, 0, 0, 0, 0, 1, 0, 1, 0, 0, 0, 0, 0, ...</td>\n",
       "      <td>[0, 0, 0, 0, 0, 0, 0, 1, 0, 1, 0, 0, 0, 0, 0, ...</td>\n",
       "      <td>[0, 1, 0, 1, 0, 0, 0, 1, 0, 1, 0, 0, 0, 0, 0, ...</td>\n",
       "      <td>...</td>\n",
       "      <td>[29, 30, 31, 30, 9, 31, 31, 31, 31, 31, 31, 31...</td>\n",
       "      <td>[0.2745404, 0.30304796, 0.3306505, 0.30304796,...</td>\n",
       "      <td>73971f9c28a976320ba32f08cf4557b8b58e2b9fa1de6f...</td>\n",
       "      <td>[0.1476699411869049, -0.35439008474349976, 0.0...</td>\n",
       "      <td>[8650, 1342, 223, 3311, 654, 624, 9486, 6577, ...</td>\n",
       "      <td>[494, 494]</td>\n",
       "      <td>[25.0, 10.0]</td>\n",
       "      <td>[0.0, 2.0]</td>\n",
       "      <td>2.0</td>\n",
       "      <td>[0, 0, 0, 0, 0, 0, 0, 0, 0, 0, 0, 0, 0, 0, 0, ...</td>\n",
       "    </tr>\n",
       "    <tr>\n",
       "      <th>3</th>\n",
       "      <td>64563</td>\n",
       "      <td>56</td>\n",
       "      <td>28</td>\n",
       "      <td>[1, 1, 21286, 1, 1, 1, 1, 1, 1, 13378, 15451, ...</td>\n",
       "      <td>28</td>\n",
       "      <td>[2, 64, 52225, 312, 549, 77116, 1178, 1, 16939...</td>\n",
       "      <td>[0, 0, 0, 0, 0, 0, 0, 0, 0, 0, 0, 0, 0, 0, 0, ...</td>\n",
       "      <td>[0, 0, 0, 0, 0, 0, 0, 0, 0, 0, 0, 0, 0, 0, 0, ...</td>\n",
       "      <td>[0, 0, 0, 0, 0, 0, 0, 0, 0, 0, 0, 0, 0, 0, 0, ...</td>\n",
       "      <td>[0, 0, 1, 0, 0, 0, 0, 0, 0, 1, 1, 0, 1, 0, 1, ...</td>\n",
       "      <td>...</td>\n",
       "      <td>[34, 34, 34, 34, 34, 33, 34, 34, 34, 33, 32, 1...</td>\n",
       "      <td>[0.4085599, 0.4085599, 0.4085599, 0.4085599, 0...</td>\n",
       "      <td>73bb059b6e3048f9775cfd147bf49c1655f057e356d7be...</td>\n",
       "      <td>[0.08299337327480316, -0.2532674968242645, 0.0...</td>\n",
       "      <td>[33001, 50314, 34478, 50973, 40885, 36747, 384...</td>\n",
       "      <td>[488659]</td>\n",
       "      <td>[25.0, 5.0, 0.0, 0.0]</td>\n",
       "      <td>[0.0, 0.0, 0.0, 0.0]</td>\n",
       "      <td>4.0</td>\n",
       "      <td>[0, 0, 0, 0, 0, 0, 0, 0, 0, 0, 0, 0, 0, 0, 0, ...</td>\n",
       "    </tr>\n",
       "    <tr>\n",
       "      <th>4</th>\n",
       "      <td>64568</td>\n",
       "      <td>87</td>\n",
       "      <td>28</td>\n",
       "      <td>[1, 1, 1, 1, 1, 1, 1, 1, 1, 1, 1, 9138, 1933, ...</td>\n",
       "      <td>28</td>\n",
       "      <td>[2165, 2, 84, 14027, 5778, 8660, 26650, 137, 3...</td>\n",
       "      <td>[0, 0, 0, 0, 0, 0, 0, 0, 0, 0, 0, 0, 0, 0, 0, ...</td>\n",
       "      <td>[0, 0, 0, 0, 0, 0, 0, 0, 0, 0, 0, 0, 0, 0, 0, ...</td>\n",
       "      <td>[0, 0, 0, 0, 0, 0, 0, 0, 0, 0, 0, 0, 0, 0, 0, ...</td>\n",
       "      <td>[0, 0, 0, 0, 0, 0, 0, 0, 0, 0, 0, 1, 1, 0, 0, ...</td>\n",
       "      <td>...</td>\n",
       "      <td>[2, 3, 2, 2, 2, 2, 2, 3, 2, 3, 1, 2, 2, 2, 2, ...</td>\n",
       "      <td>[-1.7273399, -1.4772274, -1.7273399, -1.727339...</td>\n",
       "      <td>73eb8785b21d6395b74723845cbf6f5b31a5d3fce99bac...</td>\n",
       "      <td>[-0.04980561137199402, -0.1424727439880371, -0...</td>\n",
       "      <td>[6664, 2979, 1535, 200, 3167, 1985, 9076, 2895...</td>\n",
       "      <td>[488659]</td>\n",
       "      <td>[13.0]</td>\n",
       "      <td>[0.0]</td>\n",
       "      <td>1.0</td>\n",
       "      <td>[0, 0, 0, 0, 0, 0, 0, 0, 0, 0, 0, 0, 0]</td>\n",
       "    </tr>\n",
       "  </tbody>\n",
       "</table>\n",
       "<p>5 rows × 36 columns</p>\n",
       "</div>"
      ],
      "text/plain": [
       "   session_id_hash  day_index  product_sku_hash_count  \\\n",
       "0            64548         42                      28   \n",
       "1            64552         32                      28   \n",
       "2            64560         59                      28   \n",
       "3            64563         56                      28   \n",
       "4            64568         87                      28   \n",
       "\n",
       "                           product_sku_hash_list_seq  product_url_hash_count  \\\n",
       "0  [2278, 1, 1, 1, 352, 1, 1, 2911, 1, 3184, 1, 1...                      28   \n",
       "1  [2439, 1, 1, 144, 1, 1393, 1, 1, 1, 5544, 1, 1...                      28   \n",
       "2  [1, 1496, 1, 380, 1, 1, 1, 158, 1, 158, 1, 1, ...                      28   \n",
       "3  [1, 1, 21286, 1, 1, 1, 1, 1, 1, 13378, 15451, ...                      28   \n",
       "4  [1, 1, 1, 1, 1, 1, 1, 1, 1, 1, 1, 9138, 1933, ...                      28   \n",
       "\n",
       "                           product_url_hash_list_seq  \\\n",
       "0  [4621, 2010, 10385, 68, 864, 1, 9252, 5913, 36...   \n",
       "1  [4982, 1, 12, 446, 1071, 2921, 14, 5386, 2, 11...   \n",
       "2  [11164, 3120, 5, 912, 13, 982, 357, 494, 1, 49...   \n",
       "3  [2, 64, 52225, 312, 549, 77116, 1178, 1, 16939...   \n",
       "4  [2165, 2, 84, 14027, 5778, 8660, 26650, 137, 3...   \n",
       "\n",
       "                 has_been_removed_from_cart-list_seq  \\\n",
       "0  [0, 0, 0, 0, 0, 0, 0, 0, 0, 0, 0, 0, 0, 0, 0, ...   \n",
       "1  [0, 0, 0, 0, 0, 0, 0, 0, 0, 0, 0, 0, 0, 0, 0, ...   \n",
       "2  [0, 0, 0, 0, 0, 0, 0, 0, 0, 0, 0, 0, 0, 0, 0, ...   \n",
       "3  [0, 0, 0, 0, 0, 0, 0, 0, 0, 0, 0, 0, 0, 0, 0, ...   \n",
       "4  [0, 0, 0, 0, 0, 0, 0, 0, 0, 0, 0, 0, 0, 0, 0, ...   \n",
       "\n",
       "                     has_been_added_to_cart-list_seq  \\\n",
       "0  [0, 0, 0, 0, 0, 0, 0, 0, 0, 0, 0, 0, 0, 0, 0, ...   \n",
       "1  [0, 0, 0, 0, 0, 0, 0, 0, 0, 0, 0, 0, 0, 0, 0, ...   \n",
       "2  [0, 0, 0, 0, 0, 0, 0, 1, 0, 1, 0, 0, 0, 0, 0, ...   \n",
       "3  [0, 0, 0, 0, 0, 0, 0, 0, 0, 0, 0, 0, 0, 0, 0, ...   \n",
       "4  [0, 0, 0, 0, 0, 0, 0, 0, 0, 0, 0, 0, 0, 0, 0, ...   \n",
       "\n",
       "                         has_been_purchased-list_seq  \\\n",
       "0  [0, 0, 0, 0, 0, 0, 0, 0, 0, 0, 0, 0, 0, 0, 0, ...   \n",
       "1  [0, 0, 0, 0, 0, 0, 0, 0, 0, 0, 0, 0, 0, 0, 0, ...   \n",
       "2  [0, 0, 0, 0, 0, 0, 0, 1, 0, 1, 0, 0, 0, 0, 0, ...   \n",
       "3  [0, 0, 0, 0, 0, 0, 0, 0, 0, 0, 0, 0, 0, 0, 0, ...   \n",
       "4  [0, 0, 0, 0, 0, 0, 0, 0, 0, 0, 0, 0, 0, 0, 0, ...   \n",
       "\n",
       "                          has_been_detailed-list_seq  ...  \\\n",
       "0  [1, 0, 0, 0, 1, 0, 0, 1, 0, 1, 0, 0, 1, 0, 1, ...  ...   \n",
       "1  [1, 0, 0, 1, 0, 1, 0, 0, 0, 0, 0, 0, 0, 0, 1, ...  ...   \n",
       "2  [0, 1, 0, 1, 0, 0, 0, 1, 0, 1, 0, 0, 0, 0, 0, ...  ...   \n",
       "3  [0, 0, 1, 0, 0, 0, 0, 0, 0, 1, 1, 0, 1, 0, 1, ...  ...   \n",
       "4  [0, 0, 0, 0, 0, 0, 0, 0, 0, 0, 0, 1, 1, 0, 0, ...  ...   \n",
       "\n",
       "                         timestamp_age_days-list_seq  \\\n",
       "0  [40, 40, 46, 47, 47, 47, 47, 47, 47, 47, 40, 4...   \n",
       "1  [31, 58, 58, 33, 12, 33, 58, 8, 58, 37, 24, 57...   \n",
       "2  [29, 30, 31, 30, 9, 31, 31, 31, 31, 31, 31, 31...   \n",
       "3  [34, 34, 34, 34, 34, 33, 34, 34, 34, 33, 32, 1...   \n",
       "4  [2, 3, 2, 2, 2, 2, 2, 3, 2, 3, 1, 2, 2, 2, 2, ...   \n",
       "\n",
       "                    timestamp_age_days_norm-list_seq  \\\n",
       "0  [0.5461206, 0.5461206, 0.66486025, 0.6831641, ...   \n",
       "1  [0.3306505, 0.86255425, 0.86255425, 0.38335788...   \n",
       "2  [0.2745404, 0.30304796, 0.3306505, 0.30304796,...   \n",
       "3  [0.4085599, 0.4085599, 0.4085599, 0.4085599, 0...   \n",
       "4  [-1.7273399, -1.4772274, -1.7273399, -1.727339...   \n",
       "\n",
       "                            original_session_id_hash  \\\n",
       "0  7322346ca76333a3f57beb488486e3a7103b9b8ae5b81f...   \n",
       "1  7350b2ee3456c1ce3b438fa1c0a14f79d229a3644988ec...   \n",
       "2  73971f9c28a976320ba32f08cf4557b8b58e2b9fa1de6f...   \n",
       "3  73bb059b6e3048f9775cfd147bf49c1655f057e356d7be...   \n",
       "4  73eb8785b21d6395b74723845cbf6f5b31a5d3fce99bac...   \n",
       "\n",
       "                                   flat_query_vector  \\\n",
       "0  [0.00867827795445919, -0.3432416021823883, 0.1...   \n",
       "1  [-0.002791411941871047, 0.05408860743045807, -...   \n",
       "2  [0.1476699411869049, -0.35439008474349976, 0.0...   \n",
       "3  [0.08299337327480316, -0.2532674968242645, 0.0...   \n",
       "4  [-0.04980561137199402, -0.1424727439880371, -0...   \n",
       "\n",
       "                              flat_product_skus_hash flat_clicked_skus_hash  \\\n",
       "0  [6056, 3598, 10943, 7062, 7926, 9107, 4452, 12...                 [6983]   \n",
       "1  [126942, 37103, 43807, 64264, 53843, 61638, 77...         [11340, 15677]   \n",
       "2  [8650, 1342, 223, 3311, 654, 624, 9486, 6577, ...             [494, 494]   \n",
       "3  [33001, 50314, 34478, 50973, 40885, 36747, 384...               [488659]   \n",
       "4  [6664, 2979, 1535, 200, 3167, 1985, 9076, 2895...               [488659]   \n",
       "\n",
       "        impressions_size           clicks_size nb_queries  \\\n",
       "0      [0.0, 25.0, 12.0]       [0.0, 0.0, 1.0]        3.0   \n",
       "1       [25.0, 2.0, 5.0]       [0.0, 1.0, 1.0]        3.0   \n",
       "2           [25.0, 10.0]            [0.0, 2.0]        2.0   \n",
       "3  [25.0, 5.0, 0.0, 0.0]  [0.0, 0.0, 0.0, 0.0]        4.0   \n",
       "4                 [13.0]                 [0.0]        1.0   \n",
       "\n",
       "                                        clicked-flag  \n",
       "0  [0, 0, 0, 0, 0, 0, 0, 0, 0, 0, 0, 0, 0, 0, 0, ...  \n",
       "1  [0, 0, 0, 0, 0, 0, 0, 0, 0, 0, 0, 0, 0, 0, 0, ...  \n",
       "2  [0, 0, 0, 0, 0, 0, 0, 0, 0, 0, 0, 0, 0, 0, 0, ...  \n",
       "3  [0, 0, 0, 0, 0, 0, 0, 0, 0, 0, 0, 0, 0, 0, 0, ...  \n",
       "4            [0, 0, 0, 0, 0, 0, 0, 0, 0, 0, 0, 0, 0]  \n",
       "\n",
       "[5 rows x 36 columns]"
      ]
     },
     "execution_count": 108,
     "metadata": {},
     "output_type": "execute_result"
    }
   ],
   "source": [
    "merged_session_table.head()"
   ]
  },
  {
   "cell_type": "markdown",
   "metadata": {},
   "source": [
    "- Save updated mapping "
   ]
  },
  {
   "cell_type": "code",
   "execution_count": 109,
   "metadata": {},
   "outputs": [],
   "source": [
    "pd.DataFrame(mapping_dict.keys(), columns=['product_url_hash']).to_parquet(os.path.join(OUTPUT_DIR,\n",
    "                                                                                        'unique.updated_product_url_hash.parquet'))"
   ]
  },
  {
   "cell_type": "markdown",
   "metadata": {},
   "source": [
    "### Create clicked-flag : \n",
    "\n",
    "- check if element of `flat_product_skus_hash` was clicked or not.\n",
    "\n",
    "P.S: We ignore the click if interacted item is in the list of clicks (True in 1% of search interactions). "
   ]
  },
  {
   "cell_type": "code",
   "execution_count": 110,
   "metadata": {},
   "outputs": [
    {
     "name": "stderr",
     "output_type": "stream",
     "text": [
      "100%|█████████████████████████████████████████████████████████████████████████████████████████████████████| 3291455/3291455 [02:41<00:00, 20384.25it/s]\n"
     ]
    }
   ],
   "source": [
    "merged_session_table['clicked-flag'] = merged_session_table.progress_apply(lambda x: [int(e in  list(set(x['flat_clicked_skus_hash']).difference(set(x['product_sku_hash_list_seq'])))) \\\n",
    "                                                                          for e in x['flat_product_skus_hash']], axis=1)"
   ]
  },
  {
   "cell_type": "code",
   "execution_count": 111,
   "metadata": {},
   "outputs": [
    {
     "data": {
      "text/html": [
       "<div>\n",
       "<style scoped>\n",
       "    .dataframe tbody tr th:only-of-type {\n",
       "        vertical-align: middle;\n",
       "    }\n",
       "\n",
       "    .dataframe tbody tr th {\n",
       "        vertical-align: top;\n",
       "    }\n",
       "\n",
       "    .dataframe thead th {\n",
       "        text-align: right;\n",
       "    }\n",
       "</style>\n",
       "<table border=\"1\" class=\"dataframe\">\n",
       "  <thead>\n",
       "    <tr style=\"text-align: right;\">\n",
       "      <th></th>\n",
       "      <th>session_id_hash</th>\n",
       "      <th>day_index</th>\n",
       "      <th>product_sku_hash_count</th>\n",
       "      <th>product_sku_hash_list_seq</th>\n",
       "      <th>product_url_hash_count</th>\n",
       "      <th>product_url_hash_list_seq</th>\n",
       "      <th>has_been_removed_from_cart-list_seq</th>\n",
       "      <th>has_been_added_to_cart-list_seq</th>\n",
       "      <th>has_been_purchased-list_seq</th>\n",
       "      <th>has_been_detailed-list_seq</th>\n",
       "      <th>...</th>\n",
       "      <th>timestamp_age_days-list_seq</th>\n",
       "      <th>timestamp_age_days_norm-list_seq</th>\n",
       "      <th>original_session_id_hash</th>\n",
       "      <th>flat_query_vector</th>\n",
       "      <th>flat_product_skus_hash</th>\n",
       "      <th>flat_clicked_skus_hash</th>\n",
       "      <th>impressions_size</th>\n",
       "      <th>clicks_size</th>\n",
       "      <th>nb_queries</th>\n",
       "      <th>clicked-flag</th>\n",
       "    </tr>\n",
       "  </thead>\n",
       "  <tbody>\n",
       "    <tr>\n",
       "      <th>1020</th>\n",
       "      <td>31933</td>\n",
       "      <td>48</td>\n",
       "      <td>36</td>\n",
       "      <td>[1, 24114, 9213, 9857, 11042, 1, 8988, 15137, ...</td>\n",
       "      <td>36</td>\n",
       "      <td>[5330, 64936, 19365, 20831, 23500, 1, 18848, 3...</td>\n",
       "      <td>[0, 0, 0, 0, 0, 0, 0, 0, 0, 0, 0, 0, 0, 0, 0, ...</td>\n",
       "      <td>[0, 0, 0, 0, 0, 0, 0, 0, 0, 0, 0, 0, 0, 0, 0, ...</td>\n",
       "      <td>[0, 0, 0, 0, 0, 0, 0, 0, 0, 0, 0, 0, 0, 0, 0, ...</td>\n",
       "      <td>[0, 1, 1, 1, 1, 0, 1, 1, 0, 0, 0, 1, 0, 0, 1, ...</td>\n",
       "      <td>...</td>\n",
       "      <td>[41, 36, 40, 40, 40, 42, 41, 41, 42, 4, 0, 41,...</td>\n",
       "      <td>[0.56707126, 0.45687267, 0.5461206, 0.5461206,...</td>\n",
       "      <td>20475ac677758125e6e3f7e6eec49c9c986e3cae0acd5a...</td>\n",
       "      <td>[0.0, 0.0, 0.0, 0.0, 0.0, 0.0, 0.0, 0.0, 0.0, ...</td>\n",
       "      <td>[488659]</td>\n",
       "      <td>[488659]</td>\n",
       "      <td>[0]</td>\n",
       "      <td>None</td>\n",
       "      <td>0.0</td>\n",
       "      <td>[1]</td>\n",
       "    </tr>\n",
       "    <tr>\n",
       "      <th>1021</th>\n",
       "      <td>31934</td>\n",
       "      <td>87</td>\n",
       "      <td>36</td>\n",
       "      <td>[1, 1, 1, 1, 1, 1, 936, 1, 1, 1, 1, 1341, 1, 1...</td>\n",
       "      <td>36</td>\n",
       "      <td>[1588, 29308, 29601, 1, 10313, 247963, 1974, 5...</td>\n",
       "      <td>[0, 0, 0, 0, 0, 0, 0, 0, 0, 0, 0, 0, 0, 0, 0, ...</td>\n",
       "      <td>[0, 0, 0, 0, 0, 0, 0, 0, 0, 0, 0, 0, 0, 0, 0, ...</td>\n",
       "      <td>[0, 0, 0, 0, 0, 0, 0, 0, 0, 0, 0, 0, 0, 0, 0, ...</td>\n",
       "      <td>[0, 0, 0, 0, 0, 0, 1, 0, 0, 0, 0, 1, 0, 0, 0, ...</td>\n",
       "      <td>...</td>\n",
       "      <td>[3, 2, 3, 3, 3, 0, 3, 1, 3, 3, 3, 3, 0, 1, 3, ...</td>\n",
       "      <td>[-1.4772274, -1.7273399, -1.4772274, -1.477227...</td>\n",
       "      <td>20533b32b935b77385e081f0255d543ff57a0ee3761a58...</td>\n",
       "      <td>[0.0, 0.0, 0.0, 0.0, 0.0, 0.0, 0.0, 0.0, 0.0, ...</td>\n",
       "      <td>[488659]</td>\n",
       "      <td>[488659]</td>\n",
       "      <td>[0]</td>\n",
       "      <td>None</td>\n",
       "      <td>0.0</td>\n",
       "      <td>[1]</td>\n",
       "    </tr>\n",
       "    <tr>\n",
       "      <th>1022</th>\n",
       "      <td>31935</td>\n",
       "      <td>71</td>\n",
       "      <td>36</td>\n",
       "      <td>[2, 3755, 2, 7, 1, 1, 1, 1, 7, 1, 2, 1, 7, 2, ...</td>\n",
       "      <td>36</td>\n",
       "      <td>[8, 7609, 8, 66, 33, 3, 1856, 35, 66, 25, 8, 1...</td>\n",
       "      <td>[1, 0, 1, 1, 0, 0, 0, 0, 1, 0, 1, 0, 1, 1, 1, ...</td>\n",
       "      <td>[0, 1, 0, 0, 0, 0, 0, 0, 0, 0, 0, 0, 0, 0, 0, ...</td>\n",
       "      <td>[0, 1, 0, 0, 0, 0, 0, 0, 0, 0, 0, 0, 0, 0, 0, ...</td>\n",
       "      <td>[0, 1, 0, 0, 0, 0, 0, 0, 0, 0, 0, 0, 0, 0, 0, ...</td>\n",
       "      <td>...</td>\n",
       "      <td>[19, 19, 19, 19, 19, 19, 19, 19, 19, 19, 19, 1...</td>\n",
       "      <td>[-0.077973224, -0.077973224, -0.077973224, -0....</td>\n",
       "      <td>2056b037da7667967ea6b8aade069473cf514e88adf032...</td>\n",
       "      <td>[0.0, 0.0, 0.0, 0.0, 0.0, 0.0, 0.0, 0.0, 0.0, ...</td>\n",
       "      <td>[488659]</td>\n",
       "      <td>[488659]</td>\n",
       "      <td>[0]</td>\n",
       "      <td>None</td>\n",
       "      <td>0.0</td>\n",
       "      <td>[1]</td>\n",
       "    </tr>\n",
       "    <tr>\n",
       "      <th>1023</th>\n",
       "      <td>31936</td>\n",
       "      <td>88</td>\n",
       "      <td>36</td>\n",
       "      <td>[7402, 1, 1, 1, 7890, 1, 8302, 7719, 10174, 1,...</td>\n",
       "      <td>36</td>\n",
       "      <td>[15279, 24442, 1, 15, 16379, 109, 17355, 16004...</td>\n",
       "      <td>[0, 0, 0, 0, 0, 0, 0, 0, 0, 0, 0, 0, 0, 0, 0, ...</td>\n",
       "      <td>[0, 0, 0, 0, 0, 0, 0, 0, 0, 0, 0, 0, 0, 0, 0, ...</td>\n",
       "      <td>[0, 0, 0, 0, 0, 0, 0, 0, 0, 0, 0, 0, 0, 0, 0, ...</td>\n",
       "      <td>[1, 0, 0, 0, 1, 0, 1, 1, 1, 0, 0, 0, 0, 1, 1, ...</td>\n",
       "      <td>...</td>\n",
       "      <td>[2, 0, 2, 2, 0, 2, 1, 0, 1, 0, 2, 0, 1, 1, 1, ...</td>\n",
       "      <td>[-1.7273399, -2.6824794, -1.7273399, -1.727339...</td>\n",
       "      <td>205be498f2ce779cdaafab6b11862de815f92594464dbf...</td>\n",
       "      <td>[0.0, 0.0, 0.0, 0.0, 0.0, 0.0, 0.0, 0.0, 0.0, ...</td>\n",
       "      <td>[488659]</td>\n",
       "      <td>[488659]</td>\n",
       "      <td>[0]</td>\n",
       "      <td>None</td>\n",
       "      <td>0.0</td>\n",
       "      <td>[1]</td>\n",
       "    </tr>\n",
       "    <tr>\n",
       "      <th>1024</th>\n",
       "      <td>42913</td>\n",
       "      <td>19</td>\n",
       "      <td>33</td>\n",
       "      <td>[1, 1, 1, 1, 1, 1, 1, 1, 9890, 1, 5193, 1, 477...</td>\n",
       "      <td>33</td>\n",
       "      <td>[1420, 14905, 3, 907, 28643, 7, 9, 9929, 20891...</td>\n",
       "      <td>[0, 0, 0, 0, 0, 0, 0, 0, 0, 0, 0, 0, 0, 0, 1, ...</td>\n",
       "      <td>[0, 0, 0, 0, 0, 0, 0, 0, 0, 0, 1, 0, 0, 1, 0, ...</td>\n",
       "      <td>[0, 0, 0, 0, 0, 0, 0, 0, 0, 0, 0, 0, 0, 0, 0, ...</td>\n",
       "      <td>[0, 0, 0, 0, 0, 0, 0, 0, 1, 0, 1, 0, 1, 1, 0, ...</td>\n",
       "      <td>...</td>\n",
       "      <td>[71, 70, 71, 70, 70, 71, 71, 70, 70, 70, 70, 7...</td>\n",
       "      <td>[1.0356778, 1.0235182, 1.0356778, 1.0235182, 1...</td>\n",
       "      <td>c900d891216704d06edd5081f2c0531d8871aaaac71c87...</td>\n",
       "      <td>[-0.06847687065601349, -0.15405967831611633, 0...</td>\n",
       "      <td>[488659]</td>\n",
       "      <td>[488659]</td>\n",
       "      <td>[0.0]</td>\n",
       "      <td>[0.0]</td>\n",
       "      <td>1.0</td>\n",
       "      <td>[1]</td>\n",
       "    </tr>\n",
       "    <tr>\n",
       "      <th>1025</th>\n",
       "      <td>42915</td>\n",
       "      <td>19</td>\n",
       "      <td>33</td>\n",
       "      <td>[1, 1, 300, 223, 1, 1, 1, 1, 1, 1435, 300, 1, ...</td>\n",
       "      <td>33</td>\n",
       "      <td>[2, 1779, 776, 637, 1, 1850, 39990, 39089, 585...</td>\n",
       "      <td>[0, 0, 0, 0, 0, 0, 0, 0, 0, 0, 0, 0, 0, 0, 0, ...</td>\n",
       "      <td>[0, 0, 0, 0, 0, 0, 0, 0, 0, 0, 0, 0, 0, 0, 0, ...</td>\n",
       "      <td>[0, 0, 0, 0, 0, 0, 0, 0, 0, 0, 0, 0, 0, 0, 0, ...</td>\n",
       "      <td>[0, 0, 1, 1, 0, 0, 0, 0, 0, 1, 1, 0, 1, 0, 0, ...</td>\n",
       "      <td>...</td>\n",
       "      <td>[71, 69, 70, 71, 71, 71, 8, 8, 8, 71, 70, 71, ...</td>\n",
       "      <td>[1.0356778, 1.0111856, 1.0235182, 1.0356778, 1...</td>\n",
       "      <td>c922840659415c1b7d4bbc6ead2f13ea73ec9db09f5cf3...</td>\n",
       "      <td>[-0.03456311300396919, -0.37039944529533386, 0...</td>\n",
       "      <td>[37153, 637, 7594, 1804, 184, 23901, 776, 5566...</td>\n",
       "      <td>[776, 776]</td>\n",
       "      <td>[20.0]</td>\n",
       "      <td>[2.0]</td>\n",
       "      <td>1.0</td>\n",
       "      <td>[0, 0, 0, 0, 0, 0, 1, 0, 0, 0, 0, 0, 0, 0, 0, ...</td>\n",
       "    </tr>\n",
       "    <tr>\n",
       "      <th>1026</th>\n",
       "      <td>42916</td>\n",
       "      <td>62</td>\n",
       "      <td>33</td>\n",
       "      <td>[4382, 1, 1, 7977, 1, 2664, 5522, 10560, 14398...</td>\n",
       "      <td>33</td>\n",
       "      <td>[8907, 267, 24, 16576, 1975, 5427, 11285, 2239...</td>\n",
       "      <td>[0, 0, 0, 0, 0, 0, 0, 0, 0, 0, 0, 0, 0, 0, 0, ...</td>\n",
       "      <td>[0, 0, 0, 0, 0, 0, 0, 0, 1, 0, 0, 0, 0, 0, 0, ...</td>\n",
       "      <td>[0, 0, 0, 0, 0, 0, 0, 0, 0, 0, 0, 0, 0, 0, 0, ...</td>\n",
       "      <td>[1, 0, 0, 1, 0, 1, 1, 1, 1, 0, 1, 0, 1, 0, 0, ...</td>\n",
       "      <td>...</td>\n",
       "      <td>[28, 28, 28, 28, 28, 27, 27, 26, 26, 28, 28, 2...</td>\n",
       "      <td>[0.24506608, 0.24506608, 0.24506608, 0.2450660...</td>\n",
       "      <td>c94b0f64ef8289b518be7df27189986c7acf5efdd1a45b...</td>\n",
       "      <td>[-0.2519949972629547, 0.06259388476610184, -0....</td>\n",
       "      <td>[5894, 19090, 5364, 9140, 10332, 5427, 4755, 1...</td>\n",
       "      <td>[488659]</td>\n",
       "      <td>[25.0]</td>\n",
       "      <td>[0.0]</td>\n",
       "      <td>1.0</td>\n",
       "      <td>[0, 0, 0, 0, 0, 0, 0, 0, 0, 0, 0, 0, 0, 0, 0, ...</td>\n",
       "    </tr>\n",
       "    <tr>\n",
       "      <th>1027</th>\n",
       "      <td>42917</td>\n",
       "      <td>36</td>\n",
       "      <td>33</td>\n",
       "      <td>[1, 1, 1, 1435, 1, 1994, 1, 4590, 1, 1, 4510, ...</td>\n",
       "      <td>33</td>\n",
       "      <td>[489, 2762, 5479, 2994, 24, 4079, 1, 9313, 141...</td>\n",
       "      <td>[0, 0, 0, 0, 0, 0, 0, 0, 0, 0, 0, 0, 0, 0, 0, ...</td>\n",
       "      <td>[0, 0, 0, 0, 0, 0, 0, 0, 0, 0, 0, 0, 0, 0, 0, ...</td>\n",
       "      <td>[0, 0, 0, 0, 0, 0, 0, 0, 0, 0, 0, 0, 0, 0, 0, ...</td>\n",
       "      <td>[0, 0, 0, 1, 0, 1, 0, 1, 0, 0, 1, 0, 1, 0, 0, ...</td>\n",
       "      <td>...</td>\n",
       "      <td>[54, 54, 54, 54, 54, 54, 54, 54, 54, 54, 53, 5...</td>\n",
       "      <td>[0.80151826, 0.80151826, 0.80151826, 0.8015182...</td>\n",
       "      <td>c9675e535ea1a74af342efed7db1f28e14d81603dded2c...</td>\n",
       "      <td>[0.027160272002220154, -0.2507864236831665, 0....</td>\n",
       "      <td>[15233, 12142, 13315, 32262, 13534, 29773, 209...</td>\n",
       "      <td>[9102]</td>\n",
       "      <td>[0.0, 9.0, 11.0]</td>\n",
       "      <td>[0.0, 0.0, 1.0]</td>\n",
       "      <td>3.0</td>\n",
       "      <td>[0, 0, 0, 0, 0, 0, 0, 0, 0, 0, 0, 0, 0, 0, 0, ...</td>\n",
       "    </tr>\n",
       "    <tr>\n",
       "      <th>1028</th>\n",
       "      <td>42922</td>\n",
       "      <td>12</td>\n",
       "      <td>33</td>\n",
       "      <td>[1, 1, 1, 1, 12193, 1, 1, 11570, 1, 1, 1, 1745...</td>\n",
       "      <td>33</td>\n",
       "      <td>[3081, 2214, 9, 3, 26217, 7, 58330, 24750, 15,...</td>\n",
       "      <td>[0, 0, 0, 0, 0, 0, 0, 0, 0, 0, 0, 0, 0, 0, 0, ...</td>\n",
       "      <td>[0, 0, 0, 0, 0, 0, 0, 0, 0, 0, 0, 1, 0, 0, 0, ...</td>\n",
       "      <td>[0, 0, 0, 0, 0, 0, 0, 0, 0, 0, 0, 0, 0, 0, 0, ...</td>\n",
       "      <td>[0, 0, 0, 0, 1, 0, 0, 1, 0, 0, 0, 1, 0, 0, 0, ...</td>\n",
       "      <td>...</td>\n",
       "      <td>[77, 78, 78, 78, 74, 78, 35, 78, 78, 78, 78, 4...</td>\n",
       "      <td>[1.1052674, 1.1163425, 1.1163425, 1.1163425, 1...</td>\n",
       "      <td>c9ca05cbfaf2a2d1921a5067e3422eb8292e32552e78a1...</td>\n",
       "      <td>[-0.11631450802087784, -0.10871367156505585, -...</td>\n",
       "      <td>[1024, 207, 336, 477, 2375, 786, 6467, 650, 62...</td>\n",
       "      <td>[488659]</td>\n",
       "      <td>[25.0]</td>\n",
       "      <td>[0.0]</td>\n",
       "      <td>1.0</td>\n",
       "      <td>[0, 0, 0, 0, 0, 0, 0, 0, 0, 0, 0, 0, 0, 0, 0, ...</td>\n",
       "    </tr>\n",
       "    <tr>\n",
       "      <th>1029</th>\n",
       "      <td>42924</td>\n",
       "      <td>42</td>\n",
       "      <td>33</td>\n",
       "      <td>[1, 1, 3436, 1, 1, 95, 1, 1, 1, 1, 1, 1, 1, 95...</td>\n",
       "      <td>33</td>\n",
       "      <td>[12, 1216, 6961, 11, 4582, 332, 2, 82, 20342, ...</td>\n",
       "      <td>[0, 0, 0, 0, 0, 0, 0, 0, 0, 0, 0, 0, 0, 0, 0, ...</td>\n",
       "      <td>[0, 0, 0, 0, 0, 1, 0, 0, 0, 0, 0, 0, 0, 1, 0, ...</td>\n",
       "      <td>[0, 0, 0, 0, 0, 1, 0, 0, 0, 0, 0, 0, 0, 1, 0, ...</td>\n",
       "      <td>[0, 0, 1, 0, 0, 1, 0, 0, 0, 0, 0, 0, 0, 1, 0, ...</td>\n",
       "      <td>...</td>\n",
       "      <td>[48, 48, 48, 48, 48, 48, 48, 48, 21, 48, 38, 4...</td>\n",
       "      <td>[0.70109075, 0.70109075, 0.70109075, 0.7010907...</td>\n",
       "      <td>ca0a15cee6b0c93f0533406561508e30934636060540b0...</td>\n",
       "      <td>[-0.23069609701633453, 0.23751962184906006, 0....</td>\n",
       "      <td>[384, 332, 400, 281, 176, 575, 187, 89, 645, 1...</td>\n",
       "      <td>[488659]</td>\n",
       "      <td>[25.0, 25.0, 25.0]</td>\n",
       "      <td>[0.0, 0.0, 0.0]</td>\n",
       "      <td>3.0</td>\n",
       "      <td>[0, 0, 0, 0, 0, 0, 0, 0, 0, 0, 0, 0, 0, 0, 0, ...</td>\n",
       "    </tr>\n",
       "  </tbody>\n",
       "</table>\n",
       "<p>10 rows × 36 columns</p>\n",
       "</div>"
      ],
      "text/plain": [
       "      session_id_hash  day_index  product_sku_hash_count  \\\n",
       "1020            31933         48                      36   \n",
       "1021            31934         87                      36   \n",
       "1022            31935         71                      36   \n",
       "1023            31936         88                      36   \n",
       "1024            42913         19                      33   \n",
       "1025            42915         19                      33   \n",
       "1026            42916         62                      33   \n",
       "1027            42917         36                      33   \n",
       "1028            42922         12                      33   \n",
       "1029            42924         42                      33   \n",
       "\n",
       "                              product_sku_hash_list_seq  \\\n",
       "1020  [1, 24114, 9213, 9857, 11042, 1, 8988, 15137, ...   \n",
       "1021  [1, 1, 1, 1, 1, 1, 936, 1, 1, 1, 1, 1341, 1, 1...   \n",
       "1022  [2, 3755, 2, 7, 1, 1, 1, 1, 7, 1, 2, 1, 7, 2, ...   \n",
       "1023  [7402, 1, 1, 1, 7890, 1, 8302, 7719, 10174, 1,...   \n",
       "1024  [1, 1, 1, 1, 1, 1, 1, 1, 9890, 1, 5193, 1, 477...   \n",
       "1025  [1, 1, 300, 223, 1, 1, 1, 1, 1, 1435, 300, 1, ...   \n",
       "1026  [4382, 1, 1, 7977, 1, 2664, 5522, 10560, 14398...   \n",
       "1027  [1, 1, 1, 1435, 1, 1994, 1, 4590, 1, 1, 4510, ...   \n",
       "1028  [1, 1, 1, 1, 12193, 1, 1, 11570, 1, 1, 1, 1745...   \n",
       "1029  [1, 1, 3436, 1, 1, 95, 1, 1, 1, 1, 1, 1, 1, 95...   \n",
       "\n",
       "      product_url_hash_count  \\\n",
       "1020                      36   \n",
       "1021                      36   \n",
       "1022                      36   \n",
       "1023                      36   \n",
       "1024                      33   \n",
       "1025                      33   \n",
       "1026                      33   \n",
       "1027                      33   \n",
       "1028                      33   \n",
       "1029                      33   \n",
       "\n",
       "                              product_url_hash_list_seq  \\\n",
       "1020  [5330, 64936, 19365, 20831, 23500, 1, 18848, 3...   \n",
       "1021  [1588, 29308, 29601, 1, 10313, 247963, 1974, 5...   \n",
       "1022  [8, 7609, 8, 66, 33, 3, 1856, 35, 66, 25, 8, 1...   \n",
       "1023  [15279, 24442, 1, 15, 16379, 109, 17355, 16004...   \n",
       "1024  [1420, 14905, 3, 907, 28643, 7, 9, 9929, 20891...   \n",
       "1025  [2, 1779, 776, 637, 1, 1850, 39990, 39089, 585...   \n",
       "1026  [8907, 267, 24, 16576, 1975, 5427, 11285, 2239...   \n",
       "1027  [489, 2762, 5479, 2994, 24, 4079, 1, 9313, 141...   \n",
       "1028  [3081, 2214, 9, 3, 26217, 7, 58330, 24750, 15,...   \n",
       "1029  [12, 1216, 6961, 11, 4582, 332, 2, 82, 20342, ...   \n",
       "\n",
       "                    has_been_removed_from_cart-list_seq  \\\n",
       "1020  [0, 0, 0, 0, 0, 0, 0, 0, 0, 0, 0, 0, 0, 0, 0, ...   \n",
       "1021  [0, 0, 0, 0, 0, 0, 0, 0, 0, 0, 0, 0, 0, 0, 0, ...   \n",
       "1022  [1, 0, 1, 1, 0, 0, 0, 0, 1, 0, 1, 0, 1, 1, 1, ...   \n",
       "1023  [0, 0, 0, 0, 0, 0, 0, 0, 0, 0, 0, 0, 0, 0, 0, ...   \n",
       "1024  [0, 0, 0, 0, 0, 0, 0, 0, 0, 0, 0, 0, 0, 0, 1, ...   \n",
       "1025  [0, 0, 0, 0, 0, 0, 0, 0, 0, 0, 0, 0, 0, 0, 0, ...   \n",
       "1026  [0, 0, 0, 0, 0, 0, 0, 0, 0, 0, 0, 0, 0, 0, 0, ...   \n",
       "1027  [0, 0, 0, 0, 0, 0, 0, 0, 0, 0, 0, 0, 0, 0, 0, ...   \n",
       "1028  [0, 0, 0, 0, 0, 0, 0, 0, 0, 0, 0, 0, 0, 0, 0, ...   \n",
       "1029  [0, 0, 0, 0, 0, 0, 0, 0, 0, 0, 0, 0, 0, 0, 0, ...   \n",
       "\n",
       "                        has_been_added_to_cart-list_seq  \\\n",
       "1020  [0, 0, 0, 0, 0, 0, 0, 0, 0, 0, 0, 0, 0, 0, 0, ...   \n",
       "1021  [0, 0, 0, 0, 0, 0, 0, 0, 0, 0, 0, 0, 0, 0, 0, ...   \n",
       "1022  [0, 1, 0, 0, 0, 0, 0, 0, 0, 0, 0, 0, 0, 0, 0, ...   \n",
       "1023  [0, 0, 0, 0, 0, 0, 0, 0, 0, 0, 0, 0, 0, 0, 0, ...   \n",
       "1024  [0, 0, 0, 0, 0, 0, 0, 0, 0, 0, 1, 0, 0, 1, 0, ...   \n",
       "1025  [0, 0, 0, 0, 0, 0, 0, 0, 0, 0, 0, 0, 0, 0, 0, ...   \n",
       "1026  [0, 0, 0, 0, 0, 0, 0, 0, 1, 0, 0, 0, 0, 0, 0, ...   \n",
       "1027  [0, 0, 0, 0, 0, 0, 0, 0, 0, 0, 0, 0, 0, 0, 0, ...   \n",
       "1028  [0, 0, 0, 0, 0, 0, 0, 0, 0, 0, 0, 1, 0, 0, 0, ...   \n",
       "1029  [0, 0, 0, 0, 0, 1, 0, 0, 0, 0, 0, 0, 0, 1, 0, ...   \n",
       "\n",
       "                            has_been_purchased-list_seq  \\\n",
       "1020  [0, 0, 0, 0, 0, 0, 0, 0, 0, 0, 0, 0, 0, 0, 0, ...   \n",
       "1021  [0, 0, 0, 0, 0, 0, 0, 0, 0, 0, 0, 0, 0, 0, 0, ...   \n",
       "1022  [0, 1, 0, 0, 0, 0, 0, 0, 0, 0, 0, 0, 0, 0, 0, ...   \n",
       "1023  [0, 0, 0, 0, 0, 0, 0, 0, 0, 0, 0, 0, 0, 0, 0, ...   \n",
       "1024  [0, 0, 0, 0, 0, 0, 0, 0, 0, 0, 0, 0, 0, 0, 0, ...   \n",
       "1025  [0, 0, 0, 0, 0, 0, 0, 0, 0, 0, 0, 0, 0, 0, 0, ...   \n",
       "1026  [0, 0, 0, 0, 0, 0, 0, 0, 0, 0, 0, 0, 0, 0, 0, ...   \n",
       "1027  [0, 0, 0, 0, 0, 0, 0, 0, 0, 0, 0, 0, 0, 0, 0, ...   \n",
       "1028  [0, 0, 0, 0, 0, 0, 0, 0, 0, 0, 0, 0, 0, 0, 0, ...   \n",
       "1029  [0, 0, 0, 0, 0, 1, 0, 0, 0, 0, 0, 0, 0, 1, 0, ...   \n",
       "\n",
       "                             has_been_detailed-list_seq  ...  \\\n",
       "1020  [0, 1, 1, 1, 1, 0, 1, 1, 0, 0, 0, 1, 0, 0, 1, ...  ...   \n",
       "1021  [0, 0, 0, 0, 0, 0, 1, 0, 0, 0, 0, 1, 0, 0, 0, ...  ...   \n",
       "1022  [0, 1, 0, 0, 0, 0, 0, 0, 0, 0, 0, 0, 0, 0, 0, ...  ...   \n",
       "1023  [1, 0, 0, 0, 1, 0, 1, 1, 1, 0, 0, 0, 0, 1, 1, ...  ...   \n",
       "1024  [0, 0, 0, 0, 0, 0, 0, 0, 1, 0, 1, 0, 1, 1, 0, ...  ...   \n",
       "1025  [0, 0, 1, 1, 0, 0, 0, 0, 0, 1, 1, 0, 1, 0, 0, ...  ...   \n",
       "1026  [1, 0, 0, 1, 0, 1, 1, 1, 1, 0, 1, 0, 1, 0, 0, ...  ...   \n",
       "1027  [0, 0, 0, 1, 0, 1, 0, 1, 0, 0, 1, 0, 1, 0, 0, ...  ...   \n",
       "1028  [0, 0, 0, 0, 1, 0, 0, 1, 0, 0, 0, 1, 0, 0, 0, ...  ...   \n",
       "1029  [0, 0, 1, 0, 0, 1, 0, 0, 0, 0, 0, 0, 0, 1, 0, ...  ...   \n",
       "\n",
       "                            timestamp_age_days-list_seq  \\\n",
       "1020  [41, 36, 40, 40, 40, 42, 41, 41, 42, 4, 0, 41,...   \n",
       "1021  [3, 2, 3, 3, 3, 0, 3, 1, 3, 3, 3, 3, 0, 1, 3, ...   \n",
       "1022  [19, 19, 19, 19, 19, 19, 19, 19, 19, 19, 19, 1...   \n",
       "1023  [2, 0, 2, 2, 0, 2, 1, 0, 1, 0, 2, 0, 1, 1, 1, ...   \n",
       "1024  [71, 70, 71, 70, 70, 71, 71, 70, 70, 70, 70, 7...   \n",
       "1025  [71, 69, 70, 71, 71, 71, 8, 8, 8, 71, 70, 71, ...   \n",
       "1026  [28, 28, 28, 28, 28, 27, 27, 26, 26, 28, 28, 2...   \n",
       "1027  [54, 54, 54, 54, 54, 54, 54, 54, 54, 54, 53, 5...   \n",
       "1028  [77, 78, 78, 78, 74, 78, 35, 78, 78, 78, 78, 4...   \n",
       "1029  [48, 48, 48, 48, 48, 48, 48, 48, 21, 48, 38, 4...   \n",
       "\n",
       "                       timestamp_age_days_norm-list_seq  \\\n",
       "1020  [0.56707126, 0.45687267, 0.5461206, 0.5461206,...   \n",
       "1021  [-1.4772274, -1.7273399, -1.4772274, -1.477227...   \n",
       "1022  [-0.077973224, -0.077973224, -0.077973224, -0....   \n",
       "1023  [-1.7273399, -2.6824794, -1.7273399, -1.727339...   \n",
       "1024  [1.0356778, 1.0235182, 1.0356778, 1.0235182, 1...   \n",
       "1025  [1.0356778, 1.0111856, 1.0235182, 1.0356778, 1...   \n",
       "1026  [0.24506608, 0.24506608, 0.24506608, 0.2450660...   \n",
       "1027  [0.80151826, 0.80151826, 0.80151826, 0.8015182...   \n",
       "1028  [1.1052674, 1.1163425, 1.1163425, 1.1163425, 1...   \n",
       "1029  [0.70109075, 0.70109075, 0.70109075, 0.7010907...   \n",
       "\n",
       "                               original_session_id_hash  \\\n",
       "1020  20475ac677758125e6e3f7e6eec49c9c986e3cae0acd5a...   \n",
       "1021  20533b32b935b77385e081f0255d543ff57a0ee3761a58...   \n",
       "1022  2056b037da7667967ea6b8aade069473cf514e88adf032...   \n",
       "1023  205be498f2ce779cdaafab6b11862de815f92594464dbf...   \n",
       "1024  c900d891216704d06edd5081f2c0531d8871aaaac71c87...   \n",
       "1025  c922840659415c1b7d4bbc6ead2f13ea73ec9db09f5cf3...   \n",
       "1026  c94b0f64ef8289b518be7df27189986c7acf5efdd1a45b...   \n",
       "1027  c9675e535ea1a74af342efed7db1f28e14d81603dded2c...   \n",
       "1028  c9ca05cbfaf2a2d1921a5067e3422eb8292e32552e78a1...   \n",
       "1029  ca0a15cee6b0c93f0533406561508e30934636060540b0...   \n",
       "\n",
       "                                      flat_query_vector  \\\n",
       "1020  [0.0, 0.0, 0.0, 0.0, 0.0, 0.0, 0.0, 0.0, 0.0, ...   \n",
       "1021  [0.0, 0.0, 0.0, 0.0, 0.0, 0.0, 0.0, 0.0, 0.0, ...   \n",
       "1022  [0.0, 0.0, 0.0, 0.0, 0.0, 0.0, 0.0, 0.0, 0.0, ...   \n",
       "1023  [0.0, 0.0, 0.0, 0.0, 0.0, 0.0, 0.0, 0.0, 0.0, ...   \n",
       "1024  [-0.06847687065601349, -0.15405967831611633, 0...   \n",
       "1025  [-0.03456311300396919, -0.37039944529533386, 0...   \n",
       "1026  [-0.2519949972629547, 0.06259388476610184, -0....   \n",
       "1027  [0.027160272002220154, -0.2507864236831665, 0....   \n",
       "1028  [-0.11631450802087784, -0.10871367156505585, -...   \n",
       "1029  [-0.23069609701633453, 0.23751962184906006, 0....   \n",
       "\n",
       "                                 flat_product_skus_hash  \\\n",
       "1020                                           [488659]   \n",
       "1021                                           [488659]   \n",
       "1022                                           [488659]   \n",
       "1023                                           [488659]   \n",
       "1024                                           [488659]   \n",
       "1025  [37153, 637, 7594, 1804, 184, 23901, 776, 5566...   \n",
       "1026  [5894, 19090, 5364, 9140, 10332, 5427, 4755, 1...   \n",
       "1027  [15233, 12142, 13315, 32262, 13534, 29773, 209...   \n",
       "1028  [1024, 207, 336, 477, 2375, 786, 6467, 650, 62...   \n",
       "1029  [384, 332, 400, 281, 176, 575, 187, 89, 645, 1...   \n",
       "\n",
       "     flat_clicked_skus_hash    impressions_size      clicks_size nb_queries  \\\n",
       "1020               [488659]                 [0]             None        0.0   \n",
       "1021               [488659]                 [0]             None        0.0   \n",
       "1022               [488659]                 [0]             None        0.0   \n",
       "1023               [488659]                 [0]             None        0.0   \n",
       "1024               [488659]               [0.0]            [0.0]        1.0   \n",
       "1025             [776, 776]              [20.0]            [2.0]        1.0   \n",
       "1026               [488659]              [25.0]            [0.0]        1.0   \n",
       "1027                 [9102]    [0.0, 9.0, 11.0]  [0.0, 0.0, 1.0]        3.0   \n",
       "1028               [488659]              [25.0]            [0.0]        1.0   \n",
       "1029               [488659]  [25.0, 25.0, 25.0]  [0.0, 0.0, 0.0]        3.0   \n",
       "\n",
       "                                           clicked-flag  \n",
       "1020                                                [1]  \n",
       "1021                                                [1]  \n",
       "1022                                                [1]  \n",
       "1023                                                [1]  \n",
       "1024                                                [1]  \n",
       "1025  [0, 0, 0, 0, 0, 0, 1, 0, 0, 0, 0, 0, 0, 0, 0, ...  \n",
       "1026  [0, 0, 0, 0, 0, 0, 0, 0, 0, 0, 0, 0, 0, 0, 0, ...  \n",
       "1027  [0, 0, 0, 0, 0, 0, 0, 0, 0, 0, 0, 0, 0, 0, 0, ...  \n",
       "1028  [0, 0, 0, 0, 0, 0, 0, 0, 0, 0, 0, 0, 0, 0, 0, ...  \n",
       "1029  [0, 0, 0, 0, 0, 0, 0, 0, 0, 0, 0, 0, 0, 0, 0, ...  \n",
       "\n",
       "[10 rows x 36 columns]"
      ]
     },
     "execution_count": 111,
     "metadata": {},
     "output_type": "execute_result"
    }
   ],
   "source": [
    "merged_session_table[1020:1030]"
   ]
  },
  {
   "cell_type": "code",
   "execution_count": 112,
   "metadata": {},
   "outputs": [
    {
     "data": {
      "text/plain": [
       "(3291455, 36)"
      ]
     },
     "execution_count": 112,
     "metadata": {},
     "output_type": "execute_result"
    }
   ],
   "source": [
    "merged_session_table.shape"
   ]
  },
  {
   "cell_type": "code",
   "execution_count": 113,
   "metadata": {},
   "outputs": [],
   "source": [
    "#save sessions_gdf\n",
    "merged_session_table.to_parquet(os.path.join(OUTPUT_DIR, \"merged_session_table.parquet\"))"
   ]
  },
  {
   "cell_type": "code",
   "execution_count": 114,
   "metadata": {},
   "outputs": [],
   "source": [
    "#merged_session_table['is_test-last'].sum()"
   ]
  },
  {
   "cell_type": "code",
   "execution_count": 115,
   "metadata": {},
   "outputs": [],
   "source": [
    "# save to parquet file with 40 partitions \n",
    "#merged_session_table['parquet_split'] =  np.random.randint(0,40,size=merged_session_table.shape[0])\n",
    "\n",
    "#merged_session_table.to_parquet(os.path.join(OUTPUT_DIR, \"merged_session_table_parquet\"), partition_cols=['parquet_split'])"
   ]
  },
  {
   "cell_type": "code",
   "execution_count": 116,
   "metadata": {},
   "outputs": [],
   "source": [
    "#pip install transformers4rec[torch,nvtabular]"
   ]
  },
  {
   "cell_type": "code",
   "execution_count": 117,
   "metadata": {},
   "outputs": [],
   "source": [
    "# define partition column\n",
    "#PARTITION_COL = 'day_index'\n",
    "\n",
    "# define output_folder to store the partitioned parquet files\n",
    "#OUTPUT_FOLDER = os.environ.get(\"OUTPUT_FOLDER\", INPUT_DATA_DIR + \"sessions_by_day\")\n",
    "#!mkdir -p $OUTPUT_FOLDER"
   ]
  },
  {
   "cell_type": "code",
   "execution_count": 118,
   "metadata": {},
   "outputs": [],
   "source": [
    "#from transformers4rec.data.preprocessing import save_time_based_splits"
   ]
  },
  {
   "cell_type": "markdown",
   "metadata": {
    "jupyter": {
     "outputs_hidden": true
    }
   },
   "source": [
    "### Exporting session table by fold and train-test-valid splits "
   ]
  },
  {
   "cell_type": "code",
   "execution_count": 119,
   "metadata": {},
   "outputs": [],
   "source": [
    "#OUTPUT_FOLDER = \"/result/coveo/\"\n",
    "#for fold in range(1, 6): \n",
    "    #merged_session_table.loc[(merged_session_table['is_test-last']==1) & (merged_session_table.fold==fold)].to_parquet(os.path.join(OUTPUT_DIR, 'test-%s.parquet'%fold),\n",
    "                                                                                               #partition_file_name= 'test-%s.parquet'%fold,\n",
    "                                                                                               #engine='pyarrow',\n",
    "                                                                                               #row_group_size=1000\n",
    "                                                                                                           #)\n",
    "    \n",
    "    \n",
    "    \n",
    "    #merged_session_table.loc[(merged_session_table['is_valid']==1) & (merged_session_table.fold==fold)].to_parquet(os.path.join(OUTPUT_DIR, 'valid-%s.parquet'%fold),\n",
    "                                                                                           #partition_file_name = 'valid-%s.parquet'%fold,\n",
    "                                                                                           #engine='pyarrow',\n",
    "                                                                                           #row_group_size=1000\n",
    "                                                                                                       #)\n",
    "    \n",
    "    \n",
    "    #merged_session_table.loc[(merged_session_table['is_valid']==0) & (merged_session_table['is_test-last']==0) & (merged_session_table.fold==fold)].to_parquet(os.path.join(OUTPUT_DIR, 'train-%s.parquet'%fold),\n",
    "                                                                                           #partition_file_name = 'train-%s.parquet'%fold,\n",
    "                                                                                           #engine='pyarrow',\n",
    "                                                                                           #row_group_size=1000\n",
    "                                                                                                                                           #)"
   ]
  },
  {
   "cell_type": "code",
   "execution_count": 120,
   "metadata": {},
   "outputs": [],
   "source": [
    "#test = pd.read_parquet(os.path.join(OUTPUT_DIR, \"test-1.parquet\"))"
   ]
  },
  {
   "cell_type": "code",
   "execution_count": 121,
   "metadata": {},
   "outputs": [],
   "source": [
    "#test.head(2)"
   ]
  },
  {
   "cell_type": "markdown",
   "metadata": {},
   "source": [
    "### Save unique product sku mapping from updated product_url_hash encoded column"
   ]
  },
  {
   "cell_type": "code",
   "execution_count": 122,
   "metadata": {},
   "outputs": [],
   "source": [
    "urls_ids = interactions_merged_df[interactions_merged_df.event_type==2]['product_url_hash'].unique()"
   ]
  },
  {
   "cell_type": "code",
   "execution_count": 123,
   "metadata": {},
   "outputs": [],
   "source": [
    "mapping = pd.read_parquet(os.path.join(OUTPUT_DIR, 'unique.updated_product_url_hash.parquet'))"
   ]
  },
  {
   "cell_type": "code",
   "execution_count": 124,
   "metadata": {},
   "outputs": [],
   "source": [
    "mask = mapping.reset_index()['index'].isin(urls_ids.values.tolist())"
   ]
  },
  {
   "cell_type": "code",
   "execution_count": 125,
   "metadata": {},
   "outputs": [],
   "source": [
    "mapping_prod = mapping[~mask].reset_index()"
   ]
  },
  {
   "cell_type": "code",
   "execution_count": 126,
   "metadata": {},
   "outputs": [],
   "source": [
    "mapping_prod.columns =  ['encoded_product_sku', 'original_product_sku']"
   ]
  },
  {
   "cell_type": "code",
   "execution_count": 127,
   "metadata": {},
   "outputs": [
    {
     "data": {
      "text/html": [
       "<div>\n",
       "<style scoped>\n",
       "    .dataframe tbody tr th:only-of-type {\n",
       "        vertical-align: middle;\n",
       "    }\n",
       "\n",
       "    .dataframe tbody tr th {\n",
       "        vertical-align: top;\n",
       "    }\n",
       "\n",
       "    .dataframe thead th {\n",
       "        text-align: right;\n",
       "    }\n",
       "</style>\n",
       "<table border=\"1\" class=\"dataframe\">\n",
       "  <thead>\n",
       "    <tr style=\"text-align: right;\">\n",
       "      <th></th>\n",
       "      <th>encoded_product_sku</th>\n",
       "      <th>original_product_sku</th>\n",
       "    </tr>\n",
       "  </thead>\n",
       "  <tbody>\n",
       "    <tr>\n",
       "      <th>0</th>\n",
       "      <td>0</td>\n",
       "      <td>None</td>\n",
       "    </tr>\n",
       "    <tr>\n",
       "      <th>1</th>\n",
       "      <td>1</td>\n",
       "      <td>433b0e71df1fe9a8d1f45647545701f6108414c40eef76...</td>\n",
       "    </tr>\n",
       "    <tr>\n",
       "      <th>2</th>\n",
       "      <td>2</td>\n",
       "      <td>41ae0f916406434064aeb03d859a7141b53d2900394dca...</td>\n",
       "    </tr>\n",
       "    <tr>\n",
       "      <th>3</th>\n",
       "      <td>3</td>\n",
       "      <td>38f5bd3c9a1cc5b39e6b965f1aa6c565737f58e19a560a...</td>\n",
       "    </tr>\n",
       "    <tr>\n",
       "      <th>4</th>\n",
       "      <td>4</td>\n",
       "      <td>10cf8acdd90cc03246e1fd01630637d89d861237b14cbe...</td>\n",
       "    </tr>\n",
       "  </tbody>\n",
       "</table>\n",
       "</div>"
      ],
      "text/plain": [
       "   encoded_product_sku                               original_product_sku\n",
       "0                    0                                               None\n",
       "1                    1  433b0e71df1fe9a8d1f45647545701f6108414c40eef76...\n",
       "2                    2  41ae0f916406434064aeb03d859a7141b53d2900394dca...\n",
       "3                    3  38f5bd3c9a1cc5b39e6b965f1aa6c565737f58e19a560a...\n",
       "4                    4  10cf8acdd90cc03246e1fd01630637d89d861237b14cbe..."
      ]
     },
     "execution_count": 127,
     "metadata": {},
     "output_type": "execute_result"
    }
   ],
   "source": [
    "mapping_prod.head()"
   ]
  },
  {
   "cell_type": "code",
   "execution_count": 128,
   "metadata": {},
   "outputs": [
    {
     "data": {
      "text/plain": [
       "432062"
      ]
     },
     "execution_count": 128,
     "metadata": {},
     "output_type": "execute_result"
    }
   ],
   "source": [
    "mapping_prod.shape[0]"
   ]
  },
  {
   "cell_type": "code",
   "execution_count": 129,
   "metadata": {},
   "outputs": [],
   "source": [
    "mapping_prod.to_parquet(os.path.join(OUTPUT_DIR, 'mapping_product_sku_without_urls.parquet'))"
   ]
  },
  {
   "cell_type": "markdown",
   "metadata": {},
   "source": [
    "### Create pickle files with product embedding vectors "
   ]
  },
  {
   "cell_type": "markdown",
   "metadata": {},
   "source": [
    "* Pickle file with a tuple composed by:\n",
    "\n",
    "    - Numpy matrix with the description vectors of the products\n",
    "    - Numpy matrix with the image vectors of the products\n",
    "    - Dict to map the encoded product_sku to the position in the embedding matrices"
   ]
  },
  {
   "cell_type": "markdown",
   "metadata": {},
   "source": [
    "- Load product table "
   ]
  },
  {
   "cell_type": "code",
   "execution_count": 130,
   "metadata": {},
   "outputs": [
    {
     "data": {
      "text/html": [
       "<div>\n",
       "<style scoped>\n",
       "    .dataframe tbody tr th:only-of-type {\n",
       "        vertical-align: middle;\n",
       "    }\n",
       "\n",
       "    .dataframe tbody tr th {\n",
       "        vertical-align: top;\n",
       "    }\n",
       "\n",
       "    .dataframe thead th {\n",
       "        text-align: right;\n",
       "    }\n",
       "</style>\n",
       "<table border=\"1\" class=\"dataframe\">\n",
       "  <thead>\n",
       "    <tr style=\"text-align: right;\">\n",
       "      <th></th>\n",
       "      <th>product_sku_hash</th>\n",
       "      <th>description_vector</th>\n",
       "      <th>image_vector</th>\n",
       "    </tr>\n",
       "  </thead>\n",
       "  <tbody>\n",
       "    <tr>\n",
       "      <th>66381</th>\n",
       "      <td>c7cc673ca3baa5fa222fffdc16379892b3a62583a48143...</td>\n",
       "      <td>NaN</td>\n",
       "      <td>NaN</td>\n",
       "    </tr>\n",
       "    <tr>\n",
       "      <th>66382</th>\n",
       "      <td>6641c7d2053ce48ce1e81a9653dffe56dbb79ab0704fbd...</td>\n",
       "      <td>[-0.19150441884994507, -0.06235162168741226, -...</td>\n",
       "      <td>[129.55668732976045, 43.27996741934932, -36.70...</td>\n",
       "    </tr>\n",
       "    <tr>\n",
       "      <th>66383</th>\n",
       "      <td>526a6a51717d5bb40ef2b0c47394d08c54385375633bab...</td>\n",
       "      <td>[-0.19760936498641968, 0.4446450471878052, -0....</td>\n",
       "      <td>[-158.25984189321855, 74.19255741438077, 199.6...</td>\n",
       "    </tr>\n",
       "    <tr>\n",
       "      <th>66384</th>\n",
       "      <td>21ca4ab0e2fbd3b401fbeadeb4439dcab9998fb52159ec...</td>\n",
       "      <td>NaN</td>\n",
       "      <td>NaN</td>\n",
       "    </tr>\n",
       "    <tr>\n",
       "      <th>66385</th>\n",
       "      <td>0eaa39fb645749da181c0637d3b420f3f103b5f6b50286...</td>\n",
       "      <td>NaN</td>\n",
       "      <td>NaN</td>\n",
       "    </tr>\n",
       "  </tbody>\n",
       "</table>\n",
       "</div>"
      ],
      "text/plain": [
       "                                        product_sku_hash  \\\n",
       "66381  c7cc673ca3baa5fa222fffdc16379892b3a62583a48143...   \n",
       "66382  6641c7d2053ce48ce1e81a9653dffe56dbb79ab0704fbd...   \n",
       "66383  526a6a51717d5bb40ef2b0c47394d08c54385375633bab...   \n",
       "66384  21ca4ab0e2fbd3b401fbeadeb4439dcab9998fb52159ec...   \n",
       "66385  0eaa39fb645749da181c0637d3b420f3f103b5f6b50286...   \n",
       "\n",
       "                                      description_vector  \\\n",
       "66381                                                NaN   \n",
       "66382  [-0.19150441884994507, -0.06235162168741226, -...   \n",
       "66383  [-0.19760936498641968, 0.4446450471878052, -0....   \n",
       "66384                                                NaN   \n",
       "66385                                                NaN   \n",
       "\n",
       "                                            image_vector  \n",
       "66381                                                NaN  \n",
       "66382  [129.55668732976045, 43.27996741934932, -36.70...  \n",
       "66383  [-158.25984189321855, 74.19255741438077, 199.6...  \n",
       "66384                                                NaN  \n",
       "66385                                                NaN  "
      ]
     },
     "execution_count": 130,
     "metadata": {},
     "output_type": "execute_result"
    }
   ],
   "source": [
    "product_info = pd.read_csv('/recsys/data/sku_to_content.csv', usecols=['product_sku_hash', \n",
    "                                                                     'description_vector', \n",
    "                                                                     'image_vector'])\n",
    "product_info.tail() "
   ]
  },
  {
   "cell_type": "code",
   "execution_count": 131,
   "metadata": {},
   "outputs": [
    {
     "name": "stderr",
     "output_type": "stream",
     "text": [
      "100%|█████████████████████████████████████████████████████████████████████████████████████████████████████████| 66386/66386 [00:04<00:00, 14095.37it/s]\n",
      "100%|█████████████████████████████████████████████████████████████████████████████████████████████████████████| 66386/66386 [00:04<00:00, 15971.92it/s]\n"
     ]
    }
   ],
   "source": [
    "# convert strings to list object \n",
    "import ast\n",
    "def convert_str_to_list(x): \n",
    "    if pd.isnull(x): \n",
    "        return x\n",
    "    return ast.literal_eval(x)\n",
    "for col in ['description_vector', 'image_vector']: \n",
    "    product_info[col] = product_info[col].progress_apply(convert_str_to_list)"
   ]
  },
  {
   "cell_type": "code",
   "execution_count": 132,
   "metadata": {},
   "outputs": [],
   "source": [
    "product_info.columns = ['original_product_sku', 'description_vector', 'image_vector']"
   ]
  },
  {
   "cell_type": "markdown",
   "metadata": {},
   "source": [
    "### Merge product embeddings and mapping_prod"
   ]
  },
  {
   "cell_type": "code",
   "execution_count": 133,
   "metadata": {},
   "outputs": [],
   "source": [
    "embeddings_table = mapping_prod.merge(product_info, on=['original_product_sku'], how='left')"
   ]
  },
  {
   "cell_type": "markdown",
   "metadata": {},
   "source": [
    "- Fill missing embeddings with vector of zeros "
   ]
  },
  {
   "cell_type": "code",
   "execution_count": 134,
   "metadata": {},
   "outputs": [],
   "source": [
    "embeddings_table.loc[embeddings_table.description_vector.isnull(),\n",
    "                         'description_vector'] = pd.Series([np.zeros(50)] * embeddings_table.description_vector.isnull().sum()).values\n",
    "\n",
    "embeddings_table.loc[embeddings_table.image_vector.isnull(),\n",
    "                         'image_vector'] = pd.Series([np.zeros(50)] * embeddings_table.image_vector.isnull().sum()).values"
   ]
  },
  {
   "cell_type": "code",
   "execution_count": 135,
   "metadata": {},
   "outputs": [
    {
     "data": {
      "text/html": [
       "<div>\n",
       "<style scoped>\n",
       "    .dataframe tbody tr th:only-of-type {\n",
       "        vertical-align: middle;\n",
       "    }\n",
       "\n",
       "    .dataframe tbody tr th {\n",
       "        vertical-align: top;\n",
       "    }\n",
       "\n",
       "    .dataframe thead th {\n",
       "        text-align: right;\n",
       "    }\n",
       "</style>\n",
       "<table border=\"1\" class=\"dataframe\">\n",
       "  <thead>\n",
       "    <tr style=\"text-align: right;\">\n",
       "      <th></th>\n",
       "      <th>encoded_product_sku</th>\n",
       "      <th>original_product_sku</th>\n",
       "      <th>description_vector</th>\n",
       "      <th>image_vector</th>\n",
       "    </tr>\n",
       "  </thead>\n",
       "  <tbody>\n",
       "    <tr>\n",
       "      <th>0</th>\n",
       "      <td>0</td>\n",
       "      <td>None</td>\n",
       "      <td>[0.0, 0.0, 0.0, 0.0, 0.0, 0.0, 0.0, 0.0, 0.0, ...</td>\n",
       "      <td>[0.0, 0.0, 0.0, 0.0, 0.0, 0.0, 0.0, 0.0, 0.0, ...</td>\n",
       "    </tr>\n",
       "    <tr>\n",
       "      <th>1</th>\n",
       "      <td>1</td>\n",
       "      <td>433b0e71df1fe9a8d1f45647545701f6108414c40eef76...</td>\n",
       "      <td>[0.0, 0.0, 0.0, 0.0, 0.0, 0.0, 0.0, 0.0, 0.0, ...</td>\n",
       "      <td>[0.0, 0.0, 0.0, 0.0, 0.0, 0.0, 0.0, 0.0, 0.0, ...</td>\n",
       "    </tr>\n",
       "    <tr>\n",
       "      <th>2</th>\n",
       "      <td>2</td>\n",
       "      <td>41ae0f916406434064aeb03d859a7141b53d2900394dca...</td>\n",
       "      <td>[0.0, 0.0, 0.0, 0.0, 0.0, 0.0, 0.0, 0.0, 0.0, ...</td>\n",
       "      <td>[0.0, 0.0, 0.0, 0.0, 0.0, 0.0, 0.0, 0.0, 0.0, ...</td>\n",
       "    </tr>\n",
       "    <tr>\n",
       "      <th>3</th>\n",
       "      <td>3</td>\n",
       "      <td>38f5bd3c9a1cc5b39e6b965f1aa6c565737f58e19a560a...</td>\n",
       "      <td>[0.0, 0.0, 0.0, 0.0, 0.0, 0.0, 0.0, 0.0, 0.0, ...</td>\n",
       "      <td>[0.0, 0.0, 0.0, 0.0, 0.0, 0.0, 0.0, 0.0, 0.0, ...</td>\n",
       "    </tr>\n",
       "    <tr>\n",
       "      <th>4</th>\n",
       "      <td>4</td>\n",
       "      <td>10cf8acdd90cc03246e1fd01630637d89d861237b14cbe...</td>\n",
       "      <td>[0.0, 0.0, 0.0, 0.0, 0.0, 0.0, 0.0, 0.0, 0.0, ...</td>\n",
       "      <td>[0.0, 0.0, 0.0, 0.0, 0.0, 0.0, 0.0, 0.0, 0.0, ...</td>\n",
       "    </tr>\n",
       "    <tr>\n",
       "      <th>...</th>\n",
       "      <td>...</td>\n",
       "      <td>...</td>\n",
       "      <td>...</td>\n",
       "      <td>...</td>\n",
       "    </tr>\n",
       "    <tr>\n",
       "      <th>432057</th>\n",
       "      <td>489540</td>\n",
       "      <td>edfd3532fc0d137a8c0f5821d1dd54e4b2b979d2583d10...</td>\n",
       "      <td>[-0.21970106661319733, 0.18805548548698425, 0....</td>\n",
       "      <td>[-135.82327267249292, 23.51688379541042, -70.5...</td>\n",
       "    </tr>\n",
       "    <tr>\n",
       "      <th>432058</th>\n",
       "      <td>489541</td>\n",
       "      <td>b970ee708863a7086b4df69f90a046db2c09ad2504193f...</td>\n",
       "      <td>[-0.19333353638648987, 0.31274884939193726, 0....</td>\n",
       "      <td>[0.0, 0.0, 0.0, 0.0, 0.0, 0.0, 0.0, 0.0, 0.0, ...</td>\n",
       "    </tr>\n",
       "    <tr>\n",
       "      <th>432059</th>\n",
       "      <td>489542</td>\n",
       "      <td>61775fd991f00fcaae8d4baad45dfd4d3b52fcdb212113...</td>\n",
       "      <td>[-0.14206060767173767, 0.15506064891815186, 0....</td>\n",
       "      <td>[92.0906556030472, -100.89914367963044, -40.13...</td>\n",
       "    </tr>\n",
       "    <tr>\n",
       "      <th>432060</th>\n",
       "      <td>489543</td>\n",
       "      <td>be82cef455a749da1228433081568b3a0374c7b5f6d169...</td>\n",
       "      <td>[-0.31547439098358154, -0.20620247721672058, 0...</td>\n",
       "      <td>[-22.43402558953332, 264.6133131677118, 227.14...</td>\n",
       "    </tr>\n",
       "    <tr>\n",
       "      <th>432061</th>\n",
       "      <td>489544</td>\n",
       "      <td>e4ee93af8912f60a22b8bfe05e81e15ac842c0a7b45c60...</td>\n",
       "      <td>[-0.07488326728343964, 0.007473447360098362, 0...</td>\n",
       "      <td>[0.0, 0.0, 0.0, 0.0, 0.0, 0.0, 0.0, 0.0, 0.0, ...</td>\n",
       "    </tr>\n",
       "  </tbody>\n",
       "</table>\n",
       "<p>432062 rows × 4 columns</p>\n",
       "</div>"
      ],
      "text/plain": [
       "        encoded_product_sku  \\\n",
       "0                         0   \n",
       "1                         1   \n",
       "2                         2   \n",
       "3                         3   \n",
       "4                         4   \n",
       "...                     ...   \n",
       "432057               489540   \n",
       "432058               489541   \n",
       "432059               489542   \n",
       "432060               489543   \n",
       "432061               489544   \n",
       "\n",
       "                                     original_product_sku  \\\n",
       "0                                                    None   \n",
       "1       433b0e71df1fe9a8d1f45647545701f6108414c40eef76...   \n",
       "2       41ae0f916406434064aeb03d859a7141b53d2900394dca...   \n",
       "3       38f5bd3c9a1cc5b39e6b965f1aa6c565737f58e19a560a...   \n",
       "4       10cf8acdd90cc03246e1fd01630637d89d861237b14cbe...   \n",
       "...                                                   ...   \n",
       "432057  edfd3532fc0d137a8c0f5821d1dd54e4b2b979d2583d10...   \n",
       "432058  b970ee708863a7086b4df69f90a046db2c09ad2504193f...   \n",
       "432059  61775fd991f00fcaae8d4baad45dfd4d3b52fcdb212113...   \n",
       "432060  be82cef455a749da1228433081568b3a0374c7b5f6d169...   \n",
       "432061  e4ee93af8912f60a22b8bfe05e81e15ac842c0a7b45c60...   \n",
       "\n",
       "                                       description_vector  \\\n",
       "0       [0.0, 0.0, 0.0, 0.0, 0.0, 0.0, 0.0, 0.0, 0.0, ...   \n",
       "1       [0.0, 0.0, 0.0, 0.0, 0.0, 0.0, 0.0, 0.0, 0.0, ...   \n",
       "2       [0.0, 0.0, 0.0, 0.0, 0.0, 0.0, 0.0, 0.0, 0.0, ...   \n",
       "3       [0.0, 0.0, 0.0, 0.0, 0.0, 0.0, 0.0, 0.0, 0.0, ...   \n",
       "4       [0.0, 0.0, 0.0, 0.0, 0.0, 0.0, 0.0, 0.0, 0.0, ...   \n",
       "...                                                   ...   \n",
       "432057  [-0.21970106661319733, 0.18805548548698425, 0....   \n",
       "432058  [-0.19333353638648987, 0.31274884939193726, 0....   \n",
       "432059  [-0.14206060767173767, 0.15506064891815186, 0....   \n",
       "432060  [-0.31547439098358154, -0.20620247721672058, 0...   \n",
       "432061  [-0.07488326728343964, 0.007473447360098362, 0...   \n",
       "\n",
       "                                             image_vector  \n",
       "0       [0.0, 0.0, 0.0, 0.0, 0.0, 0.0, 0.0, 0.0, 0.0, ...  \n",
       "1       [0.0, 0.0, 0.0, 0.0, 0.0, 0.0, 0.0, 0.0, 0.0, ...  \n",
       "2       [0.0, 0.0, 0.0, 0.0, 0.0, 0.0, 0.0, 0.0, 0.0, ...  \n",
       "3       [0.0, 0.0, 0.0, 0.0, 0.0, 0.0, 0.0, 0.0, 0.0, ...  \n",
       "4       [0.0, 0.0, 0.0, 0.0, 0.0, 0.0, 0.0, 0.0, 0.0, ...  \n",
       "...                                                   ...  \n",
       "432057  [-135.82327267249292, 23.51688379541042, -70.5...  \n",
       "432058  [0.0, 0.0, 0.0, 0.0, 0.0, 0.0, 0.0, 0.0, 0.0, ...  \n",
       "432059  [92.0906556030472, -100.89914367963044, -40.13...  \n",
       "432060  [-22.43402558953332, 264.6133131677118, 227.14...  \n",
       "432061  [0.0, 0.0, 0.0, 0.0, 0.0, 0.0, 0.0, 0.0, 0.0, ...  \n",
       "\n",
       "[432062 rows x 4 columns]"
      ]
     },
     "execution_count": 135,
     "metadata": {},
     "output_type": "execute_result"
    }
   ],
   "source": [
    "embeddings_table"
   ]
  },
  {
   "cell_type": "markdown",
   "metadata": {},
   "source": [
    "- Numpy matrix with the image vectors of the products"
   ]
  },
  {
   "cell_type": "code",
   "execution_count": 136,
   "metadata": {},
   "outputs": [],
   "source": [
    "image_matrix = np.concatenate(embeddings_table.image_vector.values).reshape(-1, 50)"
   ]
  },
  {
   "cell_type": "markdown",
   "metadata": {},
   "source": [
    "- Numpy matrix with the description vectors of the products"
   ]
  },
  {
   "cell_type": "code",
   "execution_count": 137,
   "metadata": {},
   "outputs": [],
   "source": [
    "desc_matrix = np.concatenate(embeddings_table.description_vector.values).reshape(-1, 50)"
   ]
  },
  {
   "cell_type": "markdown",
   "metadata": {},
   "source": [
    "- Dict to map the encoded product_sku to the position in the embedding matrices"
   ]
  },
  {
   "cell_type": "code",
   "execution_count": 138,
   "metadata": {},
   "outputs": [],
   "source": [
    "mapping_id_sku_emb_position = dict(zip(embeddings_table.encoded_product_sku, embeddings_table.index))"
   ]
  },
  {
   "cell_type": "markdown",
   "metadata": {},
   "source": [
    "### Save to pickle file "
   ]
  },
  {
   "cell_type": "code",
   "execution_count": 139,
   "metadata": {},
   "outputs": [],
   "source": [
    "# Saving the objects:\n",
    "import pickle\n",
    "with open(os.path.join(OUTPUT_DIR, 'embedding_data.pkl'), 'wb')as f:  \n",
    "    pickle.dump([desc_matrix, image_matrix, mapping_id_sku_emb_position], f)"
   ]
  },
  {
   "cell_type": "code",
   "execution_count": null,
   "metadata": {},
   "outputs": [],
   "source": []
  }
 ],
 "metadata": {
  "interpreter": {
   "hash": "4c47d106ac78ce38a91b980f6e93d54b8debc81758e991dc6d6ecbd1a520b3c1"
  },
  "kernelspec": {
   "display_name": "Python 3 (ipykernel)",
   "language": "python",
   "name": "python3"
  },
  "language_info": {
   "codemirror_mode": {
    "name": "ipython",
    "version": 3
   },
   "file_extension": ".py",
   "mimetype": "text/x-python",
   "name": "python",
   "nbconvert_exporter": "python",
   "pygments_lexer": "ipython3",
   "version": "3.8.10"
  }
 },
 "nbformat": 4,
 "nbformat_minor": 4
}
