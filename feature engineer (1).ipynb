{
 "cells": [
  {
   "cell_type": "code",
   "execution_count": 1,
   "metadata": {
    "scrolled": true
   },
   "outputs": [
    {
     "name": "stderr",
     "output_type": "stream",
     "text": [
      "/opt/conda/lib/python3.8/site-packages/tqdm/std.py:725: FutureWarning: The Panel class is removed from pandas. Accessing it from the top-level namespace will also be removed in the next version\n",
      "  from pandas import Panel\n"
     ]
    }
   ],
   "source": [
    "import os\n",
    "import pandas as pd\n",
    "import numpy as np\n",
    "from tqdm import tqdm\n",
    "tqdm.pandas()\n",
    "import cudf\n",
    "import cupy\n",
    "import nvtabular as nvt\n",
    "import json"
   ]
  },
  {
   "cell_type": "code",
   "execution_count": 2,
   "metadata": {},
   "outputs": [],
   "source": [
    "DATA_FOLDER = '/Users/Danie/Downloads/SIGIR-ecom-data-challenge/train'\n",
    "FILENAME_PATTERN_BROWSING = 'browsing_train.csv'\n",
    "FILENAME_PATTERN_SEARCH = 'search_train.csv'\n",
    "DATA_PATH_BROWSING = os.path.join(DATA_FOLDER, FILENAME_PATTERN_BROWSING)\n",
    "DATA_PATH_SEARCH = os.path.join(DATA_FOLDER, FILENAME_PATTERN_SEARCH)\n",
    "OUTPUT_DIR = \"/home/dbanks/recodata\"\n"
   ]
  },
  {
   "cell_type": "code",
   "execution_count": 3,
   "metadata": {},
   "outputs": [
    {
     "data": {
      "text/plain": [
       "'/Users/Danie/Downloads/SIGIR-ecom-data-challenge/train/search_train.csv'"
      ]
     },
     "execution_count": 3,
     "metadata": {},
     "output_type": "execute_result"
    }
   ],
   "source": [
    "DATA_PATH_SEARCH"
   ]
  },
  {
   "cell_type": "code",
   "execution_count": null,
   "metadata": {},
   "outputs": [],
   "source": []
  },
  {
   "cell_type": "code",
   "execution_count": 4,
   "metadata": {},
   "outputs": [],
   "source": [
    "MINIMUM_SESSION_LENGTH = 2"
   ]
  },
  {
   "cell_type": "code",
   "execution_count": 5,
   "metadata": {},
   "outputs": [
    {
     "name": "stderr",
     "output_type": "stream",
     "text": [
      "100%|███████████████████████████████████████████████████████████████████████████████████████████████████████████████████████████| 819393/819393 [00:25<00:00, 32340.30it/s]\n",
      "100%|██████████████████████████████████████████████████████████████████████████████████████████████████████████████████████████| 819393/819393 [00:03<00:00, 245405.12it/s]\n",
      "100%|████████████████████████████████████████████████████████████████████████████████████████████████████████████████████████████| 819393/819393 [02:04<00:00, 6556.18it/s]\n"
     ]
    }
   ],
   "source": [
    "# load search data\n",
    "search = pd.read_csv('search_train.csv')\n",
    "# Add column event_type \n",
    "search['event_type'] = 'search'\n",
    "# Add column 'is_search'\n",
    "search['is_search'] = 1\n",
    "# drop 123 rows where: (clicked_skus_hash != NaN) and (product_skus_hash == NaN)\n",
    "condition = (search['product_skus_hash'].isnull()) & (~search['clicked_skus_hash'].isnull())\n",
    "search = search.loc[~condition]\n",
    "# convert strings to list object \n",
    "import ast\n",
    "def convert_str_to_list(x): \n",
    "    if pd.isnull(x): \n",
    "        return x\n",
    "    return ast.literal_eval(x)\n",
    "for col in ['product_skus_hash', 'clicked_skus_hash', 'query_vector']: \n",
    "    search[col] = search[col].progress_apply(convert_str_to_list)\n",
    "\n"
   ]
  },
  {
   "cell_type": "code",
   "execution_count": 6,
   "metadata": {},
   "outputs": [],
   "source": [
    "tmp = search.groupby('session_id_hash').size().reset_index()\n",
    "tmp.columns = ['session_id_hash', 'nb_queries']\n",
    "search = search.merge(tmp, on='session_id_hash', how='left')"
   ]
  },
  {
   "cell_type": "markdown",
   "metadata": {},
   "source": [
    "Include unseen clicked product to impression list :\n",
    "\n",
    "2% of the search events have a clicked item that does not appear in the impression list.\n",
    "\n",
    "  ==> We add the missing elements to the impression list."
   ]
  },
  {
   "cell_type": "code",
   "execution_count": 7,
   "metadata": {},
   "outputs": [
    {
     "name": "stderr",
     "output_type": "stream",
     "text": [
      "100%|███████████████████████████████████████████████████████████████████████████████████████████████████████████████████████████| 819393/819393 [00:20<00:00, 39912.92it/s]\n"
     ]
    }
   ],
   "source": [
    "def add_clicked(x): \n",
    "    if isinstance(x.clicked_skus_hash, list) and isinstance(x.product_skus_hash, list):\n",
    "        return list(set(x.product_skus_hash).union(set(x.clicked_skus_hash)))\n",
    "    return x.product_skus_hash\n",
    "search['updated_product_skus_hash'] = search.progress_apply(add_clicked, axis=1)"
   ]
  },
  {
   "cell_type": "markdown",
   "metadata": {},
   "source": [
    "Compute the number of visualized products and clicked items per search"
   ]
  },
  {
   "cell_type": "code",
   "execution_count": 8,
   "metadata": {},
   "outputs": [],
   "source": [
    "search['impression_size'] = search.product_skus_hash.str.len().fillna(0)\n",
    "search['clicks_size'] = search.clicked_skus_hash.str.len().fillna(0)"
   ]
  },
  {
   "cell_type": "code",
   "execution_count": 9,
   "metadata": {
    "scrolled": true
   },
   "outputs": [
    {
     "data": {
      "text/html": [
       "<div>\n",
       "<style scoped>\n",
       "    .dataframe tbody tr th:only-of-type {\n",
       "        vertical-align: middle;\n",
       "    }\n",
       "\n",
       "    .dataframe tbody tr th {\n",
       "        vertical-align: top;\n",
       "    }\n",
       "\n",
       "    .dataframe thead th {\n",
       "        text-align: right;\n",
       "    }\n",
       "</style>\n",
       "<table border=\"1\" class=\"dataframe\">\n",
       "  <thead>\n",
       "    <tr style=\"text-align: right;\">\n",
       "      <th></th>\n",
       "      <th>session_id_hash</th>\n",
       "      <th>query_vector</th>\n",
       "      <th>clicked_skus_hash</th>\n",
       "      <th>product_skus_hash</th>\n",
       "      <th>server_timestamp_epoch_ms</th>\n",
       "      <th>event_type</th>\n",
       "      <th>is_search</th>\n",
       "      <th>nb_queries</th>\n",
       "      <th>updated_product_skus_hash</th>\n",
       "      <th>impression_size</th>\n",
       "      <th>clicks_size</th>\n",
       "    </tr>\n",
       "  </thead>\n",
       "  <tbody>\n",
       "    <tr>\n",
       "      <th>0</th>\n",
       "      <td>48fade624d47870058ce07dd789ccc04e46c70c0fa2a1b...</td>\n",
       "      <td>[-0.20255649089813232, -0.016908567398786545, ...</td>\n",
       "      <td>NaN</td>\n",
       "      <td>NaN</td>\n",
       "      <td>1548575194779</td>\n",
       "      <td>search</td>\n",
       "      <td>1</td>\n",
       "      <td>1</td>\n",
       "      <td>NaN</td>\n",
       "      <td>0.0</td>\n",
       "      <td>0.0</td>\n",
       "    </tr>\n",
       "    <tr>\n",
       "      <th>1</th>\n",
       "      <td>8731ca84ff7bb8cb647531d54e64feedb2519b4a7792a7...</td>\n",
       "      <td>[-0.007610442116856575, -0.14909175038337708, ...</td>\n",
       "      <td>NaN</td>\n",
       "      <td>[9ee9ffd7e2529a65f9a0b0c9eaae6330df85cf2e3af33...</td>\n",
       "      <td>1548276763869</td>\n",
       "      <td>search</td>\n",
       "      <td>1</td>\n",
       "      <td>1</td>\n",
       "      <td>[9ee9ffd7e2529a65f9a0b0c9eaae6330df85cf2e3af33...</td>\n",
       "      <td>3.0</td>\n",
       "      <td>0.0</td>\n",
       "    </tr>\n",
       "    <tr>\n",
       "      <th>2</th>\n",
       "      <td>9be980708345944960645d03606ea83b637cae9106b705...</td>\n",
       "      <td>[-0.20023074746131897, -0.03151938319206238, 0...</td>\n",
       "      <td>NaN</td>\n",
       "      <td>[7cc72dbed53bab78ec6a62feaa5052a7a1db7d201664b...</td>\n",
       "      <td>1548937997295</td>\n",
       "      <td>search</td>\n",
       "      <td>1</td>\n",
       "      <td>3</td>\n",
       "      <td>[7cc72dbed53bab78ec6a62feaa5052a7a1db7d201664b...</td>\n",
       "      <td>7.0</td>\n",
       "      <td>0.0</td>\n",
       "    </tr>\n",
       "    <tr>\n",
       "      <th>3</th>\n",
       "      <td>9be980708345944960645d03606ea83b637cae9106b705...</td>\n",
       "      <td>[-0.18556387722492218, -0.07620412111282349, 0...</td>\n",
       "      <td>NaN</td>\n",
       "      <td>[62c4ddab6c1c81c74d315376b3c0dc7768c0286b3dc6f...</td>\n",
       "      <td>1548938038268</td>\n",
       "      <td>search</td>\n",
       "      <td>1</td>\n",
       "      <td>3</td>\n",
       "      <td>[62c4ddab6c1c81c74d315376b3c0dc7768c0286b3dc6f...</td>\n",
       "      <td>13.0</td>\n",
       "      <td>0.0</td>\n",
       "    </tr>\n",
       "    <tr>\n",
       "      <th>4</th>\n",
       "      <td>9be980708345944960645d03606ea83b637cae9106b705...</td>\n",
       "      <td>[-0.03269264101982117, -0.27234694361686707, 0...</td>\n",
       "      <td>NaN</td>\n",
       "      <td>[2a0ee2924feabeec35e21e8fcb4d5b0684d190e46cef7...</td>\n",
       "      <td>1548938093827</td>\n",
       "      <td>search</td>\n",
       "      <td>1</td>\n",
       "      <td>3</td>\n",
       "      <td>[2a0ee2924feabeec35e21e8fcb4d5b0684d190e46cef7...</td>\n",
       "      <td>25.0</td>\n",
       "      <td>0.0</td>\n",
       "    </tr>\n",
       "  </tbody>\n",
       "</table>\n",
       "</div>"
      ],
      "text/plain": [
       "                                     session_id_hash  \\\n",
       "0  48fade624d47870058ce07dd789ccc04e46c70c0fa2a1b...   \n",
       "1  8731ca84ff7bb8cb647531d54e64feedb2519b4a7792a7...   \n",
       "2  9be980708345944960645d03606ea83b637cae9106b705...   \n",
       "3  9be980708345944960645d03606ea83b637cae9106b705...   \n",
       "4  9be980708345944960645d03606ea83b637cae9106b705...   \n",
       "\n",
       "                                        query_vector clicked_skus_hash  \\\n",
       "0  [-0.20255649089813232, -0.016908567398786545, ...               NaN   \n",
       "1  [-0.007610442116856575, -0.14909175038337708, ...               NaN   \n",
       "2  [-0.20023074746131897, -0.03151938319206238, 0...               NaN   \n",
       "3  [-0.18556387722492218, -0.07620412111282349, 0...               NaN   \n",
       "4  [-0.03269264101982117, -0.27234694361686707, 0...               NaN   \n",
       "\n",
       "                                   product_skus_hash  \\\n",
       "0                                                NaN   \n",
       "1  [9ee9ffd7e2529a65f9a0b0c9eaae6330df85cf2e3af33...   \n",
       "2  [7cc72dbed53bab78ec6a62feaa5052a7a1db7d201664b...   \n",
       "3  [62c4ddab6c1c81c74d315376b3c0dc7768c0286b3dc6f...   \n",
       "4  [2a0ee2924feabeec35e21e8fcb4d5b0684d190e46cef7...   \n",
       "\n",
       "   server_timestamp_epoch_ms event_type  is_search  nb_queries  \\\n",
       "0              1548575194779     search          1           1   \n",
       "1              1548276763869     search          1           1   \n",
       "2              1548937997295     search          1           3   \n",
       "3              1548938038268     search          1           3   \n",
       "4              1548938093827     search          1           3   \n",
       "\n",
       "                           updated_product_skus_hash  impression_size  \\\n",
       "0                                                NaN              0.0   \n",
       "1  [9ee9ffd7e2529a65f9a0b0c9eaae6330df85cf2e3af33...              3.0   \n",
       "2  [7cc72dbed53bab78ec6a62feaa5052a7a1db7d201664b...              7.0   \n",
       "3  [62c4ddab6c1c81c74d315376b3c0dc7768c0286b3dc6f...             13.0   \n",
       "4  [2a0ee2924feabeec35e21e8fcb4d5b0684d190e46cef7...             25.0   \n",
       "\n",
       "   clicks_size  \n",
       "0          0.0  \n",
       "1          0.0  \n",
       "2          0.0  \n",
       "3          0.0  \n",
       "4          0.0  "
      ]
     },
     "execution_count": 9,
     "metadata": {},
     "output_type": "execute_result"
    }
   ],
   "source": [
    "search.head(5)\n"
   ]
  },
  {
   "cell_type": "markdown",
   "metadata": {},
   "source": [
    "Aggregate search information per session"
   ]
  },
  {
   "cell_type": "markdown",
   "metadata": {},
   "source": [
    "The resulting variables are:\n",
    "\n",
    "- \"flat_query_vector\": List of search query vector (reshaped to 1-dim so that it works with NVT Data loader)\n",
    "- \"flat_product_skus_hash\": List of product skus returned by the search query\n",
    "- \"clicked-flag\": To indicate if the product was clicked or not in the search results\n",
    "- \"nb_queries\" : number of search queries within the same session \n",
    "- \"impression_size\": number of returned product skus for each search query\n",
    "- \"clicks_size\": number of clicked items for each search query"
   ]
  },
  {
   "cell_type": "code",
   "execution_count": 10,
   "metadata": {},
   "outputs": [
    {
     "name": "stderr",
     "output_type": "stream",
     "text": [
      "100%|███████████████████████████████████████████████████████████████████████████████████████████████████████████████████████████| 550028/550028 [00:47<00:00, 11678.58it/s]\n"
     ]
    }
   ],
   "source": [
    "def all_products(x): \n",
    "    t =[]\n",
    "    for products in x.dropna(): \n",
    "        t += products\n",
    "    if len(t)==0:\n",
    "        return ['missing']\n",
    "    return t\n",
    "\n",
    "session_search = search.sort_values(['session_id_hash', 'server_timestamp_epoch_ms']).groupby('session_id_hash').agg({'query_vector': lambda x: list(np.concatenate(x.values)),\n",
    "                                                                                                                    'updated_product_skus_hash': all_products,\n",
    "                                                                                                                    'clicked_skus_hash': all_products,\n",
    "                                                                                                                    'impression_size': list,\n",
    "                                                                                                                    'clicks_size': list,\n",
    "                                                                                                                    'nb_queries': 'last'\n",
    "                                                                                                                  })\n",
    "session_search.columns = ['flat_query_vector', 'flat_product_skus_hash', 'flat_clicked_skus_hash', 'impressions_size', 'clicks_size', 'nb_queries']\n",
    "session_search['clicked-flag'] = session_search.progress_apply(lambda x: [int(e in x['flat_clicked_skus_hash']) for e in x['flat_product_skus_hash']], axis=1)\n",
    "session_search = session_search.reset_index()"
   ]
  },
  {
   "cell_type": "code",
   "execution_count": 11,
   "metadata": {
    "scrolled": true
   },
   "outputs": [
    {
     "data": {
      "text/html": [
       "<div>\n",
       "<style scoped>\n",
       "    .dataframe tbody tr th:only-of-type {\n",
       "        vertical-align: middle;\n",
       "    }\n",
       "\n",
       "    .dataframe tbody tr th {\n",
       "        vertical-align: top;\n",
       "    }\n",
       "\n",
       "    .dataframe thead th {\n",
       "        text-align: right;\n",
       "    }\n",
       "</style>\n",
       "<table border=\"1\" class=\"dataframe\">\n",
       "  <thead>\n",
       "    <tr style=\"text-align: right;\">\n",
       "      <th></th>\n",
       "      <th>session_id_hash</th>\n",
       "      <th>flat_query_vector</th>\n",
       "      <th>flat_product_skus_hash</th>\n",
       "      <th>flat_clicked_skus_hash</th>\n",
       "      <th>impressions_size</th>\n",
       "      <th>clicks_size</th>\n",
       "      <th>nb_queries</th>\n",
       "      <th>clicked-flag</th>\n",
       "    </tr>\n",
       "  </thead>\n",
       "  <tbody>\n",
       "    <tr>\n",
       "      <th>0</th>\n",
       "      <td>00000277639fc5c6f816654b78bf3654ece7fd53a7338f...</td>\n",
       "      <td>[-0.1088152825832367, -0.09937708079814911, -0...</td>\n",
       "      <td>[5c05011d4376242ed29a50d25215abccae158b49bbfb1...</td>\n",
       "      <td>[ca089db21669aabe32904308205ad3632574fd268e912...</td>\n",
       "      <td>[14.0]</td>\n",
       "      <td>[1.0]</td>\n",
       "      <td>1</td>\n",
       "      <td>[0, 0, 0, 0, 0, 0, 0, 0, 0, 0, 0, 1, 0, 0]</td>\n",
       "    </tr>\n",
       "    <tr>\n",
       "      <th>1</th>\n",
       "      <td>00001216514808fdd1e3bd4e4229ef518c712932424d82...</td>\n",
       "      <td>[-0.05604613572359085, -0.19420677423477173, 0...</td>\n",
       "      <td>[e90aeee7e8eb921bd430981037ee19c6e95226d0651c6...</td>\n",
       "      <td>[missing]</td>\n",
       "      <td>[25.0]</td>\n",
       "      <td>[0.0]</td>\n",
       "      <td>1</td>\n",
       "      <td>[0, 0, 0, 0, 0, 0, 0, 0, 0, 0, 0, 0, 0, 0, 0, ...</td>\n",
       "    </tr>\n",
       "    <tr>\n",
       "      <th>2</th>\n",
       "      <td>000049b258d564d8a44105a5c85b1a82e69bae9129319b...</td>\n",
       "      <td>[-0.018799802288413048, -0.2817137837409973, 0...</td>\n",
       "      <td>[7302590bebd27fb6dece6dc605b96a098ab1efdf35aff...</td>\n",
       "      <td>[missing]</td>\n",
       "      <td>[0.0, 21.0]</td>\n",
       "      <td>[0.0, 0.0]</td>\n",
       "      <td>2</td>\n",
       "      <td>[0, 0, 0, 0, 0, 0, 0, 0, 0, 0, 0, 0, 0, 0, 0, ...</td>\n",
       "    </tr>\n",
       "  </tbody>\n",
       "</table>\n",
       "</div>"
      ],
      "text/plain": [
       "                                     session_id_hash  \\\n",
       "0  00000277639fc5c6f816654b78bf3654ece7fd53a7338f...   \n",
       "1  00001216514808fdd1e3bd4e4229ef518c712932424d82...   \n",
       "2  000049b258d564d8a44105a5c85b1a82e69bae9129319b...   \n",
       "\n",
       "                                   flat_query_vector  \\\n",
       "0  [-0.1088152825832367, -0.09937708079814911, -0...   \n",
       "1  [-0.05604613572359085, -0.19420677423477173, 0...   \n",
       "2  [-0.018799802288413048, -0.2817137837409973, 0...   \n",
       "\n",
       "                              flat_product_skus_hash  \\\n",
       "0  [5c05011d4376242ed29a50d25215abccae158b49bbfb1...   \n",
       "1  [e90aeee7e8eb921bd430981037ee19c6e95226d0651c6...   \n",
       "2  [7302590bebd27fb6dece6dc605b96a098ab1efdf35aff...   \n",
       "\n",
       "                              flat_clicked_skus_hash impressions_size  \\\n",
       "0  [ca089db21669aabe32904308205ad3632574fd268e912...           [14.0]   \n",
       "1                                          [missing]           [25.0]   \n",
       "2                                          [missing]      [0.0, 21.0]   \n",
       "\n",
       "  clicks_size  nb_queries                                       clicked-flag  \n",
       "0       [1.0]           1         [0, 0, 0, 0, 0, 0, 0, 0, 0, 0, 0, 1, 0, 0]  \n",
       "1       [0.0]           1  [0, 0, 0, 0, 0, 0, 0, 0, 0, 0, 0, 0, 0, 0, 0, ...  \n",
       "2  [0.0, 0.0]           2  [0, 0, 0, 0, 0, 0, 0, 0, 0, 0, 0, 0, 0, 0, 0, ...  "
      ]
     },
     "execution_count": 11,
     "metadata": {},
     "output_type": "execute_result"
    }
   ],
   "source": [
    "session_search.head(3)"
   ]
  },
  {
   "cell_type": "code",
   "execution_count": 12,
   "metadata": {},
   "outputs": [
    {
     "ename": "FileNotFoundError",
     "evalue": "[Errno 2] No such file or directory: '/home/dbanks/recodata/session_search.parquet'",
     "output_type": "error",
     "traceback": [
      "\u001b[0;31m---------------------------------------------------------------------------\u001b[0m",
      "\u001b[0;31mFileNotFoundError\u001b[0m                         Traceback (most recent call last)",
      "\u001b[0;32m/tmp/ipykernel_383/3122094621.py\u001b[0m in \u001b[0;36m<module>\u001b[0;34m\u001b[0m\n\u001b[0;32m----> 1\u001b[0;31m \u001b[0msession_search\u001b[0m\u001b[0;34m.\u001b[0m\u001b[0mto_parquet\u001b[0m\u001b[0;34m(\u001b[0m\u001b[0mos\u001b[0m\u001b[0;34m.\u001b[0m\u001b[0mpath\u001b[0m\u001b[0;34m.\u001b[0m\u001b[0mjoin\u001b[0m\u001b[0;34m(\u001b[0m\u001b[0mOUTPUT_DIR\u001b[0m\u001b[0;34m,\u001b[0m \u001b[0;34m\"session_search.parquet\"\u001b[0m\u001b[0;34m)\u001b[0m\u001b[0;34m)\u001b[0m\u001b[0;34m\u001b[0m\u001b[0;34m\u001b[0m\u001b[0m\n\u001b[0m\u001b[1;32m      2\u001b[0m \u001b[0msearch\u001b[0m\u001b[0;34m.\u001b[0m\u001b[0mto_parquet\u001b[0m\u001b[0;34m(\u001b[0m\u001b[0mos\u001b[0m\u001b[0;34m.\u001b[0m\u001b[0mpath\u001b[0m\u001b[0;34m.\u001b[0m\u001b[0mjoin\u001b[0m\u001b[0;34m(\u001b[0m\u001b[0mOUTPUT_DIR\u001b[0m\u001b[0;34m,\u001b[0m \u001b[0;34m\"search.parquet\"\u001b[0m\u001b[0;34m)\u001b[0m\u001b[0;34m)\u001b[0m\u001b[0;34m\u001b[0m\u001b[0;34m\u001b[0m\u001b[0m\n",
      "\u001b[0;32m/opt/conda/lib/python3.8/site-packages/pandas/util/_decorators.py\u001b[0m in \u001b[0;36mwrapper\u001b[0;34m(*args, **kwargs)\u001b[0m\n\u001b[1;32m    197\u001b[0m                 \u001b[0;32melse\u001b[0m\u001b[0;34m:\u001b[0m\u001b[0;34m\u001b[0m\u001b[0;34m\u001b[0m\u001b[0m\n\u001b[1;32m    198\u001b[0m                     \u001b[0mkwargs\u001b[0m\u001b[0;34m[\u001b[0m\u001b[0mnew_arg_name\u001b[0m\u001b[0;34m]\u001b[0m \u001b[0;34m=\u001b[0m \u001b[0mnew_arg_value\u001b[0m\u001b[0;34m\u001b[0m\u001b[0;34m\u001b[0m\u001b[0m\n\u001b[0;32m--> 199\u001b[0;31m             \u001b[0;32mreturn\u001b[0m \u001b[0mfunc\u001b[0m\u001b[0;34m(\u001b[0m\u001b[0;34m*\u001b[0m\u001b[0margs\u001b[0m\u001b[0;34m,\u001b[0m \u001b[0;34m**\u001b[0m\u001b[0mkwargs\u001b[0m\u001b[0;34m)\u001b[0m\u001b[0;34m\u001b[0m\u001b[0;34m\u001b[0m\u001b[0m\n\u001b[0m\u001b[1;32m    200\u001b[0m \u001b[0;34m\u001b[0m\u001b[0m\n\u001b[1;32m    201\u001b[0m         \u001b[0;32mreturn\u001b[0m \u001b[0mcast\u001b[0m\u001b[0;34m(\u001b[0m\u001b[0mF\u001b[0m\u001b[0;34m,\u001b[0m \u001b[0mwrapper\u001b[0m\u001b[0;34m)\u001b[0m\u001b[0;34m\u001b[0m\u001b[0;34m\u001b[0m\u001b[0m\n",
      "\u001b[0;32m/opt/conda/lib/python3.8/site-packages/pandas/core/frame.py\u001b[0m in \u001b[0;36mto_parquet\u001b[0;34m(self, path, engine, compression, index, partition_cols, **kwargs)\u001b[0m\n\u001b[1;32m   2363\u001b[0m         \u001b[0;32mfrom\u001b[0m \u001b[0mpandas\u001b[0m\u001b[0;34m.\u001b[0m\u001b[0mio\u001b[0m\u001b[0;34m.\u001b[0m\u001b[0mparquet\u001b[0m \u001b[0;32mimport\u001b[0m \u001b[0mto_parquet\u001b[0m\u001b[0;34m\u001b[0m\u001b[0;34m\u001b[0m\u001b[0m\n\u001b[1;32m   2364\u001b[0m \u001b[0;34m\u001b[0m\u001b[0m\n\u001b[0;32m-> 2365\u001b[0;31m         to_parquet(\n\u001b[0m\u001b[1;32m   2366\u001b[0m             \u001b[0mself\u001b[0m\u001b[0;34m,\u001b[0m\u001b[0;34m\u001b[0m\u001b[0;34m\u001b[0m\u001b[0m\n\u001b[1;32m   2367\u001b[0m             \u001b[0mpath\u001b[0m\u001b[0;34m,\u001b[0m\u001b[0;34m\u001b[0m\u001b[0;34m\u001b[0m\u001b[0m\n",
      "\u001b[0;32m/opt/conda/lib/python3.8/site-packages/pandas/io/parquet.py\u001b[0m in \u001b[0;36mto_parquet\u001b[0;34m(df, path, engine, compression, index, partition_cols, **kwargs)\u001b[0m\n\u001b[1;32m    268\u001b[0m         \u001b[0mpartition_cols\u001b[0m \u001b[0;34m=\u001b[0m \u001b[0;34m[\u001b[0m\u001b[0mpartition_cols\u001b[0m\u001b[0;34m]\u001b[0m\u001b[0;34m\u001b[0m\u001b[0;34m\u001b[0m\u001b[0m\n\u001b[1;32m    269\u001b[0m     \u001b[0mimpl\u001b[0m \u001b[0;34m=\u001b[0m \u001b[0mget_engine\u001b[0m\u001b[0;34m(\u001b[0m\u001b[0mengine\u001b[0m\u001b[0;34m)\u001b[0m\u001b[0;34m\u001b[0m\u001b[0;34m\u001b[0m\u001b[0m\n\u001b[0;32m--> 270\u001b[0;31m     return impl.write(\n\u001b[0m\u001b[1;32m    271\u001b[0m         \u001b[0mdf\u001b[0m\u001b[0;34m,\u001b[0m\u001b[0;34m\u001b[0m\u001b[0;34m\u001b[0m\u001b[0m\n\u001b[1;32m    272\u001b[0m         \u001b[0mpath\u001b[0m\u001b[0;34m,\u001b[0m\u001b[0;34m\u001b[0m\u001b[0;34m\u001b[0m\u001b[0m\n",
      "\u001b[0;32m/opt/conda/lib/python3.8/site-packages/pandas/io/parquet.py\u001b[0m in \u001b[0;36mwrite\u001b[0;34m(self, df, path, compression, index, partition_cols, **kwargs)\u001b[0m\n\u001b[1;32m    121\u001b[0m         \u001b[0;32melse\u001b[0m\u001b[0;34m:\u001b[0m\u001b[0;34m\u001b[0m\u001b[0;34m\u001b[0m\u001b[0m\n\u001b[1;32m    122\u001b[0m             \u001b[0;31m# write to single output file\u001b[0m\u001b[0;34m\u001b[0m\u001b[0;34m\u001b[0m\u001b[0;34m\u001b[0m\u001b[0m\n\u001b[0;32m--> 123\u001b[0;31m             \u001b[0mself\u001b[0m\u001b[0;34m.\u001b[0m\u001b[0mapi\u001b[0m\u001b[0;34m.\u001b[0m\u001b[0mparquet\u001b[0m\u001b[0;34m.\u001b[0m\u001b[0mwrite_table\u001b[0m\u001b[0;34m(\u001b[0m\u001b[0mtable\u001b[0m\u001b[0;34m,\u001b[0m \u001b[0mpath\u001b[0m\u001b[0;34m,\u001b[0m \u001b[0mcompression\u001b[0m\u001b[0;34m=\u001b[0m\u001b[0mcompression\u001b[0m\u001b[0;34m,\u001b[0m \u001b[0;34m**\u001b[0m\u001b[0mkwargs\u001b[0m\u001b[0;34m)\u001b[0m\u001b[0;34m\u001b[0m\u001b[0;34m\u001b[0m\u001b[0m\n\u001b[0m\u001b[1;32m    124\u001b[0m \u001b[0;34m\u001b[0m\u001b[0m\n\u001b[1;32m    125\u001b[0m     \u001b[0;32mdef\u001b[0m \u001b[0mread\u001b[0m\u001b[0;34m(\u001b[0m\u001b[0mself\u001b[0m\u001b[0;34m,\u001b[0m \u001b[0mpath\u001b[0m\u001b[0;34m,\u001b[0m \u001b[0mcolumns\u001b[0m\u001b[0;34m=\u001b[0m\u001b[0;32mNone\u001b[0m\u001b[0;34m,\u001b[0m \u001b[0;34m**\u001b[0m\u001b[0mkwargs\u001b[0m\u001b[0;34m)\u001b[0m\u001b[0;34m:\u001b[0m\u001b[0;34m\u001b[0m\u001b[0;34m\u001b[0m\u001b[0m\n",
      "\u001b[0;32m/opt/conda/lib/python3.8/site-packages/pyarrow/parquet.py\u001b[0m in \u001b[0;36mwrite_table\u001b[0;34m(table, where, row_group_size, version, use_dictionary, compression, write_statistics, use_deprecated_int96_timestamps, coerce_timestamps, allow_truncated_timestamps, data_page_size, flavor, filesystem, compression_level, use_byte_stream_split, data_page_version, **kwargs)\u001b[0m\n\u001b[1;32m   1671\u001b[0m     \u001b[0muse_int96\u001b[0m \u001b[0;34m=\u001b[0m \u001b[0muse_deprecated_int96_timestamps\u001b[0m\u001b[0;34m\u001b[0m\u001b[0;34m\u001b[0m\u001b[0m\n\u001b[1;32m   1672\u001b[0m     \u001b[0;32mtry\u001b[0m\u001b[0;34m:\u001b[0m\u001b[0;34m\u001b[0m\u001b[0;34m\u001b[0m\u001b[0m\n\u001b[0;32m-> 1673\u001b[0;31m         with ParquetWriter(\n\u001b[0m\u001b[1;32m   1674\u001b[0m                 \u001b[0mwhere\u001b[0m\u001b[0;34m,\u001b[0m \u001b[0mtable\u001b[0m\u001b[0;34m.\u001b[0m\u001b[0mschema\u001b[0m\u001b[0;34m,\u001b[0m\u001b[0;34m\u001b[0m\u001b[0;34m\u001b[0m\u001b[0m\n\u001b[1;32m   1675\u001b[0m                 \u001b[0mfilesystem\u001b[0m\u001b[0;34m=\u001b[0m\u001b[0mfilesystem\u001b[0m\u001b[0;34m,\u001b[0m\u001b[0;34m\u001b[0m\u001b[0;34m\u001b[0m\u001b[0m\n",
      "\u001b[0;32m/opt/conda/lib/python3.8/site-packages/pyarrow/parquet.py\u001b[0m in \u001b[0;36m__init__\u001b[0;34m(self, where, schema, filesystem, flavor, version, use_dictionary, compression, write_statistics, use_deprecated_int96_timestamps, compression_level, use_byte_stream_split, writer_engine_version, data_page_version, **options)\u001b[0m\n\u001b[1;32m    544\u001b[0m         \u001b[0mfilesystem\u001b[0m\u001b[0;34m,\u001b[0m \u001b[0mpath\u001b[0m \u001b[0;34m=\u001b[0m \u001b[0mresolve_filesystem_and_path\u001b[0m\u001b[0;34m(\u001b[0m\u001b[0mwhere\u001b[0m\u001b[0;34m,\u001b[0m \u001b[0mfilesystem\u001b[0m\u001b[0;34m)\u001b[0m\u001b[0;34m\u001b[0m\u001b[0;34m\u001b[0m\u001b[0m\n\u001b[1;32m    545\u001b[0m         \u001b[0;32mif\u001b[0m \u001b[0mfilesystem\u001b[0m \u001b[0;32mis\u001b[0m \u001b[0;32mnot\u001b[0m \u001b[0;32mNone\u001b[0m\u001b[0;34m:\u001b[0m\u001b[0;34m\u001b[0m\u001b[0;34m\u001b[0m\u001b[0m\n\u001b[0;32m--> 546\u001b[0;31m             \u001b[0msink\u001b[0m \u001b[0;34m=\u001b[0m \u001b[0mself\u001b[0m\u001b[0;34m.\u001b[0m\u001b[0mfile_handle\u001b[0m \u001b[0;34m=\u001b[0m \u001b[0mfilesystem\u001b[0m\u001b[0;34m.\u001b[0m\u001b[0mopen\u001b[0m\u001b[0;34m(\u001b[0m\u001b[0mpath\u001b[0m\u001b[0;34m,\u001b[0m \u001b[0;34m'wb'\u001b[0m\u001b[0;34m)\u001b[0m\u001b[0;34m\u001b[0m\u001b[0;34m\u001b[0m\u001b[0m\n\u001b[0m\u001b[1;32m    547\u001b[0m         \u001b[0;32melse\u001b[0m\u001b[0;34m:\u001b[0m\u001b[0;34m\u001b[0m\u001b[0;34m\u001b[0m\u001b[0m\n\u001b[1;32m    548\u001b[0m             \u001b[0msink\u001b[0m \u001b[0;34m=\u001b[0m \u001b[0mwhere\u001b[0m\u001b[0;34m\u001b[0m\u001b[0;34m\u001b[0m\u001b[0m\n",
      "\u001b[0;32m/opt/conda/lib/python3.8/site-packages/pyarrow/filesystem.py\u001b[0m in \u001b[0;36mopen\u001b[0;34m(self, path, mode)\u001b[0m\n\u001b[1;32m    282\u001b[0m         \"\"\"\n\u001b[1;32m    283\u001b[0m         \u001b[0mpath\u001b[0m \u001b[0;34m=\u001b[0m \u001b[0m_stringify_path\u001b[0m\u001b[0;34m(\u001b[0m\u001b[0mpath\u001b[0m\u001b[0;34m)\u001b[0m\u001b[0;34m\u001b[0m\u001b[0;34m\u001b[0m\u001b[0m\n\u001b[0;32m--> 284\u001b[0;31m         \u001b[0;32mreturn\u001b[0m \u001b[0mopen\u001b[0m\u001b[0;34m(\u001b[0m\u001b[0mpath\u001b[0m\u001b[0;34m,\u001b[0m \u001b[0mmode\u001b[0m\u001b[0;34m=\u001b[0m\u001b[0mmode\u001b[0m\u001b[0;34m)\u001b[0m\u001b[0;34m\u001b[0m\u001b[0;34m\u001b[0m\u001b[0m\n\u001b[0m\u001b[1;32m    285\u001b[0m \u001b[0;34m\u001b[0m\u001b[0m\n\u001b[1;32m    286\u001b[0m     \u001b[0;34m@\u001b[0m\u001b[0mproperty\u001b[0m\u001b[0;34m\u001b[0m\u001b[0;34m\u001b[0m\u001b[0m\n",
      "\u001b[0;31mFileNotFoundError\u001b[0m: [Errno 2] No such file or directory: '/home/dbanks/recodata/session_search.parquet'"
     ]
    }
   ],
   "source": [
    "session_search.to_parquet(os.path.join(OUTPUT_DIR, \"session_search.parquet\"))\n",
    "search.to_parquet(os.path.join(OUTPUT_DIR, \"search.parquet\"))"
   ]
  },
  {
   "cell_type": "markdown",
   "metadata": {},
   "source": [
    "## Create event table:"
   ]
  },
  {
   "cell_type": "code",
   "execution_count": 13,
   "metadata": {},
   "outputs": [
    {
     "ename": "FileNotFoundError",
     "evalue": "/home/dbanks/recodata/session_search.parquet",
     "output_type": "error",
     "traceback": [
      "\u001b[0;31m---------------------------------------------------------------------------\u001b[0m",
      "\u001b[0;31mFileNotFoundError\u001b[0m                         Traceback (most recent call last)",
      "\u001b[0;32m/tmp/ipykernel_383/2665810896.py\u001b[0m in \u001b[0;36m<module>\u001b[0;34m\u001b[0m\n\u001b[0;32m----> 1\u001b[0;31m \u001b[0msession_search\u001b[0m \u001b[0;34m=\u001b[0m \u001b[0mpd\u001b[0m\u001b[0;34m.\u001b[0m\u001b[0mread_parquet\u001b[0m\u001b[0;34m(\u001b[0m\u001b[0mos\u001b[0m\u001b[0;34m.\u001b[0m\u001b[0mpath\u001b[0m\u001b[0;34m.\u001b[0m\u001b[0mjoin\u001b[0m\u001b[0;34m(\u001b[0m\u001b[0mOUTPUT_DIR\u001b[0m\u001b[0;34m,\u001b[0m \u001b[0;34m\"session_search.parquet\"\u001b[0m\u001b[0;34m)\u001b[0m\u001b[0;34m)\u001b[0m\u001b[0;34m\u001b[0m\u001b[0;34m\u001b[0m\u001b[0m\n\u001b[0m\u001b[1;32m      2\u001b[0m \u001b[0msearch\u001b[0m \u001b[0;34m=\u001b[0m \u001b[0mpd\u001b[0m\u001b[0;34m.\u001b[0m\u001b[0mread_parquet\u001b[0m\u001b[0;34m(\u001b[0m\u001b[0mos\u001b[0m\u001b[0;34m.\u001b[0m\u001b[0mpath\u001b[0m\u001b[0;34m.\u001b[0m\u001b[0mjoin\u001b[0m\u001b[0;34m(\u001b[0m\u001b[0mOUTPUT_DIR\u001b[0m\u001b[0;34m,\u001b[0m \u001b[0;34m\"search.parquet\"\u001b[0m\u001b[0;34m)\u001b[0m\u001b[0;34m)\u001b[0m\u001b[0;34m\u001b[0m\u001b[0;34m\u001b[0m\u001b[0m\n",
      "\u001b[0;32m/opt/conda/lib/python3.8/site-packages/pandas/io/parquet.py\u001b[0m in \u001b[0;36mread_parquet\u001b[0;34m(path, engine, columns, **kwargs)\u001b[0m\n\u001b[1;32m    315\u001b[0m     \"\"\"\n\u001b[1;32m    316\u001b[0m     \u001b[0mimpl\u001b[0m \u001b[0;34m=\u001b[0m \u001b[0mget_engine\u001b[0m\u001b[0;34m(\u001b[0m\u001b[0mengine\u001b[0m\u001b[0;34m)\u001b[0m\u001b[0;34m\u001b[0m\u001b[0;34m\u001b[0m\u001b[0m\n\u001b[0;32m--> 317\u001b[0;31m     \u001b[0;32mreturn\u001b[0m \u001b[0mimpl\u001b[0m\u001b[0;34m.\u001b[0m\u001b[0mread\u001b[0m\u001b[0;34m(\u001b[0m\u001b[0mpath\u001b[0m\u001b[0;34m,\u001b[0m \u001b[0mcolumns\u001b[0m\u001b[0;34m=\u001b[0m\u001b[0mcolumns\u001b[0m\u001b[0;34m,\u001b[0m \u001b[0;34m**\u001b[0m\u001b[0mkwargs\u001b[0m\u001b[0;34m)\u001b[0m\u001b[0;34m\u001b[0m\u001b[0;34m\u001b[0m\u001b[0m\n\u001b[0m",
      "\u001b[0;32m/opt/conda/lib/python3.8/site-packages/pandas/io/parquet.py\u001b[0m in \u001b[0;36mread\u001b[0;34m(self, path, columns, **kwargs)\u001b[0m\n\u001b[1;32m    139\u001b[0m \u001b[0;34m\u001b[0m\u001b[0m\n\u001b[1;32m    140\u001b[0m         \u001b[0mkwargs\u001b[0m\u001b[0;34m[\u001b[0m\u001b[0;34m\"use_pandas_metadata\"\u001b[0m\u001b[0;34m]\u001b[0m \u001b[0;34m=\u001b[0m \u001b[0;32mTrue\u001b[0m\u001b[0;34m\u001b[0m\u001b[0;34m\u001b[0m\u001b[0m\n\u001b[0;32m--> 141\u001b[0;31m         result = self.api.parquet.read_table(\n\u001b[0m\u001b[1;32m    142\u001b[0m             \u001b[0mpath\u001b[0m\u001b[0;34m,\u001b[0m \u001b[0mcolumns\u001b[0m\u001b[0;34m=\u001b[0m\u001b[0mcolumns\u001b[0m\u001b[0;34m,\u001b[0m \u001b[0mfilesystem\u001b[0m\u001b[0;34m=\u001b[0m\u001b[0mfs\u001b[0m\u001b[0;34m,\u001b[0m \u001b[0;34m**\u001b[0m\u001b[0mkwargs\u001b[0m\u001b[0;34m\u001b[0m\u001b[0;34m\u001b[0m\u001b[0m\n\u001b[1;32m    143\u001b[0m         ).to_pandas()\n",
      "\u001b[0;32m/opt/conda/lib/python3.8/site-packages/pyarrow/parquet.py\u001b[0m in \u001b[0;36mread_table\u001b[0;34m(source, columns, use_threads, metadata, use_pandas_metadata, memory_map, read_dictionary, filesystem, filters, buffer_size, partitioning, use_legacy_dataset, ignore_prefixes)\u001b[0m\n\u001b[1;32m   1563\u001b[0m             )\n\u001b[1;32m   1564\u001b[0m         \u001b[0;32mtry\u001b[0m\u001b[0;34m:\u001b[0m\u001b[0;34m\u001b[0m\u001b[0;34m\u001b[0m\u001b[0m\n\u001b[0;32m-> 1565\u001b[0;31m             dataset = _ParquetDatasetV2(\n\u001b[0m\u001b[1;32m   1566\u001b[0m                 \u001b[0msource\u001b[0m\u001b[0;34m,\u001b[0m\u001b[0;34m\u001b[0m\u001b[0;34m\u001b[0m\u001b[0m\n\u001b[1;32m   1567\u001b[0m                 \u001b[0mfilesystem\u001b[0m\u001b[0;34m=\u001b[0m\u001b[0mfilesystem\u001b[0m\u001b[0;34m,\u001b[0m\u001b[0;34m\u001b[0m\u001b[0;34m\u001b[0m\u001b[0m\n",
      "\u001b[0;32m/opt/conda/lib/python3.8/site-packages/pyarrow/parquet.py\u001b[0m in \u001b[0;36m__init__\u001b[0;34m(self, path_or_paths, filesystem, filters, partitioning, read_dictionary, buffer_size, memory_map, ignore_prefixes, **kwargs)\u001b[0m\n\u001b[1;32m   1429\u001b[0m             \u001b[0mfilesystem\u001b[0m \u001b[0;34m=\u001b[0m \u001b[0mpyarrow\u001b[0m\u001b[0;34m.\u001b[0m\u001b[0mfs\u001b[0m\u001b[0;34m.\u001b[0m\u001b[0mLocalFileSystem\u001b[0m\u001b[0;34m(\u001b[0m\u001b[0muse_mmap\u001b[0m\u001b[0;34m=\u001b[0m\u001b[0;32mTrue\u001b[0m\u001b[0;34m)\u001b[0m\u001b[0;34m\u001b[0m\u001b[0;34m\u001b[0m\u001b[0m\n\u001b[1;32m   1430\u001b[0m \u001b[0;34m\u001b[0m\u001b[0m\n\u001b[0;32m-> 1431\u001b[0;31m         self._dataset = ds.dataset(path_or_paths, filesystem=filesystem,\n\u001b[0m\u001b[1;32m   1432\u001b[0m                                    \u001b[0mformat\u001b[0m\u001b[0;34m=\u001b[0m\u001b[0mparquet_format\u001b[0m\u001b[0;34m,\u001b[0m\u001b[0;34m\u001b[0m\u001b[0;34m\u001b[0m\u001b[0m\n\u001b[1;32m   1433\u001b[0m                                    \u001b[0mpartitioning\u001b[0m\u001b[0;34m=\u001b[0m\u001b[0mpartitioning\u001b[0m\u001b[0;34m,\u001b[0m\u001b[0;34m\u001b[0m\u001b[0;34m\u001b[0m\u001b[0m\n",
      "\u001b[0;32m/opt/conda/lib/python3.8/site-packages/pyarrow/dataset.py\u001b[0m in \u001b[0;36mdataset\u001b[0;34m(source, schema, format, filesystem, partitioning, partition_base_dir, exclude_invalid_files, ignore_prefixes)\u001b[0m\n\u001b[1;32m    665\u001b[0m     \u001b[0;31m# TODO(kszucs): support InMemoryDataset for a table input\u001b[0m\u001b[0;34m\u001b[0m\u001b[0;34m\u001b[0m\u001b[0;34m\u001b[0m\u001b[0m\n\u001b[1;32m    666\u001b[0m     \u001b[0;32mif\u001b[0m \u001b[0m_is_path_like\u001b[0m\u001b[0;34m(\u001b[0m\u001b[0msource\u001b[0m\u001b[0;34m)\u001b[0m\u001b[0;34m:\u001b[0m\u001b[0;34m\u001b[0m\u001b[0;34m\u001b[0m\u001b[0m\n\u001b[0;32m--> 667\u001b[0;31m         \u001b[0;32mreturn\u001b[0m \u001b[0m_filesystem_dataset\u001b[0m\u001b[0;34m(\u001b[0m\u001b[0msource\u001b[0m\u001b[0;34m,\u001b[0m \u001b[0;34m**\u001b[0m\u001b[0mkwargs\u001b[0m\u001b[0;34m)\u001b[0m\u001b[0;34m\u001b[0m\u001b[0;34m\u001b[0m\u001b[0m\n\u001b[0m\u001b[1;32m    668\u001b[0m     \u001b[0;32melif\u001b[0m \u001b[0misinstance\u001b[0m\u001b[0;34m(\u001b[0m\u001b[0msource\u001b[0m\u001b[0;34m,\u001b[0m \u001b[0;34m(\u001b[0m\u001b[0mtuple\u001b[0m\u001b[0;34m,\u001b[0m \u001b[0mlist\u001b[0m\u001b[0;34m)\u001b[0m\u001b[0;34m)\u001b[0m\u001b[0;34m:\u001b[0m\u001b[0;34m\u001b[0m\u001b[0;34m\u001b[0m\u001b[0m\n\u001b[1;32m    669\u001b[0m         \u001b[0;32mif\u001b[0m \u001b[0mall\u001b[0m\u001b[0;34m(\u001b[0m\u001b[0m_is_path_like\u001b[0m\u001b[0;34m(\u001b[0m\u001b[0melem\u001b[0m\u001b[0;34m)\u001b[0m \u001b[0;32mfor\u001b[0m \u001b[0melem\u001b[0m \u001b[0;32min\u001b[0m \u001b[0msource\u001b[0m\u001b[0;34m)\u001b[0m\u001b[0;34m:\u001b[0m\u001b[0;34m\u001b[0m\u001b[0;34m\u001b[0m\u001b[0m\n",
      "\u001b[0;32m/opt/conda/lib/python3.8/site-packages/pyarrow/dataset.py\u001b[0m in \u001b[0;36m_filesystem_dataset\u001b[0;34m(source, schema, filesystem, partitioning, format, partition_base_dir, exclude_invalid_files, selector_ignore_prefixes)\u001b[0m\n\u001b[1;32m    422\u001b[0m         \u001b[0mfs\u001b[0m\u001b[0;34m,\u001b[0m \u001b[0mpaths_or_selector\u001b[0m \u001b[0;34m=\u001b[0m \u001b[0m_ensure_multiple_sources\u001b[0m\u001b[0;34m(\u001b[0m\u001b[0msource\u001b[0m\u001b[0;34m,\u001b[0m \u001b[0mfilesystem\u001b[0m\u001b[0;34m)\u001b[0m\u001b[0;34m\u001b[0m\u001b[0;34m\u001b[0m\u001b[0m\n\u001b[1;32m    423\u001b[0m     \u001b[0;32melse\u001b[0m\u001b[0;34m:\u001b[0m\u001b[0;34m\u001b[0m\u001b[0;34m\u001b[0m\u001b[0m\n\u001b[0;32m--> 424\u001b[0;31m         \u001b[0mfs\u001b[0m\u001b[0;34m,\u001b[0m \u001b[0mpaths_or_selector\u001b[0m \u001b[0;34m=\u001b[0m \u001b[0m_ensure_single_source\u001b[0m\u001b[0;34m(\u001b[0m\u001b[0msource\u001b[0m\u001b[0;34m,\u001b[0m \u001b[0mfilesystem\u001b[0m\u001b[0;34m)\u001b[0m\u001b[0;34m\u001b[0m\u001b[0;34m\u001b[0m\u001b[0m\n\u001b[0m\u001b[1;32m    425\u001b[0m \u001b[0;34m\u001b[0m\u001b[0m\n\u001b[1;32m    426\u001b[0m     options = FileSystemFactoryOptions(\n",
      "\u001b[0;32m/opt/conda/lib/python3.8/site-packages/pyarrow/dataset.py\u001b[0m in \u001b[0;36m_ensure_single_source\u001b[0;34m(path, filesystem)\u001b[0m\n\u001b[1;32m    398\u001b[0m         \u001b[0mpaths_or_selector\u001b[0m \u001b[0;34m=\u001b[0m \u001b[0;34m[\u001b[0m\u001b[0mpath\u001b[0m\u001b[0;34m]\u001b[0m\u001b[0;34m\u001b[0m\u001b[0;34m\u001b[0m\u001b[0m\n\u001b[1;32m    399\u001b[0m     \u001b[0;32melse\u001b[0m\u001b[0;34m:\u001b[0m\u001b[0;34m\u001b[0m\u001b[0;34m\u001b[0m\u001b[0m\n\u001b[0;32m--> 400\u001b[0;31m         \u001b[0;32mraise\u001b[0m \u001b[0mFileNotFoundError\u001b[0m\u001b[0;34m(\u001b[0m\u001b[0mpath\u001b[0m\u001b[0;34m)\u001b[0m\u001b[0;34m\u001b[0m\u001b[0;34m\u001b[0m\u001b[0m\n\u001b[0m\u001b[1;32m    401\u001b[0m \u001b[0;34m\u001b[0m\u001b[0m\n\u001b[1;32m    402\u001b[0m     \u001b[0;32mreturn\u001b[0m \u001b[0mfilesystem\u001b[0m\u001b[0;34m,\u001b[0m \u001b[0mpaths_or_selector\u001b[0m\u001b[0;34m\u001b[0m\u001b[0;34m\u001b[0m\u001b[0m\n",
      "\u001b[0;31mFileNotFoundError\u001b[0m: /home/dbanks/recodata/session_search.parquet"
     ]
    }
   ],
   "source": [
    "session_search = pd.read_parquet(os.path.join(OUTPUT_DIR, \"session_search.parquet\"))\n",
    "search = pd.read_parquet(os.path.join(OUTPUT_DIR, \"search.parquet\"))"
   ]
  },
  {
   "cell_type": "code",
   "execution_count": 14,
   "metadata": {},
   "outputs": [],
   "source": [
    "browsing = pd.read_csv('browsing_train.csv')\n",
    "# Add columns 'is_search'\n",
    "browsing['is_search'] = 0 \n"
   ]
  },
  {
   "cell_type": "code",
   "execution_count": 15,
   "metadata": {},
   "outputs": [],
   "source": [
    "\n",
    "event_df = browsing\n",
    "#event_df.reset_index(drop=True, inplace=True)"
   ]
  },
  {
   "cell_type": "code",
   "execution_count": 16,
   "metadata": {},
   "outputs": [
    {
     "data": {
      "text/html": [
       "<div>\n",
       "<style scoped>\n",
       "    .dataframe tbody tr th:only-of-type {\n",
       "        vertical-align: middle;\n",
       "    }\n",
       "\n",
       "    .dataframe tbody tr th {\n",
       "        vertical-align: top;\n",
       "    }\n",
       "\n",
       "    .dataframe thead th {\n",
       "        text-align: right;\n",
       "    }\n",
       "</style>\n",
       "<table border=\"1\" class=\"dataframe\">\n",
       "  <thead>\n",
       "    <tr style=\"text-align: right;\">\n",
       "      <th></th>\n",
       "      <th>session_id_hash</th>\n",
       "      <th>event_type</th>\n",
       "      <th>product_action</th>\n",
       "      <th>product_sku_hash</th>\n",
       "      <th>server_timestamp_epoch_ms</th>\n",
       "      <th>hashed_url</th>\n",
       "      <th>is_search</th>\n",
       "    </tr>\n",
       "  </thead>\n",
       "  <tbody>\n",
       "    <tr>\n",
       "      <th>0</th>\n",
       "      <td>20c458b802f6ea9374783bfc528b19421be977a6769785...</td>\n",
       "      <td>event_product</td>\n",
       "      <td>detail</td>\n",
       "      <td>d5157f8bc52965390fa21ad5842a8502bc3eb8b0930f3f...</td>\n",
       "      <td>1550885210881</td>\n",
       "      <td>7e4527ac6a32deed4f4f06bb7c49b907b7ca371e59d57d...</td>\n",
       "      <td>0</td>\n",
       "    </tr>\n",
       "    <tr>\n",
       "      <th>1</th>\n",
       "      <td>20c458b802f6ea9374783bfc528b19421be977a6769785...</td>\n",
       "      <td>event_product</td>\n",
       "      <td>detail</td>\n",
       "      <td>61ef3869355b78e11011f39fc7ac8f8dfb209b3442a9d5...</td>\n",
       "      <td>1550885213307</td>\n",
       "      <td>4ed279f4f0deab6dfc80f4f7bf49d527fd894fa478a9ce...</td>\n",
       "      <td>0</td>\n",
       "    </tr>\n",
       "    <tr>\n",
       "      <th>2</th>\n",
       "      <td>20c458b802f6ea9374783bfc528b19421be977a6769785...</td>\n",
       "      <td>pageview</td>\n",
       "      <td>NaN</td>\n",
       "      <td>NaN</td>\n",
       "      <td>1550885213307</td>\n",
       "      <td>4ed279f4f0deab6dfc80f4f7bf49d527fd894fa478a9ce...</td>\n",
       "      <td>0</td>\n",
       "    </tr>\n",
       "  </tbody>\n",
       "</table>\n",
       "</div>"
      ],
      "text/plain": [
       "                                     session_id_hash     event_type  \\\n",
       "0  20c458b802f6ea9374783bfc528b19421be977a6769785...  event_product   \n",
       "1  20c458b802f6ea9374783bfc528b19421be977a6769785...  event_product   \n",
       "2  20c458b802f6ea9374783bfc528b19421be977a6769785...       pageview   \n",
       "\n",
       "  product_action                                   product_sku_hash  \\\n",
       "0         detail  d5157f8bc52965390fa21ad5842a8502bc3eb8b0930f3f...   \n",
       "1         detail  61ef3869355b78e11011f39fc7ac8f8dfb209b3442a9d5...   \n",
       "2            NaN                                                NaN   \n",
       "\n",
       "   server_timestamp_epoch_ms  \\\n",
       "0              1550885210881   \n",
       "1              1550885213307   \n",
       "2              1550885213307   \n",
       "\n",
       "                                          hashed_url  is_search  \n",
       "0  7e4527ac6a32deed4f4f06bb7c49b907b7ca371e59d57d...          0  \n",
       "1  4ed279f4f0deab6dfc80f4f7bf49d527fd894fa478a9ce...          0  \n",
       "2  4ed279f4f0deab6dfc80f4f7bf49d527fd894fa478a9ce...          0  "
      ]
     },
     "execution_count": 16,
     "metadata": {},
     "output_type": "execute_result"
    }
   ],
   "source": [
    "event_df.head(3)"
   ]
  },
  {
   "cell_type": "code",
   "execution_count": 17,
   "metadata": {},
   "outputs": [],
   "source": [
    "#del browsing"
   ]
  },
  {
   "cell_type": "code",
   "execution_count": 18,
   "metadata": {},
   "outputs": [],
   "source": [
    "# drop duplicated rows (total of 1800) \n",
    "event_df.drop_duplicates(['session_id_hash' ,'server_timestamp_epoch_ms', 'event_type', 'product_action', 'product_sku_hash', 'hashed_url'],inplace=True, keep='last')\n",
    "# Remove indices of 'pageview' interactions from duplicated events defined above \n",
    "tmp = event_df[(event_df.event_type == 'pageview') & (event_df.duplicated(['session_id_hash' , 'server_timestamp_epoch_ms']))]\n",
    "event_df.drop(tmp.index, inplace=True)"
   ]
  },
  {
   "cell_type": "code",
   "execution_count": 19,
   "metadata": {},
   "outputs": [
    {
     "data": {
      "text/plain": [
       "(31192753, 7)"
      ]
     },
     "execution_count": 19,
     "metadata": {},
     "output_type": "execute_result"
    }
   ],
   "source": [
    "event_df.shape"
   ]
  },
  {
   "cell_type": "code",
   "execution_count": 20,
   "metadata": {},
   "outputs": [],
   "source": [
    "# select search events with clicks\n",
    "use_cols = ['session_id_hash', 'clicked_skus_hash',\n",
    "            'server_timestamp_epoch_ms', 'event_type',\n",
    "            'is_search']\n",
    "search_clicks = search[search.clicks_size>0][use_cols]\n",
    "\n",
    "# specify event type and product action\n",
    "search_clicks['event_type'] = 'search'\n",
    "search_clicks['product_action'] = 'click'\n",
    "\n",
    "#unstack list of clicked items to multiple rows\n",
    "lst_col = 'clicked_skus_hash'\n",
    "search_clicks = pd.DataFrame({\n",
    "    col:np.repeat(search_clicks[col].values, search_clicks[lst_col].str.len()) for col in search_clicks.columns.difference([lst_col])}).assign(\n",
    "    **{lst_col:np.concatenate(search_clicks[lst_col].values)})[search_clicks.columns.tolist()]\n",
    "\n",
    "search_clicks.columns = ['session_id_hash', 'product_sku_hash', 'server_timestamp_epoch_ms',\n",
    "                         'event_type', 'is_search', 'product_action']"
   ]
  },
  {
   "cell_type": "code",
   "execution_count": 21,
   "metadata": {},
   "outputs": [
    {
     "data": {
      "text/html": [
       "<div>\n",
       "<style scoped>\n",
       "    .dataframe tbody tr th:only-of-type {\n",
       "        vertical-align: middle;\n",
       "    }\n",
       "\n",
       "    .dataframe tbody tr th {\n",
       "        vertical-align: top;\n",
       "    }\n",
       "\n",
       "    .dataframe thead th {\n",
       "        text-align: right;\n",
       "    }\n",
       "</style>\n",
       "<table border=\"1\" class=\"dataframe\">\n",
       "  <thead>\n",
       "    <tr style=\"text-align: right;\">\n",
       "      <th></th>\n",
       "      <th>session_id_hash</th>\n",
       "      <th>product_sku_hash</th>\n",
       "      <th>server_timestamp_epoch_ms</th>\n",
       "      <th>event_type</th>\n",
       "      <th>is_search</th>\n",
       "      <th>product_action</th>\n",
       "    </tr>\n",
       "  </thead>\n",
       "  <tbody>\n",
       "    <tr>\n",
       "      <th>0</th>\n",
       "      <td>77d604ce112a107ffe3e60566778d090a0b756bcfb0a3e...</td>\n",
       "      <td>20e8f1c4051a6c55122bd00f25f92f91b5f125497b7939...</td>\n",
       "      <td>1549078957672</td>\n",
       "      <td>search</td>\n",
       "      <td>1</td>\n",
       "      <td>click</td>\n",
       "    </tr>\n",
       "    <tr>\n",
       "      <th>1</th>\n",
       "      <td>7fc129b5945b2959339da1c0675d9c9adcdbc1fc99a954...</td>\n",
       "      <td>8283e8b59c283c3b72462a6f73084683524f4b0149acb7...</td>\n",
       "      <td>1550003058242</td>\n",
       "      <td>search</td>\n",
       "      <td>1</td>\n",
       "      <td>click</td>\n",
       "    </tr>\n",
       "    <tr>\n",
       "      <th>2</th>\n",
       "      <td>3ef3f3170f85ae92b01378b2161f5e71f64caadbeefd90...</td>\n",
       "      <td>2901d00c55fc2e4e60ea0d0e7a48ee843491e31025afab...</td>\n",
       "      <td>1549641526668</td>\n",
       "      <td>search</td>\n",
       "      <td>1</td>\n",
       "      <td>click</td>\n",
       "    </tr>\n",
       "  </tbody>\n",
       "</table>\n",
       "</div>"
      ],
      "text/plain": [
       "                                     session_id_hash  \\\n",
       "0  77d604ce112a107ffe3e60566778d090a0b756bcfb0a3e...   \n",
       "1  7fc129b5945b2959339da1c0675d9c9adcdbc1fc99a954...   \n",
       "2  3ef3f3170f85ae92b01378b2161f5e71f64caadbeefd90...   \n",
       "\n",
       "                                    product_sku_hash  \\\n",
       "0  20e8f1c4051a6c55122bd00f25f92f91b5f125497b7939...   \n",
       "1  8283e8b59c283c3b72462a6f73084683524f4b0149acb7...   \n",
       "2  2901d00c55fc2e4e60ea0d0e7a48ee843491e31025afab...   \n",
       "\n",
       "   server_timestamp_epoch_ms event_type  is_search product_action  \n",
       "0              1549078957672     search          1          click  \n",
       "1              1550003058242     search          1          click  \n",
       "2              1549641526668     search          1          click  "
      ]
     },
     "execution_count": 21,
     "metadata": {},
     "output_type": "execute_result"
    }
   ],
   "source": [
    "search_clicks.head(3)"
   ]
  },
  {
   "cell_type": "code",
   "execution_count": 22,
   "metadata": {},
   "outputs": [
    {
     "data": {
      "text/plain": [
       "pageview         20762222\n",
       "event_product    10430531\n",
       "search             391820\n",
       "Name: event_type, dtype: int64"
      ]
     },
     "execution_count": 22,
     "metadata": {},
     "output_type": "execute_result"
    }
   ],
   "source": [
    "event_df = pd.concat([event_df, search_clicks])\n",
    "event_df.event_type.value_counts()"
   ]
  },
  {
   "cell_type": "code",
   "execution_count": 23,
   "metadata": {},
   "outputs": [
    {
     "data": {
      "text/html": [
       "<div>\n",
       "<style scoped>\n",
       "    .dataframe tbody tr th:only-of-type {\n",
       "        vertical-align: middle;\n",
       "    }\n",
       "\n",
       "    .dataframe tbody tr th {\n",
       "        vertical-align: top;\n",
       "    }\n",
       "\n",
       "    .dataframe thead th {\n",
       "        text-align: right;\n",
       "    }\n",
       "</style>\n",
       "<table border=\"1\" class=\"dataframe\">\n",
       "  <thead>\n",
       "    <tr style=\"text-align: right;\">\n",
       "      <th></th>\n",
       "      <th>product_sku_hash</th>\n",
       "      <th>description_vector</th>\n",
       "      <th>category_hash</th>\n",
       "      <th>image_vector</th>\n",
       "      <th>price_bucket</th>\n",
       "    </tr>\n",
       "  </thead>\n",
       "  <tbody>\n",
       "    <tr>\n",
       "      <th>66381</th>\n",
       "      <td>c7cc673ca3baa5fa222fffdc16379892b3a62583a48143...</td>\n",
       "      <td>NaN</td>\n",
       "      <td>NaN</td>\n",
       "      <td>NaN</td>\n",
       "      <td>NaN</td>\n",
       "    </tr>\n",
       "    <tr>\n",
       "      <th>66382</th>\n",
       "      <td>6641c7d2053ce48ce1e81a9653dffe56dbb79ab0704fbd...</td>\n",
       "      <td>[-0.19150441884994507, -0.06235162168741226, -...</td>\n",
       "      <td>0665a81d19c89281cc00e7f7d779ded2ed42c933838602...</td>\n",
       "      <td>[129.55668732976045, 43.27996741934932, -36.70...</td>\n",
       "      <td>3.0</td>\n",
       "    </tr>\n",
       "    <tr>\n",
       "      <th>66383</th>\n",
       "      <td>526a6a51717d5bb40ef2b0c47394d08c54385375633bab...</td>\n",
       "      <td>[-0.19760936498641968, 0.4446450471878052, -0....</td>\n",
       "      <td>0665a81d19c89281cc00e7f7d779ded2ed42c933838602...</td>\n",
       "      <td>[-158.25984189321855, 74.19255741438077, 199.6...</td>\n",
       "      <td>5.0</td>\n",
       "    </tr>\n",
       "    <tr>\n",
       "      <th>66384</th>\n",
       "      <td>21ca4ab0e2fbd3b401fbeadeb4439dcab9998fb52159ec...</td>\n",
       "      <td>NaN</td>\n",
       "      <td>NaN</td>\n",
       "      <td>NaN</td>\n",
       "      <td>NaN</td>\n",
       "    </tr>\n",
       "    <tr>\n",
       "      <th>66385</th>\n",
       "      <td>0eaa39fb645749da181c0637d3b420f3f103b5f6b50286...</td>\n",
       "      <td>NaN</td>\n",
       "      <td>NaN</td>\n",
       "      <td>NaN</td>\n",
       "      <td>NaN</td>\n",
       "    </tr>\n",
       "  </tbody>\n",
       "</table>\n",
       "</div>"
      ],
      "text/plain": [
       "                                        product_sku_hash  \\\n",
       "66381  c7cc673ca3baa5fa222fffdc16379892b3a62583a48143...   \n",
       "66382  6641c7d2053ce48ce1e81a9653dffe56dbb79ab0704fbd...   \n",
       "66383  526a6a51717d5bb40ef2b0c47394d08c54385375633bab...   \n",
       "66384  21ca4ab0e2fbd3b401fbeadeb4439dcab9998fb52159ec...   \n",
       "66385  0eaa39fb645749da181c0637d3b420f3f103b5f6b50286...   \n",
       "\n",
       "                                      description_vector  \\\n",
       "66381                                                NaN   \n",
       "66382  [-0.19150441884994507, -0.06235162168741226, -...   \n",
       "66383  [-0.19760936498641968, 0.4446450471878052, -0....   \n",
       "66384                                                NaN   \n",
       "66385                                                NaN   \n",
       "\n",
       "                                           category_hash  \\\n",
       "66381                                                NaN   \n",
       "66382  0665a81d19c89281cc00e7f7d779ded2ed42c933838602...   \n",
       "66383  0665a81d19c89281cc00e7f7d779ded2ed42c933838602...   \n",
       "66384                                                NaN   \n",
       "66385                                                NaN   \n",
       "\n",
       "                                            image_vector  price_bucket  \n",
       "66381                                                NaN           NaN  \n",
       "66382  [129.55668732976045, 43.27996741934932, -36.70...           3.0  \n",
       "66383  [-158.25984189321855, 74.19255741438077, 199.6...           5.0  \n",
       "66384                                                NaN           NaN  \n",
       "66385                                                NaN           NaN  "
      ]
     },
     "execution_count": 23,
     "metadata": {},
     "output_type": "execute_result"
    }
   ],
   "source": [
    "product_info = pd.read_csv('sku_to_content.csv')\n",
    "product_info.tail()"
   ]
  },
  {
   "cell_type": "markdown",
   "metadata": {},
   "source": [
    "Extract product main category"
   ]
  },
  {
   "cell_type": "code",
   "execution_count": 24,
   "metadata": {},
   "outputs": [
    {
     "name": "stderr",
     "output_type": "stream",
     "text": [
      "100%|████████████████████████████████████████████████████████████████████████████████████████████████████████████████████████████| 66386/66386 [00:00<00:00, 474366.32it/s]\n"
     ]
    }
   ],
   "source": [
    "def product_main_category(x):\n",
    "    if pd.isna(x):\n",
    "        return x\n",
    "    return x.split('/')[0]\n",
    "product_info['main_category'] = product_info['category_hash'].progress_apply(product_main_category)"
   ]
  },
  {
   "cell_type": "markdown",
   "metadata": {},
   "source": [
    "Compute average price of main and hierarchy category"
   ]
  },
  {
   "cell_type": "code",
   "execution_count": 25,
   "metadata": {},
   "outputs": [],
   "source": [
    "main_price = product_info.groupby('main_category')['price_bucket'].mean().reset_index()\n",
    "main_price.columns = ['main_category', 'mean_price_main']\n",
    "\n",
    "hierarchy_price = product_info.groupby('category_hash')['price_bucket'].mean().reset_index()\n",
    "hierarchy_price.columns = ['category_hash', 'mean_price_hierarchy']"
   ]
  },
  {
   "cell_type": "markdown",
   "metadata": {},
   "source": [
    "Merge with product table"
   ]
  },
  {
   "cell_type": "code",
   "execution_count": 26,
   "metadata": {},
   "outputs": [],
   "source": [
    "product_info = product_info.merge(main_price, on=['main_category'], how='left')\n",
    "product_info = product_info.merge(hierarchy_price, on=['category_hash'], how='left')"
   ]
  },
  {
   "cell_type": "code",
   "execution_count": 27,
   "metadata": {
    "scrolled": true
   },
   "outputs": [
    {
     "data": {
      "text/html": [
       "<div>\n",
       "<style scoped>\n",
       "    .dataframe tbody tr th:only-of-type {\n",
       "        vertical-align: middle;\n",
       "    }\n",
       "\n",
       "    .dataframe tbody tr th {\n",
       "        vertical-align: top;\n",
       "    }\n",
       "\n",
       "    .dataframe thead th {\n",
       "        text-align: right;\n",
       "    }\n",
       "</style>\n",
       "<table border=\"1\" class=\"dataframe\">\n",
       "  <thead>\n",
       "    <tr style=\"text-align: right;\">\n",
       "      <th></th>\n",
       "      <th>product_sku_hash</th>\n",
       "      <th>description_vector</th>\n",
       "      <th>category_hash</th>\n",
       "      <th>image_vector</th>\n",
       "      <th>price_bucket</th>\n",
       "      <th>main_category</th>\n",
       "      <th>mean_price_main</th>\n",
       "      <th>mean_price_hierarchy</th>\n",
       "    </tr>\n",
       "  </thead>\n",
       "  <tbody>\n",
       "    <tr>\n",
       "      <th>0</th>\n",
       "      <td>26ce7b47f4c46e4087e83e54d2f7ddc7ea57862fed2e2a...</td>\n",
       "      <td>NaN</td>\n",
       "      <td>NaN</td>\n",
       "      <td>NaN</td>\n",
       "      <td>NaN</td>\n",
       "      <td>NaN</td>\n",
       "      <td>NaN</td>\n",
       "      <td>NaN</td>\n",
       "    </tr>\n",
       "    <tr>\n",
       "      <th>1</th>\n",
       "      <td>6383992be772b204a9ab75f86c86f5583d1bdd1222952d...</td>\n",
       "      <td>NaN</td>\n",
       "      <td>NaN</td>\n",
       "      <td>NaN</td>\n",
       "      <td>NaN</td>\n",
       "      <td>NaN</td>\n",
       "      <td>NaN</td>\n",
       "      <td>NaN</td>\n",
       "    </tr>\n",
       "    <tr>\n",
       "      <th>2</th>\n",
       "      <td>a2c3e2430c6ef9770b903ad08fa067a6b2b9db28f06e1b...</td>\n",
       "      <td>[0.27629122138023376, -0.15763211250305176, 0....</td>\n",
       "      <td>06fa312761d4b39e2f649781514ac69a4c1505c221fc46...</td>\n",
       "      <td>[340.3592564184389, -220.19025864725685, 154.0...</td>\n",
       "      <td>7.0</td>\n",
       "      <td>06fa312761d4b39e2f649781514ac69a4c1505c221fc46...</td>\n",
       "      <td>5.69263</td>\n",
       "      <td>7.859416</td>\n",
       "    </tr>\n",
       "  </tbody>\n",
       "</table>\n",
       "</div>"
      ],
      "text/plain": [
       "                                    product_sku_hash  \\\n",
       "0  26ce7b47f4c46e4087e83e54d2f7ddc7ea57862fed2e2a...   \n",
       "1  6383992be772b204a9ab75f86c86f5583d1bdd1222952d...   \n",
       "2  a2c3e2430c6ef9770b903ad08fa067a6b2b9db28f06e1b...   \n",
       "\n",
       "                                  description_vector  \\\n",
       "0                                                NaN   \n",
       "1                                                NaN   \n",
       "2  [0.27629122138023376, -0.15763211250305176, 0....   \n",
       "\n",
       "                                       category_hash  \\\n",
       "0                                                NaN   \n",
       "1                                                NaN   \n",
       "2  06fa312761d4b39e2f649781514ac69a4c1505c221fc46...   \n",
       "\n",
       "                                        image_vector  price_bucket  \\\n",
       "0                                                NaN           NaN   \n",
       "1                                                NaN           NaN   \n",
       "2  [340.3592564184389, -220.19025864725685, 154.0...           7.0   \n",
       "\n",
       "                                       main_category  mean_price_main  \\\n",
       "0                                                NaN              NaN   \n",
       "1                                                NaN              NaN   \n",
       "2  06fa312761d4b39e2f649781514ac69a4c1505c221fc46...          5.69263   \n",
       "\n",
       "   mean_price_hierarchy  \n",
       "0                   NaN  \n",
       "1                   NaN  \n",
       "2              7.859416  "
      ]
     },
     "execution_count": 27,
     "metadata": {},
     "output_type": "execute_result"
    }
   ],
   "source": [
    "product_info.head(3)"
   ]
  },
  {
   "cell_type": "markdown",
   "metadata": {},
   "source": [
    "Merge product table and event_df"
   ]
  },
  {
   "cell_type": "code",
   "execution_count": 28,
   "metadata": {},
   "outputs": [],
   "source": [
    "event_df = event_df.merge(product_info[['product_sku_hash', 'main_category', 'category_hash',\n",
    "                                        'price_bucket', 'mean_price_hierarchy', 'mean_price_main' ]], on='product_sku_hash', how='left')"
   ]
  },
  {
   "cell_type": "code",
   "execution_count": 29,
   "metadata": {},
   "outputs": [
    {
     "name": "stdout",
     "output_type": "stream",
     "text": [
      "session_id_hash\n",
      "event_type\n",
      "product_action\n",
      "product_sku_hash\n",
      "server_timestamp_epoch_ms\n",
      "hashed_url\n",
      "is_search\n",
      "main_category\n",
      "category_hash\n",
      "price_bucket\n",
      "mean_price_hierarchy\n",
      "mean_price_main\n"
     ]
    }
   ],
   "source": [
    "event_df.head(2)\n",
    "\n",
    "event_df.shape\n",
    "\n",
    "\n",
    "for col in event_df.columns:\n",
    "    print(col)"
   ]
  },
  {
   "cell_type": "markdown",
   "metadata": {},
   "source": [
    "Remove duplicated interactions with the same product: encode original information as binary flags"
   ]
  },
  {
   "cell_type": "code",
   "execution_count": 30,
   "metadata": {},
   "outputs": [],
   "source": [
    "product_interactions = event_df.groupby(['session_id_hash', 'product_sku_hash']).agg({\n",
    "    'product_sku_hash': len,\n",
    "    'product_action': [lambda x: 'add' in list(x), \n",
    "                       lambda x: 'detail' in list(x),\n",
    "                       lambda x: 'purchase' in list(x),\n",
    "                       lambda x: 'remove' in list(x),\n",
    "                       lambda x: 'click' in list(x),\n",
    "                      ]\n",
    "}).droplevel(0, axis=1)"
   ]
  },
  {
   "cell_type": "code",
   "execution_count": 31,
   "metadata": {},
   "outputs": [],
   "source": [
    "product_interactions = product_interactions.reset_index()"
   ]
  },
  {
   "cell_type": "code",
   "execution_count": 32,
   "metadata": {},
   "outputs": [],
   "source": [
    "product_interactions.columns = ['session_id_hash', 'product_sku_hash', 'nb_interactions',\n",
    "                                'has_been_added_to_cart', 'has_been_detailed', \n",
    "                                'has_been_purchased', 'has_been_removed_from_cart', 'has_been_clicked' ]"
   ]
  },
  {
   "cell_type": "code",
   "execution_count": 33,
   "metadata": {},
   "outputs": [
    {
     "data": {
      "text/html": [
       "<div>\n",
       "<style scoped>\n",
       "    .dataframe tbody tr th:only-of-type {\n",
       "        vertical-align: middle;\n",
       "    }\n",
       "\n",
       "    .dataframe tbody tr th {\n",
       "        vertical-align: top;\n",
       "    }\n",
       "\n",
       "    .dataframe thead th {\n",
       "        text-align: right;\n",
       "    }\n",
       "</style>\n",
       "<table border=\"1\" class=\"dataframe\">\n",
       "  <thead>\n",
       "    <tr style=\"text-align: right;\">\n",
       "      <th></th>\n",
       "      <th>session_id_hash</th>\n",
       "      <th>product_sku_hash</th>\n",
       "      <th>nb_interactions</th>\n",
       "      <th>has_been_added_to_cart</th>\n",
       "      <th>has_been_detailed</th>\n",
       "      <th>has_been_purchased</th>\n",
       "      <th>has_been_removed_from_cart</th>\n",
       "      <th>has_been_clicked</th>\n",
       "    </tr>\n",
       "  </thead>\n",
       "  <tbody>\n",
       "    <tr>\n",
       "      <th>0</th>\n",
       "      <td>00000114e1075962f022114fcfc17f2d874e694ac5d201...</td>\n",
       "      <td>4945f2fa8e87cb7501702ed3dce26253296eae7a8f670f...</td>\n",
       "      <td>1</td>\n",
       "      <td>False</td>\n",
       "      <td>True</td>\n",
       "      <td>False</td>\n",
       "      <td>False</td>\n",
       "      <td>False</td>\n",
       "    </tr>\n",
       "    <tr>\n",
       "      <th>1</th>\n",
       "      <td>00000114e1075962f022114fcfc17f2d874e694ac5d201...</td>\n",
       "      <td>6ff8d0f30bbe66cfec7d87fc7e22bd8b1defd47ff4aaaa...</td>\n",
       "      <td>1</td>\n",
       "      <td>False</td>\n",
       "      <td>True</td>\n",
       "      <td>False</td>\n",
       "      <td>False</td>\n",
       "      <td>False</td>\n",
       "    </tr>\n",
       "  </tbody>\n",
       "</table>\n",
       "</div>"
      ],
      "text/plain": [
       "                                     session_id_hash  \\\n",
       "0  00000114e1075962f022114fcfc17f2d874e694ac5d201...   \n",
       "1  00000114e1075962f022114fcfc17f2d874e694ac5d201...   \n",
       "\n",
       "                                    product_sku_hash  nb_interactions  \\\n",
       "0  4945f2fa8e87cb7501702ed3dce26253296eae7a8f670f...                1   \n",
       "1  6ff8d0f30bbe66cfec7d87fc7e22bd8b1defd47ff4aaaa...                1   \n",
       "\n",
       "   has_been_added_to_cart  has_been_detailed  has_been_purchased  \\\n",
       "0                   False               True               False   \n",
       "1                   False               True               False   \n",
       "\n",
       "   has_been_removed_from_cart  has_been_clicked  \n",
       "0                       False             False  \n",
       "1                       False             False  "
      ]
     },
     "execution_count": 33,
     "metadata": {},
     "output_type": "execute_result"
    }
   ],
   "source": [
    "\n",
    "product_interactions.head(2)"
   ]
  },
  {
   "cell_type": "markdown",
   "metadata": {},
   "source": [
    "Merge product table and event_df"
   ]
  },
  {
   "cell_type": "code",
   "execution_count": 34,
   "metadata": {},
   "outputs": [],
   "source": [
    "event_df = event_df.merge(product_info[['product_sku_hash', 'main_category', 'category_hash',\n",
    "                                        'price_bucket', 'mean_price_hierarchy', 'mean_price_main' ]], on='product_sku_hash', how='left')"
   ]
  },
  {
   "cell_type": "code",
   "execution_count": 35,
   "metadata": {
    "scrolled": true
   },
   "outputs": [
    {
     "data": {
      "text/html": [
       "<div>\n",
       "<style scoped>\n",
       "    .dataframe tbody tr th:only-of-type {\n",
       "        vertical-align: middle;\n",
       "    }\n",
       "\n",
       "    .dataframe tbody tr th {\n",
       "        vertical-align: top;\n",
       "    }\n",
       "\n",
       "    .dataframe thead th {\n",
       "        text-align: right;\n",
       "    }\n",
       "</style>\n",
       "<table border=\"1\" class=\"dataframe\">\n",
       "  <thead>\n",
       "    <tr style=\"text-align: right;\">\n",
       "      <th></th>\n",
       "      <th>session_id_hash</th>\n",
       "      <th>event_type</th>\n",
       "      <th>product_action</th>\n",
       "      <th>product_sku_hash</th>\n",
       "      <th>server_timestamp_epoch_ms</th>\n",
       "      <th>hashed_url</th>\n",
       "      <th>is_search</th>\n",
       "      <th>main_category_x</th>\n",
       "      <th>category_hash_x</th>\n",
       "      <th>price_bucket_x</th>\n",
       "      <th>mean_price_hierarchy_x</th>\n",
       "      <th>mean_price_main_x</th>\n",
       "      <th>main_category_y</th>\n",
       "      <th>category_hash_y</th>\n",
       "      <th>price_bucket_y</th>\n",
       "      <th>mean_price_hierarchy_y</th>\n",
       "      <th>mean_price_main_y</th>\n",
       "    </tr>\n",
       "  </thead>\n",
       "  <tbody>\n",
       "    <tr>\n",
       "      <th>0</th>\n",
       "      <td>20c458b802f6ea9374783bfc528b19421be977a6769785...</td>\n",
       "      <td>event_product</td>\n",
       "      <td>detail</td>\n",
       "      <td>d5157f8bc52965390fa21ad5842a8502bc3eb8b0930f3f...</td>\n",
       "      <td>1550885210881</td>\n",
       "      <td>7e4527ac6a32deed4f4f06bb7c49b907b7ca371e59d57d...</td>\n",
       "      <td>0</td>\n",
       "      <td>0665a81d19c89281cc00e7f7d779ded2ed42c933838602...</td>\n",
       "      <td>0665a81d19c89281cc00e7f7d779ded2ed42c933838602...</td>\n",
       "      <td>10.0</td>\n",
       "      <td>9.857143</td>\n",
       "      <td>5.009099</td>\n",
       "      <td>0665a81d19c89281cc00e7f7d779ded2ed42c933838602...</td>\n",
       "      <td>0665a81d19c89281cc00e7f7d779ded2ed42c933838602...</td>\n",
       "      <td>10.0</td>\n",
       "      <td>9.857143</td>\n",
       "      <td>5.009099</td>\n",
       "    </tr>\n",
       "    <tr>\n",
       "      <th>1</th>\n",
       "      <td>20c458b802f6ea9374783bfc528b19421be977a6769785...</td>\n",
       "      <td>event_product</td>\n",
       "      <td>detail</td>\n",
       "      <td>61ef3869355b78e11011f39fc7ac8f8dfb209b3442a9d5...</td>\n",
       "      <td>1550885213307</td>\n",
       "      <td>4ed279f4f0deab6dfc80f4f7bf49d527fd894fa478a9ce...</td>\n",
       "      <td>0</td>\n",
       "      <td>0665a81d19c89281cc00e7f7d779ded2ed42c933838602...</td>\n",
       "      <td>0665a81d19c89281cc00e7f7d779ded2ed42c933838602...</td>\n",
       "      <td>10.0</td>\n",
       "      <td>9.857143</td>\n",
       "      <td>5.009099</td>\n",
       "      <td>0665a81d19c89281cc00e7f7d779ded2ed42c933838602...</td>\n",
       "      <td>0665a81d19c89281cc00e7f7d779ded2ed42c933838602...</td>\n",
       "      <td>10.0</td>\n",
       "      <td>9.857143</td>\n",
       "      <td>5.009099</td>\n",
       "    </tr>\n",
       "  </tbody>\n",
       "</table>\n",
       "</div>"
      ],
      "text/plain": [
       "                                     session_id_hash     event_type  \\\n",
       "0  20c458b802f6ea9374783bfc528b19421be977a6769785...  event_product   \n",
       "1  20c458b802f6ea9374783bfc528b19421be977a6769785...  event_product   \n",
       "\n",
       "  product_action                                   product_sku_hash  \\\n",
       "0         detail  d5157f8bc52965390fa21ad5842a8502bc3eb8b0930f3f...   \n",
       "1         detail  61ef3869355b78e11011f39fc7ac8f8dfb209b3442a9d5...   \n",
       "\n",
       "   server_timestamp_epoch_ms  \\\n",
       "0              1550885210881   \n",
       "1              1550885213307   \n",
       "\n",
       "                                          hashed_url  is_search  \\\n",
       "0  7e4527ac6a32deed4f4f06bb7c49b907b7ca371e59d57d...          0   \n",
       "1  4ed279f4f0deab6dfc80f4f7bf49d527fd894fa478a9ce...          0   \n",
       "\n",
       "                                     main_category_x  \\\n",
       "0  0665a81d19c89281cc00e7f7d779ded2ed42c933838602...   \n",
       "1  0665a81d19c89281cc00e7f7d779ded2ed42c933838602...   \n",
       "\n",
       "                                     category_hash_x  price_bucket_x  \\\n",
       "0  0665a81d19c89281cc00e7f7d779ded2ed42c933838602...            10.0   \n",
       "1  0665a81d19c89281cc00e7f7d779ded2ed42c933838602...            10.0   \n",
       "\n",
       "   mean_price_hierarchy_x  mean_price_main_x  \\\n",
       "0                9.857143           5.009099   \n",
       "1                9.857143           5.009099   \n",
       "\n",
       "                                     main_category_y  \\\n",
       "0  0665a81d19c89281cc00e7f7d779ded2ed42c933838602...   \n",
       "1  0665a81d19c89281cc00e7f7d779ded2ed42c933838602...   \n",
       "\n",
       "                                     category_hash_y  price_bucket_y  \\\n",
       "0  0665a81d19c89281cc00e7f7d779ded2ed42c933838602...            10.0   \n",
       "1  0665a81d19c89281cc00e7f7d779ded2ed42c933838602...            10.0   \n",
       "\n",
       "   mean_price_hierarchy_y  mean_price_main_y  \n",
       "0                9.857143           5.009099  \n",
       "1                9.857143           5.009099  "
      ]
     },
     "execution_count": 35,
     "metadata": {},
     "output_type": "execute_result"
    }
   ],
   "source": [
    "event_df.head(2)"
   ]
  },
  {
   "cell_type": "code",
   "execution_count": 36,
   "metadata": {},
   "outputs": [],
   "source": [
    "event_df = event_df.sort_values(['session_id_hash', 'server_timestamp_epoch_ms'])"
   ]
  },
  {
   "cell_type": "code",
   "execution_count": 37,
   "metadata": {},
   "outputs": [
    {
     "data": {
      "text/plain": [
       "(31584573, 17)"
      ]
     },
     "execution_count": 37,
     "metadata": {},
     "output_type": "execute_result"
    }
   ],
   "source": [
    "event_df.shape"
   ]
  },
  {
   "cell_type": "markdown",
   "metadata": {},
   "source": [
    "Remove duplicated interactions with the same product: encode original information as binary flags"
   ]
  },
  {
   "cell_type": "code",
   "execution_count": 38,
   "metadata": {},
   "outputs": [],
   "source": [
    "event_df = event_df.drop_duplicates(['session_id_hash','event_type','product_sku_hash','hashed_url'], keep='first')"
   ]
  },
  {
   "cell_type": "markdown",
   "metadata": {},
   "source": [
    "Remove repeated interactions of event-product to align with private test set"
   ]
  },
  {
   "cell_type": "code",
   "execution_count": 39,
   "metadata": {
    "scrolled": true
   },
   "outputs": [
    {
     "data": {
      "text/html": [
       "<div>\n",
       "<style scoped>\n",
       "    .dataframe tbody tr th:only-of-type {\n",
       "        vertical-align: middle;\n",
       "    }\n",
       "\n",
       "    .dataframe tbody tr th {\n",
       "        vertical-align: top;\n",
       "    }\n",
       "\n",
       "    .dataframe thead th {\n",
       "        text-align: right;\n",
       "    }\n",
       "</style>\n",
       "<table border=\"1\" class=\"dataframe\">\n",
       "  <thead>\n",
       "    <tr style=\"text-align: right;\">\n",
       "      <th></th>\n",
       "      <th>session_id_hash</th>\n",
       "      <th>event_type</th>\n",
       "      <th>product_action</th>\n",
       "      <th>product_sku_hash</th>\n",
       "      <th>server_timestamp_epoch_ms</th>\n",
       "      <th>hashed_url</th>\n",
       "      <th>is_search</th>\n",
       "      <th>main_category_x</th>\n",
       "      <th>category_hash_x</th>\n",
       "      <th>price_bucket_x</th>\n",
       "      <th>mean_price_hierarchy_x</th>\n",
       "      <th>mean_price_main_x</th>\n",
       "      <th>main_category_y</th>\n",
       "      <th>category_hash_y</th>\n",
       "      <th>price_bucket_y</th>\n",
       "      <th>mean_price_hierarchy_y</th>\n",
       "      <th>mean_price_main_y</th>\n",
       "    </tr>\n",
       "  </thead>\n",
       "  <tbody>\n",
       "    <tr>\n",
       "      <th>20465725</th>\n",
       "      <td>00000114e1075962f022114fcfc17f2d874e694ac5d201...</td>\n",
       "      <td>pageview</td>\n",
       "      <td>NaN</td>\n",
       "      <td>NaN</td>\n",
       "      <td>1552423391039</td>\n",
       "      <td>0aa1084eddfb08e4dffbb5a2aa98a5e9679382d982dd97...</td>\n",
       "      <td>0</td>\n",
       "      <td>NaN</td>\n",
       "      <td>NaN</td>\n",
       "      <td>NaN</td>\n",
       "      <td>NaN</td>\n",
       "      <td>NaN</td>\n",
       "      <td>NaN</td>\n",
       "      <td>NaN</td>\n",
       "      <td>NaN</td>\n",
       "      <td>NaN</td>\n",
       "      <td>NaN</td>\n",
       "    </tr>\n",
       "    <tr>\n",
       "      <th>20465726</th>\n",
       "      <td>00000114e1075962f022114fcfc17f2d874e694ac5d201...</td>\n",
       "      <td>event_product</td>\n",
       "      <td>detail</td>\n",
       "      <td>cf2f88cb43c1713538f7dfd2aa498a2cb9ebc0c99feeac...</td>\n",
       "      <td>1552423391039</td>\n",
       "      <td>0aa1084eddfb08e4dffbb5a2aa98a5e9679382d982dd97...</td>\n",
       "      <td>0</td>\n",
       "      <td>06fa312761d4b39e2f649781514ac69a4c1505c221fc46...</td>\n",
       "      <td>06fa312761d4b39e2f649781514ac69a4c1505c221fc46...</td>\n",
       "      <td>10.0</td>\n",
       "      <td>9.469945</td>\n",
       "      <td>5.69263</td>\n",
       "      <td>06fa312761d4b39e2f649781514ac69a4c1505c221fc46...</td>\n",
       "      <td>06fa312761d4b39e2f649781514ac69a4c1505c221fc46...</td>\n",
       "      <td>10.0</td>\n",
       "      <td>9.469945</td>\n",
       "      <td>5.69263</td>\n",
       "    </tr>\n",
       "    <tr>\n",
       "      <th>20465727</th>\n",
       "      <td>00000114e1075962f022114fcfc17f2d874e694ac5d201...</td>\n",
       "      <td>event_product</td>\n",
       "      <td>add</td>\n",
       "      <td>cf2f88cb43c1713538f7dfd2aa498a2cb9ebc0c99feeac...</td>\n",
       "      <td>1552424389158</td>\n",
       "      <td>83b4fdad686c1be4eba335f70d23ae202b84b6153e109e...</td>\n",
       "      <td>0</td>\n",
       "      <td>06fa312761d4b39e2f649781514ac69a4c1505c221fc46...</td>\n",
       "      <td>06fa312761d4b39e2f649781514ac69a4c1505c221fc46...</td>\n",
       "      <td>10.0</td>\n",
       "      <td>9.469945</td>\n",
       "      <td>5.69263</td>\n",
       "      <td>06fa312761d4b39e2f649781514ac69a4c1505c221fc46...</td>\n",
       "      <td>06fa312761d4b39e2f649781514ac69a4c1505c221fc46...</td>\n",
       "      <td>10.0</td>\n",
       "      <td>9.469945</td>\n",
       "      <td>5.69263</td>\n",
       "    </tr>\n",
       "    <tr>\n",
       "      <th>20465728</th>\n",
       "      <td>00000114e1075962f022114fcfc17f2d874e694ac5d201...</td>\n",
       "      <td>pageview</td>\n",
       "      <td>NaN</td>\n",
       "      <td>NaN</td>\n",
       "      <td>1552424395594</td>\n",
       "      <td>0ad6fab1eb3ac76010ea2fa6399a4e993b00f6501c88a2...</td>\n",
       "      <td>0</td>\n",
       "      <td>NaN</td>\n",
       "      <td>NaN</td>\n",
       "      <td>NaN</td>\n",
       "      <td>NaN</td>\n",
       "      <td>NaN</td>\n",
       "      <td>NaN</td>\n",
       "      <td>NaN</td>\n",
       "      <td>NaN</td>\n",
       "      <td>NaN</td>\n",
       "      <td>NaN</td>\n",
       "    </tr>\n",
       "    <tr>\n",
       "      <th>20465729</th>\n",
       "      <td>00000114e1075962f022114fcfc17f2d874e694ac5d201...</td>\n",
       "      <td>pageview</td>\n",
       "      <td>NaN</td>\n",
       "      <td>NaN</td>\n",
       "      <td>1552424417587</td>\n",
       "      <td>e93e5c83aab0987e41d8fd65a30b54d2ce87491b4a7f9b...</td>\n",
       "      <td>0</td>\n",
       "      <td>NaN</td>\n",
       "      <td>NaN</td>\n",
       "      <td>NaN</td>\n",
       "      <td>NaN</td>\n",
       "      <td>NaN</td>\n",
       "      <td>NaN</td>\n",
       "      <td>NaN</td>\n",
       "      <td>NaN</td>\n",
       "      <td>NaN</td>\n",
       "      <td>NaN</td>\n",
       "    </tr>\n",
       "  </tbody>\n",
       "</table>\n",
       "</div>"
      ],
      "text/plain": [
       "                                            session_id_hash     event_type  \\\n",
       "20465725  00000114e1075962f022114fcfc17f2d874e694ac5d201...       pageview   \n",
       "20465726  00000114e1075962f022114fcfc17f2d874e694ac5d201...  event_product   \n",
       "20465727  00000114e1075962f022114fcfc17f2d874e694ac5d201...  event_product   \n",
       "20465728  00000114e1075962f022114fcfc17f2d874e694ac5d201...       pageview   \n",
       "20465729  00000114e1075962f022114fcfc17f2d874e694ac5d201...       pageview   \n",
       "\n",
       "         product_action                                   product_sku_hash  \\\n",
       "20465725            NaN                                                NaN   \n",
       "20465726         detail  cf2f88cb43c1713538f7dfd2aa498a2cb9ebc0c99feeac...   \n",
       "20465727            add  cf2f88cb43c1713538f7dfd2aa498a2cb9ebc0c99feeac...   \n",
       "20465728            NaN                                                NaN   \n",
       "20465729            NaN                                                NaN   \n",
       "\n",
       "          server_timestamp_epoch_ms  \\\n",
       "20465725              1552423391039   \n",
       "20465726              1552423391039   \n",
       "20465727              1552424389158   \n",
       "20465728              1552424395594   \n",
       "20465729              1552424417587   \n",
       "\n",
       "                                                 hashed_url  is_search  \\\n",
       "20465725  0aa1084eddfb08e4dffbb5a2aa98a5e9679382d982dd97...          0   \n",
       "20465726  0aa1084eddfb08e4dffbb5a2aa98a5e9679382d982dd97...          0   \n",
       "20465727  83b4fdad686c1be4eba335f70d23ae202b84b6153e109e...          0   \n",
       "20465728  0ad6fab1eb3ac76010ea2fa6399a4e993b00f6501c88a2...          0   \n",
       "20465729  e93e5c83aab0987e41d8fd65a30b54d2ce87491b4a7f9b...          0   \n",
       "\n",
       "                                            main_category_x  \\\n",
       "20465725                                                NaN   \n",
       "20465726  06fa312761d4b39e2f649781514ac69a4c1505c221fc46...   \n",
       "20465727  06fa312761d4b39e2f649781514ac69a4c1505c221fc46...   \n",
       "20465728                                                NaN   \n",
       "20465729                                                NaN   \n",
       "\n",
       "                                            category_hash_x  price_bucket_x  \\\n",
       "20465725                                                NaN             NaN   \n",
       "20465726  06fa312761d4b39e2f649781514ac69a4c1505c221fc46...            10.0   \n",
       "20465727  06fa312761d4b39e2f649781514ac69a4c1505c221fc46...            10.0   \n",
       "20465728                                                NaN             NaN   \n",
       "20465729                                                NaN             NaN   \n",
       "\n",
       "          mean_price_hierarchy_x  mean_price_main_x  \\\n",
       "20465725                     NaN                NaN   \n",
       "20465726                9.469945            5.69263   \n",
       "20465727                9.469945            5.69263   \n",
       "20465728                     NaN                NaN   \n",
       "20465729                     NaN                NaN   \n",
       "\n",
       "                                            main_category_y  \\\n",
       "20465725                                                NaN   \n",
       "20465726  06fa312761d4b39e2f649781514ac69a4c1505c221fc46...   \n",
       "20465727  06fa312761d4b39e2f649781514ac69a4c1505c221fc46...   \n",
       "20465728                                                NaN   \n",
       "20465729                                                NaN   \n",
       "\n",
       "                                            category_hash_y  price_bucket_y  \\\n",
       "20465725                                                NaN             NaN   \n",
       "20465726  06fa312761d4b39e2f649781514ac69a4c1505c221fc46...            10.0   \n",
       "20465727  06fa312761d4b39e2f649781514ac69a4c1505c221fc46...            10.0   \n",
       "20465728                                                NaN             NaN   \n",
       "20465729                                                NaN             NaN   \n",
       "\n",
       "          mean_price_hierarchy_y  mean_price_main_y  \n",
       "20465725                     NaN                NaN  \n",
       "20465726                9.469945            5.69263  \n",
       "20465727                9.469945            5.69263  \n",
       "20465728                     NaN                NaN  \n",
       "20465729                     NaN                NaN  "
      ]
     },
     "execution_count": 39,
     "metadata": {},
     "output_type": "execute_result"
    }
   ],
   "source": [
    "event_df.head()"
   ]
  },
  {
   "cell_type": "code",
   "execution_count": 40,
   "metadata": {},
   "outputs": [],
   "source": [
    "event_df = event_df.drop(columns = [\"price_bucket_x\",'category_hash_x','main_category_x','main_category_y','category_hash_y','price_bucket_y','mean_price_hierarchy_y','mean_price_main_y'])"
   ]
  },
  {
   "cell_type": "code",
   "execution_count": 41,
   "metadata": {},
   "outputs": [],
   "source": [
    "event_df = event_df.drop(columns = [\"mean_price_hierarchy_x\",\"mean_price_main_x\"])"
   ]
  },
  {
   "cell_type": "code",
   "execution_count": 42,
   "metadata": {},
   "outputs": [
    {
     "data": {
      "text/html": [
       "<div>\n",
       "<style scoped>\n",
       "    .dataframe tbody tr th:only-of-type {\n",
       "        vertical-align: middle;\n",
       "    }\n",
       "\n",
       "    .dataframe tbody tr th {\n",
       "        vertical-align: top;\n",
       "    }\n",
       "\n",
       "    .dataframe thead th {\n",
       "        text-align: right;\n",
       "    }\n",
       "</style>\n",
       "<table border=\"1\" class=\"dataframe\">\n",
       "  <thead>\n",
       "    <tr style=\"text-align: right;\">\n",
       "      <th></th>\n",
       "      <th>session_id_hash</th>\n",
       "      <th>event_type</th>\n",
       "      <th>product_action</th>\n",
       "      <th>product_sku_hash</th>\n",
       "      <th>server_timestamp_epoch_ms</th>\n",
       "      <th>hashed_url</th>\n",
       "      <th>is_search</th>\n",
       "    </tr>\n",
       "  </thead>\n",
       "  <tbody>\n",
       "    <tr>\n",
       "      <th>20465725</th>\n",
       "      <td>00000114e1075962f022114fcfc17f2d874e694ac5d201...</td>\n",
       "      <td>pageview</td>\n",
       "      <td>NaN</td>\n",
       "      <td>NaN</td>\n",
       "      <td>1552423391039</td>\n",
       "      <td>0aa1084eddfb08e4dffbb5a2aa98a5e9679382d982dd97...</td>\n",
       "      <td>0</td>\n",
       "    </tr>\n",
       "    <tr>\n",
       "      <th>20465726</th>\n",
       "      <td>00000114e1075962f022114fcfc17f2d874e694ac5d201...</td>\n",
       "      <td>event_product</td>\n",
       "      <td>detail</td>\n",
       "      <td>cf2f88cb43c1713538f7dfd2aa498a2cb9ebc0c99feeac...</td>\n",
       "      <td>1552423391039</td>\n",
       "      <td>0aa1084eddfb08e4dffbb5a2aa98a5e9679382d982dd97...</td>\n",
       "      <td>0</td>\n",
       "    </tr>\n",
       "    <tr>\n",
       "      <th>20465727</th>\n",
       "      <td>00000114e1075962f022114fcfc17f2d874e694ac5d201...</td>\n",
       "      <td>event_product</td>\n",
       "      <td>add</td>\n",
       "      <td>cf2f88cb43c1713538f7dfd2aa498a2cb9ebc0c99feeac...</td>\n",
       "      <td>1552424389158</td>\n",
       "      <td>83b4fdad686c1be4eba335f70d23ae202b84b6153e109e...</td>\n",
       "      <td>0</td>\n",
       "    </tr>\n",
       "    <tr>\n",
       "      <th>20465728</th>\n",
       "      <td>00000114e1075962f022114fcfc17f2d874e694ac5d201...</td>\n",
       "      <td>pageview</td>\n",
       "      <td>NaN</td>\n",
       "      <td>NaN</td>\n",
       "      <td>1552424395594</td>\n",
       "      <td>0ad6fab1eb3ac76010ea2fa6399a4e993b00f6501c88a2...</td>\n",
       "      <td>0</td>\n",
       "    </tr>\n",
       "    <tr>\n",
       "      <th>20465729</th>\n",
       "      <td>00000114e1075962f022114fcfc17f2d874e694ac5d201...</td>\n",
       "      <td>pageview</td>\n",
       "      <td>NaN</td>\n",
       "      <td>NaN</td>\n",
       "      <td>1552424417587</td>\n",
       "      <td>e93e5c83aab0987e41d8fd65a30b54d2ce87491b4a7f9b...</td>\n",
       "      <td>0</td>\n",
       "    </tr>\n",
       "  </tbody>\n",
       "</table>\n",
       "</div>"
      ],
      "text/plain": [
       "                                            session_id_hash     event_type  \\\n",
       "20465725  00000114e1075962f022114fcfc17f2d874e694ac5d201...       pageview   \n",
       "20465726  00000114e1075962f022114fcfc17f2d874e694ac5d201...  event_product   \n",
       "20465727  00000114e1075962f022114fcfc17f2d874e694ac5d201...  event_product   \n",
       "20465728  00000114e1075962f022114fcfc17f2d874e694ac5d201...       pageview   \n",
       "20465729  00000114e1075962f022114fcfc17f2d874e694ac5d201...       pageview   \n",
       "\n",
       "         product_action                                   product_sku_hash  \\\n",
       "20465725            NaN                                                NaN   \n",
       "20465726         detail  cf2f88cb43c1713538f7dfd2aa498a2cb9ebc0c99feeac...   \n",
       "20465727            add  cf2f88cb43c1713538f7dfd2aa498a2cb9ebc0c99feeac...   \n",
       "20465728            NaN                                                NaN   \n",
       "20465729            NaN                                                NaN   \n",
       "\n",
       "          server_timestamp_epoch_ms  \\\n",
       "20465725              1552423391039   \n",
       "20465726              1552423391039   \n",
       "20465727              1552424389158   \n",
       "20465728              1552424395594   \n",
       "20465729              1552424417587   \n",
       "\n",
       "                                                 hashed_url  is_search  \n",
       "20465725  0aa1084eddfb08e4dffbb5a2aa98a5e9679382d982dd97...          0  \n",
       "20465726  0aa1084eddfb08e4dffbb5a2aa98a5e9679382d982dd97...          0  \n",
       "20465727  83b4fdad686c1be4eba335f70d23ae202b84b6153e109e...          0  \n",
       "20465728  0ad6fab1eb3ac76010ea2fa6399a4e993b00f6501c88a2...          0  \n",
       "20465729  e93e5c83aab0987e41d8fd65a30b54d2ce87491b4a7f9b...          0  "
      ]
     },
     "execution_count": 42,
     "metadata": {},
     "output_type": "execute_result"
    }
   ],
   "source": [
    "event_df.head()"
   ]
  },
  {
   "cell_type": "markdown",
   "metadata": {},
   "source": [
    "Merge product interactions info and event df"
   ]
  },
  {
   "cell_type": "code",
   "execution_count": 43,
   "metadata": {},
   "outputs": [],
   "source": [
    "event_df = event_df.merge(product_interactions, on=['session_id_hash', 'product_sku_hash'], how='left')"
   ]
  },
  {
   "cell_type": "code",
   "execution_count": 44,
   "metadata": {},
   "outputs": [
    {
     "data": {
      "text/plain": [
       "(21919094, 13)"
      ]
     },
     "execution_count": 44,
     "metadata": {},
     "output_type": "execute_result"
    }
   ],
   "source": [
    "event_df.shape"
   ]
  },
  {
   "cell_type": "code",
   "execution_count": 45,
   "metadata": {
    "scrolled": true
   },
   "outputs": [
    {
     "data": {
      "text/html": [
       "<div>\n",
       "<style scoped>\n",
       "    .dataframe tbody tr th:only-of-type {\n",
       "        vertical-align: middle;\n",
       "    }\n",
       "\n",
       "    .dataframe tbody tr th {\n",
       "        vertical-align: top;\n",
       "    }\n",
       "\n",
       "    .dataframe thead th {\n",
       "        text-align: right;\n",
       "    }\n",
       "</style>\n",
       "<table border=\"1\" class=\"dataframe\">\n",
       "  <thead>\n",
       "    <tr style=\"text-align: right;\">\n",
       "      <th></th>\n",
       "      <th>session_id_hash</th>\n",
       "      <th>event_type</th>\n",
       "      <th>product_action</th>\n",
       "      <th>product_sku_hash</th>\n",
       "      <th>server_timestamp_epoch_ms</th>\n",
       "      <th>hashed_url</th>\n",
       "      <th>is_search</th>\n",
       "      <th>nb_interactions</th>\n",
       "      <th>has_been_added_to_cart</th>\n",
       "      <th>has_been_detailed</th>\n",
       "      <th>has_been_purchased</th>\n",
       "      <th>has_been_removed_from_cart</th>\n",
       "      <th>has_been_clicked</th>\n",
       "    </tr>\n",
       "  </thead>\n",
       "  <tbody>\n",
       "    <tr>\n",
       "      <th>0</th>\n",
       "      <td>00000114e1075962f022114fcfc17f2d874e694ac5d201...</td>\n",
       "      <td>pageview</td>\n",
       "      <td>NaN</td>\n",
       "      <td>NaN</td>\n",
       "      <td>1552423391039</td>\n",
       "      <td>0aa1084eddfb08e4dffbb5a2aa98a5e9679382d982dd97...</td>\n",
       "      <td>0</td>\n",
       "      <td>NaN</td>\n",
       "      <td>NaN</td>\n",
       "      <td>NaN</td>\n",
       "      <td>NaN</td>\n",
       "      <td>NaN</td>\n",
       "      <td>NaN</td>\n",
       "    </tr>\n",
       "    <tr>\n",
       "      <th>1</th>\n",
       "      <td>00000114e1075962f022114fcfc17f2d874e694ac5d201...</td>\n",
       "      <td>event_product</td>\n",
       "      <td>detail</td>\n",
       "      <td>cf2f88cb43c1713538f7dfd2aa498a2cb9ebc0c99feeac...</td>\n",
       "      <td>1552423391039</td>\n",
       "      <td>0aa1084eddfb08e4dffbb5a2aa98a5e9679382d982dd97...</td>\n",
       "      <td>0</td>\n",
       "      <td>3.0</td>\n",
       "      <td>True</td>\n",
       "      <td>True</td>\n",
       "      <td>False</td>\n",
       "      <td>False</td>\n",
       "      <td>False</td>\n",
       "    </tr>\n",
       "  </tbody>\n",
       "</table>\n",
       "</div>"
      ],
      "text/plain": [
       "                                     session_id_hash     event_type  \\\n",
       "0  00000114e1075962f022114fcfc17f2d874e694ac5d201...       pageview   \n",
       "1  00000114e1075962f022114fcfc17f2d874e694ac5d201...  event_product   \n",
       "\n",
       "  product_action                                   product_sku_hash  \\\n",
       "0            NaN                                                NaN   \n",
       "1         detail  cf2f88cb43c1713538f7dfd2aa498a2cb9ebc0c99feeac...   \n",
       "\n",
       "   server_timestamp_epoch_ms  \\\n",
       "0              1552423391039   \n",
       "1              1552423391039   \n",
       "\n",
       "                                          hashed_url  is_search  \\\n",
       "0  0aa1084eddfb08e4dffbb5a2aa98a5e9679382d982dd97...          0   \n",
       "1  0aa1084eddfb08e4dffbb5a2aa98a5e9679382d982dd97...          0   \n",
       "\n",
       "   nb_interactions has_been_added_to_cart has_been_detailed  \\\n",
       "0              NaN                    NaN               NaN   \n",
       "1              3.0                   True              True   \n",
       "\n",
       "  has_been_purchased has_been_removed_from_cart has_been_clicked  \n",
       "0                NaN                        NaN              NaN  \n",
       "1              False                      False            False  "
      ]
     },
     "execution_count": 45,
     "metadata": {},
     "output_type": "execute_result"
    }
   ],
   "source": [
    "event_df.head(2)"
   ]
  },
  {
   "cell_type": "markdown",
   "metadata": {},
   "source": [
    "Add column product_url_hash: SKUs are filled with hashed_url for pageview events"
   ]
  },
  {
   "cell_type": "code",
   "execution_count": 46,
   "metadata": {},
   "outputs": [],
   "source": [
    "event_df['product_url_hash'] = event_df['product_sku_hash'].fillna(event_df['hashed_url'])"
   ]
  },
  {
   "cell_type": "code",
   "execution_count": 47,
   "metadata": {},
   "outputs": [
    {
     "data": {
      "text/plain": [
       "pageview         13981064\n",
       "event_product     7684646\n",
       "search             253384\n",
       "Name: event_type, dtype: int64"
      ]
     },
     "execution_count": 47,
     "metadata": {},
     "output_type": "execute_result"
    }
   ],
   "source": [
    "event_df.event_type.value_counts()"
   ]
  },
  {
   "cell_type": "code",
   "execution_count": 48,
   "metadata": {},
   "outputs": [],
   "source": [
    "# save to parquet file with 40 partitions \n",
    "event_df['parquet_split'] =  np.random.randint(0,40,size=event_df.shape[0])\n",
    "event_df.to_parquet(os.path.join(OUTPUT_DIR, \"event_train_v4\"), partition_cols=['parquet_split'])"
   ]
  },
  {
   "cell_type": "code",
   "execution_count": 49,
   "metadata": {},
   "outputs": [
    {
     "data": {
      "text/plain": [
       "23"
      ]
     },
     "execution_count": 49,
     "metadata": {},
     "output_type": "execute_result"
    }
   ],
   "source": [
    "import gc\n",
    "#del event_df\n",
    "gc.collect()"
   ]
  },
  {
   "cell_type": "code",
   "execution_count": null,
   "metadata": {},
   "outputs": [],
   "source": [
    "#event_df.to_csv( \"event_sesh1\")"
   ]
  },
  {
   "cell_type": "markdown",
   "metadata": {},
   "source": [
    "## Define the preprocessed row interactions table"
   ]
  },
  {
   "cell_type": "markdown",
   "metadata": {},
   "source": [
    "1st workflow: fill missing values, encode categorical variables and normalize numericals"
   ]
  },
  {
   "cell_type": "code",
   "execution_count": 50,
   "metadata": {},
   "outputs": [],
   "source": [
    "import glob\n",
    "files = glob.glob(OUTPUT_DIR + '/event_train_v4/parquet_split*/*.parquet')"
   ]
  },
  {
   "cell_type": "code",
   "execution_count": 51,
   "metadata": {},
   "outputs": [
    {
     "ename": "RuntimeError",
     "evalue": "CUDA error encountered at: /workspace/build-env/cpp/src/io/utilities/hostdevice_vector.hpp:60: 2 cudaErrorMemoryAllocation out of memory",
     "output_type": "error",
     "traceback": [
      "\u001b[0;31m---------------------------------------------------------------------------\u001b[0m",
      "\u001b[0;31mRuntimeError\u001b[0m                              Traceback (most recent call last)",
      "\u001b[0;32m/tmp/ipykernel_383/3111745975.py\u001b[0m in \u001b[0;36m<module>\u001b[0;34m\u001b[0m\n\u001b[1;32m      1\u001b[0m \u001b[0;31m#  load data\u001b[0m\u001b[0;34m\u001b[0m\u001b[0;34m\u001b[0m\u001b[0;34m\u001b[0m\u001b[0m\n\u001b[0;32m----> 2\u001b[0;31m \u001b[0mdf_event\u001b[0m \u001b[0;34m=\u001b[0m \u001b[0mnvt\u001b[0m\u001b[0;34m.\u001b[0m\u001b[0mDataset\u001b[0m\u001b[0;34m(\u001b[0m\u001b[0mfiles\u001b[0m\u001b[0;34m,\u001b[0m \u001b[0mpart_size\u001b[0m\u001b[0;34m=\u001b[0m\u001b[0;34m\"1GB\"\u001b[0m\u001b[0;34m)\u001b[0m\u001b[0;34m\u001b[0m\u001b[0;34m\u001b[0m\u001b[0m\n\u001b[0m\u001b[1;32m      3\u001b[0m \u001b[0;34m\u001b[0m\u001b[0m\n\u001b[1;32m      4\u001b[0m \u001b[0;31m# convert timestamp to datetime object\u001b[0m\u001b[0;34m\u001b[0m\u001b[0;34m\u001b[0m\u001b[0;34m\u001b[0m\u001b[0m\n\u001b[1;32m      5\u001b[0m \u001b[0mto_datetime\u001b[0m \u001b[0;34m=\u001b[0m \u001b[0;34m[\u001b[0m\u001b[0;34m\"server_timestamp_epoch_ms\"\u001b[0m\u001b[0;34m]\u001b[0m \u001b[0;34m>>\u001b[0m \u001b[0mnvt\u001b[0m\u001b[0;34m.\u001b[0m\u001b[0mops\u001b[0m\u001b[0;34m.\u001b[0m\u001b[0mLambdaOp\u001b[0m\u001b[0;34m(\u001b[0m\u001b[0;32mlambda\u001b[0m \u001b[0mcol\u001b[0m\u001b[0;34m:\u001b[0m \u001b[0mcudf\u001b[0m\u001b[0;34m.\u001b[0m\u001b[0mto_datetime\u001b[0m\u001b[0;34m(\u001b[0m\u001b[0mcol\u001b[0m\u001b[0;34m,\u001b[0m \u001b[0munit\u001b[0m\u001b[0;34m=\u001b[0m\u001b[0;34m'ms'\u001b[0m\u001b[0;34m)\u001b[0m\u001b[0;34m)\u001b[0m \u001b[0;34m>>\u001b[0m \u001b[0mnvt\u001b[0m\u001b[0;34m.\u001b[0m\u001b[0mops\u001b[0m\u001b[0;34m.\u001b[0m\u001b[0mRename\u001b[0m\u001b[0;34m(\u001b[0m \u001b[0mf\u001b[0m \u001b[0;34m=\u001b[0m \u001b[0;32mlambda\u001b[0m \u001b[0mx\u001b[0m\u001b[0;34m:\u001b[0m \u001b[0;34m'timestamp'\u001b[0m\u001b[0;34m)\u001b[0m\u001b[0;34m\u001b[0m\u001b[0;34m\u001b[0m\u001b[0m\n",
      "\u001b[0;32m/nvtabular/nvtabular/io/dataset.py\u001b[0m in \u001b[0;36m__init__\u001b[0;34m(self, path_or_source, engine, npartitions, part_size, part_mem_fraction, storage_options, dtypes, client, cpu, base_dataset, **kwargs)\u001b[0m\n\u001b[1;32m    279\u001b[0m             \u001b[0;32mif\u001b[0m \u001b[0misinstance\u001b[0m\u001b[0;34m(\u001b[0m\u001b[0mengine\u001b[0m\u001b[0;34m,\u001b[0m \u001b[0mstr\u001b[0m\u001b[0;34m)\u001b[0m\u001b[0;34m:\u001b[0m\u001b[0;34m\u001b[0m\u001b[0;34m\u001b[0m\u001b[0m\n\u001b[1;32m    280\u001b[0m                 \u001b[0;32mif\u001b[0m \u001b[0mengine\u001b[0m \u001b[0;34m==\u001b[0m \u001b[0;34m\"parquet\"\u001b[0m\u001b[0;34m:\u001b[0m\u001b[0;34m\u001b[0m\u001b[0;34m\u001b[0m\u001b[0m\n\u001b[0;32m--> 281\u001b[0;31m                     self.engine = ParquetDatasetEngine(\n\u001b[0m\u001b[1;32m    282\u001b[0m                         \u001b[0mpaths\u001b[0m\u001b[0;34m,\u001b[0m \u001b[0mpart_size\u001b[0m\u001b[0;34m,\u001b[0m \u001b[0mstorage_options\u001b[0m\u001b[0;34m=\u001b[0m\u001b[0mstorage_options\u001b[0m\u001b[0;34m,\u001b[0m \u001b[0mcpu\u001b[0m\u001b[0;34m=\u001b[0m\u001b[0mself\u001b[0m\u001b[0;34m.\u001b[0m\u001b[0mcpu\u001b[0m\u001b[0;34m,\u001b[0m \u001b[0;34m**\u001b[0m\u001b[0mkwargs\u001b[0m\u001b[0;34m\u001b[0m\u001b[0;34m\u001b[0m\u001b[0m\n\u001b[1;32m    283\u001b[0m                     )\n",
      "\u001b[0;32m/nvtabular/nvtabular/io/parquet.py\u001b[0m in \u001b[0;36m__init__\u001b[0;34m(self, paths, part_size, storage_options, row_groups_per_part, legacy, batch_size, cpu)\u001b[0m\n\u001b[1;32m     84\u001b[0m                     \u001b[0;31m# Allow cudf to open the file if this is a local file\u001b[0m\u001b[0;34m\u001b[0m\u001b[0;34m\u001b[0m\u001b[0;34m\u001b[0m\u001b[0m\n\u001b[1;32m     85\u001b[0m                     \u001b[0;31m# system (can be significantly faster in this case)\u001b[0m\u001b[0;34m\u001b[0m\u001b[0;34m\u001b[0m\u001b[0;34m\u001b[0m\u001b[0m\n\u001b[0;32m---> 86\u001b[0;31m                     \u001b[0mrg_byte_size_0\u001b[0m \u001b[0;34m=\u001b[0m \u001b[0m_memory_usage\u001b[0m\u001b[0;34m(\u001b[0m\u001b[0mcudf\u001b[0m\u001b[0;34m.\u001b[0m\u001b[0mio\u001b[0m\u001b[0;34m.\u001b[0m\u001b[0mread_parquet\u001b[0m\u001b[0;34m(\u001b[0m\u001b[0mpath0\u001b[0m\u001b[0;34m,\u001b[0m \u001b[0mrow_groups\u001b[0m\u001b[0;34m=\u001b[0m\u001b[0;36m0\u001b[0m\u001b[0;34m)\u001b[0m\u001b[0;34m)\u001b[0m\u001b[0;34m\u001b[0m\u001b[0;34m\u001b[0m\u001b[0m\n\u001b[0m\u001b[1;32m     87\u001b[0m                 \u001b[0;32melse\u001b[0m\u001b[0;34m:\u001b[0m\u001b[0;34m\u001b[0m\u001b[0;34m\u001b[0m\u001b[0m\n\u001b[1;32m     88\u001b[0m                     \u001b[0;32mwith\u001b[0m \u001b[0mself\u001b[0m\u001b[0;34m.\u001b[0m\u001b[0mfs\u001b[0m\u001b[0;34m.\u001b[0m\u001b[0mopen\u001b[0m\u001b[0;34m(\u001b[0m\u001b[0mpath0\u001b[0m\u001b[0;34m,\u001b[0m \u001b[0;34m\"rb\"\u001b[0m\u001b[0;34m)\u001b[0m \u001b[0;32mas\u001b[0m \u001b[0mf0\u001b[0m\u001b[0;34m:\u001b[0m\u001b[0;34m\u001b[0m\u001b[0;34m\u001b[0m\u001b[0m\n",
      "\u001b[0;32m/opt/conda/lib/python3.8/site-packages/cudf/io/parquet.py\u001b[0m in \u001b[0;36mread_parquet\u001b[0;34m(filepath_or_buffer, engine, columns, filters, row_groups, skiprows, num_rows, strings_to_categorical, use_pandas_metadata, *args, **kwargs)\u001b[0m\n\u001b[1;32m    248\u001b[0m \u001b[0;34m\u001b[0m\u001b[0m\n\u001b[1;32m    249\u001b[0m     \u001b[0;32mif\u001b[0m \u001b[0mengine\u001b[0m \u001b[0;34m==\u001b[0m \u001b[0;34m\"cudf\"\u001b[0m\u001b[0;34m:\u001b[0m\u001b[0;34m\u001b[0m\u001b[0;34m\u001b[0m\u001b[0m\n\u001b[0;32m--> 250\u001b[0;31m         return libparquet.read_parquet(\n\u001b[0m\u001b[1;32m    251\u001b[0m             \u001b[0mfilepaths_or_buffers\u001b[0m\u001b[0;34m,\u001b[0m\u001b[0;34m\u001b[0m\u001b[0;34m\u001b[0m\u001b[0m\n\u001b[1;32m    252\u001b[0m             \u001b[0mcolumns\u001b[0m\u001b[0;34m=\u001b[0m\u001b[0mcolumns\u001b[0m\u001b[0;34m,\u001b[0m\u001b[0;34m\u001b[0m\u001b[0;34m\u001b[0m\u001b[0m\n",
      "\u001b[0;32mcudf/_lib/parquet.pyx\u001b[0m in \u001b[0;36mcudf._lib.parquet.read_parquet\u001b[0;34m()\u001b[0m\n",
      "\u001b[0;32mcudf/_lib/parquet.pyx\u001b[0m in \u001b[0;36mcudf._lib.parquet.read_parquet\u001b[0;34m()\u001b[0m\n",
      "\u001b[0;31mRuntimeError\u001b[0m: CUDA error encountered at: /workspace/build-env/cpp/src/io/utilities/hostdevice_vector.hpp:60: 2 cudaErrorMemoryAllocation out of memory"
     ]
    }
   ],
   "source": [
    "#  load data \n",
    "df_event = nvt.Dataset(files, part_size=\"1GB\")  \n",
    "\n",
    "# convert timestamp to datetime object\n",
    "to_datetime = [\"server_timestamp_epoch_ms\"] >> nvt.ops.LambdaOp(lambda col: cudf.to_datetime(col, unit='ms')) >> nvt.ops.Rename( f = lambda x: 'timestamp')\n",
    "\n",
    "#categorical features\n",
    "# fill missing product_actions\n",
    "missing_action = ['product_action'] >> nvt.ops.FillMissing(fill_val='view')  >> nvt.ops.Rename(postfix = '_filled')\n",
    "categ_feats = ['session_id_hash',  'event_type', 'price_bucket', 'main_category', 'category_hash']\n",
    "cat_feats = missing_action + categ_feats >> nvt.ops.Categorify()\n",
    "\n",
    "# fill missing product ids before categorify to keep id '0' for padding \n",
    "missing_ids = ['product_sku_hash','hashed_url', 'product_url_hash' ] >> nvt.ops.FillMissing(fill_val='missing')\n",
    "cat_product_ids = missing_ids >> nvt.ops.Categorify()\n",
    "\n",
    "# numerical features \n",
    "cont_feats = ['mean_price_hierarchy', 'mean_price_main', 'nb_interactions'] >> nvt.ops.FillMedian()\n",
    "continuous_feats = cont_feats >> nvt.ops.Normalize()\n",
    "\n",
    "#bool features \n",
    "bool_feats = ['has_been_added_to_cart', 'has_been_detailed', 'has_been_purchased', \n",
    "              'has_been_removed_from_cart', 'has_been_clicked', 'is_search']\n",
    "boolean_feats = bool_feats >> nvt.ops.FillMissing(fill_val=0)"
   ]
  },
  {
   "cell_type": "code",
   "execution_count": null,
   "metadata": {},
   "outputs": [],
   "source": [
    "workflow = nvt.Workflow(to_datetime + cat_feats + cat_product_ids + continuous_feats + boolean_feats)\n",
    "workflow.fit(df_event)\n",
    "new_gdf = workflow.transform(df_event).to_ddf().compute()\n",
    "len(new_gdf)"
   ]
  },
  {
   "cell_type": "code",
   "execution_count": null,
   "metadata": {},
   "outputs": [],
   "source": [
    "new_gdf.columns"
   ]
  },
  {
   "cell_type": "code",
   "execution_count": null,
   "metadata": {},
   "outputs": [],
   "source": [
    "workflow.save(os.path.join(OUTPUT_DIR, \"categorify_workflow\"))"
   ]
  },
  {
   "cell_type": "markdown",
   "metadata": {},
   "source": [
    "Item recency: include the item first time seen feature using product_url_hash column"
   ]
  },
  {
   "cell_type": "code",
   "execution_count": null,
   "metadata": {},
   "outputs": [],
   "source": [
    "items_first_ts_df = new_gdf.groupby('product_url_hash').agg({'timestamp': 'min'}).reset_index().rename(columns={'timestamp': 'itemid_ts_first'})\n",
    "interactions_merged_df = new_gdf.merge(items_first_ts_df, on=['product_url_hash'], how='left')"
   ]
  },
  {
   "cell_type": "code",
   "execution_count": null,
   "metadata": {},
   "outputs": [],
   "source": [
    "interactions_merged_df.shape"
   ]
  },
  {
   "cell_type": "code",
   "execution_count": null,
   "metadata": {},
   "outputs": [],
   "source": [
    "use_cols = ['session_id_hash', 'timestamp',  'event_type', 'product_action_filled',\n",
    "            \n",
    "            'product_sku_hash','hashed_url', 'product_url_hash',\n",
    "            \n",
    "            'main_category', 'category_hash', 'price_bucket', 'mean_price_hierarchy', 'mean_price_main', 'itemid_ts_first', \n",
    "            \n",
    "            'nb_interactions', 'has_been_added_to_cart', 'has_been_detailed', 'has_been_purchased', 'has_been_removed_from_cart', 'has_been_clicked',\n",
    "            \n",
    "            'is_search']\n",
    "\n",
    "interactions_merged_df[use_cols].head(5)"
   ]
  },
  {
   "cell_type": "code",
   "execution_count": null,
   "metadata": {},
   "outputs": [],
   "source": [
    "interactions_merged_df[use_cols].to_parquet(os.path.join(OUTPUT_DIR, 'row_interactions_preproc_v4.parquet'))"
   ]
  },
  {
   "cell_type": "code",
   "execution_count": null,
   "metadata": {},
   "outputs": [],
   "source": [
    "interactions_merged_df.to_csv(\"interaction_merge.csv\")"
   ]
  },
  {
   "cell_type": "markdown",
   "metadata": {},
   "source": [
    "## Preprocessing of session table"
   ]
  },
  {
   "cell_type": "code",
   "execution_count": null,
   "metadata": {},
   "outputs": [],
   "source": [
    "interactions_merged_df = cudf.read_parquet(os.path.join(OUTPUT_DIR, 'row_interactions_preproc_v4.parquet'))"
   ]
  },
  {
   "cell_type": "code",
   "execution_count": null,
   "metadata": {},
   "outputs": [],
   "source": [
    "from sklearn.model_selection import GroupKFold\n",
    "sessions_gdf['fold'] = np.random.randint(1,6, sessions_gdf.shape[0]) \n",
    "sessions_gdf['is_valid'] = 0 \n",
    "sessions_gdf.loc[((sessions_gdf['is_test-last']==0) & (sessions_gdf['day_index']<=50)), 'is_valid'] = 1"
   ]
  },
  {
   "cell_type": "code",
   "execution_count": null,
   "metadata": {},
   "outputs": [],
   "source": []
  },
  {
   "cell_type": "code",
   "execution_count": null,
   "metadata": {},
   "outputs": [],
   "source": []
  }
 ],
 "metadata": {
  "kernelspec": {
   "display_name": "Python 3 (ipykernel)",
   "language": "python",
   "name": "python3"
  },
  "language_info": {
   "codemirror_mode": {
    "name": "ipython",
    "version": 3
   },
   "file_extension": ".py",
   "mimetype": "text/x-python",
   "name": "python",
   "nbconvert_exporter": "python",
   "pygments_lexer": "ipython3",
   "version": "3.8.10"
  },
  "latex_envs": {
   "LaTeX_envs_menu_present": true,
   "autoclose": false,
   "autocomplete": true,
   "bibliofile": "biblio.bib",
   "cite_by": "apalike",
   "current_citInitial": 1,
   "eqLabelWithNumbers": true,
   "eqNumInitial": 1,
   "hotkeys": {
    "equation": "Ctrl-E",
    "itemize": "Ctrl-I"
   },
   "labels_anchors": false,
   "latex_user_defs": false,
   "report_style_numbering": false,
   "user_envs_cfg": false
  },
  "toc": {
   "base_numbering": 1,
   "nav_menu": {},
   "number_sections": true,
   "sideBar": true,
   "skip_h1_title": false,
   "title_cell": "Table of Contents",
   "title_sidebar": "Contents",
   "toc_cell": false,
   "toc_position": {},
   "toc_section_display": true,
   "toc_window_display": false
  }
 },
 "nbformat": 4,
 "nbformat_minor": 4
}
