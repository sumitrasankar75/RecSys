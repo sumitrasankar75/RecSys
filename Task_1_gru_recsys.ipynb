{
 "cells": [
  {
   "cell_type": "code",
   "execution_count": 1,
   "id": "b295b184",
   "metadata": {},
   "outputs": [],
   "source": [
    "import os\n",
    "\n",
    "import numpy as np\n",
    "import cupy as cp\n",
    "import glob\n",
    "\n",
    "import cudf\n",
    "import nvtabular as nvt\n",
    "from nvtabular import ColumnSelector"
   ]
  },
  {
   "cell_type": "code",
   "execution_count": 2,
   "id": "e982a492",
   "metadata": {},
   "outputs": [],
   "source": [
    "import os\n",
    "import pandas as pd\n",
    "import numpy as np\n",
    "from tqdm import tqdm\n",
    "tqdm.pandas()\n",
    "import cudf\n",
    "import cupy\n",
    "import nvtabular as nvt\n",
    "import json"
   ]
  },
  {
   "cell_type": "code",
   "execution_count": 3,
   "id": "6fc92b40",
   "metadata": {},
   "outputs": [],
   "source": [
    "pd.set_option('display.max_rows', 500)\n",
    "pd.set_option('display.max_columns', 500)\n",
    "pd.set_option('display.width', 1000)"
   ]
  },
  {
   "cell_type": "code",
   "execution_count": 4,
   "id": "bb6a475d",
   "metadata": {},
   "outputs": [],
   "source": [
    "INPUT_DIR = \"/recsys/coveo_task1_v42\""
   ]
  },
  {
   "cell_type": "code",
   "execution_count": null,
   "id": "01f5389a",
   "metadata": {},
   "outputs": [],
   "source": [
    "data = cudf.read_parquet(os.path.join(INPUT_DIR, 'merged_session_table.parquet'))\n",
    "data.head()"
   ]
  },
  {
   "cell_type": "code",
   "execution_count": null,
   "id": "0479f73b",
   "metadata": {},
   "outputs": [],
   "source": [
    "#data.dtypes"
   ]
  },
  {
   "cell_type": "code",
   "execution_count": null,
   "id": "881e0613",
   "metadata": {},
   "outputs": [],
   "source": [
    "#data.shape"
   ]
  },
  {
   "cell_type": "code",
   "execution_count": 5,
   "id": "f4b57a63",
   "metadata": {},
   "outputs": [],
   "source": [
    "data1 = pd.read_parquet(os.path.join(INPUT_DIR, 'merged_session_table.parquet'))\n",
    "#data1.head()"
   ]
  },
  {
   "cell_type": "code",
   "execution_count": 6,
   "id": "dae1603a",
   "metadata": {},
   "outputs": [
    {
     "data": {
      "text/html": [
       "<div>\n",
       "<style scoped>\n",
       "    .dataframe tbody tr th:only-of-type {\n",
       "        vertical-align: middle;\n",
       "    }\n",
       "\n",
       "    .dataframe tbody tr th {\n",
       "        vertical-align: top;\n",
       "    }\n",
       "\n",
       "    .dataframe thead th {\n",
       "        text-align: right;\n",
       "    }\n",
       "</style>\n",
       "<table border=\"1\" class=\"dataframe\">\n",
       "  <thead>\n",
       "    <tr style=\"text-align: right;\">\n",
       "      <th></th>\n",
       "      <th>session_id_hash</th>\n",
       "      <th>day_index</th>\n",
       "      <th>product_sku_hash_count</th>\n",
       "      <th>product_sku_hash_list_seq</th>\n",
       "      <th>product_url_hash_count</th>\n",
       "      <th>product_url_hash_list_seq</th>\n",
       "      <th>has_been_removed_from_cart-list_seq</th>\n",
       "      <th>has_been_added_to_cart-list_seq</th>\n",
       "      <th>has_been_purchased-list_seq</th>\n",
       "      <th>has_been_detailed-list_seq</th>\n",
       "      <th>has_been_clicked-list_seq</th>\n",
       "      <th>event_type-list_seq</th>\n",
       "      <th>product_action_filled-list_seq</th>\n",
       "      <th>nb_interactions-list_seq</th>\n",
       "      <th>category_hash-list_seq</th>\n",
       "      <th>main_category-list_seq</th>\n",
       "      <th>price_bucket-list_seq</th>\n",
       "      <th>mean_price_hierarchy-list_seq</th>\n",
       "      <th>mean_price_main-list_seq</th>\n",
       "      <th>ts-first</th>\n",
       "      <th>ts-last</th>\n",
       "      <th>ts-list_seq</th>\n",
       "      <th>timestamp_hour_cos-list_seq</th>\n",
       "      <th>timestamp_hour_sin-list_seq</th>\n",
       "      <th>timestamp_wd_sin-list_seq</th>\n",
       "      <th>timestamp_wd_cos-list_seq</th>\n",
       "      <th>timestamp_age_days-list_seq</th>\n",
       "      <th>timestamp_age_days_norm-list_seq</th>\n",
       "      <th>original_session_id_hash</th>\n",
       "      <th>flat_query_vector</th>\n",
       "      <th>flat_product_skus_hash</th>\n",
       "      <th>flat_clicked_skus_hash</th>\n",
       "      <th>impressions_size</th>\n",
       "      <th>clicks_size</th>\n",
       "      <th>nb_queries</th>\n",
       "      <th>clicked-flag</th>\n",
       "    </tr>\n",
       "  </thead>\n",
       "  <tbody>\n",
       "    <tr>\n",
       "      <th>0</th>\n",
       "      <td>64548</td>\n",
       "      <td>42</td>\n",
       "      <td>28</td>\n",
       "      <td>[2278, 1, 1, 1, 352, 1, 1, 2911, 1, 3184, 1, 1...</td>\n",
       "      <td>28</td>\n",
       "      <td>[4621, 2010, 10385, 68, 864, 1, 9252, 5913, 36...</td>\n",
       "      <td>[0, 0, 0, 0, 0, 0, 0, 0, 0, 0, 0, 0, 0, 0, 0, ...</td>\n",
       "      <td>[0, 0, 0, 0, 0, 0, 0, 0, 0, 0, 0, 0, 0, 0, 0, ...</td>\n",
       "      <td>[0, 0, 0, 0, 0, 0, 0, 0, 0, 0, 0, 0, 0, 0, 0, ...</td>\n",
       "      <td>[1, 0, 0, 0, 1, 0, 0, 1, 0, 1, 0, 0, 1, 0, 1, ...</td>\n",
       "      <td>[0, 0, 0, 0, 0, 0, 0, 0, 0, 0, 0, 0, 0, 0, 0, ...</td>\n",
       "      <td>[2, 1, 1, 1, 2, 1, 1, 2, 1, 2, 1, 1, 2, 1, 2, ...</td>\n",
       "      <td>[2, 1, 1, 1, 2, 1, 1, 2, 1, 2, 1, 1, 2, 1, 2, ...</td>\n",
       "      <td>[-0.17000507, -0.17000507, -0.17000507, -0.170...</td>\n",
       "      <td>[4, 0, 0, 0, 4, 0, 0, 4, 0, 4, 0, 0, 4, 0, 4, ...</td>\n",
       "      <td>[1, 0, 0, 0, 1, 0, 0, 1, 0, 1, 0, 0, 1, 0, 1, ...</td>\n",
       "      <td>[3, 0, 0, 0, 1, 0, 0, 3, 0, 3, 0, 0, 2, 0, 3, ...</td>\n",
       "      <td>[0.24512714, 0.0483035, 0.0483035, 0.0483035, ...</td>\n",
       "      <td>[0.04515953, 0.04515953, 0.04515953, 0.0451595...</td>\n",
       "      <td>1551674</td>\n",
       "      <td>1551675</td>\n",
       "      <td>[1551674, 1551674, 1551674, 1551674, 1551674, ...</td>\n",
       "      <td>[0.49999976, 0.49999976, 0.49999976, 0.4999997...</td>\n",
       "      <td>[0.86602557, 0.86602557, 0.86602557, 0.8660255...</td>\n",
       "      <td>[0.7818321, 0.7818321, 0.7818321, 0.7818321, 0...</td>\n",
       "      <td>[0.6234891, 0.6234891, 0.6234891, 0.6234891, 0...</td>\n",
       "      <td>[40, 40, 46, 47, 47, 47, 47, 47, 47, 47, 40, 4...</td>\n",
       "      <td>[0.5461206, 0.5461206, 0.66486025, 0.6831641, ...</td>\n",
       "      <td>7322346ca76333a3f57beb488486e3a7103b9b8ae5b81f...</td>\n",
       "      <td>[0.00867827795445919, -0.3432416021823883, 0.1...</td>\n",
       "      <td>[6056, 3598, 10943, 7062, 7926, 9107, 4452, 12...</td>\n",
       "      <td>[6983]</td>\n",
       "      <td>[0.0, 25.0, 12.0]</td>\n",
       "      <td>[0.0, 0.0, 1.0]</td>\n",
       "      <td>3.0</td>\n",
       "      <td>[0, 0, 0, 0, 0, 0, 0, 0, 0, 0, 0, 0, 0, 0, 0, ...</td>\n",
       "    </tr>\n",
       "    <tr>\n",
       "      <th>1</th>\n",
       "      <td>64552</td>\n",
       "      <td>32</td>\n",
       "      <td>28</td>\n",
       "      <td>[2439, 1, 1, 144, 1, 1393, 1, 1, 1, 5544, 1, 1...</td>\n",
       "      <td>28</td>\n",
       "      <td>[4982, 1, 12, 446, 1071, 2921, 14, 5386, 2, 11...</td>\n",
       "      <td>[0, 0, 0, 0, 0, 0, 0, 0, 0, 0, 0, 0, 0, 0, 0, ...</td>\n",
       "      <td>[0, 0, 0, 0, 0, 0, 0, 0, 0, 0, 0, 0, 0, 0, 0, ...</td>\n",
       "      <td>[0, 0, 0, 0, 0, 0, 0, 0, 0, 0, 0, 0, 0, 0, 0, ...</td>\n",
       "      <td>[1, 0, 0, 1, 0, 1, 0, 0, 0, 0, 0, 0, 0, 0, 1, ...</td>\n",
       "      <td>[0, 0, 0, 0, 0, 0, 0, 0, 0, 1, 0, 0, 0, 0, 1, ...</td>\n",
       "      <td>[2, 1, 1, 2, 1, 2, 1, 1, 1, 3, 1, 1, 1, 1, 2, ...</td>\n",
       "      <td>[2, 1, 1, 2, 1, 2, 1, 1, 1, 4, 1, 1, 1, 1, 2, ...</td>\n",
       "      <td>[-0.17000507, -0.17000507, -0.17000507, -0.170...</td>\n",
       "      <td>[51, 0, 0, 1, 0, 51, 0, 0, 0, 1, 0, 0, 0, 0, 1...</td>\n",
       "      <td>[3, 0, 0, 3, 0, 3, 0, 0, 0, 3, 0, 0, 0, 0, 3, ...</td>\n",
       "      <td>[3, 0, 0, 3, 0, 3, 0, 0, 0, 2, 0, 0, 0, 0, 4, ...</td>\n",
       "      <td>[1.6796839, 0.0483035, 0.0483035, -0.6332114, ...</td>\n",
       "      <td>[2.1147482, 0.04515953, 0.04515953, 2.1147482,...</td>\n",
       "      <td>1552565</td>\n",
       "      <td>1552569</td>\n",
       "      <td>[1552565, 1552565, 1552565, 1552565, 1552565, ...</td>\n",
       "      <td>[-1.0, -1.0, -1.0, -1.0, -1.0, -1.0, -1.0, -1....</td>\n",
       "      <td>[-5.6425995e-07, -5.6425995e-07, -5.6425995e-0...</td>\n",
       "      <td>[-0.43388462, -0.43388462, -0.43388462, -0.433...</td>\n",
       "      <td>[-0.90096843, -0.90096843, -0.90096843, -0.900...</td>\n",
       "      <td>[31, 58, 58, 33, 12, 33, 58, 8, 58, 37, 24, 57...</td>\n",
       "      <td>[0.3306505, 0.86255425, 0.86255425, 0.38335788...</td>\n",
       "      <td>7350b2ee3456c1ce3b438fa1c0a14f79d229a3644988ec...</td>\n",
       "      <td>[-0.002791411941871047, 0.05408860743045807, -...</td>\n",
       "      <td>[126942, 37103, 43807, 64264, 53843, 61638, 77...</td>\n",
       "      <td>[11340, 15677]</td>\n",
       "      <td>[25.0, 2.0, 5.0]</td>\n",
       "      <td>[0.0, 1.0, 1.0]</td>\n",
       "      <td>3.0</td>\n",
       "      <td>[0, 0, 0, 0, 0, 0, 0, 0, 0, 0, 0, 0, 0, 0, 0, ...</td>\n",
       "    </tr>\n",
       "    <tr>\n",
       "      <th>2</th>\n",
       "      <td>64560</td>\n",
       "      <td>59</td>\n",
       "      <td>28</td>\n",
       "      <td>[1, 1496, 1, 380, 1, 1, 1, 158, 1, 158, 1, 1, ...</td>\n",
       "      <td>28</td>\n",
       "      <td>[11164, 3120, 5, 912, 13, 982, 357, 494, 1, 49...</td>\n",
       "      <td>[0, 0, 0, 0, 0, 0, 0, 0, 0, 0, 0, 0, 0, 0, 0, ...</td>\n",
       "      <td>[0, 0, 0, 0, 0, 0, 0, 1, 0, 1, 0, 0, 0, 0, 0, ...</td>\n",
       "      <td>[0, 0, 0, 0, 0, 0, 0, 1, 0, 1, 0, 0, 0, 0, 0, ...</td>\n",
       "      <td>[0, 1, 0, 1, 0, 0, 0, 1, 0, 1, 0, 0, 0, 0, 0, ...</td>\n",
       "      <td>[0, 0, 0, 0, 0, 0, 0, 1, 0, 1, 0, 0, 0, 0, 0, ...</td>\n",
       "      <td>[1, 2, 1, 2, 1, 1, 1, 2, 1, 2, 1, 1, 1, 1, 1, ...</td>\n",
       "      <td>[1, 2, 1, 2, 1, 1, 1, 3, 1, 2, 1, 1, 1, 1, 1, ...</td>\n",
       "      <td>[-0.17000507, -0.17000507, -0.17000507, -0.170...</td>\n",
       "      <td>[0, 1, 0, 1, 0, 0, 0, 1, 0, 1, 0, 0, 0, 0, 0, ...</td>\n",
       "      <td>[0, 3, 0, 3, 0, 0, 0, 3, 0, 3, 0, 0, 0, 0, 0, ...</td>\n",
       "      <td>[0, 5, 0, 6, 0, 0, 0, 6, 0, 6, 0, 0, 0, 0, 0, ...</td>\n",
       "      <td>[0.0483035, -0.6332114, 0.0483035, -0.6332114,...</td>\n",
       "      <td>[0.04515953, 2.1147482, 0.04515953, 2.1147482,...</td>\n",
       "      <td>1550230</td>\n",
       "      <td>1550231</td>\n",
       "      <td>[1550230, 1550230, 1550230, 1550230, 1550230, ...</td>\n",
       "      <td>[-0.96592593, -0.96592593, -0.96592593, -0.965...</td>\n",
       "      <td>[0.2588187, 0.2588187, 0.2588187, 0.2588187, 0...</td>\n",
       "      <td>[-0.9749281, -0.9749281, -0.9749281, -0.974928...</td>\n",
       "      <td>[-0.22252008, -0.22252008, -0.22252008, -0.222...</td>\n",
       "      <td>[29, 30, 31, 30, 9, 31, 31, 31, 31, 31, 31, 31...</td>\n",
       "      <td>[0.2745404, 0.30304796, 0.3306505, 0.30304796,...</td>\n",
       "      <td>73971f9c28a976320ba32f08cf4557b8b58e2b9fa1de6f...</td>\n",
       "      <td>[0.1476699411869049, -0.35439008474349976, 0.0...</td>\n",
       "      <td>[8650, 1342, 223, 3311, 654, 624, 9486, 6577, ...</td>\n",
       "      <td>[494, 494]</td>\n",
       "      <td>[25.0, 10.0]</td>\n",
       "      <td>[0.0, 2.0]</td>\n",
       "      <td>2.0</td>\n",
       "      <td>[0, 0, 0, 0, 0, 0, 0, 0, 0, 0, 0, 0, 0, 0, 0, ...</td>\n",
       "    </tr>\n",
       "    <tr>\n",
       "      <th>3</th>\n",
       "      <td>64563</td>\n",
       "      <td>56</td>\n",
       "      <td>28</td>\n",
       "      <td>[1, 1, 21286, 1, 1, 1, 1, 1, 1, 13378, 15451, ...</td>\n",
       "      <td>28</td>\n",
       "      <td>[2, 64, 52225, 312, 549, 77116, 1178, 1, 16939...</td>\n",
       "      <td>[0, 0, 0, 0, 0, 0, 0, 0, 0, 0, 0, 0, 0, 0, 0, ...</td>\n",
       "      <td>[0, 0, 0, 0, 0, 0, 0, 0, 0, 0, 0, 0, 0, 0, 0, ...</td>\n",
       "      <td>[0, 0, 0, 0, 0, 0, 0, 0, 0, 0, 0, 0, 0, 0, 0, ...</td>\n",
       "      <td>[0, 0, 1, 0, 0, 0, 0, 0, 0, 1, 1, 0, 1, 0, 1, ...</td>\n",
       "      <td>[0, 0, 0, 0, 0, 0, 0, 0, 0, 0, 0, 0, 0, 0, 0, ...</td>\n",
       "      <td>[1, 1, 2, 1, 1, 1, 1, 1, 1, 2, 2, 1, 2, 1, 2, ...</td>\n",
       "      <td>[1, 1, 2, 1, 1, 1, 1, 1, 1, 2, 2, 1, 2, 1, 2, ...</td>\n",
       "      <td>[-0.17000507, -0.17000507, -0.17000507, -0.170...</td>\n",
       "      <td>[0, 0, 6, 0, 0, 0, 0, 0, 0, 6, 6, 0, 6, 0, 6, ...</td>\n",
       "      <td>[0, 0, 2, 0, 0, 0, 0, 0, 0, 2, 2, 0, 2, 0, 2, ...</td>\n",
       "      <td>[0, 0, 5, 0, 0, 0, 0, 0, 0, 2, 6, 0, 4, 0, 6, ...</td>\n",
       "      <td>[0.0483035, 0.0483035, -2.1626775, 0.0483035, ...</td>\n",
       "      <td>[0.04515953, 0.04515953, -2.4533634, 0.0451595...</td>\n",
       "      <td>1550532</td>\n",
       "      <td>1550533</td>\n",
       "      <td>[1550532, 1550532, 1550532, 1550532, 1550532, ...</td>\n",
       "      <td>[0.965926, 0.965926, 0.965926, 0.965926, 0.965...</td>\n",
       "      <td>[-0.25881836, -0.25881836, -0.25881836, -0.258...</td>\n",
       "      <td>[0.7818321, 0.7818321, 0.7818321, 0.7818321, 0...</td>\n",
       "      <td>[0.6234891, 0.6234891, 0.6234891, 0.6234891, 0...</td>\n",
       "      <td>[34, 34, 34, 34, 34, 33, 34, 34, 34, 33, 32, 1...</td>\n",
       "      <td>[0.4085599, 0.4085599, 0.4085599, 0.4085599, 0...</td>\n",
       "      <td>73bb059b6e3048f9775cfd147bf49c1655f057e356d7be...</td>\n",
       "      <td>[0.08299337327480316, -0.2532674968242645, 0.0...</td>\n",
       "      <td>[33001, 50314, 34478, 50973, 40885, 36747, 384...</td>\n",
       "      <td>[488659]</td>\n",
       "      <td>[25.0, 5.0, 0.0, 0.0]</td>\n",
       "      <td>[0.0, 0.0, 0.0, 0.0]</td>\n",
       "      <td>4.0</td>\n",
       "      <td>[0, 0, 0, 0, 0, 0, 0, 0, 0, 0, 0, 0, 0, 0, 0, ...</td>\n",
       "    </tr>\n",
       "    <tr>\n",
       "      <th>4</th>\n",
       "      <td>64568</td>\n",
       "      <td>87</td>\n",
       "      <td>28</td>\n",
       "      <td>[1, 1, 1, 1, 1, 1, 1, 1, 1, 1, 1, 9138, 1933, ...</td>\n",
       "      <td>28</td>\n",
       "      <td>[2165, 2, 84, 14027, 5778, 8660, 26650, 137, 3...</td>\n",
       "      <td>[0, 0, 0, 0, 0, 0, 0, 0, 0, 0, 0, 0, 0, 0, 0, ...</td>\n",
       "      <td>[0, 0, 0, 0, 0, 0, 0, 0, 0, 0, 0, 0, 0, 0, 0, ...</td>\n",
       "      <td>[0, 0, 0, 0, 0, 0, 0, 0, 0, 0, 0, 0, 0, 0, 0, ...</td>\n",
       "      <td>[0, 0, 0, 0, 0, 0, 0, 0, 0, 0, 0, 1, 1, 0, 0, ...</td>\n",
       "      <td>[0, 0, 0, 0, 0, 0, 0, 0, 0, 0, 0, 0, 0, 0, 0, ...</td>\n",
       "      <td>[1, 1, 1, 1, 1, 1, 1, 1, 1, 1, 1, 2, 2, 1, 1, ...</td>\n",
       "      <td>[1, 1, 1, 1, 1, 1, 1, 1, 1, 1, 1, 2, 2, 1, 1, ...</td>\n",
       "      <td>[-0.17000507, -0.17000507, -0.17000507, -0.170...</td>\n",
       "      <td>[0, 0, 0, 0, 0, 0, 0, 0, 0, 0, 0, 42, 12, 0, 0...</td>\n",
       "      <td>[0, 0, 0, 0, 0, 0, 0, 0, 0, 0, 0, 1, 1, 0, 0, ...</td>\n",
       "      <td>[0, 0, 0, 0, 0, 0, 0, 0, 0, 0, 0, 2, 4, 0, 0, ...</td>\n",
       "      <td>[0.0483035, 0.0483035, 0.0483035, 0.0483035, 0...</td>\n",
       "      <td>[0.04515953, 0.04515953, 0.04515953, 0.0451595...</td>\n",
       "      <td>1547788</td>\n",
       "      <td>1547789</td>\n",
       "      <td>[1547788, 1547788, 1547789, 1547789, 1547789, ...</td>\n",
       "      <td>[0.25881875, 0.25881875, 0.25881875, 0.2588187...</td>\n",
       "      <td>[0.96592593, 0.96592593, 0.96592593, 0.9659259...</td>\n",
       "      <td>[-0.9749281, -0.9749281, -0.9749281, -0.974928...</td>\n",
       "      <td>[-0.22252008, -0.22252008, -0.22252008, -0.222...</td>\n",
       "      <td>[2, 3, 2, 2, 2, 2, 2, 3, 2, 3, 1, 2, 2, 2, 2, ...</td>\n",
       "      <td>[-1.7273399, -1.4772274, -1.7273399, -1.727339...</td>\n",
       "      <td>73eb8785b21d6395b74723845cbf6f5b31a5d3fce99bac...</td>\n",
       "      <td>[-0.04980561137199402, -0.1424727439880371, -0...</td>\n",
       "      <td>[6664, 2979, 1535, 200, 3167, 1985, 9076, 2895...</td>\n",
       "      <td>[488659]</td>\n",
       "      <td>[13.0]</td>\n",
       "      <td>[0.0]</td>\n",
       "      <td>1.0</td>\n",
       "      <td>[0, 0, 0, 0, 0, 0, 0, 0, 0, 0, 0, 0, 0]</td>\n",
       "    </tr>\n",
       "  </tbody>\n",
       "</table>\n",
       "</div>"
      ],
      "text/plain": [
       "   session_id_hash  day_index  product_sku_hash_count                          product_sku_hash_list_seq  product_url_hash_count                          product_url_hash_list_seq                has_been_removed_from_cart-list_seq                    has_been_added_to_cart-list_seq                        has_been_purchased-list_seq                         has_been_detailed-list_seq                          has_been_clicked-list_seq                                event_type-list_seq                     product_action_filled-list_seq                           nb_interactions-list_seq                             category_hash-list_seq                             main_category-list_seq                              price_bucket-list_seq                      mean_price_hierarchy-list_seq                           mean_price_main-list_seq  ts-first  ts-last                                        ts-list_seq                        timestamp_hour_cos-list_seq  \\\n",
       "0            64548         42                      28  [2278, 1, 1, 1, 352, 1, 1, 2911, 1, 3184, 1, 1...                      28  [4621, 2010, 10385, 68, 864, 1, 9252, 5913, 36...  [0, 0, 0, 0, 0, 0, 0, 0, 0, 0, 0, 0, 0, 0, 0, ...  [0, 0, 0, 0, 0, 0, 0, 0, 0, 0, 0, 0, 0, 0, 0, ...  [0, 0, 0, 0, 0, 0, 0, 0, 0, 0, 0, 0, 0, 0, 0, ...  [1, 0, 0, 0, 1, 0, 0, 1, 0, 1, 0, 0, 1, 0, 1, ...  [0, 0, 0, 0, 0, 0, 0, 0, 0, 0, 0, 0, 0, 0, 0, ...  [2, 1, 1, 1, 2, 1, 1, 2, 1, 2, 1, 1, 2, 1, 2, ...  [2, 1, 1, 1, 2, 1, 1, 2, 1, 2, 1, 1, 2, 1, 2, ...  [-0.17000507, -0.17000507, -0.17000507, -0.170...  [4, 0, 0, 0, 4, 0, 0, 4, 0, 4, 0, 0, 4, 0, 4, ...  [1, 0, 0, 0, 1, 0, 0, 1, 0, 1, 0, 0, 1, 0, 1, ...  [3, 0, 0, 0, 1, 0, 0, 3, 0, 3, 0, 0, 2, 0, 3, ...  [0.24512714, 0.0483035, 0.0483035, 0.0483035, ...  [0.04515953, 0.04515953, 0.04515953, 0.0451595...   1551674  1551675  [1551674, 1551674, 1551674, 1551674, 1551674, ...  [0.49999976, 0.49999976, 0.49999976, 0.4999997...   \n",
       "1            64552         32                      28  [2439, 1, 1, 144, 1, 1393, 1, 1, 1, 5544, 1, 1...                      28  [4982, 1, 12, 446, 1071, 2921, 14, 5386, 2, 11...  [0, 0, 0, 0, 0, 0, 0, 0, 0, 0, 0, 0, 0, 0, 0, ...  [0, 0, 0, 0, 0, 0, 0, 0, 0, 0, 0, 0, 0, 0, 0, ...  [0, 0, 0, 0, 0, 0, 0, 0, 0, 0, 0, 0, 0, 0, 0, ...  [1, 0, 0, 1, 0, 1, 0, 0, 0, 0, 0, 0, 0, 0, 1, ...  [0, 0, 0, 0, 0, 0, 0, 0, 0, 1, 0, 0, 0, 0, 1, ...  [2, 1, 1, 2, 1, 2, 1, 1, 1, 3, 1, 1, 1, 1, 2, ...  [2, 1, 1, 2, 1, 2, 1, 1, 1, 4, 1, 1, 1, 1, 2, ...  [-0.17000507, -0.17000507, -0.17000507, -0.170...  [51, 0, 0, 1, 0, 51, 0, 0, 0, 1, 0, 0, 0, 0, 1...  [3, 0, 0, 3, 0, 3, 0, 0, 0, 3, 0, 0, 0, 0, 3, ...  [3, 0, 0, 3, 0, 3, 0, 0, 0, 2, 0, 0, 0, 0, 4, ...  [1.6796839, 0.0483035, 0.0483035, -0.6332114, ...  [2.1147482, 0.04515953, 0.04515953, 2.1147482,...   1552565  1552569  [1552565, 1552565, 1552565, 1552565, 1552565, ...  [-1.0, -1.0, -1.0, -1.0, -1.0, -1.0, -1.0, -1....   \n",
       "2            64560         59                      28  [1, 1496, 1, 380, 1, 1, 1, 158, 1, 158, 1, 1, ...                      28  [11164, 3120, 5, 912, 13, 982, 357, 494, 1, 49...  [0, 0, 0, 0, 0, 0, 0, 0, 0, 0, 0, 0, 0, 0, 0, ...  [0, 0, 0, 0, 0, 0, 0, 1, 0, 1, 0, 0, 0, 0, 0, ...  [0, 0, 0, 0, 0, 0, 0, 1, 0, 1, 0, 0, 0, 0, 0, ...  [0, 1, 0, 1, 0, 0, 0, 1, 0, 1, 0, 0, 0, 0, 0, ...  [0, 0, 0, 0, 0, 0, 0, 1, 0, 1, 0, 0, 0, 0, 0, ...  [1, 2, 1, 2, 1, 1, 1, 2, 1, 2, 1, 1, 1, 1, 1, ...  [1, 2, 1, 2, 1, 1, 1, 3, 1, 2, 1, 1, 1, 1, 1, ...  [-0.17000507, -0.17000507, -0.17000507, -0.170...  [0, 1, 0, 1, 0, 0, 0, 1, 0, 1, 0, 0, 0, 0, 0, ...  [0, 3, 0, 3, 0, 0, 0, 3, 0, 3, 0, 0, 0, 0, 0, ...  [0, 5, 0, 6, 0, 0, 0, 6, 0, 6, 0, 0, 0, 0, 0, ...  [0.0483035, -0.6332114, 0.0483035, -0.6332114,...  [0.04515953, 2.1147482, 0.04515953, 2.1147482,...   1550230  1550231  [1550230, 1550230, 1550230, 1550230, 1550230, ...  [-0.96592593, -0.96592593, -0.96592593, -0.965...   \n",
       "3            64563         56                      28  [1, 1, 21286, 1, 1, 1, 1, 1, 1, 13378, 15451, ...                      28  [2, 64, 52225, 312, 549, 77116, 1178, 1, 16939...  [0, 0, 0, 0, 0, 0, 0, 0, 0, 0, 0, 0, 0, 0, 0, ...  [0, 0, 0, 0, 0, 0, 0, 0, 0, 0, 0, 0, 0, 0, 0, ...  [0, 0, 0, 0, 0, 0, 0, 0, 0, 0, 0, 0, 0, 0, 0, ...  [0, 0, 1, 0, 0, 0, 0, 0, 0, 1, 1, 0, 1, 0, 1, ...  [0, 0, 0, 0, 0, 0, 0, 0, 0, 0, 0, 0, 0, 0, 0, ...  [1, 1, 2, 1, 1, 1, 1, 1, 1, 2, 2, 1, 2, 1, 2, ...  [1, 1, 2, 1, 1, 1, 1, 1, 1, 2, 2, 1, 2, 1, 2, ...  [-0.17000507, -0.17000507, -0.17000507, -0.170...  [0, 0, 6, 0, 0, 0, 0, 0, 0, 6, 6, 0, 6, 0, 6, ...  [0, 0, 2, 0, 0, 0, 0, 0, 0, 2, 2, 0, 2, 0, 2, ...  [0, 0, 5, 0, 0, 0, 0, 0, 0, 2, 6, 0, 4, 0, 6, ...  [0.0483035, 0.0483035, -2.1626775, 0.0483035, ...  [0.04515953, 0.04515953, -2.4533634, 0.0451595...   1550532  1550533  [1550532, 1550532, 1550532, 1550532, 1550532, ...  [0.965926, 0.965926, 0.965926, 0.965926, 0.965...   \n",
       "4            64568         87                      28  [1, 1, 1, 1, 1, 1, 1, 1, 1, 1, 1, 9138, 1933, ...                      28  [2165, 2, 84, 14027, 5778, 8660, 26650, 137, 3...  [0, 0, 0, 0, 0, 0, 0, 0, 0, 0, 0, 0, 0, 0, 0, ...  [0, 0, 0, 0, 0, 0, 0, 0, 0, 0, 0, 0, 0, 0, 0, ...  [0, 0, 0, 0, 0, 0, 0, 0, 0, 0, 0, 0, 0, 0, 0, ...  [0, 0, 0, 0, 0, 0, 0, 0, 0, 0, 0, 1, 1, 0, 0, ...  [0, 0, 0, 0, 0, 0, 0, 0, 0, 0, 0, 0, 0, 0, 0, ...  [1, 1, 1, 1, 1, 1, 1, 1, 1, 1, 1, 2, 2, 1, 1, ...  [1, 1, 1, 1, 1, 1, 1, 1, 1, 1, 1, 2, 2, 1, 1, ...  [-0.17000507, -0.17000507, -0.17000507, -0.170...  [0, 0, 0, 0, 0, 0, 0, 0, 0, 0, 0, 42, 12, 0, 0...  [0, 0, 0, 0, 0, 0, 0, 0, 0, 0, 0, 1, 1, 0, 0, ...  [0, 0, 0, 0, 0, 0, 0, 0, 0, 0, 0, 2, 4, 0, 0, ...  [0.0483035, 0.0483035, 0.0483035, 0.0483035, 0...  [0.04515953, 0.04515953, 0.04515953, 0.0451595...   1547788  1547789  [1547788, 1547788, 1547789, 1547789, 1547789, ...  [0.25881875, 0.25881875, 0.25881875, 0.2588187...   \n",
       "\n",
       "                         timestamp_hour_sin-list_seq                          timestamp_wd_sin-list_seq                          timestamp_wd_cos-list_seq                        timestamp_age_days-list_seq                   timestamp_age_days_norm-list_seq                           original_session_id_hash                                  flat_query_vector                             flat_product_skus_hash flat_clicked_skus_hash       impressions_size           clicks_size  nb_queries                                       clicked-flag  \n",
       "0  [0.86602557, 0.86602557, 0.86602557, 0.8660255...  [0.7818321, 0.7818321, 0.7818321, 0.7818321, 0...  [0.6234891, 0.6234891, 0.6234891, 0.6234891, 0...  [40, 40, 46, 47, 47, 47, 47, 47, 47, 47, 40, 4...  [0.5461206, 0.5461206, 0.66486025, 0.6831641, ...  7322346ca76333a3f57beb488486e3a7103b9b8ae5b81f...  [0.00867827795445919, -0.3432416021823883, 0.1...  [6056, 3598, 10943, 7062, 7926, 9107, 4452, 12...                 [6983]      [0.0, 25.0, 12.0]       [0.0, 0.0, 1.0]         3.0  [0, 0, 0, 0, 0, 0, 0, 0, 0, 0, 0, 0, 0, 0, 0, ...  \n",
       "1  [-5.6425995e-07, -5.6425995e-07, -5.6425995e-0...  [-0.43388462, -0.43388462, -0.43388462, -0.433...  [-0.90096843, -0.90096843, -0.90096843, -0.900...  [31, 58, 58, 33, 12, 33, 58, 8, 58, 37, 24, 57...  [0.3306505, 0.86255425, 0.86255425, 0.38335788...  7350b2ee3456c1ce3b438fa1c0a14f79d229a3644988ec...  [-0.002791411941871047, 0.05408860743045807, -...  [126942, 37103, 43807, 64264, 53843, 61638, 77...         [11340, 15677]       [25.0, 2.0, 5.0]       [0.0, 1.0, 1.0]         3.0  [0, 0, 0, 0, 0, 0, 0, 0, 0, 0, 0, 0, 0, 0, 0, ...  \n",
       "2  [0.2588187, 0.2588187, 0.2588187, 0.2588187, 0...  [-0.9749281, -0.9749281, -0.9749281, -0.974928...  [-0.22252008, -0.22252008, -0.22252008, -0.222...  [29, 30, 31, 30, 9, 31, 31, 31, 31, 31, 31, 31...  [0.2745404, 0.30304796, 0.3306505, 0.30304796,...  73971f9c28a976320ba32f08cf4557b8b58e2b9fa1de6f...  [0.1476699411869049, -0.35439008474349976, 0.0...  [8650, 1342, 223, 3311, 654, 624, 9486, 6577, ...             [494, 494]           [25.0, 10.0]            [0.0, 2.0]         2.0  [0, 0, 0, 0, 0, 0, 0, 0, 0, 0, 0, 0, 0, 0, 0, ...  \n",
       "3  [-0.25881836, -0.25881836, -0.25881836, -0.258...  [0.7818321, 0.7818321, 0.7818321, 0.7818321, 0...  [0.6234891, 0.6234891, 0.6234891, 0.6234891, 0...  [34, 34, 34, 34, 34, 33, 34, 34, 34, 33, 32, 1...  [0.4085599, 0.4085599, 0.4085599, 0.4085599, 0...  73bb059b6e3048f9775cfd147bf49c1655f057e356d7be...  [0.08299337327480316, -0.2532674968242645, 0.0...  [33001, 50314, 34478, 50973, 40885, 36747, 384...               [488659]  [25.0, 5.0, 0.0, 0.0]  [0.0, 0.0, 0.0, 0.0]         4.0  [0, 0, 0, 0, 0, 0, 0, 0, 0, 0, 0, 0, 0, 0, 0, ...  \n",
       "4  [0.96592593, 0.96592593, 0.96592593, 0.9659259...  [-0.9749281, -0.9749281, -0.9749281, -0.974928...  [-0.22252008, -0.22252008, -0.22252008, -0.222...  [2, 3, 2, 2, 2, 2, 2, 3, 2, 3, 1, 2, 2, 2, 2, ...  [-1.7273399, -1.4772274, -1.7273399, -1.727339...  73eb8785b21d6395b74723845cbf6f5b31a5d3fce99bac...  [-0.04980561137199402, -0.1424727439880371, -0...  [6664, 2979, 1535, 200, 3167, 1985, 9076, 2895...               [488659]                 [13.0]                 [0.0]         1.0            [0, 0, 0, 0, 0, 0, 0, 0, 0, 0, 0, 0, 0]  "
      ]
     },
     "execution_count": 6,
     "metadata": {},
     "output_type": "execute_result"
    }
   ],
   "source": [
    "data1.head()"
   ]
  },
  {
   "cell_type": "code",
   "execution_count": 7,
   "id": "0a13d803",
   "metadata": {},
   "outputs": [
    {
     "data": {
      "text/plain": [
       "session_id_hash                          int64\n",
       "day_index                                int64\n",
       "product_sku_hash_count                   int32\n",
       "product_sku_hash_list_seq               object\n",
       "product_url_hash_count                   int32\n",
       "product_url_hash_list_seq               object\n",
       "has_been_removed_from_cart-list_seq     object\n",
       "has_been_added_to_cart-list_seq         object\n",
       "has_been_purchased-list_seq             object\n",
       "has_been_detailed-list_seq              object\n",
       "has_been_clicked-list_seq               object\n",
       "event_type-list_seq                     object\n",
       "product_action_filled-list_seq          object\n",
       "nb_interactions-list_seq                object\n",
       "category_hash-list_seq                  object\n",
       "main_category-list_seq                  object\n",
       "price_bucket-list_seq                   object\n",
       "mean_price_hierarchy-list_seq           object\n",
       "mean_price_main-list_seq                object\n",
       "ts-first                                 int64\n",
       "ts-last                                  int64\n",
       "ts-list_seq                             object\n",
       "timestamp_hour_cos-list_seq             object\n",
       "timestamp_hour_sin-list_seq             object\n",
       "timestamp_wd_sin-list_seq               object\n",
       "timestamp_wd_cos-list_seq               object\n",
       "timestamp_age_days-list_seq             object\n",
       "timestamp_age_days_norm-list_seq        object\n",
       "original_session_id_hash                object\n",
       "flat_query_vector                       object\n",
       "flat_product_skus_hash                  object\n",
       "flat_clicked_skus_hash                  object\n",
       "impressions_size                        object\n",
       "clicks_size                             object\n",
       "nb_queries                             float64\n",
       "clicked-flag                            object\n",
       "dtype: object"
      ]
     },
     "execution_count": 7,
     "metadata": {},
     "output_type": "execute_result"
    }
   ],
   "source": [
    "data1.dtypes"
   ]
  },
  {
   "cell_type": "code",
   "execution_count": 8,
   "id": "f207e690",
   "metadata": {},
   "outputs": [
    {
     "data": {
      "text/plain": [
       "(1, 57584)"
      ]
     },
     "execution_count": 8,
     "metadata": {},
     "output_type": "execute_result"
    }
   ],
   "source": [
    "data1['product_min'] = data1.product_sku_hash_list_seq.apply(min)\n",
    "data1['product_max'] = data1.product_sku_hash_list_seq.apply(max)\n",
    "data1['product_min'].min(), data1['product_max'].max()"
   ]
  },
  {
   "cell_type": "code",
   "execution_count": 9,
   "id": "a6081cad",
   "metadata": {},
   "outputs": [],
   "source": [
    "#data1['product_max'] = data1.product_sku_hash_list_seq.apply(max)"
   ]
  },
  {
   "cell_type": "code",
   "execution_count": 10,
   "id": "67d43f79",
   "metadata": {},
   "outputs": [],
   "source": [
    "#data1['product_min'].min(), data1['product_max'].max()"
   ]
  },
  {
   "cell_type": "code",
   "execution_count": 11,
   "id": "ff49a285",
   "metadata": {},
   "outputs": [
    {
     "name": "stdout",
     "output_type": "stream",
     "text": [
      "2278          658\n",
      "1        12020700\n",
      "352          2499\n",
      "2911          491\n",
      "3184          472\n",
      "           ...   \n",
      "47269           1\n",
      "44550           1\n",
      "39344           2\n",
      "47690           1\n",
      "43823           1\n",
      "Length: 49754, dtype: int64\n"
     ]
    }
   ],
   "source": [
    "from  itertools import chain\n",
    "from collections import Counter\n",
    "\n",
    "#print (Counter(chain.from_iterable(df_list['listcol'])))\n",
    "#Counter({'b': 2, 'a': 2, 'c': 2}\n",
    "\n",
    "s = pd.Series(Counter(chain.from_iterable(data1['product_sku_hash_list_seq'])))\n",
    "print (s)\n"
   ]
  },
  {
   "cell_type": "code",
   "execution_count": null,
   "id": "74251fec",
   "metadata": {},
   "outputs": [],
   "source": [
    "print(s.sort_values(ascending=True))"
   ]
  },
  {
   "cell_type": "code",
   "execution_count": null,
   "id": "105501da",
   "metadata": {},
   "outputs": [],
   "source": [
    "data1['producturl_min'] = data1.product_url_hash_list_seq.apply(min)\n",
    "data1['producturl_max'] = data1.product_url_hash_list_seq.apply(max)\n",
    "data1['producturl_min'].min(), data1['producturl_max'].max()"
   ]
  },
  {
   "cell_type": "code",
   "execution_count": null,
   "id": "bac0660d",
   "metadata": {},
   "outputs": [],
   "source": [
    "from  itertools import chain\n",
    "from collections import Counter\n",
    "\n",
    "#print (Counter(chain.from_iterable(df_list['listcol'])))\n",
    "#Counter({'b': 2, 'a': 2, 'c': 2}\n",
    "\n",
    "s = pd.Series(Counter(chain.from_iterable(data1['product_url_hash_list_seq'])))\n",
    "print (s.sort_values(ascending=True))"
   ]
  },
  {
   "cell_type": "code",
   "execution_count": null,
   "id": "9390c34c",
   "metadata": {},
   "outputs": [],
   "source": [
    "data1.rename(columns={'event_type-list_seq': 'event_type_list_seq'}, inplace=True)\n",
    "data1['eventtype_min'] = data1.event_type_list_seq.apply(min)\n",
    "data1['eventtype_max'] = data1.event_type_list_seq.apply(max)\n",
    "data1['eventtype_min'].min(), data1['eventtype_max'].max()"
   ]
  },
  {
   "cell_type": "code",
   "execution_count": null,
   "id": "3a3be01a",
   "metadata": {},
   "outputs": [],
   "source": [
    "from  itertools import chain\n",
    "from collections import Counter\n",
    "\n",
    "#print (Counter(chain.from_iterable(df_list['listcol'])))\n",
    "#Counter({'b': 2, 'a': 2, 'c': 2}\n",
    "\n",
    "s = pd.Series(Counter(chain.from_iterable(data1['event_type_list_seq'])))\n",
    "print (s.sort_values(ascending=True))"
   ]
  },
  {
   "cell_type": "code",
   "execution_count": null,
   "id": "89c696b9",
   "metadata": {},
   "outputs": [],
   "source": [
    "data1.rename(columns={'category_hash-list_seq': 'category_hash_list_seq'}, inplace=True)\n",
    "data1['categoryhash_min'] = data1.category_hash_list_seq.apply(min)\n",
    "data1['categoryhash_max'] = data1.category_hash_list_seq.apply(max)\n",
    "data1['categoryhash_min'].min(), data1['categoryhash_max'].max()"
   ]
  },
  {
   "cell_type": "code",
   "execution_count": null,
   "id": "00bb39bb",
   "metadata": {},
   "outputs": [],
   "source": [
    "from  itertools import chain\n",
    "from collections import Counter\n",
    "\n",
    "#print (Counter(chain.from_iterable(df_list['listcol'])))\n",
    "#Counter({'b': 2, 'a': 2, 'c': 2}\n",
    "\n",
    "s = pd.Series(Counter(chain.from_iterable(data1['category_hash_list_seq'])))\n",
    "print (s.sort_values(ascending=True))"
   ]
  },
  {
   "cell_type": "code",
   "execution_count": null,
   "id": "c1d9c8c9",
   "metadata": {},
   "outputs": [],
   "source": [
    "data1.rename(columns={'main_category-list_seq': 'main_category_list_seq'}, inplace=True)\n",
    "data1['maincategory_min'] = data1.main_category_list_seq.apply(min)\n",
    "data1['maincategory_max'] = data1.main_category_list_seq.apply(max)\n",
    "data1['maincategory_min'].min(), data1['maincategory_max'].max()"
   ]
  },
  {
   "cell_type": "code",
   "execution_count": null,
   "id": "5bcbc994",
   "metadata": {},
   "outputs": [],
   "source": [
    "from  itertools import chain\n",
    "from collections import Counter\n",
    "\n",
    "#print (Counter(chain.from_iterable(df_list['listcol'])))\n",
    "#Counter({'b': 2, 'a': 2, 'c': 2}\n",
    "\n",
    "s = pd.Series(Counter(chain.from_iterable(data1['main_category_list_seq'])))\n",
    "print (s.sort_values(ascending=True))"
   ]
  },
  {
   "cell_type": "code",
   "execution_count": null,
   "id": "8eaf2bcc",
   "metadata": {},
   "outputs": [],
   "source": [
    "data1.rename(columns={'price_bucket-list_seq': 'price_bucket_list_seq'}, inplace=True)\n",
    "data1['pricebucket_min'] = data1.price_bucket_list_seq.apply(min)\n",
    "data1['pricebucket_max'] = data1.price_bucket_list_seq.apply(max)\n",
    "data1['pricebucket_min'].min(), data1['pricebucket_max'].max()"
   ]
  },
  {
   "cell_type": "code",
   "execution_count": null,
   "id": "58e7f3c1",
   "metadata": {},
   "outputs": [],
   "source": [
    "from  itertools import chain\n",
    "from collections import Counter\n",
    "\n",
    "#print (Counter(chain.from_iterable(df_list['listcol'])))\n",
    "#Counter({'b': 2, 'a': 2, 'c': 2}\n",
    "\n",
    "s = pd.Series(Counter(chain.from_iterable(data1['price_bucket_list_seq'])))\n",
    "print (s.sort_values(ascending=True))"
   ]
  },
  {
   "cell_type": "code",
   "execution_count": null,
   "id": "65a8e99b",
   "metadata": {},
   "outputs": [],
   "source": [
    "data1.rename(columns={'mean_price_hierarchy-list_seq': 'mean_price_hierarchy_list_seq'}, inplace=True)\n",
    "data1['meanpricehierarchy_min'] = data1.mean_price_hierarchy_list_seq.apply(min)\n",
    "data1['meanpricehierarchy_max'] = data1.mean_price_hierarchy_list_seq.apply(max)\n",
    "data1['meanpricehierarchy_min'].min(), data1['meanpricehierarchy_max'].max()"
   ]
  },
  {
   "cell_type": "code",
   "execution_count": null,
   "id": "2c1887e9",
   "metadata": {},
   "outputs": [],
   "source": [
    "from  itertools import chain\n",
    "from collections import Counter\n",
    "\n",
    "#print (Counter(chain.from_iterable(df_list['listcol'])))\n",
    "#Counter({'b': 2, 'a': 2, 'c': 2}\n",
    "\n",
    "s = pd.Series(Counter(chain.from_iterable(data1['mean_price_hierarchy_list_seq'])))\n",
    "print (s.sort_values(ascending=True))"
   ]
  },
  {
   "cell_type": "code",
   "execution_count": null,
   "id": "363da7eb",
   "metadata": {},
   "outputs": [],
   "source": [
    "data1.rename(columns={'mean_price_main-list_seq': 'mean_price_main_list_seq'}, inplace=True)\n",
    "data1['meanpricemain_min'] = data1.mean_price_main_list_seq.apply(min)\n",
    "data1['meanpricemain_max'] = data1.mean_price_main_list_seq.apply(max)\n",
    "data1['meanpricemain_min'].min(), data1['meanpricemain_max'].max()"
   ]
  },
  {
   "cell_type": "code",
   "execution_count": null,
   "id": "e83b8d1e",
   "metadata": {},
   "outputs": [],
   "source": [
    "from  itertools import chain\n",
    "from collections import Counter\n",
    "\n",
    "#print (Counter(chain.from_iterable(df_list['listcol'])))\n",
    "#Counter({'b': 2, 'a': 2, 'c': 2}\n",
    "\n",
    "s = pd.Series(Counter(chain.from_iterable(data1['mean_price_main_list_seq'])))\n",
    "print (s.sort_values(ascending=True))"
   ]
  },
  {
   "cell_type": "code",
   "execution_count": null,
   "id": "3b837c86",
   "metadata": {},
   "outputs": [],
   "source": [
    "data1.rename(columns={'timestamp_hour_cos-list_seq': 'timestamp_hour_cos_list_seq'}, inplace=True)\n",
    "data1['hourcos_min'] = data1.timestamp_hour_cos_list_seq.apply(min)\n",
    "data1['hourcos_max'] = data1.timestamp_hour_cos_list_seq.apply(max)\n",
    "data1['hourcos_min'].min(), data1['hourcos_max'].max()"
   ]
  },
  {
   "cell_type": "code",
   "execution_count": null,
   "id": "75964371",
   "metadata": {},
   "outputs": [],
   "source": [
    "from  itertools import chain\n",
    "from collections import Counter\n",
    "\n",
    "#print (Counter(chain.from_iterable(df_list['listcol'])))\n",
    "#Counter({'b': 2, 'a': 2, 'c': 2}\n",
    "\n",
    "s = pd.Series(Counter(chain.from_iterable(data1['timestamp_hour_cos_list_seq'])))\n",
    "print (s.sort_values(ascending=True))"
   ]
  },
  {
   "cell_type": "code",
   "execution_count": null,
   "id": "c56310c1",
   "metadata": {},
   "outputs": [],
   "source": [
    "data1.rename(columns={'timestamp_hour_sin-list_seq': 'timestamp_hour_sin_list_seq'}, inplace=True)\n",
    "data1['hoursin_min'] = data1.timestamp_hour_sin_list_seq.apply(min)\n",
    "data1['hoursin_max'] = data1.timestamp_hour_sin_list_seq.apply(max)\n",
    "data1['hoursin_min'].min(), data1['hoursin_max'].max()"
   ]
  },
  {
   "cell_type": "code",
   "execution_count": null,
   "id": "7e0f8197",
   "metadata": {},
   "outputs": [],
   "source": [
    "from  itertools import chain\n",
    "from collections import Counter\n",
    "\n",
    "#print (Counter(chain.from_iterable(df_list['listcol'])))\n",
    "#Counter({'b': 2, 'a': 2, 'c': 2}\n",
    "\n",
    "s = pd.Series(Counter(chain.from_iterable(data1['timestamp_hour_sin_list_seq'])))\n",
    "print (s.sort_values(ascending=True))"
   ]
  },
  {
   "cell_type": "code",
   "execution_count": null,
   "id": "f19a73c5",
   "metadata": {},
   "outputs": [],
   "source": [
    "data1.rename(columns={'timestamp_wd_sin-list_seq': 'timestamp_wd_sin_list_seq'}, inplace=True)\n",
    "data1['wdsin_min'] = data1.timestamp_wd_sin_list_seq.apply(min)\n",
    "data1['wdsin_max'] = data1.timestamp_wd_sin_list_seq.apply(max)\n",
    "data1['wdsin_min'].min(), data1['wdsin_max'].max()"
   ]
  },
  {
   "cell_type": "code",
   "execution_count": null,
   "id": "e205e037",
   "metadata": {},
   "outputs": [],
   "source": [
    "from  itertools import chain\n",
    "from collections import Counter\n",
    "\n",
    "#print (Counter(chain.from_iterable(df_list['listcol'])))\n",
    "#Counter({'b': 2, 'a': 2, 'c': 2}\n",
    "\n",
    "s = pd.Series(Counter(chain.from_iterable(data1['timestamp_wd_sin_list_seq'])))\n",
    "print (s.sort_values(ascending=True))"
   ]
  },
  {
   "cell_type": "code",
   "execution_count": null,
   "id": "d2d8fa79",
   "metadata": {},
   "outputs": [],
   "source": [
    "data1.rename(columns={'timestamp_wd_cos-list_seq': 'timestamp_wd_cos_list_seq'}, inplace=True)\n",
    "data1['wdcos_min'] = data1.timestamp_wd_cos_list_seq.apply(min)\n",
    "data1['wdcos_max'] = data1.timestamp_wd_cos_list_seq.apply(max)\n",
    "data1['wdcos_min'].min(), data1['wdcos_max'].max()"
   ]
  },
  {
   "cell_type": "code",
   "execution_count": null,
   "id": "89333a7c",
   "metadata": {},
   "outputs": [],
   "source": [
    "from  itertools import chain\n",
    "from collections import Counter\n",
    "\n",
    "#print (Counter(chain.from_iterable(df_list['listcol'])))\n",
    "#Counter({'b': 2, 'a': 2, 'c': 2}\n",
    "\n",
    "s = pd.Series(Counter(chain.from_iterable(data1['timestamp_wd_cos_list_seq'])))\n",
    "print (s.sort_values(ascending=True))"
   ]
  },
  {
   "cell_type": "code",
   "execution_count": null,
   "id": "44dd511d",
   "metadata": {},
   "outputs": [],
   "source": [
    "data1.rename(columns={'timestamp_age_days_norm-list_seq': 'timestamp_age_days_norm_list_seq'}, inplace=True)\n",
    "data1['agedays_min'] = data1.timestamp_age_days_norm_list_seq.apply(min)\n",
    "data1['agedays_max'] = data1.timestamp_age_days_norm_list_seq.apply(max)\n",
    "data1['agedays_min'].min(), data1['agedays_max'].max()"
   ]
  },
  {
   "cell_type": "code",
   "execution_count": null,
   "id": "4bc168c3",
   "metadata": {},
   "outputs": [],
   "source": [
    "from  itertools import chain\n",
    "from collections import Counter\n",
    "\n",
    "#print (Counter(chain.from_iterable(df_list['listcol'])))\n",
    "#Counter({'b': 2, 'a': 2, 'c': 2}\n",
    "\n",
    "s = pd.Series(Counter(chain.from_iterable(data1['timestamp_age_days_norm_list_seq'])))\n",
    "print (s.sort_values(ascending=True))"
   ]
  },
  {
   "cell_type": "code",
   "execution_count": null,
   "id": "4c53da32",
   "metadata": {},
   "outputs": [],
   "source": [
    "data1.rename(columns={'nb_interactions-list_seq': 'nb_interactions_list_seq'}, inplace=True)\n",
    "data1['nbinteractions_min'] = data1.nb_interactions_list_seq.apply(min)\n",
    "data1['nbinteractions_max'] = data1.nb_interactions_list_seq.apply(max)\n",
    "data1['nbinteractions_min'].min(), data1['nbinteractions_max'].max()"
   ]
  },
  {
   "cell_type": "code",
   "execution_count": null,
   "id": "ec530850",
   "metadata": {},
   "outputs": [],
   "source": [
    "from  itertools import chain\n",
    "from collections import Counter\n",
    "\n",
    "#print (Counter(chain.from_iterable(df_list['listcol'])))\n",
    "#Counter({'b': 2, 'a': 2, 'c': 2}\n",
    "\n",
    "s = pd.Series(Counter(chain.from_iterable(data1['nb_interactions_list_seq'])))\n",
    "print (s.sort_values(ascending=True))"
   ]
  },
  {
   "cell_type": "code",
   "execution_count": null,
   "id": "3bbab1bb",
   "metadata": {},
   "outputs": [],
   "source": [
    "data1.rename(columns={'has_been_added_to_cart-list_seq': 'has_been_added_to_cart_list_seq'}, inplace=True)\n",
    "data1['addedcart_min'] = data1.has_been_added_to_cart_list_seq.apply(min)\n",
    "data1['addedcart_max'] = data1.has_been_added_to_cart_list_seq.apply(max)\n",
    "data1['addedcart_min'].min(), data1['addedcart_max'].max()"
   ]
  },
  {
   "cell_type": "code",
   "execution_count": null,
   "id": "20e72410",
   "metadata": {},
   "outputs": [],
   "source": [
    "from  itertools import chain\n",
    "from collections import Counter\n",
    "\n",
    "#print (Counter(chain.from_iterable(df_list['listcol'])))\n",
    "#Counter({'b': 2, 'a': 2, 'c': 2}\n",
    "\n",
    "s = pd.Series(Counter(chain.from_iterable(data1['has_been_added_to_cart_list_seq'])))\n",
    "print (s.sort_values(ascending=True))"
   ]
  },
  {
   "cell_type": "code",
   "execution_count": null,
   "id": "146ecde8",
   "metadata": {},
   "outputs": [],
   "source": [
    "data1.rename(columns={'has_been_detailed-list_seq': 'has_been_detailed_list_seq'}, inplace=True)\n",
    "data1['detailedcart_min'] = data1.has_been_detailed_list_seq.apply(min)\n",
    "data1['detailedcart_max'] = data1.has_been_detailed_list_seq.apply(max)\n",
    "data1['detailedcart_min'].min(), data1['detailedcart_max'].max()"
   ]
  },
  {
   "cell_type": "code",
   "execution_count": null,
   "id": "d686406f",
   "metadata": {},
   "outputs": [],
   "source": [
    "from  itertools import chain\n",
    "from collections import Counter\n",
    "\n",
    "#print (Counter(chain.from_iterable(df_list['listcol'])))\n",
    "#Counter({'b': 2, 'a': 2, 'c': 2}\n",
    "\n",
    "s = pd.Series(Counter(chain.from_iterable(data1['has_been_detailed_list_seq'])))\n",
    "print (s.sort_values(ascending=True))"
   ]
  },
  {
   "cell_type": "markdown",
   "id": "f3c53b12",
   "metadata": {},
   "source": [
    "Split for train/valid/test\n",
    "make directory \"sessions_by_day\""
   ]
  },
  {
   "cell_type": "code",
   "execution_count": null,
   "id": "7dd9c0a8",
   "metadata": {},
   "outputs": [],
   "source": [
    "from transformers4rec.data.preprocessing import save_time_based_splits\n",
    "save_time_based_splits(data=nvt.Dataset(data),\n",
    "                       output_dir= \"/recsys/sessions_by_day\",\n",
    "                       partition_col='day_index',\n",
    "                       timestamp_col='session_id_hash',\n",
    "                       )"
   ]
  },
  {
   "cell_type": "code",
   "execution_count": null,
   "id": "ff1bc58c",
   "metadata": {},
   "outputs": [],
   "source": [
    "#from transformers4rec.torch.utils.examples_utils import list_files\n",
    "#list_files('/recsys/sessions_by_day')"
   ]
  },
  {
   "cell_type": "code",
   "execution_count": null,
   "id": "27726cc2",
   "metadata": {},
   "outputs": [],
   "source": [
    "#INPUT_DIR1 = \"/recsys/sessions_by_day/1\"\n",
    "#data1 = cudf.read_parquet(os.path.join(INPUT_DIR1, 'train.parquet'))\n",
    "#data1.head()"
   ]
  },
  {
   "cell_type": "markdown",
   "id": "e0381a0c",
   "metadata": {},
   "source": [
    "GRU"
   ]
  },
  {
   "cell_type": "code",
   "execution_count": 12,
   "id": "3b6d4792",
   "metadata": {},
   "outputs": [],
   "source": [
    "CUDA_LAUNCH_BLOCKING=\"1\""
   ]
  },
  {
   "cell_type": "code",
   "execution_count": 13,
   "id": "12fd066e",
   "metadata": {},
   "outputs": [],
   "source": [
    "import os\n",
    "import glob\n",
    "\n",
    "import torch\n",
    "import transformers4rec.torch as tr\n",
    "\n",
    "from transformers4rec.torch.ranking_metric import NDCGAt, RecallAt\n",
    "from transformers4rec.torch.utils.examples_utils import wipe_memory"
   ]
  },
  {
   "cell_type": "code",
   "execution_count": 14,
   "id": "89b125eb",
   "metadata": {},
   "outputs": [],
   "source": [
    "from merlin_standard_lib import Schema\n",
    "SCHEMA_PATH = \"schema_features.pb\"\n",
    "schema = Schema().from_proto_text(SCHEMA_PATH)\n",
    "#schema = schema.select_by_name(['product_sku_hash_list_seq'])\n",
    "#!cat $SCHEMA_PATH"
   ]
  },
  {
   "cell_type": "code",
   "execution_count": 15,
   "id": "31d48aab",
   "metadata": {},
   "outputs": [],
   "source": [
    "sequence_length = 20\n",
    "inputs = tr.TabularSequenceFeatures.from_schema(\n",
    "        schema,\n",
    "        max_sequence_length= sequence_length,\n",
    "        masking = 'causal',\n",
    "    )"
   ]
  },
  {
   "cell_type": "code",
   "execution_count": 16,
   "id": "85598f5c",
   "metadata": {},
   "outputs": [],
   "source": [
    "d_model = 128\n",
    "body = tr.SequentialBlock(\n",
    "        inputs,\n",
    "        tr.MLPBlock([d_model]),\n",
    "        tr.Block(torch.nn.GRU(input_size=d_model, hidden_size=d_model, num_layers=1), [None, 20, d_model])\n",
    ")"
   ]
  },
  {
   "cell_type": "code",
   "execution_count": 17,
   "id": "56728e26",
   "metadata": {},
   "outputs": [
    {
     "name": "stderr",
     "output_type": "stream",
     "text": [
      "Projecting inputs of NextItemPredictionTask to'64' As weight tying requires the input dimension '128' to be equal to the item-id embedding dimension '64'\n"
     ]
    }
   ],
   "source": [
    "head = tr.Head(\n",
    "    body,\n",
    "    tr.NextItemPredictionTask(weight_tying=True, hf_format=True,\n",
    "                              metrics=[NDCGAt(top_ks=[10, 20], labels_onehot=True),\n",
    "                                       RecallAt(top_ks=[10, 20], labels_onehot=True)]),\n",
    ")\n",
    "model = tr.Model(head)"
   ]
  },
  {
   "cell_type": "code",
   "execution_count": 18,
   "id": "0e14b11b",
   "metadata": {},
   "outputs": [],
   "source": [
    "# import NVTabular dependencies\n",
    "from transformers4rec.torch.utils.data_utils import NVTabularDataLoader\n",
    "\n",
    "x_cat_names = ['product_sku_hash_list_seq', 'product_url_hash_list_seq','event_type-list_seq', 'category_hash-list_seq', 'main_category-list_seq', 'price_bucket-list_seq']\n",
    "x_cont_names = ['mean_price_main-list_seq', 'mean_price_hierarchy-list_seq', 'timestamp_wd_sin-list_seq', 'timestamp_hour_cos-list_seq']\n",
    "\n",
    "#x_cat_names, x_cont_names = ['product_sku_hash_list_seq'], []\n",
    "               \n",
    "# dictionary representing max sequence length for column\n",
    "sparse_features_max = {\n",
    "    fname: sequence_length\n",
    "    for fname in x_cat_names + x_cont_names\n",
    "}\n",
    "\n",
    "schema = schema.select_by_name(x_cat_names + x_cont_names)\n",
    "\n",
    "# Define a `get_dataloader` function to call in the training loop\n",
    "def get_dataloader(path, batch_size=32):\n",
    "\n",
    "    return NVTabularDataLoader.from_schema(\n",
    "        schema,\n",
    "        path,\n",
    "        batch_size,\n",
    "        max_sequence_length=sequence_length,\n",
    "        sparse_names=x_cat_names + x_cont_names,\n",
    "        sparse_max=sparse_features_max,\n",
    ")"
   ]
  },
  {
   "cell_type": "code",
   "execution_count": 19,
   "id": "ef3cdfd3",
   "metadata": {},
   "outputs": [
    {
     "data": {
      "text/plain": [
       "{'product_sku_hash_list_seq': 20,\n",
       " 'product_url_hash_list_seq': 20,\n",
       " 'event_type-list_seq': 20,\n",
       " 'category_hash-list_seq': 20,\n",
       " 'main_category-list_seq': 20,\n",
       " 'price_bucket-list_seq': 20,\n",
       " 'mean_price_main-list_seq': 20,\n",
       " 'mean_price_hierarchy-list_seq': 20,\n",
       " 'timestamp_wd_sin-list_seq': 20,\n",
       " 'timestamp_hour_cos-list_seq': 20}"
      ]
     },
     "execution_count": 19,
     "metadata": {},
     "output_type": "execute_result"
    }
   ],
   "source": [
    "sparse_features_max"
   ]
  },
  {
   "cell_type": "code",
   "execution_count": 20,
   "id": "1e30427c",
   "metadata": {},
   "outputs": [],
   "source": [
    "from transformers4rec.config.trainer import T4RecTrainingArguments\n",
    "from transformers4rec.torch import Trainer\n",
    "\n",
    "#Set arguments for training\n",
    "train_args = T4RecTrainingArguments(local_rank = -1,\n",
    "                                    dataloader_drop_last = False,\n",
    "                                    report_to = [],   #set empy list to avoig logging metrics to Weights&Biases\n",
    "                                    gradient_accumulation_steps = 1,\n",
    "                                    per_device_train_batch_size = 256,\n",
    "                                    per_device_eval_batch_size = 32,\n",
    "                                    output_dir = \"/recsys/tmp\",\n",
    "                                    max_sequence_length=sequence_length,\n",
    "                                    #data_loader_engine='nvtabular',\n",
    "                                    learning_rate=0.00071,\n",
    "                                    num_train_epochs=3,\n",
    "                                    logging_steps=200,\n",
    "                                   )"
   ]
  },
  {
   "cell_type": "code",
   "execution_count": 21,
   "id": "45a7d1a6",
   "metadata": {},
   "outputs": [],
   "source": [
    "# Instantiate the T4Rec Trainer, which manages training and evaluation\n",
    "trainer = Trainer(\n",
    "    model=model,\n",
    "    args=train_args,\n",
    "    schema=schema,\n",
    "    compute_metrics=True,\n",
    ")"
   ]
  },
  {
   "cell_type": "code",
   "execution_count": 22,
   "id": "3b881f2b",
   "metadata": {},
   "outputs": [],
   "source": [
    "OUTPUT_DIR = \"/recsys/sessions_by_day\""
   ]
  },
  {
   "cell_type": "code",
   "execution_count": 23,
   "id": "d1e4a6f6",
   "metadata": {},
   "outputs": [
    {
     "name": "stderr",
     "output_type": "stream",
     "text": [
      "***** Running training *****\n",
      "  Num examples = 23552\n",
      "  Num Epochs = 3\n",
      "  Instantaneous batch size per device = 256\n",
      "  Total train batch size (w. parallel, distributed & accumulation) = 256\n",
      "  Gradient Accumulation steps = 1\n",
      "  Total optimization steps = 276\n"
     ]
    },
    {
     "name": "stdout",
     "output_type": "stream",
     "text": [
      "********************\n",
      "Launch training for day 1 are:\n",
      "********************\n",
      "\n"
     ]
    },
    {
     "data": {
      "text/html": [
       "\n",
       "    <div>\n",
       "      \n",
       "      <progress value='276' max='276' style='width:300px; height:20px; vertical-align: middle;'></progress>\n",
       "      [276/276 00:08, Epoch 3/3]\n",
       "    </div>\n",
       "    <table border=\"1\" class=\"dataframe\">\n",
       "  <thead>\n",
       "    <tr style=\"text-align: left;\">\n",
       "      <th>Step</th>\n",
       "      <th>Training Loss</th>\n",
       "    </tr>\n",
       "  </thead>\n",
       "  <tbody>\n",
       "    <tr>\n",
       "      <td>200</td>\n",
       "      <td>5.294900</td>\n",
       "    </tr>\n",
       "  </tbody>\n",
       "</table><p>"
      ],
      "text/plain": [
       "<IPython.core.display.HTML object>"
      ]
     },
     "metadata": {},
     "output_type": "display_data"
    },
    {
     "name": "stderr",
     "output_type": "stream",
     "text": [
      "\n",
      "\n",
      "Training completed. Do not forget to share your model on huggingface.co/models =)\n",
      "\n",
      "\n"
     ]
    },
    {
     "data": {
      "text/html": [
       "\n",
       "    <div>\n",
       "      \n",
       "      <progress value='10246' max='93' style='width:300px; height:20px; vertical-align: middle;'></progress>\n",
       "      [93/93 19:57]\n",
       "    </div>\n",
       "    "
      ],
      "text/plain": [
       "<IPython.core.display.HTML object>"
      ]
     },
     "metadata": {},
     "output_type": "display_data"
    },
    {
     "name": "stdout",
     "output_type": "stream",
     "text": [
      "********************\n",
      "Eval results for day 2 are:\t\n",
      "\n",
      "********************\n",
      "\n",
      " eval/loss = 4.6201348304748535\n",
      " eval/next-item/ndcg_at_10 = 0.5727645754814148\n",
      " eval/next-item/ndcg_at_20 = 0.5743767619132996\n",
      " eval/next-item/recall_at_10 = 0.5790185928344727\n",
      " eval/next-item/recall_at_20 = 0.5854483842849731\n",
      " eval_runtime = 1.2541\n",
      " eval_samples_per_second = 2373.052\n",
      " eval_steps_per_second = 74.158\n"
     ]
    },
    {
     "name": "stderr",
     "output_type": "stream",
     "text": [
      "***** Running training *****\n",
      "  Num examples = 23296\n",
      "  Num Epochs = 3\n",
      "  Instantaneous batch size per device = 256\n",
      "  Total train batch size (w. parallel, distributed & accumulation) = 256\n",
      "  Gradient Accumulation steps = 1\n",
      "  Total optimization steps = 273\n"
     ]
    },
    {
     "name": "stdout",
     "output_type": "stream",
     "text": [
      "********************\n",
      "Launch training for day 2 are:\n",
      "********************\n",
      "\n"
     ]
    },
    {
     "data": {
      "text/html": [
       "\n",
       "    <div>\n",
       "      \n",
       "      <progress value='273' max='273' style='width:300px; height:20px; vertical-align: middle;'></progress>\n",
       "      [273/273 00:08, Epoch 3/3]\n",
       "    </div>\n",
       "    <table border=\"1\" class=\"dataframe\">\n",
       "  <thead>\n",
       "    <tr style=\"text-align: left;\">\n",
       "      <th>Step</th>\n",
       "      <th>Training Loss</th>\n",
       "    </tr>\n",
       "  </thead>\n",
       "  <tbody>\n",
       "    <tr>\n",
       "      <td>200</td>\n",
       "      <td>4.083500</td>\n",
       "    </tr>\n",
       "  </tbody>\n",
       "</table><p>"
      ],
      "text/plain": [
       "<IPython.core.display.HTML object>"
      ]
     },
     "metadata": {},
     "output_type": "display_data"
    },
    {
     "name": "stderr",
     "output_type": "stream",
     "text": [
      "\n",
      "\n",
      "Training completed. Do not forget to share your model on huggingface.co/models =)\n",
      "\n",
      "\n"
     ]
    },
    {
     "name": "stdout",
     "output_type": "stream",
     "text": [
      "********************\n",
      "Eval results for day 3 are:\t\n",
      "\n",
      "********************\n",
      "\n",
      " eval/loss = 4.10644006729126\n",
      " eval/next-item/ndcg_at_10 = 0.6203222870826721\n",
      " eval/next-item/ndcg_at_20 = 0.6227248311042786\n",
      " eval/next-item/recall_at_10 = 0.6252140998840332\n",
      " eval/next-item/recall_at_20 = 0.6348064541816711\n",
      " eval_runtime = 1.3478\n",
      " eval_samples_per_second = 2184.303\n",
      " eval_steps_per_second = 68.259\n"
     ]
    },
    {
     "name": "stderr",
     "output_type": "stream",
     "text": [
      "***** Running training *****\n",
      "  Num examples = 23040\n",
      "  Num Epochs = 3\n",
      "  Instantaneous batch size per device = 256\n",
      "  Total train batch size (w. parallel, distributed & accumulation) = 256\n",
      "  Gradient Accumulation steps = 1\n",
      "  Total optimization steps = 270\n"
     ]
    },
    {
     "name": "stdout",
     "output_type": "stream",
     "text": [
      "********************\n",
      "Launch training for day 3 are:\n",
      "********************\n",
      "\n"
     ]
    },
    {
     "data": {
      "text/html": [
       "\n",
       "    <div>\n",
       "      \n",
       "      <progress value='270' max='270' style='width:300px; height:20px; vertical-align: middle;'></progress>\n",
       "      [270/270 00:08, Epoch 3/3]\n",
       "    </div>\n",
       "    <table border=\"1\" class=\"dataframe\">\n",
       "  <thead>\n",
       "    <tr style=\"text-align: left;\">\n",
       "      <th>Step</th>\n",
       "      <th>Training Loss</th>\n",
       "    </tr>\n",
       "  </thead>\n",
       "  <tbody>\n",
       "    <tr>\n",
       "      <td>200</td>\n",
       "      <td>3.948400</td>\n",
       "    </tr>\n",
       "  </tbody>\n",
       "</table><p>"
      ],
      "text/plain": [
       "<IPython.core.display.HTML object>"
      ]
     },
     "metadata": {},
     "output_type": "display_data"
    },
    {
     "name": "stderr",
     "output_type": "stream",
     "text": [
      "\n",
      "\n",
      "Training completed. Do not forget to share your model on huggingface.co/models =)\n",
      "\n",
      "\n"
     ]
    },
    {
     "name": "stdout",
     "output_type": "stream",
     "text": [
      "********************\n",
      "Eval results for day 4 are:\t\n",
      "\n",
      "********************\n",
      "\n",
      " eval/loss = 3.967242479324341\n",
      " eval/next-item/ndcg_at_10 = 0.6373333930969238\n",
      " eval/next-item/ndcg_at_20 = 0.6390460133552551\n",
      " eval/next-item/recall_at_10 = 0.6437389850616455\n",
      " eval/next-item/recall_at_20 = 0.650499701499939\n",
      " eval_runtime = 1.6223\n",
      " eval_samples_per_second = 2110.615\n",
      " eval_steps_per_second = 65.957\n"
     ]
    },
    {
     "name": "stderr",
     "output_type": "stream",
     "text": [
      "***** Running training *****\n",
      "  Num examples = 27136\n",
      "  Num Epochs = 3\n",
      "  Instantaneous batch size per device = 256\n",
      "  Total train batch size (w. parallel, distributed & accumulation) = 256\n",
      "  Gradient Accumulation steps = 1\n",
      "  Total optimization steps = 318\n"
     ]
    },
    {
     "name": "stdout",
     "output_type": "stream",
     "text": [
      "********************\n",
      "Launch training for day 4 are:\n",
      "********************\n",
      "\n"
     ]
    },
    {
     "data": {
      "text/html": [
       "\n",
       "    <div>\n",
       "      \n",
       "      <progress value='318' max='318' style='width:300px; height:20px; vertical-align: middle;'></progress>\n",
       "      [318/318 00:10, Epoch 3/3]\n",
       "    </div>\n",
       "    <table border=\"1\" class=\"dataframe\">\n",
       "  <thead>\n",
       "    <tr style=\"text-align: left;\">\n",
       "      <th>Step</th>\n",
       "      <th>Training Loss</th>\n",
       "    </tr>\n",
       "  </thead>\n",
       "  <tbody>\n",
       "    <tr>\n",
       "      <td>200</td>\n",
       "      <td>3.766800</td>\n",
       "    </tr>\n",
       "  </tbody>\n",
       "</table><p>"
      ],
      "text/plain": [
       "<IPython.core.display.HTML object>"
      ]
     },
     "metadata": {},
     "output_type": "display_data"
    },
    {
     "name": "stderr",
     "output_type": "stream",
     "text": [
      "\n",
      "\n",
      "Training completed. Do not forget to share your model on huggingface.co/models =)\n",
      "\n",
      "\n"
     ]
    },
    {
     "name": "stdout",
     "output_type": "stream",
     "text": [
      "********************\n",
      "Eval results for day 5 are:\t\n",
      "\n",
      "********************\n",
      "\n",
      " eval/loss = 4.2704596519470215\n",
      " eval/next-item/ndcg_at_10 = 0.6052656769752502\n",
      " eval/next-item/ndcg_at_20 = 0.6065261960029602\n",
      " eval/next-item/recall_at_10 = 0.609906017780304\n",
      " eval/next-item/recall_at_20 = 0.6149674654006958\n",
      " eval_runtime = 1.3057\n",
      " eval_samples_per_second = 2132.235\n",
      " eval_steps_per_second = 66.632\n"
     ]
    },
    {
     "name": "stderr",
     "output_type": "stream",
     "text": [
      "***** Running training *****\n",
      "  Num examples = 22016\n",
      "  Num Epochs = 3\n",
      "  Instantaneous batch size per device = 256\n",
      "  Total train batch size (w. parallel, distributed & accumulation) = 256\n",
      "  Gradient Accumulation steps = 1\n",
      "  Total optimization steps = 258\n"
     ]
    },
    {
     "name": "stdout",
     "output_type": "stream",
     "text": [
      "********************\n",
      "Launch training for day 5 are:\n",
      "********************\n",
      "\n"
     ]
    },
    {
     "data": {
      "text/html": [
       "\n",
       "    <div>\n",
       "      \n",
       "      <progress value='258' max='258' style='width:300px; height:20px; vertical-align: middle;'></progress>\n",
       "      [258/258 00:07, Epoch 3/3]\n",
       "    </div>\n",
       "    <table border=\"1\" class=\"dataframe\">\n",
       "  <thead>\n",
       "    <tr style=\"text-align: left;\">\n",
       "      <th>Step</th>\n",
       "      <th>Training Loss</th>\n",
       "    </tr>\n",
       "  </thead>\n",
       "  <tbody>\n",
       "    <tr>\n",
       "      <td>200</td>\n",
       "      <td>3.786700</td>\n",
       "    </tr>\n",
       "  </tbody>\n",
       "</table><p>"
      ],
      "text/plain": [
       "<IPython.core.display.HTML object>"
      ]
     },
     "metadata": {},
     "output_type": "display_data"
    },
    {
     "name": "stderr",
     "output_type": "stream",
     "text": [
      "\n",
      "\n",
      "Training completed. Do not forget to share your model on huggingface.co/models =)\n",
      "\n",
      "\n"
     ]
    },
    {
     "name": "stdout",
     "output_type": "stream",
     "text": [
      "********************\n",
      "Eval results for day 6 are:\t\n",
      "\n",
      "********************\n",
      "\n",
      " eval/loss = 4.5060038566589355\n",
      " eval/next-item/ndcg_at_10 = 0.5800963640213013\n",
      " eval/next-item/ndcg_at_20 = 0.5829834938049316\n",
      " eval/next-item/recall_at_10 = 0.587427020072937\n",
      " eval/next-item/recall_at_20 = 0.5987632870674133\n",
      " eval_runtime = 1.3596\n",
      " eval_samples_per_second = 2141.736\n",
      " eval_steps_per_second = 66.929\n"
     ]
    },
    {
     "name": "stderr",
     "output_type": "stream",
     "text": [
      "***** Running training *****\n",
      "  Num examples = 23040\n",
      "  Num Epochs = 3\n",
      "  Instantaneous batch size per device = 256\n",
      "  Total train batch size (w. parallel, distributed & accumulation) = 256\n",
      "  Gradient Accumulation steps = 1\n",
      "  Total optimization steps = 270\n"
     ]
    },
    {
     "name": "stdout",
     "output_type": "stream",
     "text": [
      "********************\n",
      "Launch training for day 6 are:\n",
      "********************\n",
      "\n"
     ]
    },
    {
     "data": {
      "text/html": [
       "\n",
       "    <div>\n",
       "      \n",
       "      <progress value='270' max='270' style='width:300px; height:20px; vertical-align: middle;'></progress>\n",
       "      [270/270 00:08, Epoch 3/3]\n",
       "    </div>\n",
       "    <table border=\"1\" class=\"dataframe\">\n",
       "  <thead>\n",
       "    <tr style=\"text-align: left;\">\n",
       "      <th>Step</th>\n",
       "      <th>Training Loss</th>\n",
       "    </tr>\n",
       "  </thead>\n",
       "  <tbody>\n",
       "    <tr>\n",
       "      <td>200</td>\n",
       "      <td>3.991800</td>\n",
       "    </tr>\n",
       "  </tbody>\n",
       "</table><p>"
      ],
      "text/plain": [
       "<IPython.core.display.HTML object>"
      ]
     },
     "metadata": {},
     "output_type": "display_data"
    },
    {
     "name": "stderr",
     "output_type": "stream",
     "text": [
      "\n",
      "\n",
      "Training completed. Do not forget to share your model on huggingface.co/models =)\n",
      "\n",
      "\n"
     ]
    },
    {
     "name": "stdout",
     "output_type": "stream",
     "text": [
      "********************\n",
      "Eval results for day 7 are:\t\n",
      "\n",
      "********************\n",
      "\n",
      " eval/loss = 4.0143280029296875\n",
      " eval/next-item/ndcg_at_10 = 0.6242510080337524\n",
      " eval/next-item/ndcg_at_20 = 0.6258493065834045\n",
      " eval/next-item/recall_at_10 = 0.6320812702178955\n",
      " eval/next-item/recall_at_20 = 0.6385467648506165\n",
      " eval_runtime = 1.5378\n",
      " eval_samples_per_second = 2122.521\n",
      " eval_steps_per_second = 66.329\n"
     ]
    },
    {
     "name": "stderr",
     "output_type": "stream",
     "text": [
      "***** Running training *****\n",
      "  Num examples = 25600\n",
      "  Num Epochs = 3\n",
      "  Instantaneous batch size per device = 256\n",
      "  Total train batch size (w. parallel, distributed & accumulation) = 256\n",
      "  Gradient Accumulation steps = 1\n",
      "  Total optimization steps = 300\n"
     ]
    },
    {
     "name": "stdout",
     "output_type": "stream",
     "text": [
      "********************\n",
      "Launch training for day 7 are:\n",
      "********************\n",
      "\n"
     ]
    },
    {
     "data": {
      "text/html": [
       "\n",
       "    <div>\n",
       "      \n",
       "      <progress value='300' max='300' style='width:300px; height:20px; vertical-align: middle;'></progress>\n",
       "      [300/300 00:09, Epoch 3/3]\n",
       "    </div>\n",
       "    <table border=\"1\" class=\"dataframe\">\n",
       "  <thead>\n",
       "    <tr style=\"text-align: left;\">\n",
       "      <th>Step</th>\n",
       "      <th>Training Loss</th>\n",
       "    </tr>\n",
       "  </thead>\n",
       "  <tbody>\n",
       "    <tr>\n",
       "      <td>200</td>\n",
       "      <td>3.924300</td>\n",
       "    </tr>\n",
       "  </tbody>\n",
       "</table><p>"
      ],
      "text/plain": [
       "<IPython.core.display.HTML object>"
      ]
     },
     "metadata": {},
     "output_type": "display_data"
    },
    {
     "name": "stderr",
     "output_type": "stream",
     "text": [
      "\n",
      "\n",
      "Training completed. Do not forget to share your model on huggingface.co/models =)\n",
      "\n",
      "\n"
     ]
    },
    {
     "name": "stdout",
     "output_type": "stream",
     "text": [
      "********************\n",
      "Eval results for day 8 are:\t\n",
      "\n",
      "********************\n",
      "\n",
      " eval/loss = 4.446804046630859\n",
      " eval/next-item/ndcg_at_10 = 0.5794680714607239\n",
      " eval/next-item/ndcg_at_20 = 0.5804190039634705\n",
      " eval/next-item/recall_at_10 = 0.5850388407707214\n",
      " eval/next-item/recall_at_20 = 0.5889202952384949\n",
      " eval_runtime = 1.348\n",
      " eval_samples_per_second = 2112.782\n",
      " eval_steps_per_second = 66.024\n"
     ]
    },
    {
     "name": "stderr",
     "output_type": "stream",
     "text": [
      "***** Running training *****\n",
      "  Num examples = 22528\n",
      "  Num Epochs = 3\n",
      "  Instantaneous batch size per device = 256\n",
      "  Total train batch size (w. parallel, distributed & accumulation) = 256\n",
      "  Gradient Accumulation steps = 1\n",
      "  Total optimization steps = 264\n"
     ]
    },
    {
     "name": "stdout",
     "output_type": "stream",
     "text": [
      "********************\n",
      "Launch training for day 8 are:\n",
      "********************\n",
      "\n"
     ]
    },
    {
     "data": {
      "text/html": [
       "\n",
       "    <div>\n",
       "      \n",
       "      <progress value='264' max='264' style='width:300px; height:20px; vertical-align: middle;'></progress>\n",
       "      [264/264 00:08, Epoch 3/3]\n",
       "    </div>\n",
       "    <table border=\"1\" class=\"dataframe\">\n",
       "  <thead>\n",
       "    <tr style=\"text-align: left;\">\n",
       "      <th>Step</th>\n",
       "      <th>Training Loss</th>\n",
       "    </tr>\n",
       "  </thead>\n",
       "  <tbody>\n",
       "    <tr>\n",
       "      <td>200</td>\n",
       "      <td>4.197200</td>\n",
       "    </tr>\n",
       "  </tbody>\n",
       "</table><p>"
      ],
      "text/plain": [
       "<IPython.core.display.HTML object>"
      ]
     },
     "metadata": {},
     "output_type": "display_data"
    },
    {
     "name": "stderr",
     "output_type": "stream",
     "text": [
      "\n",
      "\n",
      "Training completed. Do not forget to share your model on huggingface.co/models =)\n",
      "\n",
      "\n"
     ]
    },
    {
     "name": "stdout",
     "output_type": "stream",
     "text": [
      "********************\n",
      "Eval results for day 9 are:\t\n",
      "\n",
      "********************\n",
      "\n",
      " eval/loss = 4.331748008728027\n",
      " eval/next-item/ndcg_at_10 = 0.590541422367096\n",
      " eval/next-item/ndcg_at_20 = 0.5922709107398987\n",
      " eval/next-item/recall_at_10 = 0.6002424955368042\n",
      " eval/next-item/recall_at_20 = 0.6071139574050903\n",
      " eval_runtime = 1.1486\n",
      " eval_samples_per_second = 2173.135\n",
      " eval_steps_per_second = 67.91\n",
      "********************\n",
      "Launch training for day 9 are:\n",
      "********************\n",
      "\n"
     ]
    },
    {
     "name": "stderr",
     "output_type": "stream",
     "text": [
      "***** Running training *****\n",
      "  Num examples = 19456\n",
      "  Num Epochs = 3\n",
      "  Instantaneous batch size per device = 256\n",
      "  Total train batch size (w. parallel, distributed & accumulation) = 256\n",
      "  Gradient Accumulation steps = 1\n",
      "  Total optimization steps = 228\n"
     ]
    },
    {
     "data": {
      "text/html": [
       "\n",
       "    <div>\n",
       "      \n",
       "      <progress value='228' max='228' style='width:300px; height:20px; vertical-align: middle;'></progress>\n",
       "      [228/228 00:06, Epoch 3/3]\n",
       "    </div>\n",
       "    <table border=\"1\" class=\"dataframe\">\n",
       "  <thead>\n",
       "    <tr style=\"text-align: left;\">\n",
       "      <th>Step</th>\n",
       "      <th>Training Loss</th>\n",
       "    </tr>\n",
       "  </thead>\n",
       "  <tbody>\n",
       "    <tr>\n",
       "      <td>200</td>\n",
       "      <td>4.128700</td>\n",
       "    </tr>\n",
       "  </tbody>\n",
       "</table><p>"
      ],
      "text/plain": [
       "<IPython.core.display.HTML object>"
      ]
     },
     "metadata": {},
     "output_type": "display_data"
    },
    {
     "name": "stderr",
     "output_type": "stream",
     "text": [
      "\n",
      "\n",
      "Training completed. Do not forget to share your model on huggingface.co/models =)\n",
      "\n",
      "\n"
     ]
    },
    {
     "name": "stdout",
     "output_type": "stream",
     "text": [
      "********************\n",
      "Eval results for day 10 are:\t\n",
      "\n",
      "********************\n",
      "\n",
      " eval/loss = 4.3332719802856445\n",
      " eval/next-item/ndcg_at_10 = 0.593543529510498\n",
      " eval/next-item/ndcg_at_20 = 0.5952625274658203\n",
      " eval/next-item/recall_at_10 = 0.6045626997947693\n",
      " eval/next-item/recall_at_20 = 0.6114068031311035\n",
      " eval_runtime = 1.2504\n",
      " eval_samples_per_second = 2124.153\n",
      " eval_steps_per_second = 66.38\n"
     ]
    },
    {
     "name": "stderr",
     "output_type": "stream",
     "text": [
      "***** Running training *****\n",
      "  Num examples = 20992\n",
      "  Num Epochs = 3\n",
      "  Instantaneous batch size per device = 256\n",
      "  Total train batch size (w. parallel, distributed & accumulation) = 256\n",
      "  Gradient Accumulation steps = 1\n",
      "  Total optimization steps = 246\n"
     ]
    },
    {
     "name": "stdout",
     "output_type": "stream",
     "text": [
      "********************\n",
      "Launch training for day 10 are:\n",
      "********************\n",
      "\n"
     ]
    },
    {
     "data": {
      "text/html": [
       "\n",
       "    <div>\n",
       "      \n",
       "      <progress value='246' max='246' style='width:300px; height:20px; vertical-align: middle;'></progress>\n",
       "      [246/246 00:07, Epoch 3/3]\n",
       "    </div>\n",
       "    <table border=\"1\" class=\"dataframe\">\n",
       "  <thead>\n",
       "    <tr style=\"text-align: left;\">\n",
       "      <th>Step</th>\n",
       "      <th>Training Loss</th>\n",
       "    </tr>\n",
       "  </thead>\n",
       "  <tbody>\n",
       "    <tr>\n",
       "      <td>200</td>\n",
       "      <td>3.955600</td>\n",
       "    </tr>\n",
       "  </tbody>\n",
       "</table><p>"
      ],
      "text/plain": [
       "<IPython.core.display.HTML object>"
      ]
     },
     "metadata": {},
     "output_type": "display_data"
    },
    {
     "name": "stderr",
     "output_type": "stream",
     "text": [
      "\n",
      "\n",
      "Training completed. Do not forget to share your model on huggingface.co/models =)\n",
      "\n",
      "\n"
     ]
    },
    {
     "name": "stdout",
     "output_type": "stream",
     "text": [
      "********************\n",
      "Eval results for day 11 are:\t\n",
      "\n",
      "********************\n",
      "\n",
      " eval/loss = 4.145051002502441\n",
      " eval/next-item/ndcg_at_10 = 0.6062828302383423\n",
      " eval/next-item/ndcg_at_20 = 0.6086345314979553\n",
      " eval/next-item/recall_at_10 = 0.6112921237945557\n",
      " eval/next-item/recall_at_20 = 0.6207021474838257\n",
      " eval_runtime = 1.3021\n",
      " eval_samples_per_second = 2138.048\n",
      " eval_steps_per_second = 66.814\n"
     ]
    },
    {
     "name": "stderr",
     "output_type": "stream",
     "text": [
      "***** Running training *****\n",
      "  Num examples = 22016\n",
      "  Num Epochs = 3\n",
      "  Instantaneous batch size per device = 256\n",
      "  Total train batch size (w. parallel, distributed & accumulation) = 256\n",
      "  Gradient Accumulation steps = 1\n",
      "  Total optimization steps = 258\n"
     ]
    },
    {
     "name": "stdout",
     "output_type": "stream",
     "text": [
      "********************\n",
      "Launch training for day 11 are:\n",
      "********************\n",
      "\n"
     ]
    },
    {
     "data": {
      "text/html": [
       "\n",
       "    <div>\n",
       "      \n",
       "      <progress value='258' max='258' style='width:300px; height:20px; vertical-align: middle;'></progress>\n",
       "      [258/258 00:08, Epoch 3/3]\n",
       "    </div>\n",
       "    <table border=\"1\" class=\"dataframe\">\n",
       "  <thead>\n",
       "    <tr style=\"text-align: left;\">\n",
       "      <th>Step</th>\n",
       "      <th>Training Loss</th>\n",
       "    </tr>\n",
       "  </thead>\n",
       "  <tbody>\n",
       "    <tr>\n",
       "      <td>200</td>\n",
       "      <td>3.977300</td>\n",
       "    </tr>\n",
       "  </tbody>\n",
       "</table><p>"
      ],
      "text/plain": [
       "<IPython.core.display.HTML object>"
      ]
     },
     "metadata": {},
     "output_type": "display_data"
    },
    {
     "name": "stderr",
     "output_type": "stream",
     "text": [
      "\n",
      "\n",
      "Training completed. Do not forget to share your model on huggingface.co/models =)\n",
      "\n",
      "\n"
     ]
    },
    {
     "name": "stdout",
     "output_type": "stream",
     "text": [
      "********************\n",
      "Eval results for day 12 are:\t\n",
      "\n",
      "********************\n",
      "\n",
      " eval/loss = 4.324774742126465\n",
      " eval/next-item/ndcg_at_10 = 0.5943291187286377\n",
      " eval/next-item/ndcg_at_20 = 0.5947676301002502\n",
      " eval/next-item/recall_at_10 = 0.6002901792526245\n",
      " eval/next-item/recall_at_20 = 0.6021037101745605\n",
      " eval_runtime = 1.3093\n",
      " eval_samples_per_second = 2126.326\n",
      " eval_steps_per_second = 66.448\n"
     ]
    },
    {
     "name": "stderr",
     "output_type": "stream",
     "text": [
      "***** Running training *****\n",
      "  Num examples = 21760\n",
      "  Num Epochs = 3\n",
      "  Instantaneous batch size per device = 256\n",
      "  Total train batch size (w. parallel, distributed & accumulation) = 256\n",
      "  Gradient Accumulation steps = 1\n",
      "  Total optimization steps = 255\n"
     ]
    },
    {
     "name": "stdout",
     "output_type": "stream",
     "text": [
      "********************\n",
      "Launch training for day 12 are:\n",
      "********************\n",
      "\n"
     ]
    },
    {
     "data": {
      "text/html": [
       "\n",
       "    <div>\n",
       "      \n",
       "      <progress value='255' max='255' style='width:300px; height:20px; vertical-align: middle;'></progress>\n",
       "      [255/255 00:07, Epoch 3/3]\n",
       "    </div>\n",
       "    <table border=\"1\" class=\"dataframe\">\n",
       "  <thead>\n",
       "    <tr style=\"text-align: left;\">\n",
       "      <th>Step</th>\n",
       "      <th>Training Loss</th>\n",
       "    </tr>\n",
       "  </thead>\n",
       "  <tbody>\n",
       "    <tr>\n",
       "      <td>200</td>\n",
       "      <td>4.029000</td>\n",
       "    </tr>\n",
       "  </tbody>\n",
       "</table><p>"
      ],
      "text/plain": [
       "<IPython.core.display.HTML object>"
      ]
     },
     "metadata": {},
     "output_type": "display_data"
    },
    {
     "name": "stderr",
     "output_type": "stream",
     "text": [
      "\n",
      "\n",
      "Training completed. Do not forget to share your model on huggingface.co/models =)\n",
      "\n",
      "\n"
     ]
    },
    {
     "name": "stdout",
     "output_type": "stream",
     "text": [
      "********************\n",
      "Eval results for day 13 are:\t\n",
      "\n",
      "********************\n",
      "\n",
      " eval/loss = 4.119204521179199\n",
      " eval/next-item/ndcg_at_10 = 0.6138036847114563\n",
      " eval/next-item/ndcg_at_20 = 0.6159898042678833\n",
      " eval/next-item/recall_at_10 = 0.6199095249176025\n",
      " eval/next-item/recall_at_20 = 0.628582239151001\n",
      " eval_runtime = 1.2641\n",
      " eval_samples_per_second = 2101.151\n",
      " eval_steps_per_second = 65.661\n"
     ]
    },
    {
     "name": "stderr",
     "output_type": "stream",
     "text": [
      "***** Running training *****\n",
      "  Num examples = 21248\n",
      "  Num Epochs = 3\n",
      "  Instantaneous batch size per device = 256\n",
      "  Total train batch size (w. parallel, distributed & accumulation) = 256\n",
      "  Gradient Accumulation steps = 1\n",
      "  Total optimization steps = 249\n"
     ]
    },
    {
     "name": "stdout",
     "output_type": "stream",
     "text": [
      "********************\n",
      "Launch training for day 13 are:\n",
      "********************\n",
      "\n"
     ]
    },
    {
     "data": {
      "text/html": [
       "\n",
       "    <div>\n",
       "      \n",
       "      <progress value='249' max='249' style='width:300px; height:20px; vertical-align: middle;'></progress>\n",
       "      [249/249 00:07, Epoch 3/3]\n",
       "    </div>\n",
       "    <table border=\"1\" class=\"dataframe\">\n",
       "  <thead>\n",
       "    <tr style=\"text-align: left;\">\n",
       "      <th>Step</th>\n",
       "      <th>Training Loss</th>\n",
       "    </tr>\n",
       "  </thead>\n",
       "  <tbody>\n",
       "    <tr>\n",
       "      <td>200</td>\n",
       "      <td>3.919200</td>\n",
       "    </tr>\n",
       "  </tbody>\n",
       "</table><p>"
      ],
      "text/plain": [
       "<IPython.core.display.HTML object>"
      ]
     },
     "metadata": {},
     "output_type": "display_data"
    },
    {
     "name": "stderr",
     "output_type": "stream",
     "text": [
      "\n",
      "\n",
      "Training completed. Do not forget to share your model on huggingface.co/models =)\n",
      "\n",
      "\n"
     ]
    },
    {
     "name": "stdout",
     "output_type": "stream",
     "text": [
      "********************\n",
      "Eval results for day 14 are:\t\n",
      "\n",
      "********************\n",
      "\n",
      " eval/loss = 3.9920105934143066\n",
      " eval/next-item/ndcg_at_10 = 0.6283945441246033\n",
      " eval/next-item/ndcg_at_20 = 0.6296456456184387\n",
      " eval/next-item/recall_at_10 = 0.6332688331604004\n",
      " eval/next-item/recall_at_20 = 0.6382978558540344\n",
      " eval_runtime = 1.2227\n",
      " eval_samples_per_second = 2119.889\n",
      " eval_steps_per_second = 66.247\n",
      "********************\n",
      "Launch training for day 14 are:\n",
      "********************\n",
      "\n"
     ]
    },
    {
     "name": "stderr",
     "output_type": "stream",
     "text": [
      "***** Running training *****\n",
      "  Num examples = 20480\n",
      "  Num Epochs = 3\n",
      "  Instantaneous batch size per device = 256\n",
      "  Total train batch size (w. parallel, distributed & accumulation) = 256\n",
      "  Gradient Accumulation steps = 1\n",
      "  Total optimization steps = 240\n"
     ]
    },
    {
     "data": {
      "text/html": [
       "\n",
       "    <div>\n",
       "      \n",
       "      <progress value='240' max='240' style='width:300px; height:20px; vertical-align: middle;'></progress>\n",
       "      [240/240 00:07, Epoch 3/3]\n",
       "    </div>\n",
       "    <table border=\"1\" class=\"dataframe\">\n",
       "  <thead>\n",
       "    <tr style=\"text-align: left;\">\n",
       "      <th>Step</th>\n",
       "      <th>Training Loss</th>\n",
       "    </tr>\n",
       "  </thead>\n",
       "  <tbody>\n",
       "    <tr>\n",
       "      <td>200</td>\n",
       "      <td>3.796200</td>\n",
       "    </tr>\n",
       "  </tbody>\n",
       "</table><p>"
      ],
      "text/plain": [
       "<IPython.core.display.HTML object>"
      ]
     },
     "metadata": {},
     "output_type": "display_data"
    },
    {
     "name": "stderr",
     "output_type": "stream",
     "text": [
      "\n",
      "\n",
      "Training completed. Do not forget to share your model on huggingface.co/models =)\n",
      "\n",
      "\n"
     ]
    },
    {
     "name": "stdout",
     "output_type": "stream",
     "text": [
      "********************\n",
      "Eval results for day 15 are:\t\n",
      "\n",
      "********************\n",
      "\n",
      " eval/loss = 4.021097660064697\n",
      " eval/next-item/ndcg_at_10 = 0.6215198040008545\n",
      " eval/next-item/ndcg_at_20 = 0.6238129734992981\n",
      " eval/next-item/recall_at_10 = 0.628417432308197\n",
      " eval/next-item/recall_at_20 = 0.6376588344573975\n",
      " eval_runtime = 1.2178\n",
      " eval_samples_per_second = 2154.621\n",
      " eval_steps_per_second = 67.332\n"
     ]
    },
    {
     "name": "stderr",
     "output_type": "stream",
     "text": [
      "***** Running training *****\n",
      "  Num examples = 20480\n",
      "  Num Epochs = 3\n",
      "  Instantaneous batch size per device = 256\n",
      "  Total train batch size (w. parallel, distributed & accumulation) = 256\n",
      "  Gradient Accumulation steps = 1\n",
      "  Total optimization steps = 240\n"
     ]
    },
    {
     "name": "stdout",
     "output_type": "stream",
     "text": [
      "********************\n",
      "Launch training for day 15 are:\n",
      "********************\n",
      "\n"
     ]
    },
    {
     "data": {
      "text/html": [
       "\n",
       "    <div>\n",
       "      \n",
       "      <progress value='240' max='240' style='width:300px; height:20px; vertical-align: middle;'></progress>\n",
       "      [240/240 00:07, Epoch 3/3]\n",
       "    </div>\n",
       "    <table border=\"1\" class=\"dataframe\">\n",
       "  <thead>\n",
       "    <tr style=\"text-align: left;\">\n",
       "      <th>Step</th>\n",
       "      <th>Training Loss</th>\n",
       "    </tr>\n",
       "  </thead>\n",
       "  <tbody>\n",
       "    <tr>\n",
       "      <td>200</td>\n",
       "      <td>3.851800</td>\n",
       "    </tr>\n",
       "  </tbody>\n",
       "</table><p>"
      ],
      "text/plain": [
       "<IPython.core.display.HTML object>"
      ]
     },
     "metadata": {},
     "output_type": "display_data"
    },
    {
     "name": "stderr",
     "output_type": "stream",
     "text": [
      "\n",
      "\n",
      "Training completed. Do not forget to share your model on huggingface.co/models =)\n",
      "\n",
      "\n"
     ]
    },
    {
     "name": "stdout",
     "output_type": "stream",
     "text": [
      "********************\n",
      "Eval results for day 16 are:\t\n",
      "\n",
      "********************\n",
      "\n",
      " eval/loss = 4.1434855461120605\n",
      " eval/next-item/ndcg_at_10 = 0.6066746711730957\n",
      " eval/next-item/ndcg_at_20 = 0.6087747812271118\n",
      " eval/next-item/recall_at_10 = 0.6116504669189453\n",
      " eval/next-item/recall_at_20 = 0.6200352907180786\n",
      " eval_runtime = 1.0623\n",
      " eval_samples_per_second = 2138.802\n",
      " eval_steps_per_second = 66.838\n"
     ]
    },
    {
     "name": "stderr",
     "output_type": "stream",
     "text": [
      "***** Running training *****\n",
      "  Num examples = 17664\n",
      "  Num Epochs = 3\n",
      "  Instantaneous batch size per device = 256\n",
      "  Total train batch size (w. parallel, distributed & accumulation) = 256\n",
      "  Gradient Accumulation steps = 1\n",
      "  Total optimization steps = 207\n"
     ]
    },
    {
     "name": "stdout",
     "output_type": "stream",
     "text": [
      "********************\n",
      "Launch training for day 16 are:\n",
      "********************\n",
      "\n"
     ]
    },
    {
     "data": {
      "text/html": [
       "\n",
       "    <div>\n",
       "      \n",
       "      <progress value='207' max='207' style='width:300px; height:20px; vertical-align: middle;'></progress>\n",
       "      [207/207 00:06, Epoch 3/3]\n",
       "    </div>\n",
       "    <table border=\"1\" class=\"dataframe\">\n",
       "  <thead>\n",
       "    <tr style=\"text-align: left;\">\n",
       "      <th>Step</th>\n",
       "      <th>Training Loss</th>\n",
       "    </tr>\n",
       "  </thead>\n",
       "  <tbody>\n",
       "    <tr>\n",
       "      <td>200</td>\n",
       "      <td>3.862400</td>\n",
       "    </tr>\n",
       "  </tbody>\n",
       "</table><p>"
      ],
      "text/plain": [
       "<IPython.core.display.HTML object>"
      ]
     },
     "metadata": {},
     "output_type": "display_data"
    },
    {
     "name": "stderr",
     "output_type": "stream",
     "text": [
      "\n",
      "\n",
      "Training completed. Do not forget to share your model on huggingface.co/models =)\n",
      "\n",
      "\n"
     ]
    },
    {
     "name": "stdout",
     "output_type": "stream",
     "text": [
      "********************\n",
      "Eval results for day 17 are:\t\n",
      "\n",
      "********************\n",
      "\n",
      " eval/loss = 4.008491516113281\n",
      " eval/next-item/ndcg_at_10 = 0.624022901058197\n",
      " eval/next-item/ndcg_at_20 = 0.6260911226272583\n",
      " eval/next-item/recall_at_10 = 0.6309204697608948\n",
      " eval/next-item/recall_at_20 = 0.6394101977348328\n",
      " eval_runtime = 1.0799\n",
      " eval_samples_per_second = 2074.229\n",
      " eval_steps_per_second = 64.82\n",
      "********************\n",
      "Launch training for day 17 are:\n",
      "********************\n",
      "\n"
     ]
    },
    {
     "name": "stderr",
     "output_type": "stream",
     "text": [
      "***** Running training *****\n",
      "  Num examples = 17664\n",
      "  Num Epochs = 3\n",
      "  Instantaneous batch size per device = 256\n",
      "  Total train batch size (w. parallel, distributed & accumulation) = 256\n",
      "  Gradient Accumulation steps = 1\n",
      "  Total optimization steps = 207\n"
     ]
    },
    {
     "data": {
      "text/html": [
       "\n",
       "    <div>\n",
       "      \n",
       "      <progress value='207' max='207' style='width:300px; height:20px; vertical-align: middle;'></progress>\n",
       "      [207/207 00:06, Epoch 3/3]\n",
       "    </div>\n",
       "    <table border=\"1\" class=\"dataframe\">\n",
       "  <thead>\n",
       "    <tr style=\"text-align: left;\">\n",
       "      <th>Step</th>\n",
       "      <th>Training Loss</th>\n",
       "    </tr>\n",
       "  </thead>\n",
       "  <tbody>\n",
       "    <tr>\n",
       "      <td>200</td>\n",
       "      <td>3.782200</td>\n",
       "    </tr>\n",
       "  </tbody>\n",
       "</table><p>"
      ],
      "text/plain": [
       "<IPython.core.display.HTML object>"
      ]
     },
     "metadata": {},
     "output_type": "display_data"
    },
    {
     "name": "stderr",
     "output_type": "stream",
     "text": [
      "\n",
      "\n",
      "Training completed. Do not forget to share your model on huggingface.co/models =)\n",
      "\n",
      "\n"
     ]
    },
    {
     "name": "stdout",
     "output_type": "stream",
     "text": [
      "********************\n",
      "Eval results for day 18 are:\t\n",
      "\n",
      "********************\n",
      "\n",
      " eval/loss = 4.044293403625488\n",
      " eval/next-item/ndcg_at_10 = 0.6166207194328308\n",
      " eval/next-item/ndcg_at_20 = 0.6190468072891235\n",
      " eval/next-item/recall_at_10 = 0.625\n",
      " eval/next-item/recall_at_20 = 0.6348039507865906\n",
      " eval_runtime = 1.1703\n",
      " eval_samples_per_second = 2105.381\n",
      " eval_steps_per_second = 65.793\n",
      "********************\n",
      "Launch training for day 18 are:\n",
      "********************\n",
      "\n"
     ]
    },
    {
     "name": "stderr",
     "output_type": "stream",
     "text": [
      "***** Running training *****\n",
      "  Num examples = 19456\n",
      "  Num Epochs = 3\n",
      "  Instantaneous batch size per device = 256\n",
      "  Total train batch size (w. parallel, distributed & accumulation) = 256\n",
      "  Gradient Accumulation steps = 1\n",
      "  Total optimization steps = 228\n"
     ]
    },
    {
     "data": {
      "text/html": [
       "\n",
       "    <div>\n",
       "      \n",
       "      <progress value='228' max='228' style='width:300px; height:20px; vertical-align: middle;'></progress>\n",
       "      [228/228 00:07, Epoch 3/3]\n",
       "    </div>\n",
       "    <table border=\"1\" class=\"dataframe\">\n",
       "  <thead>\n",
       "    <tr style=\"text-align: left;\">\n",
       "      <th>Step</th>\n",
       "      <th>Training Loss</th>\n",
       "    </tr>\n",
       "  </thead>\n",
       "  <tbody>\n",
       "    <tr>\n",
       "      <td>200</td>\n",
       "      <td>3.739700</td>\n",
       "    </tr>\n",
       "  </tbody>\n",
       "</table><p>"
      ],
      "text/plain": [
       "<IPython.core.display.HTML object>"
      ]
     },
     "metadata": {},
     "output_type": "display_data"
    },
    {
     "name": "stderr",
     "output_type": "stream",
     "text": [
      "\n",
      "\n",
      "Training completed. Do not forget to share your model on huggingface.co/models =)\n",
      "\n",
      "\n"
     ]
    },
    {
     "name": "stdout",
     "output_type": "stream",
     "text": [
      "********************\n",
      "Eval results for day 19 are:\t\n",
      "\n",
      "********************\n",
      "\n",
      " eval/loss = 3.8740763664245605\n",
      " eval/next-item/ndcg_at_10 = 0.6349689960479736\n",
      " eval/next-item/ndcg_at_20 = 0.6370547413825989\n",
      " eval/next-item/recall_at_10 = 0.6404178738594055\n",
      " eval/next-item/recall_at_20 = 0.6488549709320068\n",
      " eval_runtime = 1.1688\n",
      " eval_samples_per_second = 2135.448\n",
      " eval_steps_per_second = 66.733\n"
     ]
    },
    {
     "name": "stderr",
     "output_type": "stream",
     "text": [
      "***** Running training *****\n",
      "  Num examples = 19712\n",
      "  Num Epochs = 3\n",
      "  Instantaneous batch size per device = 256\n",
      "  Total train batch size (w. parallel, distributed & accumulation) = 256\n",
      "  Gradient Accumulation steps = 1\n",
      "  Total optimization steps = 231\n"
     ]
    },
    {
     "name": "stdout",
     "output_type": "stream",
     "text": [
      "********************\n",
      "Launch training for day 19 are:\n",
      "********************\n",
      "\n"
     ]
    },
    {
     "data": {
      "text/html": [
       "\n",
       "    <div>\n",
       "      \n",
       "      <progress value='231' max='231' style='width:300px; height:20px; vertical-align: middle;'></progress>\n",
       "      [231/231 00:07, Epoch 3/3]\n",
       "    </div>\n",
       "    <table border=\"1\" class=\"dataframe\">\n",
       "  <thead>\n",
       "    <tr style=\"text-align: left;\">\n",
       "      <th>Step</th>\n",
       "      <th>Training Loss</th>\n",
       "    </tr>\n",
       "  </thead>\n",
       "  <tbody>\n",
       "    <tr>\n",
       "      <td>200</td>\n",
       "      <td>3.725400</td>\n",
       "    </tr>\n",
       "  </tbody>\n",
       "</table><p>"
      ],
      "text/plain": [
       "<IPython.core.display.HTML object>"
      ]
     },
     "metadata": {},
     "output_type": "display_data"
    },
    {
     "name": "stderr",
     "output_type": "stream",
     "text": [
      "\n",
      "\n",
      "Training completed. Do not forget to share your model on huggingface.co/models =)\n",
      "\n",
      "\n"
     ]
    },
    {
     "name": "stdout",
     "output_type": "stream",
     "text": [
      "********************\n",
      "Eval results for day 20 are:\t\n",
      "\n",
      "********************\n",
      "\n",
      " eval/loss = 3.7966456413269043\n",
      " eval/next-item/ndcg_at_10 = 0.6425999999046326\n",
      " eval/next-item/ndcg_at_20 = 0.6447626948356628\n",
      " eval/next-item/recall_at_10 = 0.6481092572212219\n",
      " eval/next-item/recall_at_20 = 0.656862735748291\n",
      " eval_runtime = 1.3338\n",
      " eval_samples_per_second = 2159.193\n",
      " eval_steps_per_second = 67.475\n"
     ]
    },
    {
     "name": "stderr",
     "output_type": "stream",
     "text": [
      "***** Running training *****\n",
      "  Num examples = 22528\n",
      "  Num Epochs = 3\n",
      "  Instantaneous batch size per device = 256\n",
      "  Total train batch size (w. parallel, distributed & accumulation) = 256\n",
      "  Gradient Accumulation steps = 1\n",
      "  Total optimization steps = 264\n"
     ]
    },
    {
     "name": "stdout",
     "output_type": "stream",
     "text": [
      "********************\n",
      "Launch training for day 20 are:\n",
      "********************\n",
      "\n"
     ]
    },
    {
     "data": {
      "text/html": [
       "\n",
       "    <div>\n",
       "      \n",
       "      <progress value='264' max='264' style='width:300px; height:20px; vertical-align: middle;'></progress>\n",
       "      [264/264 00:08, Epoch 3/3]\n",
       "    </div>\n",
       "    <table border=\"1\" class=\"dataframe\">\n",
       "  <thead>\n",
       "    <tr style=\"text-align: left;\">\n",
       "      <th>Step</th>\n",
       "      <th>Training Loss</th>\n",
       "    </tr>\n",
       "  </thead>\n",
       "  <tbody>\n",
       "    <tr>\n",
       "      <td>200</td>\n",
       "      <td>3.585500</td>\n",
       "    </tr>\n",
       "  </tbody>\n",
       "</table><p>"
      ],
      "text/plain": [
       "<IPython.core.display.HTML object>"
      ]
     },
     "metadata": {},
     "output_type": "display_data"
    },
    {
     "name": "stderr",
     "output_type": "stream",
     "text": [
      "\n",
      "\n",
      "Training completed. Do not forget to share your model on huggingface.co/models =)\n",
      "\n",
      "\n"
     ]
    },
    {
     "name": "stdout",
     "output_type": "stream",
     "text": [
      "********************\n",
      "Eval results for day 21 are:\t\n",
      "\n",
      "********************\n",
      "\n",
      " eval/loss = 4.080514907836914\n",
      " eval/next-item/ndcg_at_10 = 0.6158176064491272\n",
      " eval/next-item/ndcg_at_20 = 0.6175668239593506\n",
      " eval/next-item/recall_at_10 = 0.6209591627120972\n",
      " eval/next-item/recall_at_20 = 0.6277086734771729\n",
      " eval_runtime = 1.3126\n",
      " eval_samples_per_second = 2145.362\n",
      " eval_steps_per_second = 67.043\n"
     ]
    },
    {
     "name": "stderr",
     "output_type": "stream",
     "text": [
      "***** Running training *****\n",
      "  Num examples = 22272\n",
      "  Num Epochs = 3\n",
      "  Instantaneous batch size per device = 256\n",
      "  Total train batch size (w. parallel, distributed & accumulation) = 256\n",
      "  Gradient Accumulation steps = 1\n",
      "  Total optimization steps = 261\n"
     ]
    },
    {
     "name": "stdout",
     "output_type": "stream",
     "text": [
      "********************\n",
      "Launch training for day 21 are:\n",
      "********************\n",
      "\n"
     ]
    },
    {
     "data": {
      "text/html": [
       "\n",
       "    <div>\n",
       "      \n",
       "      <progress value='261' max='261' style='width:300px; height:20px; vertical-align: middle;'></progress>\n",
       "      [261/261 00:08, Epoch 3/3]\n",
       "    </div>\n",
       "    <table border=\"1\" class=\"dataframe\">\n",
       "  <thead>\n",
       "    <tr style=\"text-align: left;\">\n",
       "      <th>Step</th>\n",
       "      <th>Training Loss</th>\n",
       "    </tr>\n",
       "  </thead>\n",
       "  <tbody>\n",
       "    <tr>\n",
       "      <td>200</td>\n",
       "      <td>3.744700</td>\n",
       "    </tr>\n",
       "  </tbody>\n",
       "</table><p>"
      ],
      "text/plain": [
       "<IPython.core.display.HTML object>"
      ]
     },
     "metadata": {},
     "output_type": "display_data"
    },
    {
     "name": "stderr",
     "output_type": "stream",
     "text": [
      "\n",
      "\n",
      "Training completed. Do not forget to share your model on huggingface.co/models =)\n",
      "\n",
      "\n"
     ]
    },
    {
     "name": "stdout",
     "output_type": "stream",
     "text": [
      "********************\n",
      "Eval results for day 22 are:\t\n",
      "\n",
      "********************\n",
      "\n",
      " eval/loss = 4.265340328216553\n",
      " eval/next-item/ndcg_at_10 = 0.5925617814064026\n",
      " eval/next-item/ndcg_at_20 = 0.5949546694755554\n",
      " eval/next-item/recall_at_10 = 0.6016089916229248\n",
      " eval/next-item/recall_at_20 = 0.6110528111457825\n",
      " eval_runtime = 1.4228\n",
      " eval_samples_per_second = 2024.202\n",
      " eval_steps_per_second = 63.256\n"
     ]
    },
    {
     "name": "stderr",
     "output_type": "stream",
     "text": [
      "***** Running training *****\n",
      "  Num examples = 22528\n",
      "  Num Epochs = 3\n",
      "  Instantaneous batch size per device = 256\n",
      "  Total train batch size (w. parallel, distributed & accumulation) = 256\n",
      "  Gradient Accumulation steps = 1\n",
      "  Total optimization steps = 264\n"
     ]
    },
    {
     "name": "stdout",
     "output_type": "stream",
     "text": [
      "********************\n",
      "Launch training for day 22 are:\n",
      "********************\n",
      "\n"
     ]
    },
    {
     "data": {
      "text/html": [
       "\n",
       "    <div>\n",
       "      \n",
       "      <progress value='264' max='264' style='width:300px; height:20px; vertical-align: middle;'></progress>\n",
       "      [264/264 00:08, Epoch 3/3]\n",
       "    </div>\n",
       "    <table border=\"1\" class=\"dataframe\">\n",
       "  <thead>\n",
       "    <tr style=\"text-align: left;\">\n",
       "      <th>Step</th>\n",
       "      <th>Training Loss</th>\n",
       "    </tr>\n",
       "  </thead>\n",
       "  <tbody>\n",
       "    <tr>\n",
       "      <td>200</td>\n",
       "      <td>3.808700</td>\n",
       "    </tr>\n",
       "  </tbody>\n",
       "</table><p>"
      ],
      "text/plain": [
       "<IPython.core.display.HTML object>"
      ]
     },
     "metadata": {},
     "output_type": "display_data"
    },
    {
     "name": "stderr",
     "output_type": "stream",
     "text": [
      "\n",
      "\n",
      "Training completed. Do not forget to share your model on huggingface.co/models =)\n",
      "\n",
      "\n"
     ]
    },
    {
     "name": "stdout",
     "output_type": "stream",
     "text": [
      "********************\n",
      "Eval results for day 23 are:\t\n",
      "\n",
      "********************\n",
      "\n",
      " eval/loss = 3.9860706329345703\n",
      " eval/next-item/ndcg_at_10 = 0.6229605674743652\n",
      " eval/next-item/ndcg_at_20 = 0.6247086524963379\n",
      " eval/next-item/recall_at_10 = 0.631407618522644\n",
      " eval/next-item/recall_at_20 = 0.6383238434791565\n",
      " eval_runtime = 1.1558\n",
      " eval_samples_per_second = 2131.774\n",
      " eval_steps_per_second = 66.618\n"
     ]
    },
    {
     "name": "stderr",
     "output_type": "stream",
     "text": [
      "***** Running training *****\n",
      "  Num examples = 19456\n",
      "  Num Epochs = 3\n",
      "  Instantaneous batch size per device = 256\n",
      "  Total train batch size (w. parallel, distributed & accumulation) = 256\n",
      "  Gradient Accumulation steps = 1\n",
      "  Total optimization steps = 228\n"
     ]
    },
    {
     "name": "stdout",
     "output_type": "stream",
     "text": [
      "********************\n",
      "Launch training for day 23 are:\n",
      "********************\n",
      "\n"
     ]
    },
    {
     "data": {
      "text/html": [
       "\n",
       "    <div>\n",
       "      \n",
       "      <progress value='228' max='228' style='width:300px; height:20px; vertical-align: middle;'></progress>\n",
       "      [228/228 00:07, Epoch 3/3]\n",
       "    </div>\n",
       "    <table border=\"1\" class=\"dataframe\">\n",
       "  <thead>\n",
       "    <tr style=\"text-align: left;\">\n",
       "      <th>Step</th>\n",
       "      <th>Training Loss</th>\n",
       "    </tr>\n",
       "  </thead>\n",
       "  <tbody>\n",
       "    <tr>\n",
       "      <td>200</td>\n",
       "      <td>3.753800</td>\n",
       "    </tr>\n",
       "  </tbody>\n",
       "</table><p>"
      ],
      "text/plain": [
       "<IPython.core.display.HTML object>"
      ]
     },
     "metadata": {},
     "output_type": "display_data"
    },
    {
     "name": "stderr",
     "output_type": "stream",
     "text": [
      "\n",
      "\n",
      "Training completed. Do not forget to share your model on huggingface.co/models =)\n",
      "\n",
      "\n"
     ]
    },
    {
     "name": "stdout",
     "output_type": "stream",
     "text": [
      "********************\n",
      "Eval results for day 24 are:\t\n",
      "\n",
      "********************\n",
      "\n",
      " eval/loss = 3.780963659286499\n",
      " eval/next-item/ndcg_at_10 = 0.6470962762832642\n",
      " eval/next-item/ndcg_at_20 = 0.6499475240707397\n",
      " eval/next-item/recall_at_10 = 0.6549236178398132\n",
      " eval/next-item/recall_at_20 = 0.6663837432861328\n",
      " eval_runtime = 1.094\n",
      " eval_samples_per_second = 2164.527\n",
      " eval_steps_per_second = 67.641\n",
      "********************\n",
      "Launch training for day 24 are:\n",
      "********************\n",
      "\n"
     ]
    },
    {
     "name": "stderr",
     "output_type": "stream",
     "text": [
      "***** Running training *****\n",
      "  Num examples = 18432\n",
      "  Num Epochs = 3\n",
      "  Instantaneous batch size per device = 256\n",
      "  Total train batch size (w. parallel, distributed & accumulation) = 256\n",
      "  Gradient Accumulation steps = 1\n",
      "  Total optimization steps = 216\n"
     ]
    },
    {
     "data": {
      "text/html": [
       "\n",
       "    <div>\n",
       "      \n",
       "      <progress value='216' max='216' style='width:300px; height:20px; vertical-align: middle;'></progress>\n",
       "      [216/216 00:06, Epoch 3/3]\n",
       "    </div>\n",
       "    <table border=\"1\" class=\"dataframe\">\n",
       "  <thead>\n",
       "    <tr style=\"text-align: left;\">\n",
       "      <th>Step</th>\n",
       "      <th>Training Loss</th>\n",
       "    </tr>\n",
       "  </thead>\n",
       "  <tbody>\n",
       "    <tr>\n",
       "      <td>200</td>\n",
       "      <td>3.650400</td>\n",
       "    </tr>\n",
       "  </tbody>\n",
       "</table><p>"
      ],
      "text/plain": [
       "<IPython.core.display.HTML object>"
      ]
     },
     "metadata": {},
     "output_type": "display_data"
    },
    {
     "name": "stderr",
     "output_type": "stream",
     "text": [
      "\n",
      "\n",
      "Training completed. Do not forget to share your model on huggingface.co/models =)\n",
      "\n",
      "\n"
     ]
    },
    {
     "name": "stdout",
     "output_type": "stream",
     "text": [
      "********************\n",
      "Eval results for day 25 are:\t\n",
      "\n",
      "********************\n",
      "\n",
      " eval/loss = 3.9782330989837646\n",
      " eval/next-item/ndcg_at_10 = 0.6255952715873718\n",
      " eval/next-item/ndcg_at_20 = 0.6282579898834229\n",
      " eval/next-item/recall_at_10 = 0.6336396336555481\n",
      " eval/next-item/recall_at_20 = 0.6440271735191345\n",
      " eval_runtime = 1.2034\n",
      " eval_samples_per_second = 2100.662\n",
      " eval_steps_per_second = 65.646\n",
      "********************\n",
      "Launch training for day 25 are:\n",
      "********************\n",
      "\n"
     ]
    },
    {
     "name": "stderr",
     "output_type": "stream",
     "text": [
      "***** Running training *****\n",
      "  Num examples = 19712\n",
      "  Num Epochs = 3\n",
      "  Instantaneous batch size per device = 256\n",
      "  Total train batch size (w. parallel, distributed & accumulation) = 256\n",
      "  Gradient Accumulation steps = 1\n",
      "  Total optimization steps = 231\n"
     ]
    },
    {
     "data": {
      "text/html": [
       "\n",
       "    <div>\n",
       "      \n",
       "      <progress value='231' max='231' style='width:300px; height:20px; vertical-align: middle;'></progress>\n",
       "      [231/231 00:07, Epoch 3/3]\n",
       "    </div>\n",
       "    <table border=\"1\" class=\"dataframe\">\n",
       "  <thead>\n",
       "    <tr style=\"text-align: left;\">\n",
       "      <th>Step</th>\n",
       "      <th>Training Loss</th>\n",
       "    </tr>\n",
       "  </thead>\n",
       "  <tbody>\n",
       "    <tr>\n",
       "      <td>200</td>\n",
       "      <td>3.706200</td>\n",
       "    </tr>\n",
       "  </tbody>\n",
       "</table><p>"
      ],
      "text/plain": [
       "<IPython.core.display.HTML object>"
      ]
     },
     "metadata": {},
     "output_type": "display_data"
    },
    {
     "name": "stderr",
     "output_type": "stream",
     "text": [
      "\n",
      "\n",
      "Training completed. Do not forget to share your model on huggingface.co/models =)\n",
      "\n",
      "\n"
     ]
    },
    {
     "name": "stdout",
     "output_type": "stream",
     "text": [
      "********************\n",
      "Eval results for day 26 are:\t\n",
      "\n",
      "********************\n",
      "\n",
      " eval/loss = 3.9874045848846436\n",
      " eval/next-item/ndcg_at_10 = 0.6329874396324158\n",
      " eval/next-item/ndcg_at_20 = 0.6350870728492737\n",
      " eval/next-item/recall_at_10 = 0.6451122164726257\n",
      " eval/next-item/recall_at_20 = 0.6534804105758667\n",
      " eval_runtime = 1.2273\n",
      " eval_samples_per_second = 2164.147\n",
      " eval_steps_per_second = 67.63\n"
     ]
    },
    {
     "name": "stderr",
     "output_type": "stream",
     "text": [
      "***** Running training *****\n",
      "  Num examples = 20992\n",
      "  Num Epochs = 3\n",
      "  Instantaneous batch size per device = 256\n",
      "  Total train batch size (w. parallel, distributed & accumulation) = 256\n",
      "  Gradient Accumulation steps = 1\n",
      "  Total optimization steps = 246\n"
     ]
    },
    {
     "name": "stdout",
     "output_type": "stream",
     "text": [
      "********************\n",
      "Launch training for day 26 are:\n",
      "********************\n",
      "\n"
     ]
    },
    {
     "data": {
      "text/html": [
       "\n",
       "    <div>\n",
       "      \n",
       "      <progress value='246' max='246' style='width:300px; height:20px; vertical-align: middle;'></progress>\n",
       "      [246/246 00:07, Epoch 3/3]\n",
       "    </div>\n",
       "    <table border=\"1\" class=\"dataframe\">\n",
       "  <thead>\n",
       "    <tr style=\"text-align: left;\">\n",
       "      <th>Step</th>\n",
       "      <th>Training Loss</th>\n",
       "    </tr>\n",
       "  </thead>\n",
       "  <tbody>\n",
       "    <tr>\n",
       "      <td>200</td>\n",
       "      <td>3.726300</td>\n",
       "    </tr>\n",
       "  </tbody>\n",
       "</table><p>"
      ],
      "text/plain": [
       "<IPython.core.display.HTML object>"
      ]
     },
     "metadata": {},
     "output_type": "display_data"
    },
    {
     "name": "stderr",
     "output_type": "stream",
     "text": [
      "\n",
      "\n",
      "Training completed. Do not forget to share your model on huggingface.co/models =)\n",
      "\n",
      "\n"
     ]
    },
    {
     "name": "stdout",
     "output_type": "stream",
     "text": [
      "********************\n",
      "Eval results for day 27 are:\t\n",
      "\n",
      "********************\n",
      "\n",
      " eval/loss = 4.0463762283325195\n",
      " eval/next-item/ndcg_at_10 = 0.61847984790802\n",
      " eval/next-item/ndcg_at_20 = 0.6200694441795349\n",
      " eval/next-item/recall_at_10 = 0.6248775720596313\n",
      " eval/next-item/recall_at_20 = 0.6310806274414062\n",
      " eval_runtime = 1.4141\n",
      " eval_samples_per_second = 2172.436\n",
      " eval_steps_per_second = 67.889\n"
     ]
    },
    {
     "name": "stderr",
     "output_type": "stream",
     "text": [
      "***** Running training *****\n",
      "  Num examples = 24320\n",
      "  Num Epochs = 3\n",
      "  Instantaneous batch size per device = 256\n",
      "  Total train batch size (w. parallel, distributed & accumulation) = 256\n",
      "  Gradient Accumulation steps = 1\n",
      "  Total optimization steps = 285\n"
     ]
    },
    {
     "name": "stdout",
     "output_type": "stream",
     "text": [
      "********************\n",
      "Launch training for day 27 are:\n",
      "********************\n",
      "\n"
     ]
    },
    {
     "data": {
      "text/html": [
       "\n",
       "    <div>\n",
       "      \n",
       "      <progress value='285' max='285' style='width:300px; height:20px; vertical-align: middle;'></progress>\n",
       "      [285/285 00:09, Epoch 3/3]\n",
       "    </div>\n",
       "    <table border=\"1\" class=\"dataframe\">\n",
       "  <thead>\n",
       "    <tr style=\"text-align: left;\">\n",
       "      <th>Step</th>\n",
       "      <th>Training Loss</th>\n",
       "    </tr>\n",
       "  </thead>\n",
       "  <tbody>\n",
       "    <tr>\n",
       "      <td>200</td>\n",
       "      <td>3.740400</td>\n",
       "    </tr>\n",
       "  </tbody>\n",
       "</table><p>"
      ],
      "text/plain": [
       "<IPython.core.display.HTML object>"
      ]
     },
     "metadata": {},
     "output_type": "display_data"
    },
    {
     "name": "stderr",
     "output_type": "stream",
     "text": [
      "\n",
      "\n",
      "Training completed. Do not forget to share your model on huggingface.co/models =)\n",
      "\n",
      "\n"
     ]
    },
    {
     "name": "stdout",
     "output_type": "stream",
     "text": [
      "********************\n",
      "Eval results for day 28 are:\t\n",
      "\n",
      "********************\n",
      "\n",
      " eval/loss = 3.9197194576263428\n",
      " eval/next-item/ndcg_at_10 = 0.6377333402633667\n",
      " eval/next-item/ndcg_at_20 = 0.6387873888015747\n",
      " eval/next-item/recall_at_10 = 0.646037757396698\n",
      " eval/next-item/recall_at_20 = 0.650188684463501\n",
      " eval_runtime = 1.2086\n",
      " eval_samples_per_second = 2197.576\n",
      " eval_steps_per_second = 68.674\n",
      "********************\n",
      "Launch training for day 28 are:\n",
      "********************\n",
      "\n"
     ]
    },
    {
     "name": "stderr",
     "output_type": "stream",
     "text": [
      "***** Running training *****\n",
      "  Num examples = 20992\n",
      "  Num Epochs = 3\n",
      "  Instantaneous batch size per device = 256\n",
      "  Total train batch size (w. parallel, distributed & accumulation) = 256\n",
      "  Gradient Accumulation steps = 1\n",
      "  Total optimization steps = 246\n"
     ]
    },
    {
     "data": {
      "text/html": [
       "\n",
       "    <div>\n",
       "      \n",
       "      <progress value='246' max='246' style='width:300px; height:20px; vertical-align: middle;'></progress>\n",
       "      [246/246 00:07, Epoch 3/3]\n",
       "    </div>\n",
       "    <table border=\"1\" class=\"dataframe\">\n",
       "  <thead>\n",
       "    <tr style=\"text-align: left;\">\n",
       "      <th>Step</th>\n",
       "      <th>Training Loss</th>\n",
       "    </tr>\n",
       "  </thead>\n",
       "  <tbody>\n",
       "    <tr>\n",
       "      <td>200</td>\n",
       "      <td>3.622000</td>\n",
       "    </tr>\n",
       "  </tbody>\n",
       "</table><p>"
      ],
      "text/plain": [
       "<IPython.core.display.HTML object>"
      ]
     },
     "metadata": {},
     "output_type": "display_data"
    },
    {
     "name": "stderr",
     "output_type": "stream",
     "text": [
      "\n",
      "\n",
      "Training completed. Do not forget to share your model on huggingface.co/models =)\n",
      "\n",
      "\n"
     ]
    },
    {
     "name": "stdout",
     "output_type": "stream",
     "text": [
      "********************\n",
      "Eval results for day 29 are:\t\n",
      "\n",
      "********************\n",
      "\n",
      " eval/loss = 4.064335346221924\n",
      " eval/next-item/ndcg_at_10 = 0.6154530644416809\n",
      " eval/next-item/ndcg_at_20 = 0.6172298789024353\n",
      " eval/next-item/recall_at_10 = 0.6217923164367676\n",
      " eval/next-item/recall_at_20 = 0.6288985013961792\n",
      " eval_runtime = 1.1881\n",
      " eval_samples_per_second = 2154.764\n",
      " eval_steps_per_second = 67.336\n",
      "********************\n",
      "Launch training for day 29 are:\n",
      "********************\n",
      "\n"
     ]
    },
    {
     "name": "stderr",
     "output_type": "stream",
     "text": [
      "***** Running training *****\n",
      "  Num examples = 19968\n",
      "  Num Epochs = 3\n",
      "  Instantaneous batch size per device = 256\n",
      "  Total train batch size (w. parallel, distributed & accumulation) = 256\n",
      "  Gradient Accumulation steps = 1\n",
      "  Total optimization steps = 234\n"
     ]
    },
    {
     "data": {
      "text/html": [
       "\n",
       "    <div>\n",
       "      \n",
       "      <progress value='234' max='234' style='width:300px; height:20px; vertical-align: middle;'></progress>\n",
       "      [234/234 00:07, Epoch 3/3]\n",
       "    </div>\n",
       "    <table border=\"1\" class=\"dataframe\">\n",
       "  <thead>\n",
       "    <tr style=\"text-align: left;\">\n",
       "      <th>Step</th>\n",
       "      <th>Training Loss</th>\n",
       "    </tr>\n",
       "  </thead>\n",
       "  <tbody>\n",
       "    <tr>\n",
       "      <td>200</td>\n",
       "      <td>3.794900</td>\n",
       "    </tr>\n",
       "  </tbody>\n",
       "</table><p>"
      ],
      "text/plain": [
       "<IPython.core.display.HTML object>"
      ]
     },
     "metadata": {},
     "output_type": "display_data"
    },
    {
     "name": "stderr",
     "output_type": "stream",
     "text": [
      "\n",
      "\n",
      "Training completed. Do not forget to share your model on huggingface.co/models =)\n",
      "\n",
      "\n"
     ]
    },
    {
     "name": "stdout",
     "output_type": "stream",
     "text": [
      "********************\n",
      "Eval results for day 30 are:\t\n",
      "\n",
      "********************\n",
      "\n",
      " eval/loss = 4.133776664733887\n",
      " eval/next-item/ndcg_at_10 = 0.6140860915184021\n",
      " eval/next-item/ndcg_at_20 = 0.616352915763855\n",
      " eval/next-item/recall_at_10 = 0.6195161938667297\n",
      " eval/next-item/recall_at_20 = 0.6285362839698792\n",
      " eval_runtime = 1.1484\n",
      " eval_samples_per_second = 2145.581\n",
      " eval_steps_per_second = 67.049\n",
      "********************\n",
      "Launch training for day 30 are:\n",
      "********************\n",
      "\n"
     ]
    },
    {
     "name": "stderr",
     "output_type": "stream",
     "text": [
      "***** Running training *****\n",
      "  Num examples = 19200\n",
      "  Num Epochs = 3\n",
      "  Instantaneous batch size per device = 256\n",
      "  Total train batch size (w. parallel, distributed & accumulation) = 256\n",
      "  Gradient Accumulation steps = 1\n",
      "  Total optimization steps = 225\n"
     ]
    },
    {
     "data": {
      "text/html": [
       "\n",
       "    <div>\n",
       "      \n",
       "      <progress value='225' max='225' style='width:300px; height:20px; vertical-align: middle;'></progress>\n",
       "      [225/225 00:07, Epoch 3/3]\n",
       "    </div>\n",
       "    <table border=\"1\" class=\"dataframe\">\n",
       "  <thead>\n",
       "    <tr style=\"text-align: left;\">\n",
       "      <th>Step</th>\n",
       "      <th>Training Loss</th>\n",
       "    </tr>\n",
       "  </thead>\n",
       "  <tbody>\n",
       "    <tr>\n",
       "      <td>200</td>\n",
       "      <td>3.778600</td>\n",
       "    </tr>\n",
       "  </tbody>\n",
       "</table><p>"
      ],
      "text/plain": [
       "<IPython.core.display.HTML object>"
      ]
     },
     "metadata": {},
     "output_type": "display_data"
    },
    {
     "name": "stderr",
     "output_type": "stream",
     "text": [
      "\n",
      "\n",
      "Training completed. Do not forget to share your model on huggingface.co/models =)\n",
      "\n",
      "\n"
     ]
    },
    {
     "name": "stdout",
     "output_type": "stream",
     "text": [
      "********************\n",
      "Eval results for day 31 are:\t\n",
      "\n",
      "********************\n",
      "\n",
      " eval/loss = 3.9834365844726562\n",
      " eval/next-item/ndcg_at_10 = 0.6227633953094482\n",
      " eval/next-item/ndcg_at_20 = 0.625108540058136\n",
      " eval/next-item/recall_at_10 = 0.6283432841300964\n",
      " eval/next-item/recall_at_20 = 0.6379241347312927\n",
      " eval_runtime = 1.1801\n",
      " eval_samples_per_second = 2142.248\n",
      " eval_steps_per_second = 66.945\n"
     ]
    },
    {
     "name": "stderr",
     "output_type": "stream",
     "text": [
      "***** Running training *****\n",
      "  Num examples = 19968\n",
      "  Num Epochs = 3\n",
      "  Instantaneous batch size per device = 256\n",
      "  Total train batch size (w. parallel, distributed & accumulation) = 256\n",
      "  Gradient Accumulation steps = 1\n",
      "  Total optimization steps = 234\n"
     ]
    },
    {
     "name": "stdout",
     "output_type": "stream",
     "text": [
      "********************\n",
      "Launch training for day 31 are:\n",
      "********************\n",
      "\n"
     ]
    },
    {
     "data": {
      "text/html": [
       "\n",
       "    <div>\n",
       "      \n",
       "      <progress value='234' max='234' style='width:300px; height:20px; vertical-align: middle;'></progress>\n",
       "      [234/234 00:07, Epoch 3/3]\n",
       "    </div>\n",
       "    <table border=\"1\" class=\"dataframe\">\n",
       "  <thead>\n",
       "    <tr style=\"text-align: left;\">\n",
       "      <th>Step</th>\n",
       "      <th>Training Loss</th>\n",
       "    </tr>\n",
       "  </thead>\n",
       "  <tbody>\n",
       "    <tr>\n",
       "      <td>200</td>\n",
       "      <td>3.746000</td>\n",
       "    </tr>\n",
       "  </tbody>\n",
       "</table><p>"
      ],
      "text/plain": [
       "<IPython.core.display.HTML object>"
      ]
     },
     "metadata": {},
     "output_type": "display_data"
    },
    {
     "name": "stderr",
     "output_type": "stream",
     "text": [
      "\n",
      "\n",
      "Training completed. Do not forget to share your model on huggingface.co/models =)\n",
      "\n",
      "\n"
     ]
    },
    {
     "name": "stdout",
     "output_type": "stream",
     "text": [
      "********************\n",
      "Eval results for day 32 are:\t\n",
      "\n",
      "********************\n",
      "\n",
      " eval/loss = 4.107558727264404\n",
      " eval/next-item/ndcg_at_10 = 0.6108382940292358\n",
      " eval/next-item/ndcg_at_20 = 0.6139330267906189\n",
      " eval/next-item/recall_at_10 = 0.6196200251579285\n",
      " eval/next-item/recall_at_20 = 0.6320279240608215\n",
      " eval_runtime = 1.1948\n",
      " eval_samples_per_second = 2169.478\n",
      " eval_steps_per_second = 67.796\n"
     ]
    },
    {
     "name": "stderr",
     "output_type": "stream",
     "text": [
      "***** Running training *****\n",
      "  Num examples = 20480\n",
      "  Num Epochs = 3\n",
      "  Instantaneous batch size per device = 256\n",
      "  Total train batch size (w. parallel, distributed & accumulation) = 256\n",
      "  Gradient Accumulation steps = 1\n",
      "  Total optimization steps = 240\n"
     ]
    },
    {
     "name": "stdout",
     "output_type": "stream",
     "text": [
      "********************\n",
      "Launch training for day 32 are:\n",
      "********************\n",
      "\n"
     ]
    },
    {
     "data": {
      "text/html": [
       "\n",
       "    <div>\n",
       "      \n",
       "      <progress value='240' max='240' style='width:300px; height:20px; vertical-align: middle;'></progress>\n",
       "      [240/240 00:07, Epoch 3/3]\n",
       "    </div>\n",
       "    <table border=\"1\" class=\"dataframe\">\n",
       "  <thead>\n",
       "    <tr style=\"text-align: left;\">\n",
       "      <th>Step</th>\n",
       "      <th>Training Loss</th>\n",
       "    </tr>\n",
       "  </thead>\n",
       "  <tbody>\n",
       "    <tr>\n",
       "      <td>200</td>\n",
       "      <td>3.794200</td>\n",
       "    </tr>\n",
       "  </tbody>\n",
       "</table><p>"
      ],
      "text/plain": [
       "<IPython.core.display.HTML object>"
      ]
     },
     "metadata": {},
     "output_type": "display_data"
    },
    {
     "name": "stderr",
     "output_type": "stream",
     "text": [
      "\n",
      "\n",
      "Training completed. Do not forget to share your model on huggingface.co/models =)\n",
      "\n",
      "\n"
     ]
    },
    {
     "name": "stdout",
     "output_type": "stream",
     "text": [
      "********************\n",
      "Eval results for day 33 are:\t\n",
      "\n",
      "********************\n",
      "\n",
      " eval/loss = 4.1309990882873535\n",
      " eval/next-item/ndcg_at_10 = 0.6098519563674927\n",
      " eval/next-item/ndcg_at_20 = 0.6128352284431458\n",
      " eval/next-item/recall_at_10 = 0.6170964241027832\n",
      " eval/next-item/recall_at_20 = 0.628753125667572\n",
      " eval_runtime = 1.3271\n",
      " eval_samples_per_second = 2146.062\n",
      " eval_steps_per_second = 67.064\n"
     ]
    },
    {
     "name": "stderr",
     "output_type": "stream",
     "text": [
      "***** Running training *****\n",
      "  Num examples = 22528\n",
      "  Num Epochs = 3\n",
      "  Instantaneous batch size per device = 256\n",
      "  Total train batch size (w. parallel, distributed & accumulation) = 256\n",
      "  Gradient Accumulation steps = 1\n",
      "  Total optimization steps = 264\n"
     ]
    },
    {
     "name": "stdout",
     "output_type": "stream",
     "text": [
      "********************\n",
      "Launch training for day 33 are:\n",
      "********************\n",
      "\n"
     ]
    },
    {
     "data": {
      "text/html": [
       "\n",
       "    <div>\n",
       "      \n",
       "      <progress value='264' max='264' style='width:300px; height:20px; vertical-align: middle;'></progress>\n",
       "      [264/264 00:08, Epoch 3/3]\n",
       "    </div>\n",
       "    <table border=\"1\" class=\"dataframe\">\n",
       "  <thead>\n",
       "    <tr style=\"text-align: left;\">\n",
       "      <th>Step</th>\n",
       "      <th>Training Loss</th>\n",
       "    </tr>\n",
       "  </thead>\n",
       "  <tbody>\n",
       "    <tr>\n",
       "      <td>200</td>\n",
       "      <td>3.816600</td>\n",
       "    </tr>\n",
       "  </tbody>\n",
       "</table><p>"
      ],
      "text/plain": [
       "<IPython.core.display.HTML object>"
      ]
     },
     "metadata": {},
     "output_type": "display_data"
    },
    {
     "name": "stderr",
     "output_type": "stream",
     "text": [
      "\n",
      "\n",
      "Training completed. Do not forget to share your model on huggingface.co/models =)\n",
      "\n",
      "\n"
     ]
    },
    {
     "name": "stdout",
     "output_type": "stream",
     "text": [
      "********************\n",
      "Eval results for day 34 are:\t\n",
      "\n",
      "********************\n",
      "\n",
      " eval/loss = 3.9632091522216797\n",
      " eval/next-item/ndcg_at_10 = 0.6336442828178406\n",
      " eval/next-item/ndcg_at_20 = 0.6355419754981995\n",
      " eval/next-item/recall_at_10 = 0.6409684419631958\n",
      " eval/next-item/recall_at_20 = 0.648614227771759\n",
      " eval_runtime = 1.4638\n",
      " eval_samples_per_second = 2164.173\n",
      " eval_steps_per_second = 67.63\n"
     ]
    },
    {
     "name": "stderr",
     "output_type": "stream",
     "text": [
      "***** Running training *****\n",
      "  Num examples = 24832\n",
      "  Num Epochs = 3\n",
      "  Instantaneous batch size per device = 256\n",
      "  Total train batch size (w. parallel, distributed & accumulation) = 256\n",
      "  Gradient Accumulation steps = 1\n",
      "  Total optimization steps = 291\n"
     ]
    },
    {
     "name": "stdout",
     "output_type": "stream",
     "text": [
      "********************\n",
      "Launch training for day 34 are:\n",
      "********************\n",
      "\n"
     ]
    },
    {
     "data": {
      "text/html": [
       "\n",
       "    <div>\n",
       "      \n",
       "      <progress value='291' max='291' style='width:300px; height:20px; vertical-align: middle;'></progress>\n",
       "      [291/291 00:09, Epoch 3/3]\n",
       "    </div>\n",
       "    <table border=\"1\" class=\"dataframe\">\n",
       "  <thead>\n",
       "    <tr style=\"text-align: left;\">\n",
       "      <th>Step</th>\n",
       "      <th>Training Loss</th>\n",
       "    </tr>\n",
       "  </thead>\n",
       "  <tbody>\n",
       "    <tr>\n",
       "      <td>200</td>\n",
       "      <td>3.795900</td>\n",
       "    </tr>\n",
       "  </tbody>\n",
       "</table><p>"
      ],
      "text/plain": [
       "<IPython.core.display.HTML object>"
      ]
     },
     "metadata": {},
     "output_type": "display_data"
    },
    {
     "name": "stderr",
     "output_type": "stream",
     "text": [
      "\n",
      "\n",
      "Training completed. Do not forget to share your model on huggingface.co/models =)\n",
      "\n",
      "\n"
     ]
    },
    {
     "name": "stdout",
     "output_type": "stream",
     "text": [
      "********************\n",
      "Eval results for day 35 are:\t\n",
      "\n",
      "********************\n",
      "\n",
      " eval/loss = 3.9054877758026123\n",
      " eval/next-item/ndcg_at_10 = 0.6363129019737244\n",
      " eval/next-item/ndcg_at_20 = 0.6377655863761902\n",
      " eval/next-item/recall_at_10 = 0.644076406955719\n",
      " eval/next-item/recall_at_20 = 0.6499362587928772\n",
      " eval_runtime = 1.8286\n",
      " eval_samples_per_second = 2152.415\n",
      " eval_steps_per_second = 67.263\n"
     ]
    },
    {
     "name": "stderr",
     "output_type": "stream",
     "text": [
      "***** Running training *****\n",
      "  Num examples = 31232\n",
      "  Num Epochs = 3\n",
      "  Instantaneous batch size per device = 256\n",
      "  Total train batch size (w. parallel, distributed & accumulation) = 256\n",
      "  Gradient Accumulation steps = 1\n",
      "  Total optimization steps = 366\n"
     ]
    },
    {
     "name": "stdout",
     "output_type": "stream",
     "text": [
      "********************\n",
      "Launch training for day 35 are:\n",
      "********************\n",
      "\n"
     ]
    },
    {
     "data": {
      "text/html": [
       "\n",
       "    <div>\n",
       "      \n",
       "      <progress value='366' max='366' style='width:300px; height:20px; vertical-align: middle;'></progress>\n",
       "      [366/366 00:11, Epoch 3/3]\n",
       "    </div>\n",
       "    <table border=\"1\" class=\"dataframe\">\n",
       "  <thead>\n",
       "    <tr style=\"text-align: left;\">\n",
       "      <th>Step</th>\n",
       "      <th>Training Loss</th>\n",
       "    </tr>\n",
       "  </thead>\n",
       "  <tbody>\n",
       "    <tr>\n",
       "      <td>200</td>\n",
       "      <td>3.720000</td>\n",
       "    </tr>\n",
       "  </tbody>\n",
       "</table><p>"
      ],
      "text/plain": [
       "<IPython.core.display.HTML object>"
      ]
     },
     "metadata": {},
     "output_type": "display_data"
    },
    {
     "name": "stderr",
     "output_type": "stream",
     "text": [
      "\n",
      "\n",
      "Training completed. Do not forget to share your model on huggingface.co/models =)\n",
      "\n",
      "\n"
     ]
    },
    {
     "name": "stdout",
     "output_type": "stream",
     "text": [
      "********************\n",
      "Eval results for day 36 are:\t\n",
      "\n",
      "********************\n",
      "\n",
      " eval/loss = 4.371150016784668\n",
      " eval/next-item/ndcg_at_10 = 0.586733877658844\n",
      " eval/next-item/ndcg_at_20 = 0.5889326333999634\n",
      " eval/next-item/recall_at_10 = 0.5955147743225098\n",
      " eval/next-item/recall_at_20 = 0.6044312715530396\n",
      " eval_runtime = 1.7266\n",
      " eval_samples_per_second = 2149.918\n",
      " eval_steps_per_second = 67.185\n"
     ]
    },
    {
     "name": "stderr",
     "output_type": "stream",
     "text": [
      "***** Running training *****\n",
      "  Num examples = 29440\n",
      "  Num Epochs = 3\n",
      "  Instantaneous batch size per device = 256\n",
      "  Total train batch size (w. parallel, distributed & accumulation) = 256\n",
      "  Gradient Accumulation steps = 1\n",
      "  Total optimization steps = 345\n"
     ]
    },
    {
     "name": "stdout",
     "output_type": "stream",
     "text": [
      "********************\n",
      "Launch training for day 36 are:\n",
      "********************\n",
      "\n"
     ]
    },
    {
     "data": {
      "text/html": [
       "\n",
       "    <div>\n",
       "      \n",
       "      <progress value='345' max='345' style='width:300px; height:20px; vertical-align: middle;'></progress>\n",
       "      [345/345 00:10, Epoch 3/3]\n",
       "    </div>\n",
       "    <table border=\"1\" class=\"dataframe\">\n",
       "  <thead>\n",
       "    <tr style=\"text-align: left;\">\n",
       "      <th>Step</th>\n",
       "      <th>Training Loss</th>\n",
       "    </tr>\n",
       "  </thead>\n",
       "  <tbody>\n",
       "    <tr>\n",
       "      <td>200</td>\n",
       "      <td>4.094800</td>\n",
       "    </tr>\n",
       "  </tbody>\n",
       "</table><p>"
      ],
      "text/plain": [
       "<IPython.core.display.HTML object>"
      ]
     },
     "metadata": {},
     "output_type": "display_data"
    },
    {
     "name": "stderr",
     "output_type": "stream",
     "text": [
      "\n",
      "\n",
      "Training completed. Do not forget to share your model on huggingface.co/models =)\n",
      "\n",
      "\n"
     ]
    },
    {
     "name": "stdout",
     "output_type": "stream",
     "text": [
      "********************\n",
      "Eval results for day 37 are:\t\n",
      "\n",
      "********************\n",
      "\n",
      " eval/loss = 4.245198726654053\n",
      " eval/next-item/ndcg_at_10 = 0.6008177399635315\n",
      " eval/next-item/ndcg_at_20 = 0.6028158068656921\n",
      " eval/next-item/recall_at_10 = 0.6116828322410583\n",
      " eval/next-item/recall_at_20 = 0.619854748249054\n",
      " eval_runtime = 1.5311\n",
      " eval_samples_per_second = 2173.567\n",
      " eval_steps_per_second = 67.924\n"
     ]
    },
    {
     "name": "stderr",
     "output_type": "stream",
     "text": [
      "***** Running training *****\n",
      "  Num examples = 26112\n",
      "  Num Epochs = 3\n",
      "  Instantaneous batch size per device = 256\n",
      "  Total train batch size (w. parallel, distributed & accumulation) = 256\n",
      "  Gradient Accumulation steps = 1\n",
      "  Total optimization steps = 306\n"
     ]
    },
    {
     "name": "stdout",
     "output_type": "stream",
     "text": [
      "********************\n",
      "Launch training for day 37 are:\n",
      "********************\n",
      "\n"
     ]
    },
    {
     "data": {
      "text/html": [
       "\n",
       "    <div>\n",
       "      \n",
       "      <progress value='306' max='306' style='width:300px; height:20px; vertical-align: middle;'></progress>\n",
       "      [306/306 00:09, Epoch 3/3]\n",
       "    </div>\n",
       "    <table border=\"1\" class=\"dataframe\">\n",
       "  <thead>\n",
       "    <tr style=\"text-align: left;\">\n",
       "      <th>Step</th>\n",
       "      <th>Training Loss</th>\n",
       "    </tr>\n",
       "  </thead>\n",
       "  <tbody>\n",
       "    <tr>\n",
       "      <td>200</td>\n",
       "      <td>3.986800</td>\n",
       "    </tr>\n",
       "  </tbody>\n",
       "</table><p>"
      ],
      "text/plain": [
       "<IPython.core.display.HTML object>"
      ]
     },
     "metadata": {},
     "output_type": "display_data"
    },
    {
     "name": "stderr",
     "output_type": "stream",
     "text": [
      "\n",
      "\n",
      "Training completed. Do not forget to share your model on huggingface.co/models =)\n",
      "\n",
      "\n"
     ]
    },
    {
     "name": "stdout",
     "output_type": "stream",
     "text": [
      "********************\n",
      "Eval results for day 38 are:\t\n",
      "\n",
      "********************\n",
      "\n",
      " eval/loss = 4.067870140075684\n",
      " eval/next-item/ndcg_at_10 = 0.6182776093482971\n",
      " eval/next-item/ndcg_at_20 = 0.6210024356842041\n",
      " eval/next-item/recall_at_10 = 0.633361279964447\n",
      " eval/next-item/recall_at_20 = 0.6439965963363647\n",
      " eval_runtime = 1.705\n",
      " eval_samples_per_second = 2102.048\n",
      " eval_steps_per_second = 65.689\n"
     ]
    },
    {
     "name": "stderr",
     "output_type": "stream",
     "text": [
      "***** Running training *****\n",
      "  Num examples = 28416\n",
      "  Num Epochs = 3\n",
      "  Instantaneous batch size per device = 256\n",
      "  Total train batch size (w. parallel, distributed & accumulation) = 256\n",
      "  Gradient Accumulation steps = 1\n",
      "  Total optimization steps = 333\n"
     ]
    },
    {
     "name": "stdout",
     "output_type": "stream",
     "text": [
      "********************\n",
      "Launch training for day 38 are:\n",
      "********************\n",
      "\n"
     ]
    },
    {
     "data": {
      "text/html": [
       "\n",
       "    <div>\n",
       "      \n",
       "      <progress value='333' max='333' style='width:300px; height:20px; vertical-align: middle;'></progress>\n",
       "      [333/333 00:10, Epoch 3/3]\n",
       "    </div>\n",
       "    <table border=\"1\" class=\"dataframe\">\n",
       "  <thead>\n",
       "    <tr style=\"text-align: left;\">\n",
       "      <th>Step</th>\n",
       "      <th>Training Loss</th>\n",
       "    </tr>\n",
       "  </thead>\n",
       "  <tbody>\n",
       "    <tr>\n",
       "      <td>200</td>\n",
       "      <td>3.828800</td>\n",
       "    </tr>\n",
       "  </tbody>\n",
       "</table><p>"
      ],
      "text/plain": [
       "<IPython.core.display.HTML object>"
      ]
     },
     "metadata": {},
     "output_type": "display_data"
    },
    {
     "name": "stderr",
     "output_type": "stream",
     "text": [
      "\n",
      "\n",
      "Training completed. Do not forget to share your model on huggingface.co/models =)\n",
      "\n",
      "\n"
     ]
    },
    {
     "name": "stdout",
     "output_type": "stream",
     "text": [
      "********************\n",
      "Eval results for day 39 are:\t\n",
      "\n",
      "********************\n",
      "\n",
      " eval/loss = 4.080437660217285\n",
      " eval/next-item/ndcg_at_10 = 0.6186615824699402\n",
      " eval/next-item/ndcg_at_20 = 0.6203497648239136\n",
      " eval/next-item/recall_at_10 = 0.6315938234329224\n",
      " eval/next-item/recall_at_20 = 0.6383638978004456\n",
      " eval_runtime = 1.6573\n",
      " eval_samples_per_second = 2143.243\n",
      " eval_steps_per_second = 66.976\n"
     ]
    },
    {
     "name": "stderr",
     "output_type": "stream",
     "text": [
      "***** Running training *****\n",
      "  Num examples = 28160\n",
      "  Num Epochs = 3\n",
      "  Instantaneous batch size per device = 256\n",
      "  Total train batch size (w. parallel, distributed & accumulation) = 256\n",
      "  Gradient Accumulation steps = 1\n",
      "  Total optimization steps = 330\n"
     ]
    },
    {
     "name": "stdout",
     "output_type": "stream",
     "text": [
      "********************\n",
      "Launch training for day 39 are:\n",
      "********************\n",
      "\n"
     ]
    },
    {
     "data": {
      "text/html": [
       "\n",
       "    <div>\n",
       "      \n",
       "      <progress value='330' max='330' style='width:300px; height:20px; vertical-align: middle;'></progress>\n",
       "      [330/330 00:10, Epoch 3/3]\n",
       "    </div>\n",
       "    <table border=\"1\" class=\"dataframe\">\n",
       "  <thead>\n",
       "    <tr style=\"text-align: left;\">\n",
       "      <th>Step</th>\n",
       "      <th>Training Loss</th>\n",
       "    </tr>\n",
       "  </thead>\n",
       "  <tbody>\n",
       "    <tr>\n",
       "      <td>200</td>\n",
       "      <td>3.868700</td>\n",
       "    </tr>\n",
       "  </tbody>\n",
       "</table><p>"
      ],
      "text/plain": [
       "<IPython.core.display.HTML object>"
      ]
     },
     "metadata": {},
     "output_type": "display_data"
    },
    {
     "name": "stderr",
     "output_type": "stream",
     "text": [
      "\n",
      "\n",
      "Training completed. Do not forget to share your model on huggingface.co/models =)\n",
      "\n",
      "\n"
     ]
    },
    {
     "name": "stdout",
     "output_type": "stream",
     "text": [
      "********************\n",
      "Eval results for day 40 are:\t\n",
      "\n",
      "********************\n",
      "\n",
      " eval/loss = 3.600912094116211\n",
      " eval/next-item/ndcg_at_10 = 0.6726144552230835\n",
      " eval/next-item/ndcg_at_20 = 0.6745760440826416\n",
      " eval/next-item/recall_at_10 = 0.6800475716590881\n",
      " eval/next-item/recall_at_20 = 0.6877787709236145\n",
      " eval_runtime = 1.5775\n",
      " eval_samples_per_second = 2150.272\n",
      " eval_steps_per_second = 67.196\n"
     ]
    },
    {
     "name": "stderr",
     "output_type": "stream",
     "text": [
      "***** Running training *****\n",
      "  Num examples = 26624\n",
      "  Num Epochs = 3\n",
      "  Instantaneous batch size per device = 256\n",
      "  Total train batch size (w. parallel, distributed & accumulation) = 256\n",
      "  Gradient Accumulation steps = 1\n",
      "  Total optimization steps = 312\n"
     ]
    },
    {
     "name": "stdout",
     "output_type": "stream",
     "text": [
      "********************\n",
      "Launch training for day 40 are:\n",
      "********************\n",
      "\n"
     ]
    },
    {
     "data": {
      "text/html": [
       "\n",
       "    <div>\n",
       "      \n",
       "      <progress value='312' max='312' style='width:300px; height:20px; vertical-align: middle;'></progress>\n",
       "      [312/312 00:10, Epoch 3/3]\n",
       "    </div>\n",
       "    <table border=\"1\" class=\"dataframe\">\n",
       "  <thead>\n",
       "    <tr style=\"text-align: left;\">\n",
       "      <th>Step</th>\n",
       "      <th>Training Loss</th>\n",
       "    </tr>\n",
       "  </thead>\n",
       "  <tbody>\n",
       "    <tr>\n",
       "      <td>200</td>\n",
       "      <td>3.605600</td>\n",
       "    </tr>\n",
       "  </tbody>\n",
       "</table><p>"
      ],
      "text/plain": [
       "<IPython.core.display.HTML object>"
      ]
     },
     "metadata": {},
     "output_type": "display_data"
    },
    {
     "name": "stderr",
     "output_type": "stream",
     "text": [
      "\n",
      "\n",
      "Training completed. Do not forget to share your model on huggingface.co/models =)\n",
      "\n",
      "\n"
     ]
    },
    {
     "name": "stdout",
     "output_type": "stream",
     "text": [
      "********************\n",
      "Eval results for day 41 are:\t\n",
      "\n",
      "********************\n",
      "\n",
      " eval/loss = 3.8421080112457275\n",
      " eval/next-item/ndcg_at_10 = 0.6430415511131287\n",
      " eval/next-item/ndcg_at_20 = 0.6451793909072876\n",
      " eval/next-item/recall_at_10 = 0.6526690721511841\n",
      " eval/next-item/recall_at_20 = 0.6612099409103394\n",
      " eval_runtime = 1.3099\n",
      " eval_samples_per_second = 2149.76\n",
      " eval_steps_per_second = 67.18\n"
     ]
    },
    {
     "name": "stderr",
     "output_type": "stream",
     "text": [
      "***** Running training *****\n",
      "  Num examples = 22272\n",
      "  Num Epochs = 3\n",
      "  Instantaneous batch size per device = 256\n",
      "  Total train batch size (w. parallel, distributed & accumulation) = 256\n",
      "  Gradient Accumulation steps = 1\n",
      "  Total optimization steps = 261\n"
     ]
    },
    {
     "name": "stdout",
     "output_type": "stream",
     "text": [
      "********************\n",
      "Launch training for day 41 are:\n",
      "********************\n",
      "\n"
     ]
    },
    {
     "data": {
      "text/html": [
       "\n",
       "    <div>\n",
       "      \n",
       "      <progress value='261' max='261' style='width:300px; height:20px; vertical-align: middle;'></progress>\n",
       "      [261/261 00:08, Epoch 3/3]\n",
       "    </div>\n",
       "    <table border=\"1\" class=\"dataframe\">\n",
       "  <thead>\n",
       "    <tr style=\"text-align: left;\">\n",
       "      <th>Step</th>\n",
       "      <th>Training Loss</th>\n",
       "    </tr>\n",
       "  </thead>\n",
       "  <tbody>\n",
       "    <tr>\n",
       "      <td>200</td>\n",
       "      <td>3.624100</td>\n",
       "    </tr>\n",
       "  </tbody>\n",
       "</table><p>"
      ],
      "text/plain": [
       "<IPython.core.display.HTML object>"
      ]
     },
     "metadata": {},
     "output_type": "display_data"
    },
    {
     "name": "stderr",
     "output_type": "stream",
     "text": [
      "\n",
      "\n",
      "Training completed. Do not forget to share your model on huggingface.co/models =)\n",
      "\n",
      "\n"
     ]
    },
    {
     "name": "stdout",
     "output_type": "stream",
     "text": [
      "********************\n",
      "Eval results for day 42 are:\t\n",
      "\n",
      "********************\n",
      "\n",
      " eval/loss = 3.9019417762756348\n",
      " eval/next-item/ndcg_at_10 = 0.6283259391784668\n",
      " eval/next-item/ndcg_at_20 = 0.6311673521995544\n",
      " eval/next-item/recall_at_10 = 0.641751229763031\n",
      " eval/next-item/recall_at_20 = 0.6532301306724548\n",
      " eval_runtime = 1.7214\n",
      " eval_samples_per_second = 2193.593\n",
      " eval_steps_per_second = 68.55\n"
     ]
    },
    {
     "name": "stderr",
     "output_type": "stream",
     "text": [
      "***** Running training *****\n",
      "  Num examples = 29952\n",
      "  Num Epochs = 3\n",
      "  Instantaneous batch size per device = 256\n",
      "  Total train batch size (w. parallel, distributed & accumulation) = 256\n",
      "  Gradient Accumulation steps = 1\n",
      "  Total optimization steps = 351\n"
     ]
    },
    {
     "name": "stdout",
     "output_type": "stream",
     "text": [
      "********************\n",
      "Launch training for day 42 are:\n",
      "********************\n",
      "\n"
     ]
    },
    {
     "data": {
      "text/html": [
       "\n",
       "    <div>\n",
       "      \n",
       "      <progress value='351' max='351' style='width:300px; height:20px; vertical-align: middle;'></progress>\n",
       "      [351/351 00:11, Epoch 3/3]\n",
       "    </div>\n",
       "    <table border=\"1\" class=\"dataframe\">\n",
       "  <thead>\n",
       "    <tr style=\"text-align: left;\">\n",
       "      <th>Step</th>\n",
       "      <th>Training Loss</th>\n",
       "    </tr>\n",
       "  </thead>\n",
       "  <tbody>\n",
       "    <tr>\n",
       "      <td>200</td>\n",
       "      <td>3.818500</td>\n",
       "    </tr>\n",
       "  </tbody>\n",
       "</table><p>"
      ],
      "text/plain": [
       "<IPython.core.display.HTML object>"
      ]
     },
     "metadata": {},
     "output_type": "display_data"
    },
    {
     "name": "stderr",
     "output_type": "stream",
     "text": [
      "\n",
      "\n",
      "Training completed. Do not forget to share your model on huggingface.co/models =)\n",
      "\n",
      "\n"
     ]
    },
    {
     "name": "stdout",
     "output_type": "stream",
     "text": [
      "********************\n",
      "Eval results for day 43 are:\t\n",
      "\n",
      "********************\n",
      "\n",
      " eval/loss = 4.205173492431641\n",
      " eval/next-item/ndcg_at_10 = 0.5970025062561035\n",
      " eval/next-item/ndcg_at_20 = 0.6001795530319214\n",
      " eval/next-item/recall_at_10 = 0.6097490787506104\n",
      " eval/next-item/recall_at_20 = 0.6221517324447632\n",
      " eval_runtime = 1.5986\n",
      " eval_samples_per_second = 2181.905\n",
      " eval_steps_per_second = 68.185\n"
     ]
    },
    {
     "name": "stderr",
     "output_type": "stream",
     "text": [
      "***** Running training *****\n",
      "  Num examples = 27392\n",
      "  Num Epochs = 3\n",
      "  Instantaneous batch size per device = 256\n",
      "  Total train batch size (w. parallel, distributed & accumulation) = 256\n",
      "  Gradient Accumulation steps = 1\n",
      "  Total optimization steps = 321\n"
     ]
    },
    {
     "name": "stdout",
     "output_type": "stream",
     "text": [
      "********************\n",
      "Launch training for day 43 are:\n",
      "********************\n",
      "\n"
     ]
    },
    {
     "data": {
      "text/html": [
       "\n",
       "    <div>\n",
       "      \n",
       "      <progress value='321' max='321' style='width:300px; height:20px; vertical-align: middle;'></progress>\n",
       "      [321/321 00:10, Epoch 3/3]\n",
       "    </div>\n",
       "    <table border=\"1\" class=\"dataframe\">\n",
       "  <thead>\n",
       "    <tr style=\"text-align: left;\">\n",
       "      <th>Step</th>\n",
       "      <th>Training Loss</th>\n",
       "    </tr>\n",
       "  </thead>\n",
       "  <tbody>\n",
       "    <tr>\n",
       "      <td>200</td>\n",
       "      <td>3.959900</td>\n",
       "    </tr>\n",
       "  </tbody>\n",
       "</table><p>"
      ],
      "text/plain": [
       "<IPython.core.display.HTML object>"
      ]
     },
     "metadata": {},
     "output_type": "display_data"
    },
    {
     "name": "stderr",
     "output_type": "stream",
     "text": [
      "\n",
      "\n",
      "Training completed. Do not forget to share your model on huggingface.co/models =)\n",
      "\n",
      "\n"
     ]
    },
    {
     "name": "stdout",
     "output_type": "stream",
     "text": [
      "********************\n",
      "Eval results for day 44 are:\t\n",
      "\n",
      "********************\n",
      "\n",
      " eval/loss = 4.133963108062744\n",
      " eval/next-item/ndcg_at_10 = 0.603480875492096\n",
      " eval/next-item/ndcg_at_20 = 0.6060865521430969\n",
      " eval/next-item/recall_at_10 = 0.6206589341163635\n",
      " eval/next-item/recall_at_20 = 0.631047785282135\n",
      " eval_runtime = 1.5416\n",
      " eval_samples_per_second = 2200.249\n",
      " eval_steps_per_second = 68.758\n"
     ]
    },
    {
     "name": "stderr",
     "output_type": "stream",
     "text": [
      "***** Running training *****\n",
      "  Num examples = 26880\n",
      "  Num Epochs = 3\n",
      "  Instantaneous batch size per device = 256\n",
      "  Total train batch size (w. parallel, distributed & accumulation) = 256\n",
      "  Gradient Accumulation steps = 1\n",
      "  Total optimization steps = 315\n"
     ]
    },
    {
     "name": "stdout",
     "output_type": "stream",
     "text": [
      "********************\n",
      "Launch training for day 44 are:\n",
      "********************\n",
      "\n"
     ]
    },
    {
     "data": {
      "text/html": [
       "\n",
       "    <div>\n",
       "      \n",
       "      <progress value='315' max='315' style='width:300px; height:20px; vertical-align: middle;'></progress>\n",
       "      [315/315 00:09, Epoch 3/3]\n",
       "    </div>\n",
       "    <table border=\"1\" class=\"dataframe\">\n",
       "  <thead>\n",
       "    <tr style=\"text-align: left;\">\n",
       "      <th>Step</th>\n",
       "      <th>Training Loss</th>\n",
       "    </tr>\n",
       "  </thead>\n",
       "  <tbody>\n",
       "    <tr>\n",
       "      <td>200</td>\n",
       "      <td>3.923400</td>\n",
       "    </tr>\n",
       "  </tbody>\n",
       "</table><p>"
      ],
      "text/plain": [
       "<IPython.core.display.HTML object>"
      ]
     },
     "metadata": {},
     "output_type": "display_data"
    },
    {
     "name": "stderr",
     "output_type": "stream",
     "text": [
      "\n",
      "\n",
      "Training completed. Do not forget to share your model on huggingface.co/models =)\n",
      "\n",
      "\n"
     ]
    },
    {
     "name": "stdout",
     "output_type": "stream",
     "text": [
      "********************\n",
      "Eval results for day 45 are:\t\n",
      "\n",
      "********************\n",
      "\n",
      " eval/loss = 4.117636203765869\n",
      " eval/next-item/ndcg_at_10 = 0.6061659455299377\n",
      " eval/next-item/ndcg_at_20 = 0.6090720891952515\n",
      " eval/next-item/recall_at_10 = 0.6203544735908508\n",
      " eval/next-item/recall_at_20 = 0.6320754885673523\n",
      " eval_runtime = 1.6108\n",
      " eval_samples_per_second = 2185.261\n",
      " eval_steps_per_second = 68.289\n"
     ]
    },
    {
     "name": "stderr",
     "output_type": "stream",
     "text": [
      "***** Running training *****\n",
      "  Num examples = 27904\n",
      "  Num Epochs = 3\n",
      "  Instantaneous batch size per device = 256\n",
      "  Total train batch size (w. parallel, distributed & accumulation) = 256\n",
      "  Gradient Accumulation steps = 1\n",
      "  Total optimization steps = 327\n"
     ]
    },
    {
     "name": "stdout",
     "output_type": "stream",
     "text": [
      "********************\n",
      "Launch training for day 45 are:\n",
      "********************\n",
      "\n"
     ]
    },
    {
     "data": {
      "text/html": [
       "\n",
       "    <div>\n",
       "      \n",
       "      <progress value='327' max='327' style='width:300px; height:20px; vertical-align: middle;'></progress>\n",
       "      [327/327 00:10, Epoch 3/3]\n",
       "    </div>\n",
       "    <table border=\"1\" class=\"dataframe\">\n",
       "  <thead>\n",
       "    <tr style=\"text-align: left;\">\n",
       "      <th>Step</th>\n",
       "      <th>Training Loss</th>\n",
       "    </tr>\n",
       "  </thead>\n",
       "  <tbody>\n",
       "    <tr>\n",
       "      <td>200</td>\n",
       "      <td>3.820300</td>\n",
       "    </tr>\n",
       "  </tbody>\n",
       "</table><p>"
      ],
      "text/plain": [
       "<IPython.core.display.HTML object>"
      ]
     },
     "metadata": {},
     "output_type": "display_data"
    },
    {
     "name": "stderr",
     "output_type": "stream",
     "text": [
      "\n",
      "\n",
      "Training completed. Do not forget to share your model on huggingface.co/models =)\n",
      "\n",
      "\n"
     ]
    },
    {
     "name": "stdout",
     "output_type": "stream",
     "text": [
      "********************\n",
      "Eval results for day 46 are:\t\n",
      "\n",
      "********************\n",
      "\n",
      " eval/loss = 3.8177490234375\n",
      " eval/next-item/ndcg_at_10 = 0.6374752521514893\n",
      " eval/next-item/ndcg_at_20 = 0.6404839158058167\n",
      " eval/next-item/recall_at_10 = 0.6494617462158203\n",
      " eval/next-item/recall_at_20 = 0.6613304018974304\n",
      " eval_runtime = 1.6508\n",
      " eval_samples_per_second = 2209.777\n",
      " eval_steps_per_second = 69.056\n"
     ]
    },
    {
     "name": "stderr",
     "output_type": "stream",
     "text": [
      "***** Running training *****\n",
      "  Num examples = 28928\n",
      "  Num Epochs = 3\n",
      "  Instantaneous batch size per device = 256\n",
      "  Total train batch size (w. parallel, distributed & accumulation) = 256\n",
      "  Gradient Accumulation steps = 1\n",
      "  Total optimization steps = 339\n"
     ]
    },
    {
     "name": "stdout",
     "output_type": "stream",
     "text": [
      "********************\n",
      "Launch training for day 46 are:\n",
      "********************\n",
      "\n"
     ]
    },
    {
     "data": {
      "text/html": [
       "\n",
       "    <div>\n",
       "      \n",
       "      <progress value='339' max='339' style='width:300px; height:20px; vertical-align: middle;'></progress>\n",
       "      [339/339 00:10, Epoch 3/3]\n",
       "    </div>\n",
       "    <table border=\"1\" class=\"dataframe\">\n",
       "  <thead>\n",
       "    <tr style=\"text-align: left;\">\n",
       "      <th>Step</th>\n",
       "      <th>Training Loss</th>\n",
       "    </tr>\n",
       "  </thead>\n",
       "  <tbody>\n",
       "    <tr>\n",
       "      <td>200</td>\n",
       "      <td>3.660600</td>\n",
       "    </tr>\n",
       "  </tbody>\n",
       "</table><p>"
      ],
      "text/plain": [
       "<IPython.core.display.HTML object>"
      ]
     },
     "metadata": {},
     "output_type": "display_data"
    },
    {
     "name": "stderr",
     "output_type": "stream",
     "text": [
      "\n",
      "\n",
      "Training completed. Do not forget to share your model on huggingface.co/models =)\n",
      "\n",
      "\n"
     ]
    },
    {
     "name": "stdout",
     "output_type": "stream",
     "text": [
      "********************\n",
      "Eval results for day 47 are:\t\n",
      "\n",
      "********************\n",
      "\n",
      " eval/loss = 4.007898807525635\n",
      " eval/next-item/ndcg_at_10 = 0.6186534762382507\n",
      " eval/next-item/ndcg_at_20 = 0.6217086315155029\n",
      " eval/next-item/recall_at_10 = 0.6304744482040405\n",
      " eval/next-item/recall_at_20 = 0.6426398754119873\n",
      " eval_runtime = 1.4791\n",
      " eval_samples_per_second = 2228.396\n",
      " eval_steps_per_second = 69.637\n"
     ]
    },
    {
     "name": "stderr",
     "output_type": "stream",
     "text": [
      "***** Running training *****\n",
      "  Num examples = 26112\n",
      "  Num Epochs = 3\n",
      "  Instantaneous batch size per device = 256\n",
      "  Total train batch size (w. parallel, distributed & accumulation) = 256\n",
      "  Gradient Accumulation steps = 1\n",
      "  Total optimization steps = 306\n"
     ]
    },
    {
     "name": "stdout",
     "output_type": "stream",
     "text": [
      "********************\n",
      "Launch training for day 47 are:\n",
      "********************\n",
      "\n"
     ]
    },
    {
     "data": {
      "text/html": [
       "\n",
       "    <div>\n",
       "      \n",
       "      <progress value='306' max='306' style='width:300px; height:20px; vertical-align: middle;'></progress>\n",
       "      [306/306 00:09, Epoch 3/3]\n",
       "    </div>\n",
       "    <table border=\"1\" class=\"dataframe\">\n",
       "  <thead>\n",
       "    <tr style=\"text-align: left;\">\n",
       "      <th>Step</th>\n",
       "      <th>Training Loss</th>\n",
       "    </tr>\n",
       "  </thead>\n",
       "  <tbody>\n",
       "    <tr>\n",
       "      <td>200</td>\n",
       "      <td>3.769300</td>\n",
       "    </tr>\n",
       "  </tbody>\n",
       "</table><p>"
      ],
      "text/plain": [
       "<IPython.core.display.HTML object>"
      ]
     },
     "metadata": {},
     "output_type": "display_data"
    },
    {
     "name": "stderr",
     "output_type": "stream",
     "text": [
      "\n",
      "\n",
      "Training completed. Do not forget to share your model on huggingface.co/models =)\n",
      "\n",
      "\n"
     ]
    },
    {
     "name": "stdout",
     "output_type": "stream",
     "text": [
      "********************\n",
      "Eval results for day 48 are:\t\n",
      "\n",
      "********************\n",
      "\n",
      " eval/loss = 3.87544322013855\n",
      " eval/next-item/ndcg_at_10 = 0.6272612810134888\n",
      " eval/next-item/ndcg_at_20 = 0.6309946775436401\n",
      " eval/next-item/recall_at_10 = 0.6393488049507141\n",
      " eval/next-item/recall_at_20 = 0.6539735198020935\n",
      " eval_runtime = 1.6558\n",
      " eval_samples_per_second = 2203.135\n",
      " eval_steps_per_second = 68.848\n"
     ]
    },
    {
     "name": "stderr",
     "output_type": "stream",
     "text": [
      "***** Running training *****\n",
      "  Num examples = 28928\n",
      "  Num Epochs = 3\n",
      "  Instantaneous batch size per device = 256\n",
      "  Total train batch size (w. parallel, distributed & accumulation) = 256\n",
      "  Gradient Accumulation steps = 1\n",
      "  Total optimization steps = 339\n"
     ]
    },
    {
     "name": "stdout",
     "output_type": "stream",
     "text": [
      "********************\n",
      "Launch training for day 48 are:\n",
      "********************\n",
      "\n"
     ]
    },
    {
     "data": {
      "text/html": [
       "\n",
       "    <div>\n",
       "      \n",
       "      <progress value='339' max='339' style='width:300px; height:20px; vertical-align: middle;'></progress>\n",
       "      [339/339 00:10, Epoch 3/3]\n",
       "    </div>\n",
       "    <table border=\"1\" class=\"dataframe\">\n",
       "  <thead>\n",
       "    <tr style=\"text-align: left;\">\n",
       "      <th>Step</th>\n",
       "      <th>Training Loss</th>\n",
       "    </tr>\n",
       "  </thead>\n",
       "  <tbody>\n",
       "    <tr>\n",
       "      <td>200</td>\n",
       "      <td>3.790900</td>\n",
       "    </tr>\n",
       "  </tbody>\n",
       "</table><p>"
      ],
      "text/plain": [
       "<IPython.core.display.HTML object>"
      ]
     },
     "metadata": {},
     "output_type": "display_data"
    },
    {
     "name": "stderr",
     "output_type": "stream",
     "text": [
      "\n",
      "\n",
      "Training completed. Do not forget to share your model on huggingface.co/models =)\n",
      "\n",
      "\n"
     ]
    },
    {
     "name": "stdout",
     "output_type": "stream",
     "text": [
      "********************\n",
      "Eval results for day 49 are:\t\n",
      "\n",
      "********************\n",
      "\n",
      " eval/loss = 3.9844183921813965\n",
      " eval/next-item/ndcg_at_10 = 0.6198424100875854\n",
      " eval/next-item/ndcg_at_20 = 0.6239005923271179\n",
      " eval/next-item/recall_at_10 = 0.634681761264801\n",
      " eval/next-item/recall_at_20 = 0.6507153511047363\n",
      " eval_runtime = 1.7968\n",
      " eval_samples_per_second = 2261.823\n",
      " eval_steps_per_second = 70.682\n"
     ]
    },
    {
     "name": "stderr",
     "output_type": "stream",
     "text": [
      "***** Running training *****\n",
      "  Num examples = 32256\n",
      "  Num Epochs = 3\n",
      "  Instantaneous batch size per device = 256\n",
      "  Total train batch size (w. parallel, distributed & accumulation) = 256\n",
      "  Gradient Accumulation steps = 1\n",
      "  Total optimization steps = 378\n"
     ]
    },
    {
     "name": "stdout",
     "output_type": "stream",
     "text": [
      "********************\n",
      "Launch training for day 49 are:\n",
      "********************\n",
      "\n"
     ]
    },
    {
     "data": {
      "text/html": [
       "\n",
       "    <div>\n",
       "      \n",
       "      <progress value='378' max='378' style='width:300px; height:20px; vertical-align: middle;'></progress>\n",
       "      [378/378 00:12, Epoch 3/3]\n",
       "    </div>\n",
       "    <table border=\"1\" class=\"dataframe\">\n",
       "  <thead>\n",
       "    <tr style=\"text-align: left;\">\n",
       "      <th>Step</th>\n",
       "      <th>Training Loss</th>\n",
       "    </tr>\n",
       "  </thead>\n",
       "  <tbody>\n",
       "    <tr>\n",
       "      <td>200</td>\n",
       "      <td>3.780800</td>\n",
       "    </tr>\n",
       "  </tbody>\n",
       "</table><p>"
      ],
      "text/plain": [
       "<IPython.core.display.HTML object>"
      ]
     },
     "metadata": {},
     "output_type": "display_data"
    },
    {
     "name": "stderr",
     "output_type": "stream",
     "text": [
      "\n",
      "\n",
      "Training completed. Do not forget to share your model on huggingface.co/models =)\n",
      "\n",
      "\n"
     ]
    },
    {
     "name": "stdout",
     "output_type": "stream",
     "text": [
      "********************\n",
      "Eval results for day 50 are:\t\n",
      "\n",
      "********************\n",
      "\n",
      " eval/loss = 4.207953453063965\n",
      " eval/next-item/ndcg_at_10 = 0.5939534902572632\n",
      " eval/next-item/ndcg_at_20 = 0.5972395539283752\n",
      " eval/next-item/recall_at_10 = 0.6110742092132568\n",
      " eval/next-item/recall_at_20 = 0.6241417527198792\n",
      " eval_runtime = 2.057\n",
      " eval_samples_per_second = 2208.998\n",
      " eval_steps_per_second = 69.031\n"
     ]
    },
    {
     "name": "stderr",
     "output_type": "stream",
     "text": [
      "***** Running training *****\n",
      "  Num examples = 35840\n",
      "  Num Epochs = 3\n",
      "  Instantaneous batch size per device = 256\n",
      "  Total train batch size (w. parallel, distributed & accumulation) = 256\n",
      "  Gradient Accumulation steps = 1\n",
      "  Total optimization steps = 420\n"
     ]
    },
    {
     "name": "stdout",
     "output_type": "stream",
     "text": [
      "********************\n",
      "Launch training for day 50 are:\n",
      "********************\n",
      "\n"
     ]
    },
    {
     "data": {
      "text/html": [
       "\n",
       "    <div>\n",
       "      \n",
       "      <progress value='420' max='420' style='width:300px; height:20px; vertical-align: middle;'></progress>\n",
       "      [420/420 00:13, Epoch 3/3]\n",
       "    </div>\n",
       "    <table border=\"1\" class=\"dataframe\">\n",
       "  <thead>\n",
       "    <tr style=\"text-align: left;\">\n",
       "      <th>Step</th>\n",
       "      <th>Training Loss</th>\n",
       "    </tr>\n",
       "  </thead>\n",
       "  <tbody>\n",
       "    <tr>\n",
       "      <td>200</td>\n",
       "      <td>3.975100</td>\n",
       "    </tr>\n",
       "    <tr>\n",
       "      <td>400</td>\n",
       "      <td>3.923000</td>\n",
       "    </tr>\n",
       "  </tbody>\n",
       "</table><p>"
      ],
      "text/plain": [
       "<IPython.core.display.HTML object>"
      ]
     },
     "metadata": {},
     "output_type": "display_data"
    },
    {
     "name": "stderr",
     "output_type": "stream",
     "text": [
      "\n",
      "\n",
      "Training completed. Do not forget to share your model on huggingface.co/models =)\n",
      "\n",
      "\n"
     ]
    },
    {
     "name": "stdout",
     "output_type": "stream",
     "text": [
      "********************\n",
      "Eval results for day 51 are:\t\n",
      "\n",
      "********************\n",
      "\n",
      " eval/loss = 4.105437755584717\n",
      " eval/next-item/ndcg_at_10 = 0.6054978370666504\n",
      " eval/next-item/ndcg_at_20 = 0.6090116500854492\n",
      " eval/next-item/recall_at_10 = 0.6246973872184753\n",
      " eval/next-item/recall_at_20 = 0.6386871337890625\n",
      " eval_runtime = 1.7215\n",
      " eval_samples_per_second = 2174.837\n",
      " eval_steps_per_second = 67.964\n"
     ]
    },
    {
     "name": "stderr",
     "output_type": "stream",
     "text": [
      "***** Running training *****\n",
      "  Num examples = 29696\n",
      "  Num Epochs = 3\n",
      "  Instantaneous batch size per device = 256\n",
      "  Total train batch size (w. parallel, distributed & accumulation) = 256\n",
      "  Gradient Accumulation steps = 1\n",
      "  Total optimization steps = 348\n"
     ]
    },
    {
     "name": "stdout",
     "output_type": "stream",
     "text": [
      "********************\n",
      "Launch training for day 51 are:\n",
      "********************\n",
      "\n"
     ]
    },
    {
     "data": {
      "text/html": [
       "\n",
       "    <div>\n",
       "      \n",
       "      <progress value='348' max='348' style='width:300px; height:20px; vertical-align: middle;'></progress>\n",
       "      [348/348 00:10, Epoch 3/3]\n",
       "    </div>\n",
       "    <table border=\"1\" class=\"dataframe\">\n",
       "  <thead>\n",
       "    <tr style=\"text-align: left;\">\n",
       "      <th>Step</th>\n",
       "      <th>Training Loss</th>\n",
       "    </tr>\n",
       "  </thead>\n",
       "  <tbody>\n",
       "    <tr>\n",
       "      <td>200</td>\n",
       "      <td>3.936400</td>\n",
       "    </tr>\n",
       "  </tbody>\n",
       "</table><p>"
      ],
      "text/plain": [
       "<IPython.core.display.HTML object>"
      ]
     },
     "metadata": {},
     "output_type": "display_data"
    },
    {
     "name": "stderr",
     "output_type": "stream",
     "text": [
      "\n",
      "\n",
      "Training completed. Do not forget to share your model on huggingface.co/models =)\n",
      "\n",
      "\n"
     ]
    },
    {
     "name": "stdout",
     "output_type": "stream",
     "text": [
      "********************\n",
      "Eval results for day 52 are:\t\n",
      "\n",
      "********************\n",
      "\n",
      " eval/loss = 4.018155574798584\n",
      " eval/next-item/ndcg_at_10 = 0.6143053770065308\n",
      " eval/next-item/ndcg_at_20 = 0.6167262196540833\n",
      " eval/next-item/recall_at_10 = 0.6297529935836792\n",
      " eval/next-item/recall_at_20 = 0.639189600944519\n",
      " eval_runtime = 1.6753\n",
      " eval_samples_per_second = 2158.46\n",
      " eval_steps_per_second = 67.452\n"
     ]
    },
    {
     "name": "stderr",
     "output_type": "stream",
     "text": [
      "***** Running training *****\n",
      "  Num examples = 28672\n",
      "  Num Epochs = 3\n",
      "  Instantaneous batch size per device = 256\n",
      "  Total train batch size (w. parallel, distributed & accumulation) = 256\n",
      "  Gradient Accumulation steps = 1\n",
      "  Total optimization steps = 336\n"
     ]
    },
    {
     "name": "stdout",
     "output_type": "stream",
     "text": [
      "********************\n",
      "Launch training for day 52 are:\n",
      "********************\n",
      "\n"
     ]
    },
    {
     "data": {
      "text/html": [
       "\n",
       "    <div>\n",
       "      \n",
       "      <progress value='336' max='336' style='width:300px; height:20px; vertical-align: middle;'></progress>\n",
       "      [336/336 00:10, Epoch 3/3]\n",
       "    </div>\n",
       "    <table border=\"1\" class=\"dataframe\">\n",
       "  <thead>\n",
       "    <tr style=\"text-align: left;\">\n",
       "      <th>Step</th>\n",
       "      <th>Training Loss</th>\n",
       "    </tr>\n",
       "  </thead>\n",
       "  <tbody>\n",
       "    <tr>\n",
       "      <td>200</td>\n",
       "      <td>3.785900</td>\n",
       "    </tr>\n",
       "  </tbody>\n",
       "</table><p>"
      ],
      "text/plain": [
       "<IPython.core.display.HTML object>"
      ]
     },
     "metadata": {},
     "output_type": "display_data"
    },
    {
     "name": "stderr",
     "output_type": "stream",
     "text": [
      "\n",
      "\n",
      "Training completed. Do not forget to share your model on huggingface.co/models =)\n",
      "\n",
      "\n"
     ]
    },
    {
     "name": "stdout",
     "output_type": "stream",
     "text": [
      "********************\n",
      "Eval results for day 53 are:\t\n",
      "\n",
      "********************\n",
      "\n",
      " eval/loss = 3.873262405395508\n",
      " eval/next-item/ndcg_at_10 = 0.6319506168365479\n",
      " eval/next-item/ndcg_at_20 = 0.6343587636947632\n",
      " eval/next-item/recall_at_10 = 0.6454955339431763\n",
      " eval/next-item/recall_at_20 = 0.6549549698829651\n",
      " eval_runtime = 2.012\n",
      " eval_samples_per_second = 2210.711\n",
      " eval_steps_per_second = 69.085\n"
     ]
    },
    {
     "name": "stderr",
     "output_type": "stream",
     "text": [
      "***** Running training *****\n",
      "  Num examples = 35072\n",
      "  Num Epochs = 3\n",
      "  Instantaneous batch size per device = 256\n",
      "  Total train batch size (w. parallel, distributed & accumulation) = 256\n",
      "  Gradient Accumulation steps = 1\n",
      "  Total optimization steps = 411\n"
     ]
    },
    {
     "name": "stdout",
     "output_type": "stream",
     "text": [
      "********************\n",
      "Launch training for day 53 are:\n",
      "********************\n",
      "\n"
     ]
    },
    {
     "data": {
      "text/html": [
       "\n",
       "    <div>\n",
       "      \n",
       "      <progress value='411' max='411' style='width:300px; height:20px; vertical-align: middle;'></progress>\n",
       "      [411/411 00:13, Epoch 3/3]\n",
       "    </div>\n",
       "    <table border=\"1\" class=\"dataframe\">\n",
       "  <thead>\n",
       "    <tr style=\"text-align: left;\">\n",
       "      <th>Step</th>\n",
       "      <th>Training Loss</th>\n",
       "    </tr>\n",
       "  </thead>\n",
       "  <tbody>\n",
       "    <tr>\n",
       "      <td>200</td>\n",
       "      <td>3.679500</td>\n",
       "    </tr>\n",
       "    <tr>\n",
       "      <td>400</td>\n",
       "      <td>3.618400</td>\n",
       "    </tr>\n",
       "  </tbody>\n",
       "</table><p>"
      ],
      "text/plain": [
       "<IPython.core.display.HTML object>"
      ]
     },
     "metadata": {},
     "output_type": "display_data"
    },
    {
     "name": "stderr",
     "output_type": "stream",
     "text": [
      "\n",
      "\n",
      "Training completed. Do not forget to share your model on huggingface.co/models =)\n",
      "\n",
      "\n"
     ]
    },
    {
     "name": "stdout",
     "output_type": "stream",
     "text": [
      "********************\n",
      "Eval results for day 54 are:\t\n",
      "\n",
      "********************\n",
      "\n",
      " eval/loss = 3.9487547874450684\n",
      " eval/next-item/ndcg_at_10 = 0.6210512518882751\n",
      " eval/next-item/ndcg_at_20 = 0.6240754127502441\n",
      " eval/next-item/recall_at_10 = 0.6371307969093323\n",
      " eval/next-item/recall_at_20 = 0.6492615938186646\n",
      " eval_runtime = 1.7487\n",
      " eval_samples_per_second = 2177.633\n",
      " eval_steps_per_second = 68.051\n"
     ]
    },
    {
     "name": "stderr",
     "output_type": "stream",
     "text": [
      "***** Running training *****\n",
      "  Num examples = 30208\n",
      "  Num Epochs = 3\n",
      "  Instantaneous batch size per device = 256\n",
      "  Total train batch size (w. parallel, distributed & accumulation) = 256\n",
      "  Gradient Accumulation steps = 1\n",
      "  Total optimization steps = 354\n"
     ]
    },
    {
     "name": "stdout",
     "output_type": "stream",
     "text": [
      "********************\n",
      "Launch training for day 54 are:\n",
      "********************\n",
      "\n"
     ]
    },
    {
     "data": {
      "text/html": [
       "\n",
       "    <div>\n",
       "      \n",
       "      <progress value='354' max='354' style='width:300px; height:20px; vertical-align: middle;'></progress>\n",
       "      [354/354 00:11, Epoch 3/3]\n",
       "    </div>\n",
       "    <table border=\"1\" class=\"dataframe\">\n",
       "  <thead>\n",
       "    <tr style=\"text-align: left;\">\n",
       "      <th>Step</th>\n",
       "      <th>Training Loss</th>\n",
       "    </tr>\n",
       "  </thead>\n",
       "  <tbody>\n",
       "    <tr>\n",
       "      <td>200</td>\n",
       "      <td>3.741500</td>\n",
       "    </tr>\n",
       "  </tbody>\n",
       "</table><p>"
      ],
      "text/plain": [
       "<IPython.core.display.HTML object>"
      ]
     },
     "metadata": {},
     "output_type": "display_data"
    },
    {
     "name": "stderr",
     "output_type": "stream",
     "text": [
      "\n",
      "\n",
      "Training completed. Do not forget to share your model on huggingface.co/models =)\n",
      "\n",
      "\n"
     ]
    },
    {
     "name": "stdout",
     "output_type": "stream",
     "text": [
      "********************\n",
      "Eval results for day 55 are:\t\n",
      "\n",
      "********************\n",
      "\n",
      " eval/loss = 3.9143059253692627\n",
      " eval/next-item/ndcg_at_10 = 0.6276733875274658\n",
      " eval/next-item/ndcg_at_20 = 0.6310702562332153\n",
      " eval/next-item/recall_at_10 = 0.6423128843307495\n",
      " eval/next-item/recall_at_20 = 0.6559838652610779\n",
      " eval_runtime = 1.9998\n",
      " eval_samples_per_second = 2240.177\n",
      " eval_steps_per_second = 70.006\n"
     ]
    },
    {
     "name": "stderr",
     "output_type": "stream",
     "text": [
      "***** Running training *****\n",
      "  Num examples = 35328\n",
      "  Num Epochs = 3\n",
      "  Instantaneous batch size per device = 256\n",
      "  Total train batch size (w. parallel, distributed & accumulation) = 256\n",
      "  Gradient Accumulation steps = 1\n",
      "  Total optimization steps = 414\n"
     ]
    },
    {
     "name": "stdout",
     "output_type": "stream",
     "text": [
      "********************\n",
      "Launch training for day 55 are:\n",
      "********************\n",
      "\n"
     ]
    },
    {
     "data": {
      "text/html": [
       "\n",
       "    <div>\n",
       "      \n",
       "      <progress value='414' max='414' style='width:300px; height:20px; vertical-align: middle;'></progress>\n",
       "      [414/414 00:12, Epoch 3/3]\n",
       "    </div>\n",
       "    <table border=\"1\" class=\"dataframe\">\n",
       "  <thead>\n",
       "    <tr style=\"text-align: left;\">\n",
       "      <th>Step</th>\n",
       "      <th>Training Loss</th>\n",
       "    </tr>\n",
       "  </thead>\n",
       "  <tbody>\n",
       "    <tr>\n",
       "      <td>200</td>\n",
       "      <td>3.776200</td>\n",
       "    </tr>\n",
       "    <tr>\n",
       "      <td>400</td>\n",
       "      <td>3.732400</td>\n",
       "    </tr>\n",
       "  </tbody>\n",
       "</table><p>"
      ],
      "text/plain": [
       "<IPython.core.display.HTML object>"
      ]
     },
     "metadata": {},
     "output_type": "display_data"
    },
    {
     "name": "stderr",
     "output_type": "stream",
     "text": [
      "\n",
      "\n",
      "Training completed. Do not forget to share your model on huggingface.co/models =)\n",
      "\n",
      "\n"
     ]
    },
    {
     "name": "stdout",
     "output_type": "stream",
     "text": [
      "********************\n",
      "Eval results for day 56 are:\t\n",
      "\n",
      "********************\n",
      "\n",
      " eval/loss = 4.024546146392822\n",
      " eval/next-item/ndcg_at_10 = 0.6127184629440308\n",
      " eval/next-item/ndcg_at_20 = 0.6162614822387695\n",
      " eval/next-item/recall_at_10 = 0.6280092597007751\n",
      " eval/next-item/recall_at_20 = 0.6421296000480652\n",
      " eval_runtime = 1.9868\n",
      " eval_samples_per_second = 2174.387\n",
      " eval_steps_per_second = 67.95\n"
     ]
    },
    {
     "name": "stderr",
     "output_type": "stream",
     "text": [
      "***** Running training *****\n",
      "  Num examples = 34304\n",
      "  Num Epochs = 3\n",
      "  Instantaneous batch size per device = 256\n",
      "  Total train batch size (w. parallel, distributed & accumulation) = 256\n",
      "  Gradient Accumulation steps = 1\n",
      "  Total optimization steps = 402\n"
     ]
    },
    {
     "name": "stdout",
     "output_type": "stream",
     "text": [
      "********************\n",
      "Launch training for day 56 are:\n",
      "********************\n",
      "\n"
     ]
    },
    {
     "data": {
      "text/html": [
       "\n",
       "    <div>\n",
       "      \n",
       "      <progress value='402' max='402' style='width:300px; height:20px; vertical-align: middle;'></progress>\n",
       "      [402/402 00:12, Epoch 3/3]\n",
       "    </div>\n",
       "    <table border=\"1\" class=\"dataframe\">\n",
       "  <thead>\n",
       "    <tr style=\"text-align: left;\">\n",
       "      <th>Step</th>\n",
       "      <th>Training Loss</th>\n",
       "    </tr>\n",
       "  </thead>\n",
       "  <tbody>\n",
       "    <tr>\n",
       "      <td>200</td>\n",
       "      <td>3.784400</td>\n",
       "    </tr>\n",
       "    <tr>\n",
       "      <td>400</td>\n",
       "      <td>3.716600</td>\n",
       "    </tr>\n",
       "  </tbody>\n",
       "</table><p>"
      ],
      "text/plain": [
       "<IPython.core.display.HTML object>"
      ]
     },
     "metadata": {},
     "output_type": "display_data"
    },
    {
     "name": "stderr",
     "output_type": "stream",
     "text": [
      "\n",
      "\n",
      "Training completed. Do not forget to share your model on huggingface.co/models =)\n",
      "\n",
      "\n"
     ]
    },
    {
     "name": "stdout",
     "output_type": "stream",
     "text": [
      "********************\n",
      "Eval results for day 57 are:\t\n",
      "\n",
      "********************\n",
      "\n",
      " eval/loss = 4.1850128173828125\n",
      " eval/next-item/ndcg_at_10 = 0.5937521457672119\n",
      " eval/next-item/ndcg_at_20 = 0.5979705452919006\n",
      " eval/next-item/recall_at_10 = 0.6105042099952698\n",
      " eval/next-item/recall_at_20 = 0.6273109316825867\n",
      " eval_runtime = 2.2427\n",
      " eval_samples_per_second = 2126.029\n",
      " eval_steps_per_second = 66.438\n"
     ]
    },
    {
     "name": "stderr",
     "output_type": "stream",
     "text": [
      "***** Running training *****\n",
      "  Num examples = 37632\n",
      "  Num Epochs = 3\n",
      "  Instantaneous batch size per device = 256\n",
      "  Total train batch size (w. parallel, distributed & accumulation) = 256\n",
      "  Gradient Accumulation steps = 1\n",
      "  Total optimization steps = 441\n"
     ]
    },
    {
     "name": "stdout",
     "output_type": "stream",
     "text": [
      "********************\n",
      "Launch training for day 57 are:\n",
      "********************\n",
      "\n"
     ]
    },
    {
     "data": {
      "text/html": [
       "\n",
       "    <div>\n",
       "      \n",
       "      <progress value='441' max='441' style='width:300px; height:20px; vertical-align: middle;'></progress>\n",
       "      [441/441 00:14, Epoch 3/3]\n",
       "    </div>\n",
       "    <table border=\"1\" class=\"dataframe\">\n",
       "  <thead>\n",
       "    <tr style=\"text-align: left;\">\n",
       "      <th>Step</th>\n",
       "      <th>Training Loss</th>\n",
       "    </tr>\n",
       "  </thead>\n",
       "  <tbody>\n",
       "    <tr>\n",
       "      <td>200</td>\n",
       "      <td>3.943700</td>\n",
       "    </tr>\n",
       "    <tr>\n",
       "      <td>400</td>\n",
       "      <td>3.876600</td>\n",
       "    </tr>\n",
       "  </tbody>\n",
       "</table><p>"
      ],
      "text/plain": [
       "<IPython.core.display.HTML object>"
      ]
     },
     "metadata": {},
     "output_type": "display_data"
    },
    {
     "name": "stderr",
     "output_type": "stream",
     "text": [
      "\n",
      "\n",
      "Training completed. Do not forget to share your model on huggingface.co/models =)\n",
      "\n",
      "\n"
     ]
    },
    {
     "name": "stdout",
     "output_type": "stream",
     "text": [
      "********************\n",
      "Eval results for day 58 are:\t\n",
      "\n",
      "********************\n",
      "\n",
      " eval/loss = 4.140939235687256\n",
      " eval/next-item/ndcg_at_10 = 0.6048954129219055\n",
      " eval/next-item/ndcg_at_20 = 0.6084643602371216\n",
      " eval/next-item/recall_at_10 = 0.6250919103622437\n",
      " eval/next-item/recall_at_20 = 0.6393041014671326\n",
      " eval_runtime = 2.0794\n",
      " eval_samples_per_second = 1969.844\n",
      " eval_steps_per_second = 61.558\n"
     ]
    },
    {
     "name": "stderr",
     "output_type": "stream",
     "text": [
      "***** Running training *****\n",
      "  Num examples = 32512\n",
      "  Num Epochs = 3\n",
      "  Instantaneous batch size per device = 256\n",
      "  Total train batch size (w. parallel, distributed & accumulation) = 256\n",
      "  Gradient Accumulation steps = 1\n",
      "  Total optimization steps = 381\n"
     ]
    },
    {
     "name": "stdout",
     "output_type": "stream",
     "text": [
      "********************\n",
      "Launch training for day 58 are:\n",
      "********************\n",
      "\n"
     ]
    },
    {
     "data": {
      "text/html": [
       "\n",
       "    <div>\n",
       "      \n",
       "      <progress value='381' max='381' style='width:300px; height:20px; vertical-align: middle;'></progress>\n",
       "      [381/381 00:12, Epoch 3/3]\n",
       "    </div>\n",
       "    <table border=\"1\" class=\"dataframe\">\n",
       "  <thead>\n",
       "    <tr style=\"text-align: left;\">\n",
       "      <th>Step</th>\n",
       "      <th>Training Loss</th>\n",
       "    </tr>\n",
       "  </thead>\n",
       "  <tbody>\n",
       "    <tr>\n",
       "      <td>200</td>\n",
       "      <td>3.891200</td>\n",
       "    </tr>\n",
       "  </tbody>\n",
       "</table><p>"
      ],
      "text/plain": [
       "<IPython.core.display.HTML object>"
      ]
     },
     "metadata": {},
     "output_type": "display_data"
    },
    {
     "name": "stderr",
     "output_type": "stream",
     "text": [
      "\n",
      "\n",
      "Training completed. Do not forget to share your model on huggingface.co/models =)\n",
      "\n",
      "\n"
     ]
    },
    {
     "name": "stdout",
     "output_type": "stream",
     "text": [
      "********************\n",
      "Eval results for day 59 are:\t\n",
      "\n",
      "********************\n",
      "\n",
      " eval/loss = 3.919560670852661\n",
      " eval/next-item/ndcg_at_10 = 0.629462480545044\n",
      " eval/next-item/ndcg_at_20 = 0.6334937214851379\n",
      " eval/next-item/recall_at_10 = 0.6478686928749084\n",
      " eval/next-item/recall_at_20 = 0.6637543439865112\n",
      " eval_runtime = 1.8284\n",
      " eval_samples_per_second = 2082.749\n",
      " eval_steps_per_second = 65.086\n"
     ]
    },
    {
     "name": "stderr",
     "output_type": "stream",
     "text": [
      "***** Running training *****\n",
      "  Num examples = 30208\n",
      "  Num Epochs = 3\n",
      "  Instantaneous batch size per device = 256\n",
      "  Total train batch size (w. parallel, distributed & accumulation) = 256\n",
      "  Gradient Accumulation steps = 1\n",
      "  Total optimization steps = 354\n"
     ]
    },
    {
     "name": "stdout",
     "output_type": "stream",
     "text": [
      "********************\n",
      "Launch training for day 59 are:\n",
      "********************\n",
      "\n"
     ]
    },
    {
     "data": {
      "text/html": [
       "\n",
       "    <div>\n",
       "      \n",
       "      <progress value='354' max='354' style='width:300px; height:20px; vertical-align: middle;'></progress>\n",
       "      [354/354 00:11, Epoch 3/3]\n",
       "    </div>\n",
       "    <table border=\"1\" class=\"dataframe\">\n",
       "  <thead>\n",
       "    <tr style=\"text-align: left;\">\n",
       "      <th>Step</th>\n",
       "      <th>Training Loss</th>\n",
       "    </tr>\n",
       "  </thead>\n",
       "  <tbody>\n",
       "    <tr>\n",
       "      <td>200</td>\n",
       "      <td>3.774100</td>\n",
       "    </tr>\n",
       "  </tbody>\n",
       "</table><p>"
      ],
      "text/plain": [
       "<IPython.core.display.HTML object>"
      ]
     },
     "metadata": {},
     "output_type": "display_data"
    },
    {
     "name": "stderr",
     "output_type": "stream",
     "text": [
      "\n",
      "\n",
      "Training completed. Do not forget to share your model on huggingface.co/models =)\n",
      "\n",
      "\n"
     ]
    },
    {
     "name": "stdout",
     "output_type": "stream",
     "text": [
      "********************\n",
      "Eval results for day 60 are:\t\n",
      "\n",
      "********************\n",
      "\n",
      " eval/loss = 3.855802059173584\n",
      " eval/next-item/ndcg_at_10 = 0.6356353759765625\n",
      " eval/next-item/ndcg_at_20 = 0.6388605833053589\n",
      " eval/next-item/recall_at_10 = 0.6489141583442688\n",
      " eval/next-item/recall_at_20 = 0.6618407368659973\n",
      " eval_runtime = 1.8136\n",
      " eval_samples_per_second = 2135.001\n",
      " eval_steps_per_second = 66.719\n"
     ]
    },
    {
     "name": "stderr",
     "output_type": "stream",
     "text": [
      "***** Running training *****\n",
      "  Num examples = 30976\n",
      "  Num Epochs = 3\n",
      "  Instantaneous batch size per device = 256\n",
      "  Total train batch size (w. parallel, distributed & accumulation) = 256\n",
      "  Gradient Accumulation steps = 1\n",
      "  Total optimization steps = 363\n"
     ]
    },
    {
     "name": "stdout",
     "output_type": "stream",
     "text": [
      "********************\n",
      "Launch training for day 60 are:\n",
      "********************\n",
      "\n"
     ]
    },
    {
     "data": {
      "text/html": [
       "\n",
       "    <div>\n",
       "      \n",
       "      <progress value='363' max='363' style='width:300px; height:20px; vertical-align: middle;'></progress>\n",
       "      [363/363 00:11, Epoch 3/3]\n",
       "    </div>\n",
       "    <table border=\"1\" class=\"dataframe\">\n",
       "  <thead>\n",
       "    <tr style=\"text-align: left;\">\n",
       "      <th>Step</th>\n",
       "      <th>Training Loss</th>\n",
       "    </tr>\n",
       "  </thead>\n",
       "  <tbody>\n",
       "    <tr>\n",
       "      <td>200</td>\n",
       "      <td>3.688400</td>\n",
       "    </tr>\n",
       "  </tbody>\n",
       "</table><p>"
      ],
      "text/plain": [
       "<IPython.core.display.HTML object>"
      ]
     },
     "metadata": {},
     "output_type": "display_data"
    },
    {
     "name": "stderr",
     "output_type": "stream",
     "text": [
      "\n",
      "\n",
      "Training completed. Do not forget to share your model on huggingface.co/models =)\n",
      "\n",
      "\n"
     ]
    },
    {
     "name": "stdout",
     "output_type": "stream",
     "text": [
      "********************\n",
      "Eval results for day 61 are:\t\n",
      "\n",
      "********************\n",
      "\n",
      " eval/loss = 3.6613991260528564\n",
      " eval/next-item/ndcg_at_10 = 0.6605307459831238\n",
      " eval/next-item/ndcg_at_20 = 0.6626908183097839\n",
      " eval/next-item/recall_at_10 = 0.6747787594795227\n",
      " eval/next-item/recall_at_20 = 0.6833517551422119\n",
      " eval_runtime = 1.6643\n",
      " eval_samples_per_second = 2172.687\n",
      " eval_steps_per_second = 67.896\n"
     ]
    },
    {
     "name": "stderr",
     "output_type": "stream",
     "text": [
      "***** Running training *****\n",
      "  Num examples = 28928\n",
      "  Num Epochs = 3\n",
      "  Instantaneous batch size per device = 256\n",
      "  Total train batch size (w. parallel, distributed & accumulation) = 256\n",
      "  Gradient Accumulation steps = 1\n",
      "  Total optimization steps = 339\n"
     ]
    },
    {
     "name": "stdout",
     "output_type": "stream",
     "text": [
      "********************\n",
      "Launch training for day 61 are:\n",
      "********************\n",
      "\n"
     ]
    },
    {
     "data": {
      "text/html": [
       "\n",
       "    <div>\n",
       "      \n",
       "      <progress value='339' max='339' style='width:300px; height:20px; vertical-align: middle;'></progress>\n",
       "      [339/339 00:11, Epoch 3/3]\n",
       "    </div>\n",
       "    <table border=\"1\" class=\"dataframe\">\n",
       "  <thead>\n",
       "    <tr style=\"text-align: left;\">\n",
       "      <th>Step</th>\n",
       "      <th>Training Loss</th>\n",
       "    </tr>\n",
       "  </thead>\n",
       "  <tbody>\n",
       "    <tr>\n",
       "      <td>200</td>\n",
       "      <td>3.673000</td>\n",
       "    </tr>\n",
       "  </tbody>\n",
       "</table><p>"
      ],
      "text/plain": [
       "<IPython.core.display.HTML object>"
      ]
     },
     "metadata": {},
     "output_type": "display_data"
    },
    {
     "name": "stderr",
     "output_type": "stream",
     "text": [
      "\n",
      "\n",
      "Training completed. Do not forget to share your model on huggingface.co/models =)\n",
      "\n",
      "\n"
     ]
    },
    {
     "name": "stdout",
     "output_type": "stream",
     "text": [
      "********************\n",
      "Eval results for day 62 are:\t\n",
      "\n",
      "********************\n",
      "\n",
      " eval/loss = 3.7877004146575928\n",
      " eval/next-item/ndcg_at_10 = 0.6464160680770874\n",
      " eval/next-item/ndcg_at_20 = 0.6492098569869995\n",
      " eval/next-item/recall_at_10 = 0.6599051356315613\n",
      " eval/next-item/recall_at_20 = 0.6709694266319275\n",
      " eval_runtime = 1.6995\n",
      " eval_samples_per_second = 2240.616\n",
      " eval_steps_per_second = 70.019\n"
     ]
    },
    {
     "name": "stderr",
     "output_type": "stream",
     "text": [
      "***** Running training *****\n",
      "  Num examples = 30208\n",
      "  Num Epochs = 3\n",
      "  Instantaneous batch size per device = 256\n",
      "  Total train batch size (w. parallel, distributed & accumulation) = 256\n",
      "  Gradient Accumulation steps = 1\n",
      "  Total optimization steps = 354\n"
     ]
    },
    {
     "name": "stdout",
     "output_type": "stream",
     "text": [
      "********************\n",
      "Launch training for day 62 are:\n",
      "********************\n",
      "\n"
     ]
    },
    {
     "data": {
      "text/html": [
       "\n",
       "    <div>\n",
       "      \n",
       "      <progress value='354' max='354' style='width:300px; height:20px; vertical-align: middle;'></progress>\n",
       "      [354/354 00:11, Epoch 3/3]\n",
       "    </div>\n",
       "    <table border=\"1\" class=\"dataframe\">\n",
       "  <thead>\n",
       "    <tr style=\"text-align: left;\">\n",
       "      <th>Step</th>\n",
       "      <th>Training Loss</th>\n",
       "    </tr>\n",
       "  </thead>\n",
       "  <tbody>\n",
       "    <tr>\n",
       "      <td>200</td>\n",
       "      <td>3.650100</td>\n",
       "    </tr>\n",
       "  </tbody>\n",
       "</table><p>"
      ],
      "text/plain": [
       "<IPython.core.display.HTML object>"
      ]
     },
     "metadata": {},
     "output_type": "display_data"
    },
    {
     "name": "stderr",
     "output_type": "stream",
     "text": [
      "\n",
      "\n",
      "Training completed. Do not forget to share your model on huggingface.co/models =)\n",
      "\n",
      "\n"
     ]
    },
    {
     "name": "stdout",
     "output_type": "stream",
     "text": [
      "********************\n",
      "Eval results for day 63 are:\t\n",
      "\n",
      "********************\n",
      "\n",
      " eval/loss = 3.77061128616333\n",
      " eval/next-item/ndcg_at_10 = 0.6422309279441833\n",
      " eval/next-item/ndcg_at_20 = 0.6455655694007874\n",
      " eval/next-item/recall_at_10 = 0.6558049917221069\n",
      " eval/next-item/recall_at_20 = 0.669080376625061\n",
      " eval_runtime = 1.8728\n",
      " eval_samples_per_second = 2221.288\n",
      " eval_steps_per_second = 69.415\n"
     ]
    },
    {
     "name": "stderr",
     "output_type": "stream",
     "text": [
      "***** Running training *****\n",
      "  Num examples = 33024\n",
      "  Num Epochs = 3\n",
      "  Instantaneous batch size per device = 256\n",
      "  Total train batch size (w. parallel, distributed & accumulation) = 256\n",
      "  Gradient Accumulation steps = 1\n",
      "  Total optimization steps = 387\n"
     ]
    },
    {
     "name": "stdout",
     "output_type": "stream",
     "text": [
      "********************\n",
      "Launch training for day 63 are:\n",
      "********************\n",
      "\n"
     ]
    },
    {
     "data": {
      "text/html": [
       "\n",
       "    <div>\n",
       "      \n",
       "      <progress value='387' max='387' style='width:300px; height:20px; vertical-align: middle;'></progress>\n",
       "      [387/387 00:12, Epoch 3/3]\n",
       "    </div>\n",
       "    <table border=\"1\" class=\"dataframe\">\n",
       "  <thead>\n",
       "    <tr style=\"text-align: left;\">\n",
       "      <th>Step</th>\n",
       "      <th>Training Loss</th>\n",
       "    </tr>\n",
       "  </thead>\n",
       "  <tbody>\n",
       "    <tr>\n",
       "      <td>200</td>\n",
       "      <td>3.655800</td>\n",
       "    </tr>\n",
       "  </tbody>\n",
       "</table><p>"
      ],
      "text/plain": [
       "<IPython.core.display.HTML object>"
      ]
     },
     "metadata": {},
     "output_type": "display_data"
    },
    {
     "name": "stderr",
     "output_type": "stream",
     "text": [
      "\n",
      "\n",
      "Training completed. Do not forget to share your model on huggingface.co/models =)\n",
      "\n",
      "\n"
     ]
    },
    {
     "name": "stdout",
     "output_type": "stream",
     "text": [
      "********************\n",
      "Eval results for day 64 are:\t\n",
      "\n",
      "********************\n",
      "\n",
      " eval/loss = 4.113503456115723\n",
      " eval/next-item/ndcg_at_10 = 0.611626923084259\n",
      " eval/next-item/ndcg_at_20 = 0.615233302116394\n",
      " eval/next-item/recall_at_10 = 0.6269946694374084\n",
      " eval/next-item/recall_at_20 = 0.6414006948471069\n",
      " eval_runtime = 2.0252\n",
      " eval_samples_per_second = 2227.941\n",
      " eval_steps_per_second = 69.623\n"
     ]
    },
    {
     "name": "stderr",
     "output_type": "stream",
     "text": [
      "***** Running training *****\n",
      "  Num examples = 35840\n",
      "  Num Epochs = 3\n",
      "  Instantaneous batch size per device = 256\n",
      "  Total train batch size (w. parallel, distributed & accumulation) = 256\n",
      "  Gradient Accumulation steps = 1\n",
      "  Total optimization steps = 420\n"
     ]
    },
    {
     "name": "stdout",
     "output_type": "stream",
     "text": [
      "********************\n",
      "Launch training for day 64 are:\n",
      "********************\n",
      "\n"
     ]
    },
    {
     "data": {
      "text/html": [
       "\n",
       "    <div>\n",
       "      \n",
       "      <progress value='420' max='420' style='width:300px; height:20px; vertical-align: middle;'></progress>\n",
       "      [420/420 00:13, Epoch 3/3]\n",
       "    </div>\n",
       "    <table border=\"1\" class=\"dataframe\">\n",
       "  <thead>\n",
       "    <tr style=\"text-align: left;\">\n",
       "      <th>Step</th>\n",
       "      <th>Training Loss</th>\n",
       "    </tr>\n",
       "  </thead>\n",
       "  <tbody>\n",
       "    <tr>\n",
       "      <td>200</td>\n",
       "      <td>3.851000</td>\n",
       "    </tr>\n",
       "    <tr>\n",
       "      <td>400</td>\n",
       "      <td>3.800100</td>\n",
       "    </tr>\n",
       "  </tbody>\n",
       "</table><p>"
      ],
      "text/plain": [
       "<IPython.core.display.HTML object>"
      ]
     },
     "metadata": {},
     "output_type": "display_data"
    },
    {
     "name": "stderr",
     "output_type": "stream",
     "text": [
      "\n",
      "\n",
      "Training completed. Do not forget to share your model on huggingface.co/models =)\n",
      "\n",
      "\n"
     ]
    },
    {
     "name": "stdout",
     "output_type": "stream",
     "text": [
      "********************\n",
      "Eval results for day 65 are:\t\n",
      "\n",
      "********************\n",
      "\n",
      " eval/loss = 4.081091403961182\n",
      " eval/next-item/ndcg_at_10 = 0.6088553667068481\n",
      " eval/next-item/ndcg_at_20 = 0.6127457618713379\n",
      " eval/next-item/recall_at_10 = 0.6226171851158142\n",
      " eval/next-item/recall_at_20 = 0.6380731463432312\n",
      " eval_runtime = 1.7887\n",
      " eval_samples_per_second = 2182.555\n",
      " eval_steps_per_second = 68.205\n"
     ]
    },
    {
     "name": "stderr",
     "output_type": "stream",
     "text": [
      "***** Running training *****\n",
      "  Num examples = 30976\n",
      "  Num Epochs = 3\n",
      "  Instantaneous batch size per device = 256\n",
      "  Total train batch size (w. parallel, distributed & accumulation) = 256\n",
      "  Gradient Accumulation steps = 1\n",
      "  Total optimization steps = 363\n"
     ]
    },
    {
     "name": "stdout",
     "output_type": "stream",
     "text": [
      "********************\n",
      "Launch training for day 65 are:\n",
      "********************\n",
      "\n"
     ]
    },
    {
     "data": {
      "text/html": [
       "\n",
       "    <div>\n",
       "      \n",
       "      <progress value='363' max='363' style='width:300px; height:20px; vertical-align: middle;'></progress>\n",
       "      [363/363 00:11, Epoch 3/3]\n",
       "    </div>\n",
       "    <table border=\"1\" class=\"dataframe\">\n",
       "  <thead>\n",
       "    <tr style=\"text-align: left;\">\n",
       "      <th>Step</th>\n",
       "      <th>Training Loss</th>\n",
       "    </tr>\n",
       "  </thead>\n",
       "  <tbody>\n",
       "    <tr>\n",
       "      <td>200</td>\n",
       "      <td>3.844700</td>\n",
       "    </tr>\n",
       "  </tbody>\n",
       "</table><p>"
      ],
      "text/plain": [
       "<IPython.core.display.HTML object>"
      ]
     },
     "metadata": {},
     "output_type": "display_data"
    },
    {
     "name": "stderr",
     "output_type": "stream",
     "text": [
      "\n",
      "\n",
      "Training completed. Do not forget to share your model on huggingface.co/models =)\n",
      "\n",
      "\n"
     ]
    },
    {
     "name": "stdout",
     "output_type": "stream",
     "text": [
      "********************\n",
      "Eval results for day 66 are:\t\n",
      "\n",
      "********************\n",
      "\n",
      " eval/loss = 3.831390619277954\n",
      " eval/next-item/ndcg_at_10 = 0.6431417465209961\n",
      " eval/next-item/ndcg_at_20 = 0.6462072134017944\n",
      " eval/next-item/recall_at_10 = 0.6618407368659973\n",
      " eval/next-item/recall_at_20 = 0.6739917397499084\n",
      " eval_runtime = 1.9095\n",
      " eval_samples_per_second = 2027.793\n",
      " eval_steps_per_second = 63.369\n"
     ]
    },
    {
     "name": "stderr",
     "output_type": "stream",
     "text": [
      "***** Running training *****\n",
      "  Num examples = 30976\n",
      "  Num Epochs = 3\n",
      "  Instantaneous batch size per device = 256\n",
      "  Total train batch size (w. parallel, distributed & accumulation) = 256\n",
      "  Gradient Accumulation steps = 1\n",
      "  Total optimization steps = 363\n"
     ]
    },
    {
     "name": "stdout",
     "output_type": "stream",
     "text": [
      "********************\n",
      "Launch training for day 66 are:\n",
      "********************\n",
      "\n"
     ]
    },
    {
     "data": {
      "text/html": [
       "\n",
       "    <div>\n",
       "      \n",
       "      <progress value='363' max='363' style='width:300px; height:20px; vertical-align: middle;'></progress>\n",
       "      [363/363 00:11, Epoch 3/3]\n",
       "    </div>\n",
       "    <table border=\"1\" class=\"dataframe\">\n",
       "  <thead>\n",
       "    <tr style=\"text-align: left;\">\n",
       "      <th>Step</th>\n",
       "      <th>Training Loss</th>\n",
       "    </tr>\n",
       "  </thead>\n",
       "  <tbody>\n",
       "    <tr>\n",
       "      <td>200</td>\n",
       "      <td>3.720500</td>\n",
       "    </tr>\n",
       "  </tbody>\n",
       "</table><p>"
      ],
      "text/plain": [
       "<IPython.core.display.HTML object>"
      ]
     },
     "metadata": {},
     "output_type": "display_data"
    },
    {
     "name": "stderr",
     "output_type": "stream",
     "text": [
      "\n",
      "\n",
      "Training completed. Do not forget to share your model on huggingface.co/models =)\n",
      "\n",
      "\n",
      "***** Running training *****\n",
      "  Num examples = 13824\n",
      "  Num Epochs = 3\n",
      "  Instantaneous batch size per device = 256\n",
      "  Total train batch size (w. parallel, distributed & accumulation) = 256\n",
      "  Gradient Accumulation steps = 1\n",
      "  Total optimization steps = 162\n"
     ]
    },
    {
     "name": "stdout",
     "output_type": "stream",
     "text": [
      "********************\n",
      "Eval results for day 67 are:\t\n",
      "\n",
      "********************\n",
      "\n",
      " eval/loss = 4.017416000366211\n",
      " eval/next-item/ndcg_at_10 = 0.6171258091926575\n",
      " eval/next-item/ndcg_at_20 = 0.6215772032737732\n",
      " eval/next-item/recall_at_10 = 0.6349206566810608\n",
      " eval/next-item/recall_at_20 = 0.6524943113327026\n",
      " eval_runtime = 0.8537\n",
      " eval_samples_per_second = 2099.102\n",
      " eval_steps_per_second = 65.597\n",
      "********************\n",
      "Launch training for day 67 are:\n",
      "********************\n",
      "\n"
     ]
    },
    {
     "data": {
      "text/html": [
       "\n",
       "    <div>\n",
       "      \n",
       "      <progress value='162' max='162' style='width:300px; height:20px; vertical-align: middle;'></progress>\n",
       "      [162/162 00:05, Epoch 3/3]\n",
       "    </div>\n",
       "    <table border=\"1\" class=\"dataframe\">\n",
       "  <thead>\n",
       "    <tr style=\"text-align: left;\">\n",
       "      <th>Step</th>\n",
       "      <th>Training Loss</th>\n",
       "    </tr>\n",
       "  </thead>\n",
       "  <tbody>\n",
       "  </tbody>\n",
       "</table><p>"
      ],
      "text/plain": [
       "<IPython.core.display.HTML object>"
      ]
     },
     "metadata": {},
     "output_type": "display_data"
    },
    {
     "name": "stderr",
     "output_type": "stream",
     "text": [
      "\n",
      "\n",
      "Training completed. Do not forget to share your model on huggingface.co/models =)\n",
      "\n",
      "\n",
      "***** Running training *****\n",
      "  Num examples = 1536\n",
      "  Num Epochs = 3\n",
      "  Instantaneous batch size per device = 256\n",
      "  Total train batch size (w. parallel, distributed & accumulation) = 256\n",
      "  Gradient Accumulation steps = 1\n",
      "  Total optimization steps = 18\n"
     ]
    },
    {
     "name": "stdout",
     "output_type": "stream",
     "text": [
      "********************\n",
      "Eval results for day 68 are:\t\n",
      "\n",
      "********************\n",
      "\n",
      " eval/loss = 1.0573846101760864\n",
      " eval/next-item/ndcg_at_10 = 0.9345238208770752\n",
      " eval/next-item/ndcg_at_20 = 0.9345238208770752\n",
      " eval/next-item/recall_at_10 = 0.9345238208770752\n",
      " eval/next-item/recall_at_20 = 0.9345238208770752\n",
      " eval_runtime = 0.1902\n",
      " eval_samples_per_second = 1009.309\n",
      " eval_steps_per_second = 31.541\n",
      "********************\n",
      "Launch training for day 68 are:\n",
      "********************\n",
      "\n"
     ]
    },
    {
     "data": {
      "text/html": [
       "\n",
       "    <div>\n",
       "      \n",
       "      <progress value='18' max='18' style='width:300px; height:20px; vertical-align: middle;'></progress>\n",
       "      [18/18 00:00, Epoch 3/3]\n",
       "    </div>\n",
       "    <table border=\"1\" class=\"dataframe\">\n",
       "  <thead>\n",
       "    <tr style=\"text-align: left;\">\n",
       "      <th>Step</th>\n",
       "      <th>Training Loss</th>\n",
       "    </tr>\n",
       "  </thead>\n",
       "  <tbody>\n",
       "  </tbody>\n",
       "</table><p>"
      ],
      "text/plain": [
       "<IPython.core.display.HTML object>"
      ]
     },
     "metadata": {},
     "output_type": "display_data"
    },
    {
     "name": "stderr",
     "output_type": "stream",
     "text": [
      "\n",
      "\n",
      "Training completed. Do not forget to share your model on huggingface.co/models =)\n",
      "\n",
      "\n"
     ]
    },
    {
     "name": "stdout",
     "output_type": "stream",
     "text": [
      "********************\n",
      "Eval results for day 69 are:\t\n",
      "\n",
      "********************\n",
      "\n",
      " eval/loss = 3.657202959060669\n",
      " eval/next-item/ndcg_at_10 = 0.7116953730583191\n",
      " eval/next-item/ndcg_at_20 = 0.713672935962677\n",
      " eval/next-item/recall_at_10 = 0.7231701016426086\n",
      " eval/next-item/recall_at_20 = 0.7311502695083618\n",
      " eval_runtime = 1.6277\n",
      " eval_samples_per_second = 2241.186\n",
      " eval_steps_per_second = 70.037\n"
     ]
    },
    {
     "name": "stderr",
     "output_type": "stream",
     "text": [
      "***** Running training *****\n",
      "  Num examples = 28928\n",
      "  Num Epochs = 3\n",
      "  Instantaneous batch size per device = 256\n",
      "  Total train batch size (w. parallel, distributed & accumulation) = 256\n",
      "  Gradient Accumulation steps = 1\n",
      "  Total optimization steps = 339\n"
     ]
    },
    {
     "name": "stdout",
     "output_type": "stream",
     "text": [
      "********************\n",
      "Launch training for day 69 are:\n",
      "********************\n",
      "\n"
     ]
    },
    {
     "data": {
      "text/html": [
       "\n",
       "    <div>\n",
       "      \n",
       "      <progress value='339' max='339' style='width:300px; height:20px; vertical-align: middle;'></progress>\n",
       "      [339/339 00:10, Epoch 3/3]\n",
       "    </div>\n",
       "    <table border=\"1\" class=\"dataframe\">\n",
       "  <thead>\n",
       "    <tr style=\"text-align: left;\">\n",
       "      <th>Step</th>\n",
       "      <th>Training Loss</th>\n",
       "    </tr>\n",
       "  </thead>\n",
       "  <tbody>\n",
       "    <tr>\n",
       "      <td>200</td>\n",
       "      <td>3.129900</td>\n",
       "    </tr>\n",
       "  </tbody>\n",
       "</table><p>"
      ],
      "text/plain": [
       "<IPython.core.display.HTML object>"
      ]
     },
     "metadata": {},
     "output_type": "display_data"
    },
    {
     "name": "stderr",
     "output_type": "stream",
     "text": [
      "\n",
      "\n",
      "Training completed. Do not forget to share your model on huggingface.co/models =)\n",
      "\n",
      "\n"
     ]
    },
    {
     "name": "stdout",
     "output_type": "stream",
     "text": [
      "********************\n",
      "Eval results for day 70 are:\t\n",
      "\n",
      "********************\n",
      "\n",
      " eval/loss = 3.644451379776001\n",
      " eval/next-item/ndcg_at_10 = 0.6595326662063599\n",
      " eval/next-item/ndcg_at_20 = 0.6619628667831421\n",
      " eval/next-item/recall_at_10 = 0.6750576496124268\n",
      " eval/next-item/recall_at_20 = 0.6849170923233032\n",
      " eval_runtime = 2.0934\n",
      " eval_samples_per_second = 2277.677\n",
      " eval_steps_per_second = 71.177\n"
     ]
    },
    {
     "name": "stderr",
     "output_type": "stream",
     "text": [
      "***** Running training *****\n",
      "  Num examples = 37888\n",
      "  Num Epochs = 3\n",
      "  Instantaneous batch size per device = 256\n",
      "  Total train batch size (w. parallel, distributed & accumulation) = 256\n",
      "  Gradient Accumulation steps = 1\n",
      "  Total optimization steps = 444\n"
     ]
    },
    {
     "name": "stdout",
     "output_type": "stream",
     "text": [
      "********************\n",
      "Launch training for day 70 are:\n",
      "********************\n",
      "\n"
     ]
    },
    {
     "data": {
      "text/html": [
       "\n",
       "    <div>\n",
       "      \n",
       "      <progress value='444' max='444' style='width:300px; height:20px; vertical-align: middle;'></progress>\n",
       "      [444/444 00:14, Epoch 3/3]\n",
       "    </div>\n",
       "    <table border=\"1\" class=\"dataframe\">\n",
       "  <thead>\n",
       "    <tr style=\"text-align: left;\">\n",
       "      <th>Step</th>\n",
       "      <th>Training Loss</th>\n",
       "    </tr>\n",
       "  </thead>\n",
       "  <tbody>\n",
       "    <tr>\n",
       "      <td>200</td>\n",
       "      <td>3.485700</td>\n",
       "    </tr>\n",
       "    <tr>\n",
       "      <td>400</td>\n",
       "      <td>3.460100</td>\n",
       "    </tr>\n",
       "  </tbody>\n",
       "</table><p>"
      ],
      "text/plain": [
       "<IPython.core.display.HTML object>"
      ]
     },
     "metadata": {},
     "output_type": "display_data"
    },
    {
     "name": "stderr",
     "output_type": "stream",
     "text": [
      "\n",
      "\n",
      "Training completed. Do not forget to share your model on huggingface.co/models =)\n",
      "\n",
      "\n"
     ]
    },
    {
     "name": "stdout",
     "output_type": "stream",
     "text": [
      "********************\n",
      "Eval results for day 71 are:\t\n",
      "\n",
      "********************\n",
      "\n",
      " eval/loss = 3.8266303539276123\n",
      " eval/next-item/ndcg_at_10 = 0.6327009797096252\n",
      " eval/next-item/ndcg_at_20 = 0.6362147331237793\n",
      " eval/next-item/recall_at_10 = 0.6487098336219788\n",
      " eval/next-item/recall_at_20 = 0.6629696488380432\n",
      " eval_runtime = 2.0238\n",
      " eval_samples_per_second = 2197.801\n",
      " eval_steps_per_second = 68.681\n"
     ]
    },
    {
     "name": "stderr",
     "output_type": "stream",
     "text": [
      "***** Running training *****\n",
      "  Num examples = 34816\n",
      "  Num Epochs = 3\n",
      "  Instantaneous batch size per device = 256\n",
      "  Total train batch size (w. parallel, distributed & accumulation) = 256\n",
      "  Gradient Accumulation steps = 1\n",
      "  Total optimization steps = 408\n"
     ]
    },
    {
     "name": "stdout",
     "output_type": "stream",
     "text": [
      "********************\n",
      "Launch training for day 71 are:\n",
      "********************\n",
      "\n"
     ]
    },
    {
     "data": {
      "text/html": [
       "\n",
       "    <div>\n",
       "      \n",
       "      <progress value='408' max='408' style='width:300px; height:20px; vertical-align: middle;'></progress>\n",
       "      [408/408 00:12, Epoch 3/3]\n",
       "    </div>\n",
       "    <table border=\"1\" class=\"dataframe\">\n",
       "  <thead>\n",
       "    <tr style=\"text-align: left;\">\n",
       "      <th>Step</th>\n",
       "      <th>Training Loss</th>\n",
       "    </tr>\n",
       "  </thead>\n",
       "  <tbody>\n",
       "    <tr>\n",
       "      <td>200</td>\n",
       "      <td>3.592700</td>\n",
       "    </tr>\n",
       "    <tr>\n",
       "      <td>400</td>\n",
       "      <td>3.535600</td>\n",
       "    </tr>\n",
       "  </tbody>\n",
       "</table><p>"
      ],
      "text/plain": [
       "<IPython.core.display.HTML object>"
      ]
     },
     "metadata": {},
     "output_type": "display_data"
    },
    {
     "name": "stderr",
     "output_type": "stream",
     "text": [
      "\n",
      "\n",
      "Training completed. Do not forget to share your model on huggingface.co/models =)\n",
      "\n",
      "\n"
     ]
    },
    {
     "name": "stdout",
     "output_type": "stream",
     "text": [
      "********************\n",
      "Eval results for day 72 are:\t\n",
      "\n",
      "********************\n",
      "\n",
      " eval/loss = 3.8644890785217285\n",
      " eval/next-item/ndcg_at_10 = 0.6286647915840149\n",
      " eval/next-item/ndcg_at_20 = 0.6318660974502563\n",
      " eval/next-item/recall_at_10 = 0.6436079740524292\n",
      " eval/next-item/recall_at_20 = 0.6563187837600708\n",
      " eval_runtime = 1.8849\n",
      " eval_samples_per_second = 2173.021\n",
      " eval_steps_per_second = 67.907\n"
     ]
    },
    {
     "name": "stderr",
     "output_type": "stream",
     "text": [
      "***** Running training *****\n",
      "  Num examples = 32512\n",
      "  Num Epochs = 3\n",
      "  Instantaneous batch size per device = 256\n",
      "  Total train batch size (w. parallel, distributed & accumulation) = 256\n",
      "  Gradient Accumulation steps = 1\n",
      "  Total optimization steps = 381\n"
     ]
    },
    {
     "name": "stdout",
     "output_type": "stream",
     "text": [
      "********************\n",
      "Launch training for day 72 are:\n",
      "********************\n",
      "\n"
     ]
    },
    {
     "data": {
      "text/html": [
       "\n",
       "    <div>\n",
       "      \n",
       "      <progress value='381' max='381' style='width:300px; height:20px; vertical-align: middle;'></progress>\n",
       "      [381/381 00:12, Epoch 3/3]\n",
       "    </div>\n",
       "    <table border=\"1\" class=\"dataframe\">\n",
       "  <thead>\n",
       "    <tr style=\"text-align: left;\">\n",
       "      <th>Step</th>\n",
       "      <th>Training Loss</th>\n",
       "    </tr>\n",
       "  </thead>\n",
       "  <tbody>\n",
       "    <tr>\n",
       "      <td>200</td>\n",
       "      <td>3.658900</td>\n",
       "    </tr>\n",
       "  </tbody>\n",
       "</table><p>"
      ],
      "text/plain": [
       "<IPython.core.display.HTML object>"
      ]
     },
     "metadata": {},
     "output_type": "display_data"
    },
    {
     "name": "stderr",
     "output_type": "stream",
     "text": [
      "\n",
      "\n",
      "Training completed. Do not forget to share your model on huggingface.co/models =)\n",
      "\n",
      "\n"
     ]
    },
    {
     "name": "stdout",
     "output_type": "stream",
     "text": [
      "********************\n",
      "Eval results for day 73 are:\t\n",
      "\n",
      "********************\n",
      "\n",
      " eval/loss = 3.704305410385132\n",
      " eval/next-item/ndcg_at_10 = 0.6496650576591492\n",
      " eval/next-item/ndcg_at_20 = 0.653019368648529\n",
      " eval/next-item/recall_at_10 = 0.6645521521568298\n",
      " eval/next-item/recall_at_20 = 0.6780005097389221\n",
      " eval_runtime = 1.8349\n",
      " eval_samples_per_second = 2162.499\n",
      " eval_steps_per_second = 67.578\n"
     ]
    },
    {
     "name": "stderr",
     "output_type": "stream",
     "text": [
      "***** Running training *****\n",
      "  Num examples = 31488\n",
      "  Num Epochs = 3\n",
      "  Instantaneous batch size per device = 256\n",
      "  Total train batch size (w. parallel, distributed & accumulation) = 256\n",
      "  Gradient Accumulation steps = 1\n",
      "  Total optimization steps = 369\n"
     ]
    },
    {
     "name": "stdout",
     "output_type": "stream",
     "text": [
      "********************\n",
      "Launch training for day 73 are:\n",
      "********************\n",
      "\n"
     ]
    },
    {
     "data": {
      "text/html": [
       "\n",
       "    <div>\n",
       "      \n",
       "      <progress value='369' max='369' style='width:300px; height:20px; vertical-align: middle;'></progress>\n",
       "      [369/369 00:11, Epoch 3/3]\n",
       "    </div>\n",
       "    <table border=\"1\" class=\"dataframe\">\n",
       "  <thead>\n",
       "    <tr style=\"text-align: left;\">\n",
       "      <th>Step</th>\n",
       "      <th>Training Loss</th>\n",
       "    </tr>\n",
       "  </thead>\n",
       "  <tbody>\n",
       "    <tr>\n",
       "      <td>200</td>\n",
       "      <td>3.549300</td>\n",
       "    </tr>\n",
       "  </tbody>\n",
       "</table><p>"
      ],
      "text/plain": [
       "<IPython.core.display.HTML object>"
      ]
     },
     "metadata": {},
     "output_type": "display_data"
    },
    {
     "name": "stderr",
     "output_type": "stream",
     "text": [
      "\n",
      "\n",
      "Training completed. Do not forget to share your model on huggingface.co/models =)\n",
      "\n",
      "\n"
     ]
    },
    {
     "name": "stdout",
     "output_type": "stream",
     "text": [
      "********************\n",
      "Eval results for day 74 are:\t\n",
      "\n",
      "********************\n",
      "\n",
      " eval/loss = 3.721940755844116\n",
      " eval/next-item/ndcg_at_10 = 0.6453593969345093\n",
      " eval/next-item/ndcg_at_20 = 0.6489564776420593\n",
      " eval/next-item/recall_at_10 = 0.6592086553573608\n",
      " eval/next-item/recall_at_20 = 0.6735751032829285\n",
      " eval_runtime = 1.8701\n",
      " eval_samples_per_second = 2275.828\n",
      " eval_steps_per_second = 71.12\n"
     ]
    },
    {
     "name": "stderr",
     "output_type": "stream",
     "text": [
      "***** Running training *****\n",
      "  Num examples = 33536\n",
      "  Num Epochs = 3\n",
      "  Instantaneous batch size per device = 256\n",
      "  Total train batch size (w. parallel, distributed & accumulation) = 256\n",
      "  Gradient Accumulation steps = 1\n",
      "  Total optimization steps = 393\n"
     ]
    },
    {
     "name": "stdout",
     "output_type": "stream",
     "text": [
      "********************\n",
      "Launch training for day 74 are:\n",
      "********************\n",
      "\n"
     ]
    },
    {
     "data": {
      "text/html": [
       "\n",
       "    <div>\n",
       "      \n",
       "      <progress value='393' max='393' style='width:300px; height:20px; vertical-align: middle;'></progress>\n",
       "      [393/393 00:12, Epoch 3/3]\n",
       "    </div>\n",
       "    <table border=\"1\" class=\"dataframe\">\n",
       "  <thead>\n",
       "    <tr style=\"text-align: left;\">\n",
       "      <th>Step</th>\n",
       "      <th>Training Loss</th>\n",
       "    </tr>\n",
       "  </thead>\n",
       "  <tbody>\n",
       "    <tr>\n",
       "      <td>200</td>\n",
       "      <td>3.540900</td>\n",
       "    </tr>\n",
       "  </tbody>\n",
       "</table><p>"
      ],
      "text/plain": [
       "<IPython.core.display.HTML object>"
      ]
     },
     "metadata": {},
     "output_type": "display_data"
    },
    {
     "name": "stderr",
     "output_type": "stream",
     "text": [
      "\n",
      "\n",
      "Training completed. Do not forget to share your model on huggingface.co/models =)\n",
      "\n",
      "\n"
     ]
    },
    {
     "name": "stdout",
     "output_type": "stream",
     "text": [
      "********************\n",
      "Eval results for day 75 are:\t\n",
      "\n",
      "********************\n",
      "\n",
      " eval/loss = 3.6964809894561768\n",
      " eval/next-item/ndcg_at_10 = 0.6487073302268982\n",
      " eval/next-item/ndcg_at_20 = 0.6518467664718628\n",
      " eval/next-item/recall_at_10 = 0.6662033796310425\n",
      " eval/next-item/recall_at_20 = 0.6787132620811462\n",
      " eval_runtime = 2.2379\n",
      " eval_samples_per_second = 2259.262\n",
      " eval_steps_per_second = 70.602\n"
     ]
    },
    {
     "name": "stderr",
     "output_type": "stream",
     "text": [
      "***** Running training *****\n",
      "  Num examples = 39936\n",
      "  Num Epochs = 3\n",
      "  Instantaneous batch size per device = 256\n",
      "  Total train batch size (w. parallel, distributed & accumulation) = 256\n",
      "  Gradient Accumulation steps = 1\n",
      "  Total optimization steps = 468\n"
     ]
    },
    {
     "name": "stdout",
     "output_type": "stream",
     "text": [
      "********************\n",
      "Launch training for day 75 are:\n",
      "********************\n",
      "\n"
     ]
    },
    {
     "data": {
      "text/html": [
       "\n",
       "    <div>\n",
       "      \n",
       "      <progress value='468' max='468' style='width:300px; height:20px; vertical-align: middle;'></progress>\n",
       "      [468/468 00:14, Epoch 3/3]\n",
       "    </div>\n",
       "    <table border=\"1\" class=\"dataframe\">\n",
       "  <thead>\n",
       "    <tr style=\"text-align: left;\">\n",
       "      <th>Step</th>\n",
       "      <th>Training Loss</th>\n",
       "    </tr>\n",
       "  </thead>\n",
       "  <tbody>\n",
       "    <tr>\n",
       "      <td>200</td>\n",
       "      <td>3.501200</td>\n",
       "    </tr>\n",
       "    <tr>\n",
       "      <td>400</td>\n",
       "      <td>3.465300</td>\n",
       "    </tr>\n",
       "  </tbody>\n",
       "</table><p>"
      ],
      "text/plain": [
       "<IPython.core.display.HTML object>"
      ]
     },
     "metadata": {},
     "output_type": "display_data"
    },
    {
     "name": "stderr",
     "output_type": "stream",
     "text": [
      "\n",
      "\n",
      "Training completed. Do not forget to share your model on huggingface.co/models =)\n",
      "\n",
      "\n"
     ]
    },
    {
     "name": "stdout",
     "output_type": "stream",
     "text": [
      "********************\n",
      "Eval results for day 76 are:\t\n",
      "\n",
      "********************\n",
      "\n",
      " eval/loss = 3.6086456775665283\n",
      " eval/next-item/ndcg_at_10 = 0.6530805230140686\n",
      " eval/next-item/ndcg_at_20 = 0.6569684743881226\n",
      " eval/next-item/recall_at_10 = 0.6715964078903198\n",
      " eval/next-item/recall_at_20 = 0.686790943145752\n",
      " eval_runtime = 2.2459\n",
      " eval_samples_per_second = 2208.479\n",
      " eval_steps_per_second = 69.015\n"
     ]
    },
    {
     "name": "stderr",
     "output_type": "stream",
     "text": [
      "***** Running training *****\n",
      "  Num examples = 39168\n",
      "  Num Epochs = 3\n",
      "  Instantaneous batch size per device = 256\n",
      "  Total train batch size (w. parallel, distributed & accumulation) = 256\n",
      "  Gradient Accumulation steps = 1\n",
      "  Total optimization steps = 459\n"
     ]
    },
    {
     "name": "stdout",
     "output_type": "stream",
     "text": [
      "********************\n",
      "Launch training for day 76 are:\n",
      "********************\n",
      "\n"
     ]
    },
    {
     "data": {
      "text/html": [
       "\n",
       "    <div>\n",
       "      \n",
       "      <progress value='459' max='459' style='width:300px; height:20px; vertical-align: middle;'></progress>\n",
       "      [459/459 00:14, Epoch 3/3]\n",
       "    </div>\n",
       "    <table border=\"1\" class=\"dataframe\">\n",
       "  <thead>\n",
       "    <tr style=\"text-align: left;\">\n",
       "      <th>Step</th>\n",
       "      <th>Training Loss</th>\n",
       "    </tr>\n",
       "  </thead>\n",
       "  <tbody>\n",
       "    <tr>\n",
       "      <td>200</td>\n",
       "      <td>3.468700</td>\n",
       "    </tr>\n",
       "    <tr>\n",
       "      <td>400</td>\n",
       "      <td>3.414400</td>\n",
       "    </tr>\n",
       "  </tbody>\n",
       "</table><p>"
      ],
      "text/plain": [
       "<IPython.core.display.HTML object>"
      ]
     },
     "metadata": {},
     "output_type": "display_data"
    },
    {
     "name": "stderr",
     "output_type": "stream",
     "text": [
      "\n",
      "\n",
      "Training completed. Do not forget to share your model on huggingface.co/models =)\n",
      "\n",
      "\n"
     ]
    },
    {
     "name": "stdout",
     "output_type": "stream",
     "text": [
      "********************\n",
      "Eval results for day 77 are:\t\n",
      "\n",
      "********************\n",
      "\n",
      " eval/loss = 3.238858938217163\n",
      " eval/next-item/ndcg_at_10 = 0.6972489356994629\n",
      " eval/next-item/ndcg_at_20 = 0.7001466751098633\n",
      " eval/next-item/recall_at_10 = 0.7125870585441589\n",
      " eval/next-item/recall_at_20 = 0.7239680290222168\n",
      " eval_runtime = 2.6773\n",
      " eval_samples_per_second = 2199.218\n",
      " eval_steps_per_second = 68.726\n"
     ]
    },
    {
     "name": "stderr",
     "output_type": "stream",
     "text": [
      "***** Running training *****\n",
      "  Num examples = 47104\n",
      "  Num Epochs = 3\n",
      "  Instantaneous batch size per device = 256\n",
      "  Total train batch size (w. parallel, distributed & accumulation) = 256\n",
      "  Gradient Accumulation steps = 1\n",
      "  Total optimization steps = 552\n"
     ]
    },
    {
     "name": "stdout",
     "output_type": "stream",
     "text": [
      "********************\n",
      "Launch training for day 77 are:\n",
      "********************\n",
      "\n"
     ]
    },
    {
     "data": {
      "text/html": [
       "\n",
       "    <div>\n",
       "      \n",
       "      <progress value='552' max='552' style='width:300px; height:20px; vertical-align: middle;'></progress>\n",
       "      [552/552 00:17, Epoch 3/3]\n",
       "    </div>\n",
       "    <table border=\"1\" class=\"dataframe\">\n",
       "  <thead>\n",
       "    <tr style=\"text-align: left;\">\n",
       "      <th>Step</th>\n",
       "      <th>Training Loss</th>\n",
       "    </tr>\n",
       "  </thead>\n",
       "  <tbody>\n",
       "    <tr>\n",
       "      <td>200</td>\n",
       "      <td>3.206100</td>\n",
       "    </tr>\n",
       "    <tr>\n",
       "      <td>400</td>\n",
       "      <td>3.167800</td>\n",
       "    </tr>\n",
       "  </tbody>\n",
       "</table><p>"
      ],
      "text/plain": [
       "<IPython.core.display.HTML object>"
      ]
     },
     "metadata": {},
     "output_type": "display_data"
    },
    {
     "name": "stderr",
     "output_type": "stream",
     "text": [
      "Saving model checkpoint to /recsys/tmp/checkpoint-500\n",
      "Trainer.model is not a `PreTrainedModel`, only saving its state dict.\n",
      "\n",
      "\n",
      "Training completed. Do not forget to share your model on huggingface.co/models =)\n",
      "\n",
      "\n"
     ]
    },
    {
     "name": "stdout",
     "output_type": "stream",
     "text": [
      "********************\n",
      "Eval results for day 78 are:\t\n",
      "\n",
      "********************\n",
      "\n",
      " eval/loss = 3.560821294784546\n",
      " eval/next-item/ndcg_at_10 = 0.6645214557647705\n",
      " eval/next-item/ndcg_at_20 = 0.6673442125320435\n",
      " eval/next-item/recall_at_10 = 0.6840518116950989\n",
      " eval/next-item/recall_at_20 = 0.6952279806137085\n",
      " eval_runtime = 2.4953\n",
      " eval_samples_per_second = 2269.828\n",
      " eval_steps_per_second = 70.932\n"
     ]
    },
    {
     "name": "stderr",
     "output_type": "stream",
     "text": [
      "***** Running training *****\n",
      "  Num examples = 45056\n",
      "  Num Epochs = 3\n",
      "  Instantaneous batch size per device = 256\n",
      "  Total train batch size (w. parallel, distributed & accumulation) = 256\n",
      "  Gradient Accumulation steps = 1\n",
      "  Total optimization steps = 528\n"
     ]
    },
    {
     "name": "stdout",
     "output_type": "stream",
     "text": [
      "********************\n",
      "Launch training for day 78 are:\n",
      "********************\n",
      "\n"
     ]
    },
    {
     "data": {
      "text/html": [
       "\n",
       "    <div>\n",
       "      \n",
       "      <progress value='528' max='528' style='width:300px; height:20px; vertical-align: middle;'></progress>\n",
       "      [528/528 00:18, Epoch 3/3]\n",
       "    </div>\n",
       "    <table border=\"1\" class=\"dataframe\">\n",
       "  <thead>\n",
       "    <tr style=\"text-align: left;\">\n",
       "      <th>Step</th>\n",
       "      <th>Training Loss</th>\n",
       "    </tr>\n",
       "  </thead>\n",
       "  <tbody>\n",
       "    <tr>\n",
       "      <td>200</td>\n",
       "      <td>3.427300</td>\n",
       "    </tr>\n",
       "    <tr>\n",
       "      <td>400</td>\n",
       "      <td>3.384000</td>\n",
       "    </tr>\n",
       "  </tbody>\n",
       "</table><p>"
      ],
      "text/plain": [
       "<IPython.core.display.HTML object>"
      ]
     },
     "metadata": {},
     "output_type": "display_data"
    },
    {
     "name": "stderr",
     "output_type": "stream",
     "text": [
      "Saving model checkpoint to /recsys/tmp/checkpoint-500\n",
      "Trainer.model is not a `PreTrainedModel`, only saving its state dict.\n",
      "\n",
      "\n",
      "Training completed. Do not forget to share your model on huggingface.co/models =)\n",
      "\n",
      "\n"
     ]
    },
    {
     "name": "stdout",
     "output_type": "stream",
     "text": [
      "********************\n",
      "Eval results for day 79 are:\t\n",
      "\n",
      "********************\n",
      "\n",
      " eval/loss = 3.4348199367523193\n",
      " eval/next-item/ndcg_at_10 = 0.6734718680381775\n",
      " eval/next-item/ndcg_at_20 = 0.6769595146179199\n",
      " eval/next-item/recall_at_10 = 0.6931110620498657\n",
      " eval/next-item/recall_at_20 = 0.7067683935165405\n",
      " eval_runtime = 2.8708\n",
      " eval_samples_per_second = 1738.874\n",
      " eval_steps_per_second = 54.34\n"
     ]
    },
    {
     "name": "stderr",
     "output_type": "stream",
     "text": [
      "***** Running training *****\n",
      "  Num examples = 39424\n",
      "  Num Epochs = 3\n",
      "  Instantaneous batch size per device = 256\n",
      "  Total train batch size (w. parallel, distributed & accumulation) = 256\n",
      "  Gradient Accumulation steps = 1\n",
      "  Total optimization steps = 462\n"
     ]
    },
    {
     "name": "stdout",
     "output_type": "stream",
     "text": [
      "********************\n",
      "Launch training for day 79 are:\n",
      "********************\n",
      "\n"
     ]
    },
    {
     "data": {
      "text/html": [
       "\n",
       "    <div>\n",
       "      \n",
       "      <progress value='462' max='462' style='width:300px; height:20px; vertical-align: middle;'></progress>\n",
       "      [462/462 00:15, Epoch 3/3]\n",
       "    </div>\n",
       "    <table border=\"1\" class=\"dataframe\">\n",
       "  <thead>\n",
       "    <tr style=\"text-align: left;\">\n",
       "      <th>Step</th>\n",
       "      <th>Training Loss</th>\n",
       "    </tr>\n",
       "  </thead>\n",
       "  <tbody>\n",
       "    <tr>\n",
       "      <td>200</td>\n",
       "      <td>3.380400</td>\n",
       "    </tr>\n",
       "    <tr>\n",
       "      <td>400</td>\n",
       "      <td>3.333800</td>\n",
       "    </tr>\n",
       "  </tbody>\n",
       "</table><p>"
      ],
      "text/plain": [
       "<IPython.core.display.HTML object>"
      ]
     },
     "metadata": {},
     "output_type": "display_data"
    },
    {
     "name": "stderr",
     "output_type": "stream",
     "text": [
      "\n",
      "\n",
      "Training completed. Do not forget to share your model on huggingface.co/models =)\n",
      "\n",
      "\n"
     ]
    },
    {
     "name": "stdout",
     "output_type": "stream",
     "text": [
      "********************\n",
      "Eval results for day 80 are:\t\n",
      "\n",
      "********************\n",
      "\n",
      " eval/loss = 3.39288330078125\n",
      " eval/next-item/ndcg_at_10 = 0.6807504892349243\n",
      " eval/next-item/ndcg_at_20 = 0.6839689016342163\n",
      " eval/next-item/recall_at_10 = 0.6958358287811279\n",
      " eval/next-item/recall_at_20 = 0.7087105512619019\n",
      " eval_runtime = 2.5162\n",
      " eval_samples_per_second = 1983.977\n",
      " eval_steps_per_second = 61.999\n"
     ]
    },
    {
     "name": "stderr",
     "output_type": "stream",
     "text": [
      "***** Running training *****\n",
      "  Num examples = 39424\n",
      "  Num Epochs = 3\n",
      "  Instantaneous batch size per device = 256\n",
      "  Total train batch size (w. parallel, distributed & accumulation) = 256\n",
      "  Gradient Accumulation steps = 1\n",
      "  Total optimization steps = 462\n"
     ]
    },
    {
     "name": "stdout",
     "output_type": "stream",
     "text": [
      "********************\n",
      "Launch training for day 80 are:\n",
      "********************\n",
      "\n"
     ]
    },
    {
     "data": {
      "text/html": [
       "\n",
       "    <div>\n",
       "      \n",
       "      <progress value='462' max='462' style='width:300px; height:20px; vertical-align: middle;'></progress>\n",
       "      [462/462 00:14, Epoch 3/3]\n",
       "    </div>\n",
       "    <table border=\"1\" class=\"dataframe\">\n",
       "  <thead>\n",
       "    <tr style=\"text-align: left;\">\n",
       "      <th>Step</th>\n",
       "      <th>Training Loss</th>\n",
       "    </tr>\n",
       "  </thead>\n",
       "  <tbody>\n",
       "    <tr>\n",
       "      <td>200</td>\n",
       "      <td>3.250600</td>\n",
       "    </tr>\n",
       "    <tr>\n",
       "      <td>400</td>\n",
       "      <td>3.219800</td>\n",
       "    </tr>\n",
       "  </tbody>\n",
       "</table><p>"
      ],
      "text/plain": [
       "<IPython.core.display.HTML object>"
      ]
     },
     "metadata": {},
     "output_type": "display_data"
    },
    {
     "name": "stderr",
     "output_type": "stream",
     "text": [
      "\n",
      "\n",
      "Training completed. Do not forget to share your model on huggingface.co/models =)\n",
      "\n",
      "\n"
     ]
    },
    {
     "name": "stdout",
     "output_type": "stream",
     "text": [
      "********************\n",
      "Eval results for day 81 are:\t\n",
      "\n",
      "********************\n",
      "\n",
      " eval/loss = 3.286266326904297\n",
      " eval/next-item/ndcg_at_10 = 0.6915954351425171\n",
      " eval/next-item/ndcg_at_20 = 0.6941931247711182\n",
      " eval/next-item/recall_at_10 = 0.7069399356842041\n",
      " eval/next-item/recall_at_20 = 0.7173678874969482\n",
      " eval_runtime = 2.6132\n",
      " eval_samples_per_second = 2130.747\n",
      " eval_steps_per_second = 66.586\n"
     ]
    },
    {
     "name": "stderr",
     "output_type": "stream",
     "text": [
      "***** Running training *****\n",
      "  Num examples = 44544\n",
      "  Num Epochs = 3\n",
      "  Instantaneous batch size per device = 256\n",
      "  Total train batch size (w. parallel, distributed & accumulation) = 256\n",
      "  Gradient Accumulation steps = 1\n",
      "  Total optimization steps = 522\n"
     ]
    },
    {
     "name": "stdout",
     "output_type": "stream",
     "text": [
      "********************\n",
      "Launch training for day 81 are:\n",
      "********************\n",
      "\n"
     ]
    },
    {
     "data": {
      "text/html": [
       "\n",
       "    <div>\n",
       "      \n",
       "      <progress value='522' max='522' style='width:300px; height:20px; vertical-align: middle;'></progress>\n",
       "      [522/522 00:17, Epoch 3/3]\n",
       "    </div>\n",
       "    <table border=\"1\" class=\"dataframe\">\n",
       "  <thead>\n",
       "    <tr style=\"text-align: left;\">\n",
       "      <th>Step</th>\n",
       "      <th>Training Loss</th>\n",
       "    </tr>\n",
       "  </thead>\n",
       "  <tbody>\n",
       "    <tr>\n",
       "      <td>200</td>\n",
       "      <td>3.203500</td>\n",
       "    </tr>\n",
       "    <tr>\n",
       "      <td>400</td>\n",
       "      <td>3.166300</td>\n",
       "    </tr>\n",
       "  </tbody>\n",
       "</table><p>"
      ],
      "text/plain": [
       "<IPython.core.display.HTML object>"
      ]
     },
     "metadata": {},
     "output_type": "display_data"
    },
    {
     "name": "stderr",
     "output_type": "stream",
     "text": [
      "Saving model checkpoint to /recsys/tmp/checkpoint-500\n",
      "Trainer.model is not a `PreTrainedModel`, only saving its state dict.\n",
      "\n",
      "\n",
      "Training completed. Do not forget to share your model on huggingface.co/models =)\n",
      "\n",
      "\n"
     ]
    },
    {
     "name": "stdout",
     "output_type": "stream",
     "text": [
      "********************\n",
      "Eval results for day 82 are:\t\n",
      "\n",
      "********************\n",
      "\n",
      " eval/loss = 3.352947473526001\n",
      " eval/next-item/ndcg_at_10 = 0.6850261092185974\n",
      " eval/next-item/ndcg_at_20 = 0.6880772709846497\n",
      " eval/next-item/recall_at_10 = 0.699944257736206\n",
      " eval/next-item/recall_at_20 = 0.7122141718864441\n",
      " eval_runtime = 2.635\n",
      " eval_samples_per_second = 2052.403\n",
      " eval_steps_per_second = 64.138\n"
     ]
    },
    {
     "name": "stderr",
     "output_type": "stream",
     "text": [
      "***** Running training *****\n",
      "  Num examples = 42752\n",
      "  Num Epochs = 3\n",
      "  Instantaneous batch size per device = 256\n",
      "  Total train batch size (w. parallel, distributed & accumulation) = 256\n",
      "  Gradient Accumulation steps = 1\n",
      "  Total optimization steps = 501\n"
     ]
    },
    {
     "name": "stdout",
     "output_type": "stream",
     "text": [
      "********************\n",
      "Launch training for day 82 are:\n",
      "********************\n",
      "\n"
     ]
    },
    {
     "data": {
      "text/html": [
       "\n",
       "    <div>\n",
       "      \n",
       "      <progress value='501' max='501' style='width:300px; height:20px; vertical-align: middle;'></progress>\n",
       "      [501/501 00:17, Epoch 3/3]\n",
       "    </div>\n",
       "    <table border=\"1\" class=\"dataframe\">\n",
       "  <thead>\n",
       "    <tr style=\"text-align: left;\">\n",
       "      <th>Step</th>\n",
       "      <th>Training Loss</th>\n",
       "    </tr>\n",
       "  </thead>\n",
       "  <tbody>\n",
       "    <tr>\n",
       "      <td>200</td>\n",
       "      <td>3.271600</td>\n",
       "    </tr>\n",
       "    <tr>\n",
       "      <td>400</td>\n",
       "      <td>3.249400</td>\n",
       "    </tr>\n",
       "  </tbody>\n",
       "</table><p>"
      ],
      "text/plain": [
       "<IPython.core.display.HTML object>"
      ]
     },
     "metadata": {},
     "output_type": "display_data"
    },
    {
     "name": "stderr",
     "output_type": "stream",
     "text": [
      "Saving model checkpoint to /recsys/tmp/checkpoint-500\n",
      "Trainer.model is not a `PreTrainedModel`, only saving its state dict.\n",
      "\n",
      "\n",
      "Training completed. Do not forget to share your model on huggingface.co/models =)\n",
      "\n",
      "\n"
     ]
    },
    {
     "name": "stdout",
     "output_type": "stream",
     "text": [
      "********************\n",
      "Eval results for day 83 are:\t\n",
      "\n",
      "********************\n",
      "\n",
      " eval/loss = 3.3738369941711426\n",
      " eval/next-item/ndcg_at_10 = 0.6810433268547058\n",
      " eval/next-item/ndcg_at_20 = 0.6840097308158875\n",
      " eval/next-item/recall_at_10 = 0.7000942826271057\n",
      " eval/next-item/recall_at_20 = 0.711883008480072\n",
      " eval_runtime = 3.0262\n",
      " eval_samples_per_second = 2104.269\n",
      " eval_steps_per_second = 65.758\n"
     ]
    },
    {
     "name": "stderr",
     "output_type": "stream",
     "text": [
      "***** Running training *****\n",
      "  Num examples = 50944\n",
      "  Num Epochs = 3\n",
      "  Instantaneous batch size per device = 256\n",
      "  Total train batch size (w. parallel, distributed & accumulation) = 256\n",
      "  Gradient Accumulation steps = 1\n",
      "  Total optimization steps = 597\n"
     ]
    },
    {
     "name": "stdout",
     "output_type": "stream",
     "text": [
      "********************\n",
      "Launch training for day 83 are:\n",
      "********************\n",
      "\n"
     ]
    },
    {
     "data": {
      "text/html": [
       "\n",
       "    <div>\n",
       "      \n",
       "      <progress value='597' max='597' style='width:300px; height:20px; vertical-align: middle;'></progress>\n",
       "      [597/597 00:20, Epoch 3/3]\n",
       "    </div>\n",
       "    <table border=\"1\" class=\"dataframe\">\n",
       "  <thead>\n",
       "    <tr style=\"text-align: left;\">\n",
       "      <th>Step</th>\n",
       "      <th>Training Loss</th>\n",
       "    </tr>\n",
       "  </thead>\n",
       "  <tbody>\n",
       "    <tr>\n",
       "      <td>200</td>\n",
       "      <td>3.234000</td>\n",
       "    </tr>\n",
       "    <tr>\n",
       "      <td>400</td>\n",
       "      <td>3.196000</td>\n",
       "    </tr>\n",
       "  </tbody>\n",
       "</table><p>"
      ],
      "text/plain": [
       "<IPython.core.display.HTML object>"
      ]
     },
     "metadata": {},
     "output_type": "display_data"
    },
    {
     "name": "stderr",
     "output_type": "stream",
     "text": [
      "Saving model checkpoint to /recsys/tmp/checkpoint-500\n",
      "Trainer.model is not a `PreTrainedModel`, only saving its state dict.\n",
      "\n",
      "\n",
      "Training completed. Do not forget to share your model on huggingface.co/models =)\n",
      "\n",
      "\n"
     ]
    },
    {
     "name": "stdout",
     "output_type": "stream",
     "text": [
      "********************\n",
      "Eval results for day 84 are:\t\n",
      "\n",
      "********************\n",
      "\n",
      " eval/loss = 3.4591214656829834\n",
      " eval/next-item/ndcg_at_10 = 0.6717702150344849\n",
      " eval/next-item/ndcg_at_20 = 0.6752598881721497\n",
      " eval/next-item/recall_at_10 = 0.6901608109474182\n",
      " eval/next-item/recall_at_20 = 0.7041942477226257\n",
      " eval_runtime = 3.0291\n",
      " eval_samples_per_second = 2102.302\n",
      " eval_steps_per_second = 65.697\n"
     ]
    },
    {
     "name": "stderr",
     "output_type": "stream",
     "text": [
      "***** Running training *****\n",
      "  Num examples = 50432\n",
      "  Num Epochs = 3\n",
      "  Instantaneous batch size per device = 256\n",
      "  Total train batch size (w. parallel, distributed & accumulation) = 256\n",
      "  Gradient Accumulation steps = 1\n",
      "  Total optimization steps = 591\n"
     ]
    },
    {
     "name": "stdout",
     "output_type": "stream",
     "text": [
      "********************\n",
      "Launch training for day 84 are:\n",
      "********************\n",
      "\n"
     ]
    },
    {
     "data": {
      "text/html": [
       "\n",
       "    <div>\n",
       "      \n",
       "      <progress value='591' max='591' style='width:300px; height:20px; vertical-align: middle;'></progress>\n",
       "      [591/591 00:21, Epoch 3/3]\n",
       "    </div>\n",
       "    <table border=\"1\" class=\"dataframe\">\n",
       "  <thead>\n",
       "    <tr style=\"text-align: left;\">\n",
       "      <th>Step</th>\n",
       "      <th>Training Loss</th>\n",
       "    </tr>\n",
       "  </thead>\n",
       "  <tbody>\n",
       "    <tr>\n",
       "      <td>200</td>\n",
       "      <td>3.229100</td>\n",
       "    </tr>\n",
       "    <tr>\n",
       "      <td>400</td>\n",
       "      <td>3.179500</td>\n",
       "    </tr>\n",
       "  </tbody>\n",
       "</table><p>"
      ],
      "text/plain": [
       "<IPython.core.display.HTML object>"
      ]
     },
     "metadata": {},
     "output_type": "display_data"
    },
    {
     "name": "stderr",
     "output_type": "stream",
     "text": [
      "Saving model checkpoint to /recsys/tmp/checkpoint-500\n",
      "Trainer.model is not a `PreTrainedModel`, only saving its state dict.\n",
      "\n",
      "\n",
      "Training completed. Do not forget to share your model on huggingface.co/models =)\n",
      "\n",
      "\n"
     ]
    },
    {
     "name": "stdout",
     "output_type": "stream",
     "text": [
      "********************\n",
      "Eval results for day 85 are:\t\n",
      "\n",
      "********************\n",
      "\n",
      " eval/loss = 3.4073805809020996\n",
      " eval/next-item/ndcg_at_10 = 0.6743094325065613\n",
      " eval/next-item/ndcg_at_20 = 0.6777991652488708\n",
      " eval/next-item/recall_at_10 = 0.6952141523361206\n",
      " eval/next-item/recall_at_20 = 0.7091420888900757\n",
      " eval_runtime = 3.4269\n",
      " eval_samples_per_second = 1970.301\n",
      " eval_steps_per_second = 61.572\n"
     ]
    },
    {
     "name": "stderr",
     "output_type": "stream",
     "text": [
      "***** Running training *****\n",
      "  Num examples = 54016\n",
      "  Num Epochs = 3\n",
      "  Instantaneous batch size per device = 256\n",
      "  Total train batch size (w. parallel, distributed & accumulation) = 256\n",
      "  Gradient Accumulation steps = 1\n",
      "  Total optimization steps = 633\n"
     ]
    },
    {
     "name": "stdout",
     "output_type": "stream",
     "text": [
      "********************\n",
      "Launch training for day 85 are:\n",
      "********************\n",
      "\n"
     ]
    },
    {
     "data": {
      "text/html": [
       "\n",
       "    <div>\n",
       "      \n",
       "      <progress value='633' max='633' style='width:300px; height:20px; vertical-align: middle;'></progress>\n",
       "      [633/633 00:21, Epoch 3/3]\n",
       "    </div>\n",
       "    <table border=\"1\" class=\"dataframe\">\n",
       "  <thead>\n",
       "    <tr style=\"text-align: left;\">\n",
       "      <th>Step</th>\n",
       "      <th>Training Loss</th>\n",
       "    </tr>\n",
       "  </thead>\n",
       "  <tbody>\n",
       "    <tr>\n",
       "      <td>200</td>\n",
       "      <td>3.376500</td>\n",
       "    </tr>\n",
       "    <tr>\n",
       "      <td>400</td>\n",
       "      <td>3.316000</td>\n",
       "    </tr>\n",
       "    <tr>\n",
       "      <td>600</td>\n",
       "      <td>3.306300</td>\n",
       "    </tr>\n",
       "  </tbody>\n",
       "</table><p>"
      ],
      "text/plain": [
       "<IPython.core.display.HTML object>"
      ]
     },
     "metadata": {},
     "output_type": "display_data"
    },
    {
     "name": "stderr",
     "output_type": "stream",
     "text": [
      "Saving model checkpoint to /recsys/tmp/checkpoint-500\n",
      "Trainer.model is not a `PreTrainedModel`, only saving its state dict.\n",
      "\n",
      "\n",
      "Training completed. Do not forget to share your model on huggingface.co/models =)\n",
      "\n",
      "\n"
     ]
    },
    {
     "name": "stdout",
     "output_type": "stream",
     "text": [
      "********************\n",
      "Eval results for day 86 are:\t\n",
      "\n",
      "********************\n",
      "\n",
      " eval/loss = 3.4633119106292725\n",
      " eval/next-item/ndcg_at_10 = 0.666556715965271\n",
      " eval/next-item/ndcg_at_20 = 0.6707372665405273\n",
      " eval/next-item/recall_at_10 = 0.6857343316078186\n",
      " eval/next-item/recall_at_20 = 0.7023190259933472\n",
      " eval_runtime = 3.1985\n",
      " eval_samples_per_second = 2231.065\n",
      " eval_steps_per_second = 69.721\n"
     ]
    },
    {
     "name": "stderr",
     "output_type": "stream",
     "text": [
      "***** Running training *****\n",
      "  Num examples = 56832\n",
      "  Num Epochs = 3\n",
      "  Instantaneous batch size per device = 256\n",
      "  Total train batch size (w. parallel, distributed & accumulation) = 256\n",
      "  Gradient Accumulation steps = 1\n",
      "  Total optimization steps = 666\n"
     ]
    },
    {
     "name": "stdout",
     "output_type": "stream",
     "text": [
      "********************\n",
      "Launch training for day 86 are:\n",
      "********************\n",
      "\n"
     ]
    },
    {
     "data": {
      "text/html": [
       "\n",
       "    <div>\n",
       "      \n",
       "      <progress value='666' max='666' style='width:300px; height:20px; vertical-align: middle;'></progress>\n",
       "      [666/666 00:22, Epoch 3/3]\n",
       "    </div>\n",
       "    <table border=\"1\" class=\"dataframe\">\n",
       "  <thead>\n",
       "    <tr style=\"text-align: left;\">\n",
       "      <th>Step</th>\n",
       "      <th>Training Loss</th>\n",
       "    </tr>\n",
       "  </thead>\n",
       "  <tbody>\n",
       "    <tr>\n",
       "      <td>200</td>\n",
       "      <td>3.329600</td>\n",
       "    </tr>\n",
       "    <tr>\n",
       "      <td>400</td>\n",
       "      <td>3.296800</td>\n",
       "    </tr>\n",
       "    <tr>\n",
       "      <td>600</td>\n",
       "      <td>3.274900</td>\n",
       "    </tr>\n",
       "  </tbody>\n",
       "</table><p>"
      ],
      "text/plain": [
       "<IPython.core.display.HTML object>"
      ]
     },
     "metadata": {},
     "output_type": "display_data"
    },
    {
     "name": "stderr",
     "output_type": "stream",
     "text": [
      "Saving model checkpoint to /recsys/tmp/checkpoint-500\n",
      "Trainer.model is not a `PreTrainedModel`, only saving its state dict.\n",
      "\n",
      "\n",
      "Training completed. Do not forget to share your model on huggingface.co/models =)\n",
      "\n",
      "\n"
     ]
    },
    {
     "name": "stdout",
     "output_type": "stream",
     "text": [
      "********************\n",
      "Eval results for day 87 are:\t\n",
      "\n",
      "********************\n",
      "\n",
      " eval/loss = 3.383835792541504\n",
      " eval/next-item/ndcg_at_10 = 0.6716366410255432\n",
      " eval/next-item/ndcg_at_20 = 0.6758687496185303\n",
      " eval/next-item/recall_at_10 = 0.690220832824707\n",
      " eval/next-item/recall_at_20 = 0.7070977687835693\n",
      " eval_runtime = 3.0458\n",
      " eval_samples_per_second = 2090.729\n",
      " eval_steps_per_second = 65.335\n"
     ]
    },
    {
     "name": "stderr",
     "output_type": "stream",
     "text": [
      "***** Running training *****\n",
      "  Num examples = 50432\n",
      "  Num Epochs = 3\n",
      "  Instantaneous batch size per device = 256\n",
      "  Total train batch size (w. parallel, distributed & accumulation) = 256\n",
      "  Gradient Accumulation steps = 1\n",
      "  Total optimization steps = 591\n"
     ]
    },
    {
     "name": "stdout",
     "output_type": "stream",
     "text": [
      "********************\n",
      "Launch training for day 87 are:\n",
      "********************\n",
      "\n"
     ]
    },
    {
     "data": {
      "text/html": [
       "\n",
       "    <div>\n",
       "      \n",
       "      <progress value='591' max='591' style='width:300px; height:20px; vertical-align: middle;'></progress>\n",
       "      [591/591 00:20, Epoch 3/3]\n",
       "    </div>\n",
       "    <table border=\"1\" class=\"dataframe\">\n",
       "  <thead>\n",
       "    <tr style=\"text-align: left;\">\n",
       "      <th>Step</th>\n",
       "      <th>Training Loss</th>\n",
       "    </tr>\n",
       "  </thead>\n",
       "  <tbody>\n",
       "    <tr>\n",
       "      <td>200</td>\n",
       "      <td>3.306200</td>\n",
       "    </tr>\n",
       "    <tr>\n",
       "      <td>400</td>\n",
       "      <td>3.259200</td>\n",
       "    </tr>\n",
       "  </tbody>\n",
       "</table><p>"
      ],
      "text/plain": [
       "<IPython.core.display.HTML object>"
      ]
     },
     "metadata": {},
     "output_type": "display_data"
    },
    {
     "name": "stderr",
     "output_type": "stream",
     "text": [
      "Saving model checkpoint to /recsys/tmp/checkpoint-500\n",
      "Trainer.model is not a `PreTrainedModel`, only saving its state dict.\n",
      "\n",
      "\n",
      "Training completed. Do not forget to share your model on huggingface.co/models =)\n",
      "\n",
      "\n"
     ]
    },
    {
     "name": "stdout",
     "output_type": "stream",
     "text": [
      "********************\n",
      "Eval results for day 88 are:\t\n",
      "\n",
      "********************\n",
      "\n",
      " eval/loss = 3.2725114822387695\n",
      " eval/next-item/ndcg_at_10 = 0.6825019121170044\n",
      " eval/next-item/ndcg_at_20 = 0.6863680481910706\n",
      " eval/next-item/recall_at_10 = 0.7038978934288025\n",
      " eval/next-item/recall_at_20 = 0.7192062139511108\n",
      " eval_runtime = 3.3573\n",
      " eval_samples_per_second = 2106.433\n",
      " eval_steps_per_second = 65.826\n"
     ]
    },
    {
     "name": "stderr",
     "output_type": "stream",
     "text": [
      "***** Running training *****\n",
      "  Num examples = 56320\n",
      "  Num Epochs = 3\n",
      "  Instantaneous batch size per device = 256\n",
      "  Total train batch size (w. parallel, distributed & accumulation) = 256\n",
      "  Gradient Accumulation steps = 1\n",
      "  Total optimization steps = 660\n"
     ]
    },
    {
     "name": "stdout",
     "output_type": "stream",
     "text": [
      "********************\n",
      "Launch training for day 88 are:\n",
      "********************\n",
      "\n"
     ]
    },
    {
     "data": {
      "text/html": [
       "\n",
       "    <div>\n",
       "      \n",
       "      <progress value='660' max='660' style='width:300px; height:20px; vertical-align: middle;'></progress>\n",
       "      [660/660 00:22, Epoch 3/3]\n",
       "    </div>\n",
       "    <table border=\"1\" class=\"dataframe\">\n",
       "  <thead>\n",
       "    <tr style=\"text-align: left;\">\n",
       "      <th>Step</th>\n",
       "      <th>Training Loss</th>\n",
       "    </tr>\n",
       "  </thead>\n",
       "  <tbody>\n",
       "    <tr>\n",
       "      <td>200</td>\n",
       "      <td>3.214700</td>\n",
       "    </tr>\n",
       "    <tr>\n",
       "      <td>400</td>\n",
       "      <td>3.173900</td>\n",
       "    </tr>\n",
       "    <tr>\n",
       "      <td>600</td>\n",
       "      <td>3.149900</td>\n",
       "    </tr>\n",
       "  </tbody>\n",
       "</table><p>"
      ],
      "text/plain": [
       "<IPython.core.display.HTML object>"
      ]
     },
     "metadata": {},
     "output_type": "display_data"
    },
    {
     "name": "stderr",
     "output_type": "stream",
     "text": [
      "Saving model checkpoint to /recsys/tmp/checkpoint-500\n",
      "Trainer.model is not a `PreTrainedModel`, only saving its state dict.\n",
      "\n",
      "\n",
      "Training completed. Do not forget to share your model on huggingface.co/models =)\n",
      "\n",
      "\n"
     ]
    },
    {
     "name": "stdout",
     "output_type": "stream",
     "text": [
      "********************\n",
      "Eval results for day 89 are:\t\n",
      "\n",
      "********************\n",
      "\n",
      " eval/loss = 3.394317865371704\n",
      " eval/next-item/ndcg_at_10 = 0.6658735275268555\n",
      " eval/next-item/ndcg_at_20 = 0.6702532172203064\n",
      " eval/next-item/recall_at_10 = 0.685728907585144\n",
      " eval/next-item/recall_at_20 = 0.7031410336494446\n",
      " eval_runtime = 2.8427\n",
      " eval_samples_per_second = 2071.306\n",
      " eval_steps_per_second = 64.728\n",
      "CPU times: user 5h 3min 31s, sys: 10min 58s, total: 5h 14min 29s\n",
      "Wall time: 20min 8s\n"
     ]
    }
   ],
   "source": [
    "%%time\n",
    "start_time_window_index = 1\n",
    "final_time_window_index = 89\n",
    "for time_index in range(start_time_window_index, final_time_window_index):\n",
    "    # Set data\n",
    "    time_index_train = time_index\n",
    "    time_index_eval = time_index + 1\n",
    "    train_paths = glob.glob(os.path.join(OUTPUT_DIR, f\"{time_index_train}/train.parquet\"))\n",
    "    eval_paths = glob.glob(os.path.join(OUTPUT_DIR, f\"{time_index_eval}/valid.parquet\"))\n",
    "\n",
    "    # Initialize dataloaders\n",
    "    trainer.train_dataloader = get_dataloader(train_paths, train_args.per_device_train_batch_size)\n",
    "    trainer.eval_dataloader = get_dataloader(eval_paths, train_args.per_device_eval_batch_size)\n",
    "\n",
    "    # Train on day related to time_index\n",
    "    print('*'*20)\n",
    "    print(\"Launch training for day %s are:\" %time_index)\n",
    "    print('*'*20 + '\\n')\n",
    "    trainer.reset_lr_scheduler()\n",
    "    trainer.train()\n",
    "    trainer.state.global_step +=1\n",
    "\n",
    "    # Evaluate on the following day\n",
    "    train_metrics = trainer.evaluate(metric_key_prefix='eval')\n",
    "    print('*'*20)\n",
    "    print(\"Eval results for day %s are:\\t\" %time_index_eval)\n",
    "    print('\\n' + '*'*20 + '\\n')\n",
    "    for key in sorted(train_metrics.keys()):\n",
    "        print(\" %s = %s\" % (key, str(train_metrics[key])))\n",
    "    wipe_memory()"
   ]
  },
  {
   "cell_type": "code",
   "execution_count": null,
   "id": "efa334fd",
   "metadata": {},
   "outputs": [],
   "source": [
    "train_paths"
   ]
  },
  {
   "cell_type": "code",
   "execution_count": null,
   "id": "d3067f5a",
   "metadata": {},
   "outputs": [],
   "source": [
    "eval_paths"
   ]
  },
  {
   "cell_type": "code",
   "execution_count": null,
   "id": "deadece0",
   "metadata": {},
   "outputs": [],
   "source": [
    "train_args.per_device_train_batch_size"
   ]
  },
  {
   "cell_type": "code",
   "execution_count": null,
   "id": "c9b14719",
   "metadata": {},
   "outputs": [],
   "source": [
    "train_args.per_device_eval_batch_size"
   ]
  },
  {
   "cell_type": "code",
   "execution_count": 24,
   "id": "7dd6e527",
   "metadata": {},
   "outputs": [],
   "source": [
    "with open(\"results.txt\", 'w') as f: \n",
    "    f.write('GRU accuracy results:')\n",
    "    f.write('\\n')\n",
    "    for key, value in  model.compute_metrics().items(): \n",
    "        f.write('%s:%s\\n' % (key, value.item()))"
   ]
  },
  {
   "cell_type": "code",
   "execution_count": 25,
   "id": "37599a06",
   "metadata": {},
   "outputs": [
    {
     "data": {
      "text/plain": [
       "{'status': 'ok', 'restart': True}"
      ]
     },
     "execution_count": 25,
     "metadata": {},
     "output_type": "execute_result"
    }
   ],
   "source": [
    "import IPython\n",
    "app = IPython.Application.instance()\n",
    "app.kernel.do_shutdown(True)"
   ]
  },
  {
   "cell_type": "markdown",
   "id": "2adac091",
   "metadata": {},
   "source": []
  },
  {
   "cell_type": "code",
   "execution_count": null,
   "id": "a1baffb3",
   "metadata": {},
   "outputs": [],
   "source": []
  },
  {
   "cell_type": "code",
   "execution_count": null,
   "id": "626908e9",
   "metadata": {},
   "outputs": [],
   "source": []
  }
 ],
 "metadata": {
  "kernelspec": {
   "display_name": "Python 3 (ipykernel)",
   "language": "python",
   "name": "python3"
  },
  "language_info": {
   "codemirror_mode": {
    "name": "ipython",
    "version": 3
   },
   "file_extension": ".py",
   "mimetype": "text/x-python",
   "name": "python",
   "nbconvert_exporter": "python",
   "pygments_lexer": "ipython3",
   "version": "3.8.12"
  }
 },
 "nbformat": 4,
 "nbformat_minor": 5
}
